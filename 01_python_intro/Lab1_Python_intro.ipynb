{
  "cells": [
    {
      "cell_type": "markdown",
      "metadata": {
        "id": "view-in-github",
        "colab_type": "text"
      },
      "source": [
        "<a href=\"https://colab.research.google.com/github/ilyandho/ilyandho-UCoBS-ML-Workshop/blob/main/01_python_intro/Lab1_Python_intro.ipynb\" target=\"_parent\"><img src=\"https://colab.research.google.com/assets/colab-badge.svg\" alt=\"Open In Colab\"/></a>"
      ]
    },
    {
      "cell_type": "markdown",
      "metadata": {
        "id": "0LkOzLqR2kOF",
        "toc-hr-collapsed": false
      },
      "source": [
        "# PC Lab 1: Introduction to Python\n",
        "---"
      ]
    },
    {
      "cell_type": "markdown",
      "metadata": {
        "id": "c4lKm9J72kOJ"
      },
      "source": [
        "Python is a versatile and beginner-friendly open source programming language that has gained immense popularity for its simplicity and readability. Whether you are a seasoned developer or just starting your coding journey, Python's clean syntax and extensive libraries (also called packages) make it an ideal choice for a wide range of applications, from web development to data science and artificial intelligence. In this Jupyter Notebook, we'll explore the fundamentals of Python, covering essential concepts like variables, data types, control flow, and functions. Next, we'll explore essential packages for data science, such as NumPy, Pandas and Matplotlib. NumPy is a powerful library for numerical operations, providing support for large, multi-dimensional arrays and matrices. Pandas, another crucial package, simplifies data manipulation and analysis through its DataFrame structure, making it easy to work with structured data. Matplotlib is a versatile plotting library, enabling the creation of a wide array of visualizations to better understand and communicate your data. Together, these packages form the backbone of Python's data science ecosystem, allowing you to efficiently handle and analyze data while visualizing your insights in a clear and impactful manner."
      ]
    },
    {
      "cell_type": "markdown",
      "metadata": {
        "id": "sMKU0HbV2kOQ",
        "toc-hr-collapsed": true
      },
      "source": [
        "## 1. Basics in Python   \n",
        "In Jupyter Notebook we can type simple commands (such as assignments, summations etc.) in the cells and execute them in the way we saw above.   \n",
        "Try to execute the following commands:"
      ]
    },
    {
      "cell_type": "code",
      "execution_count": 1,
      "metadata": {
        "id": "pdGCOgLG2kOQ"
      },
      "outputs": [],
      "source": [
        "a = 8"
      ]
    },
    {
      "cell_type": "code",
      "execution_count": 2,
      "metadata": {
        "id": "R5o-f-kO2kOR",
        "jupyter": {
          "outputs_hidden": false
        },
        "outputId": "476ad6bb-81af-4ed8-9339-ddb6593262a2",
        "colab": {
          "base_uri": "https://localhost:8080/"
        }
      },
      "outputs": [
        {
          "output_type": "execute_result",
          "data": {
            "text/plain": [
              "8"
            ]
          },
          "metadata": {},
          "execution_count": 2
        }
      ],
      "source": [
        "a"
      ]
    },
    {
      "cell_type": "code",
      "execution_count": 3,
      "metadata": {
        "id": "LOjYMVOP2kOR",
        "jupyter": {
          "outputs_hidden": false
        },
        "outputId": "bf14610e-d899-4cec-a7e7-afe13f833bc4",
        "colab": {
          "base_uri": "https://localhost:8080/"
        }
      },
      "outputs": [
        {
          "output_type": "execute_result",
          "data": {
            "text/plain": [
              "12"
            ]
          },
          "metadata": {},
          "execution_count": 3
        }
      ],
      "source": [
        "a + 4"
      ]
    },
    {
      "cell_type": "code",
      "execution_count": 4,
      "metadata": {
        "id": "9_AloPM92kOR",
        "jupyter": {
          "outputs_hidden": false
        },
        "outputId": "95d878bd-feb6-412c-e4fd-922018379b0b",
        "colab": {
          "base_uri": "https://localhost:8080/"
        }
      },
      "outputs": [
        {
          "output_type": "execute_result",
          "data": {
            "text/plain": [
              "2.6666666666666665"
            ]
          },
          "metadata": {},
          "execution_count": 4
        }
      ],
      "source": [
        "a / 3"
      ]
    },
    {
      "cell_type": "markdown",
      "metadata": {
        "id": "gGHmQ6EH2kOR"
      },
      "source": [
        "In Python there are 4 types of scalars:\n",
        "\n",
        "* Integer\n",
        "* Float\n",
        "* Complex number\n",
        "* Boolean   \n",
        "You can change the type of a variable by using casting:"
      ]
    },
    {
      "cell_type": "code",
      "execution_count": 5,
      "metadata": {
        "id": "SkC_Poz_2kOR",
        "jupyter": {
          "outputs_hidden": false
        },
        "outputId": "db0d5854-ca39-4a96-e4bd-4aebfb3a6e51",
        "colab": {
          "base_uri": "https://localhost:8080/"
        }
      },
      "outputs": [
        {
          "output_type": "execute_result",
          "data": {
            "text/plain": [
              "8.0"
            ]
          },
          "metadata": {},
          "execution_count": 5
        }
      ],
      "source": [
        "float(a)"
      ]
    },
    {
      "cell_type": "markdown",
      "metadata": {
        "id": "Yb_Fn0jk2kOS"
      },
      "source": [
        "There are also different operators. The basic ones are the following:   \n",
        "summation (+), subtraction (-), division (/), multiplication (\\*) , modulo (%), exponentiation (\\*\\*)   \n",
        "Try to execute the following cells to see examples:"
      ]
    },
    {
      "cell_type": "code",
      "execution_count": 6,
      "metadata": {
        "id": "sYPNHhfR2kOS",
        "jupyter": {
          "outputs_hidden": false
        },
        "outputId": "dfc03aac-b66f-4251-a9d0-30d40c911abc",
        "colab": {
          "base_uri": "https://localhost:8080/"
        }
      },
      "outputs": [
        {
          "output_type": "execute_result",
          "data": {
            "text/plain": [
              "0"
            ]
          },
          "metadata": {},
          "execution_count": 6
        }
      ],
      "source": [
        "a%2"
      ]
    },
    {
      "cell_type": "code",
      "execution_count": 7,
      "metadata": {
        "id": "bUPi6Cfu2kOS",
        "jupyter": {
          "outputs_hidden": false
        },
        "outputId": "f649d20f-fd1a-40d4-d8b6-1b5440f7a666",
        "colab": {
          "base_uri": "https://localhost:8080/"
        }
      },
      "outputs": [
        {
          "output_type": "execute_result",
          "data": {
            "text/plain": [
              "64"
            ]
          },
          "metadata": {},
          "execution_count": 7
        }
      ],
      "source": [
        "a**2"
      ]
    },
    {
      "cell_type": "code",
      "execution_count": 8,
      "metadata": {
        "id": "wI7-h-bV2kOS",
        "jupyter": {
          "outputs_hidden": false
        },
        "outputId": "5c62a60d-c495-43ea-8c19-45621219f1f5",
        "colab": {
          "base_uri": "https://localhost:8080/"
        }
      },
      "outputs": [
        {
          "output_type": "stream",
          "name": "stdout",
          "text": [
            "6\n",
            "16\n"
          ]
        }
      ],
      "source": [
        "print(a-2)\n",
        "print(a+a)"
      ]
    },
    {
      "cell_type": "markdown",
      "metadata": {
        "id": "ENgYYaN12kOS"
      },
      "source": [
        "### Lists   \n",
        "List in Python is an ordered collection of objects. These objects can be scalars, strings, other lists etc."
      ]
    },
    {
      "cell_type": "code",
      "execution_count": 9,
      "metadata": {
        "colab": {
          "base_uri": "https://localhost:8080/"
        },
        "id": "pODBrZMh2kOT",
        "jupyter": {
          "outputs_hidden": false
        },
        "outputId": "849bdab2-d52a-4943-deda-4e8137abbc75"
      },
      "outputs": [
        {
          "output_type": "stream",
          "name": "stdout",
          "text": [
            "[1, 2, 3, 4, 'x', [1, 2, 3], 100, 200]\n"
          ]
        }
      ],
      "source": [
        "list = [1, 2, 3, 4, 'x', [1,2,3], 100, 200]\n",
        "print (list)"
      ]
    },
    {
      "cell_type": "markdown",
      "metadata": {
        "id": "LARLhm3s2kOT"
      },
      "source": [
        "We can access the elements of a list by using indices starting from 0."
      ]
    },
    {
      "cell_type": "code",
      "execution_count": 31,
      "metadata": {
        "id": "cjc53xaT2kOT",
        "jupyter": {
          "outputs_hidden": false
        },
        "outputId": "942a98d8-c064-4e6e-e628-7525f54b43bf",
        "colab": {
          "base_uri": "https://localhost:8080/"
        }
      },
      "outputs": [
        {
          "output_type": "stream",
          "name": "stdout",
          "text": [
            "1\n",
            "2\n"
          ]
        }
      ],
      "source": [
        "print(list[0])\n",
        "print(list[1])\n"
      ]
    },
    {
      "cell_type": "markdown",
      "metadata": {
        "id": "P-Og7I6A2kOT"
      },
      "source": [
        "Negative indices count from the back."
      ]
    },
    {
      "cell_type": "code",
      "execution_count": 30,
      "metadata": {
        "id": "EdEQroAE2kOT",
        "jupyter": {
          "outputs_hidden": false
        },
        "outputId": "33fa3ee2-2bd2-4088-95a6-590364ea1a21",
        "colab": {
          "base_uri": "https://localhost:8080/"
        }
      },
      "outputs": [
        {
          "output_type": "stream",
          "name": "stdout",
          "text": [
            "4\n",
            "3\n"
          ]
        }
      ],
      "source": [
        "print(list[-1])\n",
        "print(list[-2])"
      ]
    },
    {
      "cell_type": "markdown",
      "metadata": {
        "id": "a5TojWd-2kOT"
      },
      "source": [
        "**Slicing**: take sublists of a list    \n",
        "You can use a starting and an ending index with a \":\" symbol in between for this purpose.   \n",
        "Example syntax: `list[start:stop]`"
      ]
    },
    {
      "cell_type": "code",
      "execution_count": 10,
      "metadata": {
        "id": "4h4zRaM_2kOT",
        "jupyter": {
          "outputs_hidden": false
        },
        "outputId": "599cda2f-4fe9-456d-b479-b6b6e1f37081",
        "colab": {
          "base_uri": "https://localhost:8080/"
        }
      },
      "outputs": [
        {
          "output_type": "execute_result",
          "data": {
            "text/plain": [
              "[1, 2, 3, 4]"
            ]
          },
          "metadata": {},
          "execution_count": 10
        }
      ],
      "source": [
        "#take the first 4 elements of the list\n",
        "list[0:4]"
      ]
    },
    {
      "cell_type": "markdown",
      "metadata": {
        "id": "HY6jjwmz2kOU"
      },
      "source": [
        "We can see that the indices of the printed elements satisfy the condition start <= index < stop, i.e., the last printed element has the index stop-1    \n",
        "\n",
        "**Functions**: List is a data structure on which basic functions can be applied.\n"
      ]
    },
    {
      "cell_type": "code",
      "execution_count": 11,
      "metadata": {
        "id": "VoSrLWVJ2kOU",
        "jupyter": {
          "outputs_hidden": false
        },
        "outputId": "b6ea64d5-6a8b-4e52-ba3a-380a78cae38e",
        "colab": {
          "base_uri": "https://localhost:8080/"
        }
      },
      "outputs": [
        {
          "output_type": "stream",
          "name": "stdout",
          "text": [
            "[1, 2, 3, 4, 'x', [1, 2, 3], 100, 200, 1000]\n"
          ]
        }
      ],
      "source": [
        "#Insert an element to a list:\n",
        "list.append(1000)\n",
        "print(list)"
      ]
    },
    {
      "cell_type": "code",
      "execution_count": 13,
      "metadata": {
        "id": "lWnUGX6E2kOU",
        "jupyter": {
          "outputs_hidden": false
        },
        "outputId": "732f3f97-594c-4c41-8705-752a57272010",
        "colab": {
          "base_uri": "https://localhost:8080/"
        }
      },
      "outputs": [
        {
          "output_type": "stream",
          "name": "stdout",
          "text": [
            "[1, 2, 3, 4, 'x', [1, 2, 3], 100, 200, 1000, 2, 3]\n"
          ]
        }
      ],
      "source": [
        "#Pop an element from a list (return the last element and remove it from the list)\n",
        "list.pop()\n",
        "print(list)"
      ]
    },
    {
      "cell_type": "code",
      "execution_count": 14,
      "metadata": {
        "id": "lQ9aqf6v2kOU",
        "jupyter": {
          "outputs_hidden": false
        },
        "outputId": "96881541-aae1-4ebb-cbac-3b505b733ebc",
        "colab": {
          "base_uri": "https://localhost:8080/"
        }
      },
      "outputs": [
        {
          "output_type": "stream",
          "name": "stdout",
          "text": [
            "[1, 2, 3, 4, 'x', [1, 2, 3], 100, 200, 1000, 2, 3, 2, 3, 4]\n"
          ]
        }
      ],
      "source": [
        "#extend a list\n",
        "list2 = [2,3,4]\n",
        "list.extend(list2)\n",
        "print(list)"
      ]
    },
    {
      "cell_type": "markdown",
      "metadata": {
        "id": "8PpKdRyj2kOU"
      },
      "source": [
        "### Strings   \n",
        "String is a sequence of characters.\n"
      ]
    },
    {
      "cell_type": "code",
      "execution_count": 19,
      "metadata": {
        "id": "jBvbaNgU2kOU",
        "jupyter": {
          "outputs_hidden": false
        },
        "outputId": "69cf24f0-09d3-4fea-95fd-3bd823277a24",
        "colab": {
          "base_uri": "https://localhost:8080/"
        }
      },
      "outputs": [
        {
          "output_type": "stream",
          "name": "stdout",
          "text": [
            "New New string blah\n"
          ]
        }
      ],
      "source": [
        "string = 'New New string blah'\n",
        "print(string)"
      ]
    },
    {
      "cell_type": "markdown",
      "metadata": {
        "id": "MHyD-ddW2kOV"
      },
      "source": [
        "We can use slicing as in lists."
      ]
    },
    {
      "cell_type": "code",
      "execution_count": null,
      "metadata": {
        "id": "J6cBv2ut2kOV",
        "jupyter": {
          "outputs_hidden": false
        }
      },
      "outputs": [],
      "source": [
        "string[1:3]"
      ]
    },
    {
      "cell_type": "markdown",
      "metadata": {
        "id": "x0ak0btf2kOV"
      },
      "source": [
        "**Functions**: There are several functions for handling them."
      ]
    },
    {
      "cell_type": "code",
      "execution_count": 17,
      "metadata": {
        "id": "4eo-1t_P2kOV",
        "jupyter": {
          "outputs_hidden": false
        },
        "outputId": "6ae37c47-38b5-402c-b390-208e9a65620c",
        "colab": {
          "base_uri": "https://localhost:8080/",
          "height": 35
        }
      },
      "outputs": [
        {
          "output_type": "execute_result",
          "data": {
            "text/plain": [
              "'NEW STRING BLAH'"
            ],
            "application/vnd.google.colaboratory.intrinsic+json": {
              "type": "string"
            }
          },
          "metadata": {},
          "execution_count": 17
        }
      ],
      "source": [
        "string.upper()"
      ]
    },
    {
      "cell_type": "code",
      "execution_count": 20,
      "metadata": {
        "id": "ZbrgX6rs2kOV",
        "jupyter": {
          "outputs_hidden": false
        },
        "outputId": "8e742497-2b1f-4758-ca22-1e959a962629",
        "colab": {
          "base_uri": "https://localhost:8080/",
          "height": 35
        }
      },
      "outputs": [
        {
          "output_type": "execute_result",
          "data": {
            "text/plain": [
              "'Old Old string blah'"
            ],
            "application/vnd.google.colaboratory.intrinsic+json": {
              "type": "string"
            }
          },
          "metadata": {},
          "execution_count": 20
        }
      ],
      "source": [
        "string.replace('New', 'Old', )"
      ]
    },
    {
      "cell_type": "code",
      "execution_count": null,
      "metadata": {
        "id": "4VCxiqgI2kOV",
        "jupyter": {
          "outputs_hidden": false
        }
      },
      "outputs": [],
      "source": [
        "# concatenation of strings using the + operator\n",
        "string + ' blah blah'"
      ]
    },
    {
      "cell_type": "markdown",
      "metadata": {
        "id": "cbcIicW82kOV"
      },
      "source": [
        "### Dictionaries\n",
        "A dictionary is an unordered collection of key-value pairs."
      ]
    },
    {
      "cell_type": "code",
      "execution_count": null,
      "metadata": {
        "id": "2ItpCIXH2kOW"
      },
      "outputs": [],
      "source": [
        "#key: name, value: number of kids\n",
        "dict = {'Emmy':3, 'Frank':2, 'Josef':1}"
      ]
    },
    {
      "cell_type": "code",
      "execution_count": null,
      "metadata": {
        "id": "JQIWd5P-2kOW",
        "jupyter": {
          "outputs_hidden": false
        }
      },
      "outputs": [],
      "source": [
        "#How many kids does Frank have?\n",
        "dict['Frank']"
      ]
    },
    {
      "cell_type": "code",
      "execution_count": null,
      "metadata": {
        "id": "9J4e68vD2kOW",
        "jupyter": {
          "outputs_hidden": false
        }
      },
      "outputs": [],
      "source": [
        "# add elements\n",
        "dict['Ian'] = 2\n",
        "print(dict)"
      ]
    },
    {
      "cell_type": "code",
      "execution_count": null,
      "metadata": {
        "id": "5RqlnUGK2kOW",
        "jupyter": {
          "outputs_hidden": false
        }
      },
      "outputs": [],
      "source": [
        "#delete elements\n",
        "del dict['Frank']\n",
        "print(dict)"
      ]
    },
    {
      "cell_type": "code",
      "execution_count": null,
      "metadata": {
        "id": "s57r5cl_2kOW",
        "jupyter": {
          "outputs_hidden": false
        }
      },
      "outputs": [],
      "source": [
        "#concatenate dictionaries\n",
        "dict2 = {'Peter':3, 'Josef':4}\n",
        "dict.update(dict2)\n",
        "dict"
      ]
    },
    {
      "cell_type": "code",
      "execution_count": null,
      "metadata": {
        "id": "1tRPLhyT2kOW",
        "jupyter": {
          "outputs_hidden": false
        }
      },
      "outputs": [],
      "source": [
        "#return keys and values separately\n",
        "print(dict.keys())\n",
        "print(dict.values())"
      ]
    },
    {
      "cell_type": "markdown",
      "metadata": {
        "id": "0kI7_NLd2kOW"
      },
      "source": [
        "### Control structures\n",
        "As in all programming languages, in Python, we can encode control structures i.e. blocks of code which are executed if specific conditions are satisfied."
      ]
    },
    {
      "cell_type": "code",
      "execution_count": null,
      "metadata": {
        "id": "dxeLhlxx2kOX",
        "jupyter": {
          "outputs_hidden": false
        }
      },
      "outputs": [],
      "source": [
        "# if-else statement\n",
        "x =  5\n",
        "if x < 5:\n",
        "    print('x < 5')\n",
        "else:\n",
        "    print('x >= 5')\n"
      ]
    },
    {
      "cell_type": "code",
      "execution_count": null,
      "metadata": {
        "id": "rYskR41v2kOX",
        "jupyter": {
          "outputs_hidden": false
        }
      },
      "outputs": [],
      "source": [
        "#if-else if\n",
        "x =  5\n",
        "if x < 5:\n",
        "    print('x < 5')\n",
        "elif x == 5:\n",
        "    print('x = 5')\n",
        "else:\n",
        "    print('x > 5')"
      ]
    },
    {
      "cell_type": "code",
      "execution_count": null,
      "metadata": {
        "id": "ICEoucvH2kOX",
        "jupyter": {
          "outputs_hidden": false
        }
      },
      "outputs": [],
      "source": [
        "# while loops\n",
        "x = 5\n",
        "while (x < 10):\n",
        "    print(x)\n",
        "    x+=1 #!! we should always change the value of the variable which appears in the while condition"
      ]
    },
    {
      "cell_type": "code",
      "execution_count": null,
      "metadata": {
        "id": "i2VEOG0i2kOX",
        "jupyter": {
          "outputs_hidden": false
        }
      },
      "outputs": [],
      "source": [
        "#for loops (when we know the number of times that a block should be executed)\n",
        "for i in range(5):\n",
        "    print(i)"
      ]
    },
    {
      "cell_type": "code",
      "execution_count": null,
      "metadata": {
        "id": "oNeMeUSr2kOX",
        "jupyter": {
          "outputs_hidden": false
        }
      },
      "outputs": [],
      "source": [
        "#combination of the previous structures\n",
        "[i for i in range(10) if i % 2 == 0]"
      ]
    },
    {
      "cell_type": "markdown",
      "metadata": {
        "id": "2r36odjg2kOX"
      },
      "source": [
        "### Functions\n",
        "\n",
        "In Python, as in other programming languages, it is very useful to organize the code into subroutines called functions. Functions usually are implemented for a specific job, they take an input (arguments) and they return their output which is the result of their job. See the following example with a function which returns the squared sum of two numbers."
      ]
    },
    {
      "cell_type": "code",
      "execution_count": null,
      "metadata": {
        "id": "OzJnS42e2kOX",
        "jupyter": {
          "outputs_hidden": false
        }
      },
      "outputs": [],
      "source": [
        "#function\n",
        "def squared_sum(num1, num2=0):\n",
        "    #input: two numbers\n",
        "    #output: squared sum of two numbers\n",
        "    return((num1+num2)**2)\n",
        "\n",
        "#function call\n",
        "squared_sum(3)"
      ]
    },
    {
      "cell_type": "markdown",
      "metadata": {
        "id": "pPSaD-uH2kOX"
      },
      "source": [
        "### Importing packages  \n",
        "The power of Python is the plenty of packages which actually implement functionalities that facilitate the users. There are packages for storing and handing data, for running machine learing algorithms, for plotting etc. Next, we will discuss two packages that are very helpful in handling data.\n",
        "\n",
        "Firstly, let's see how we can import a package:\n",
        "\n",
        "* `import package-name`\n",
        "* `from package-name import function-name` , imports a specific function from a package\n",
        "* `from package-name import *` , imports subset of a package\n",
        "* `import package-name as shortcut-of-package-name`\n"
      ]
    },
    {
      "cell_type": "markdown",
      "metadata": {
        "id": "iuJ5ufKz2kOY",
        "toc-hr-collapsed": true
      },
      "source": [
        "## 2. NumPy\n",
        "\n",
        "NumPy is the fundamental package for scientific computing with Python. It contains a powerful N-dimensional array/vector/matrix object and useful functions for linear algebra, Fourier transforms, and random number capabilities. In the numpy package the terminology used for vectors, matrices and higher-dimensional data sets is array.\n",
        "\n",
        "The recommended convention to import NumPy is:"
      ]
    },
    {
      "cell_type": "code",
      "execution_count": 22,
      "metadata": {
        "id": "SSPOLBAE2kOY"
      },
      "outputs": [],
      "source": [
        "import numpy as np"
      ]
    },
    {
      "cell_type": "markdown",
      "metadata": {
        "id": "cuQ1Obfx2kOY"
      },
      "source": [
        "### Basics"
      ]
    },
    {
      "cell_type": "code",
      "execution_count": 23,
      "metadata": {
        "colab": {
          "base_uri": "https://localhost:8080/"
        },
        "id": "Wn9vRucD2kOY",
        "jupyter": {
          "outputs_hidden": false
        },
        "outputId": "ff05cb8d-96bf-4e02-e929-e5da597ed9a9"
      },
      "outputs": [
        {
          "output_type": "execute_result",
          "data": {
            "text/plain": [
              "array([1, 2, 3, 4])"
            ]
          },
          "metadata": {},
          "execution_count": 23
        }
      ],
      "source": [
        "# vector\n",
        "V = np.array([1, 2, 3, 4])\n",
        "V"
      ]
    },
    {
      "cell_type": "code",
      "execution_count": 24,
      "metadata": {
        "id": "beA4fJCl2kOY",
        "jupyter": {
          "outputs_hidden": false
        },
        "outputId": "99c4afce-04c3-4a3f-a2c4-9ac9e43e56e4",
        "colab": {
          "base_uri": "https://localhost:8080/"
        }
      },
      "outputs": [
        {
          "output_type": "execute_result",
          "data": {
            "text/plain": [
              "array([[1, 2],\n",
              "       [3, 4]])"
            ]
          },
          "metadata": {},
          "execution_count": 24
        }
      ],
      "source": [
        "#2-D array\n",
        "N = np.array([[1,2], [3,4]])\n",
        "N"
      ]
    },
    {
      "cell_type": "markdown",
      "metadata": {
        "id": "i3BHNe0t2kOY"
      },
      "source": [
        "The `V` and `M` objects are both of the type `ndarray` that the `numpy` module provides.\n",
        "You can obtain shape information from an `ndarray` by using the `shape` property."
      ]
    },
    {
      "cell_type": "code",
      "execution_count": 25,
      "metadata": {
        "id": "fAJ417N32kOY",
        "jupyter": {
          "outputs_hidden": false
        },
        "outputId": "0dcf5c95-37b4-45c2-b5ca-a88af03bfee4",
        "colab": {
          "base_uri": "https://localhost:8080/"
        }
      },
      "outputs": [
        {
          "output_type": "stream",
          "name": "stdout",
          "text": [
            "(4,)\n",
            "(2, 2)\n"
          ]
        }
      ],
      "source": [
        "print(V.shape)\n",
        "print(N.shape)"
      ]
    },
    {
      "cell_type": "markdown",
      "metadata": {
        "id": "nfNEGypM2kOZ"
      },
      "source": [
        "You can define explicitely the type of an array by using the `dtype` argument. Common types that can be used with `dtype` are: int, float, complex, bool, object, etc."
      ]
    },
    {
      "cell_type": "code",
      "execution_count": 26,
      "metadata": {
        "id": "EFk5LYp82kOZ",
        "jupyter": {
          "outputs_hidden": false
        },
        "outputId": "6cc9fa32-db68-4898-eaff-0230439d6fcb",
        "colab": {
          "base_uri": "https://localhost:8080/"
        }
      },
      "outputs": [
        {
          "output_type": "execute_result",
          "data": {
            "text/plain": [
              "array([[1., 2.],\n",
              "       [3., 4.]])"
            ]
          },
          "metadata": {},
          "execution_count": 26
        }
      ],
      "source": [
        "N = np.array([[1,2], [3,4]], dtype=float)\n",
        "N"
      ]
    },
    {
      "cell_type": "markdown",
      "metadata": {
        "id": "PQalcyFR2kOZ"
      },
      "source": [
        "If you want to change the type of an array try the function `astype()` of the NumPy package."
      ]
    },
    {
      "cell_type": "code",
      "execution_count": 27,
      "metadata": {
        "id": "JPoJCizY2kOZ",
        "jupyter": {
          "outputs_hidden": false
        },
        "outputId": "ea4fba1c-4fc0-4919-a298-4bdd84421467",
        "colab": {
          "base_uri": "https://localhost:8080/"
        }
      },
      "outputs": [
        {
          "output_type": "execute_result",
          "data": {
            "text/plain": [
              "array([[1, 2],\n",
              "       [3, 4]])"
            ]
          },
          "metadata": {},
          "execution_count": 27
        }
      ],
      "source": [
        "N_int = N.astype(int)\n",
        "N_int"
      ]
    },
    {
      "cell_type": "markdown",
      "metadata": {
        "id": "sWMUtRDG2kOZ"
      },
      "source": [
        "### Function-generated arrays\n",
        "For larger arrays it is inpractical to initialize the data manually, using explicit Python lists. Instead we can use one of the many functions in NumPy that generates arrays of different forms. Some of the more common are:\n",
        "   * `arange` , creates an array of consecutive values or by using a specific step-ahead\n",
        "   * `linspace` , numbers over a specified interval\n",
        "   * `random` , array of random numbers\n",
        "   * `zeros` or `ones`, array full of zeros or ones   \n",
        "   \n",
        "Example: Create a vector with values ranging from 2 to 10 with a step of 2"
      ]
    },
    {
      "cell_type": "code",
      "execution_count": 28,
      "metadata": {
        "colab": {
          "base_uri": "https://localhost:8080/"
        },
        "id": "SGwG7kxy2kOZ",
        "jupyter": {
          "outputs_hidden": false
        },
        "outputId": "a32666cf-1154-42b3-c0c6-fa2b220d565a"
      },
      "outputs": [
        {
          "output_type": "execute_result",
          "data": {
            "text/plain": [
              "array([ 2,  4,  6,  8, 10])"
            ]
          },
          "metadata": {},
          "execution_count": 28
        }
      ],
      "source": [
        "#arange\n",
        "array_a = np.arange(2,11,2)\n",
        "array_a"
      ]
    },
    {
      "cell_type": "code",
      "execution_count": 29,
      "metadata": {
        "colab": {
          "base_uri": "https://localhost:8080/"
        },
        "id": "meV5okKs2kOZ",
        "jupyter": {
          "outputs_hidden": false
        },
        "outputId": "83627f24-922f-43ec-8b1b-f5aeebcbc8d8"
      },
      "outputs": [
        {
          "output_type": "execute_result",
          "data": {
            "text/plain": [
              "array([ 2.  ,  4.25,  6.5 ,  8.75, 11.  ])"
            ]
          },
          "metadata": {},
          "execution_count": 29
        }
      ],
      "source": [
        "#linspace\n",
        "array_b = np.linspace(2, 11, 5)\n",
        "array_b"
      ]
    },
    {
      "cell_type": "code",
      "execution_count": null,
      "metadata": {
        "colab": {
          "base_uri": "https://localhost:8080/"
        },
        "id": "0XNaiTtR2kOZ",
        "jupyter": {
          "outputs_hidden": false
        },
        "outputId": "4946db87-3aab-4d6d-f7bf-79e924467395"
      },
      "outputs": [
        {
          "data": {
            "text/plain": [
              "array([0.33826436, 0.65386473, 0.91649277])"
            ]
          },
          "execution_count": 12,
          "metadata": {},
          "output_type": "execute_result"
        }
      ],
      "source": [
        "#random\n",
        "array_c = np.random.random(3)\n",
        "array_c"
      ]
    },
    {
      "cell_type": "code",
      "execution_count": null,
      "metadata": {
        "colab": {
          "base_uri": "https://localhost:8080/"
        },
        "id": "WYLfWPxs2kOa",
        "jupyter": {
          "outputs_hidden": false
        },
        "outputId": "a1bd0fa1-5c87-4ec1-e506-e480fb5a2aa9"
      },
      "outputs": [
        {
          "data": {
            "text/plain": [
              "array([0., 0., 0., 0., 0.])"
            ]
          },
          "execution_count": 13,
          "metadata": {},
          "output_type": "execute_result"
        }
      ],
      "source": [
        "#initialization with zeros\n",
        "array_d = np.zeros(5)\n",
        "array_d"
      ]
    },
    {
      "cell_type": "markdown",
      "metadata": {
        "id": "VnUUkaP92kOa"
      },
      "source": [
        "<div class=\"alert alert-success\">\n",
        "\n",
        "<b>EXERCISE 2.1</b>: **Create a vector with values ranging from 4 to 19 with steps of 1**\n",
        "</div>"
      ]
    },
    {
      "cell_type": "code",
      "execution_count": 34,
      "metadata": {
        "id": "VjWvxkHS2kOa",
        "outputId": "d4a48507-e998-4862-e959-6237eaa73cc6",
        "colab": {
          "base_uri": "https://localhost:8080/"
        }
      },
      "outputs": [
        {
          "output_type": "execute_result",
          "data": {
            "text/plain": [
              "array([ 4,  5,  6,  7,  8,  9, 10, 11, 12, 13, 14, 15, 16, 17, 18, 19])"
            ]
          },
          "metadata": {},
          "execution_count": 34
        }
      ],
      "source": [
        "vector1 = np.arange(4,20,1)\n",
        "vector1"
      ]
    },
    {
      "cell_type": "markdown",
      "metadata": {
        "id": "hnUmaSuv2kOa"
      },
      "source": [
        "<div class=\"alert alert-success\">\n",
        "\n",
        "<b>EXERCISE 2.2</b>: **Create a 5x5 identity matrix (look into docs!)**\n",
        "</div>\n"
      ]
    },
    {
      "cell_type": "code",
      "execution_count": 35,
      "metadata": {
        "id": "w6TjlOyF2kOa",
        "outputId": "e22bfa34-6e3b-44ed-e12c-4a5ffaffc874",
        "colab": {
          "base_uri": "https://localhost:8080/"
        }
      },
      "outputs": [
        {
          "output_type": "execute_result",
          "data": {
            "text/plain": [
              "array([[1., 0., 0., 0., 0.],\n",
              "       [0., 1., 0., 0., 0.],\n",
              "       [0., 0., 1., 0., 0.],\n",
              "       [0., 0., 0., 1., 0.],\n",
              "       [0., 0., 0., 0., 1.]])"
            ]
          },
          "metadata": {},
          "execution_count": 35
        }
      ],
      "source": [
        "vecId = np.identity(5)\n",
        "vecId"
      ]
    },
    {
      "cell_type": "markdown",
      "metadata": {
        "id": "GpLUNecs2kOa"
      },
      "source": [
        "### Indexing and slicing\n",
        "Indexing and slicing are following the same rationale as in `python lists` (see above). **Remember that the indexing starts from 0.**"
      ]
    },
    {
      "cell_type": "code",
      "execution_count": null,
      "metadata": {
        "id": "4DZf6bku2kOa",
        "jupyter": {
          "outputs_hidden": false
        }
      },
      "outputs": [],
      "source": [
        "# take the 5th element of an array\n",
        "array_e = np.arange(1,11)\n",
        "array_e[4]\n"
      ]
    },
    {
      "cell_type": "markdown",
      "metadata": {
        "id": "3tIqH_Tz2kOa"
      },
      "source": [
        "For 2D-arrays the first index indicates the index of the row (starting from 0) and the second one the index of the column (again starting from 0). See the example below."
      ]
    },
    {
      "cell_type": "code",
      "execution_count": null,
      "metadata": {
        "id": "9HL0dvE92kOa",
        "jupyter": {
          "outputs_hidden": false
        }
      },
      "outputs": [],
      "source": [
        "#indices of a 2d-array\n",
        "array_f = np.random.random((3,3))\n",
        "print(array_f)\n",
        "element_0_2 = array_f[0,2]\n",
        "print(element_0_2)"
      ]
    },
    {
      "cell_type": "markdown",
      "metadata": {
        "id": "4LDbfms32kOb"
      },
      "source": [
        "We can select an entire row or column by substituting an index with the : symbol"
      ]
    },
    {
      "cell_type": "code",
      "execution_count": null,
      "metadata": {
        "id": "s4DtkhaO2kOb",
        "jupyter": {
          "outputs_hidden": false
        }
      },
      "outputs": [],
      "source": [
        "array_f[:,2] #3rd column"
      ]
    },
    {
      "cell_type": "code",
      "execution_count": null,
      "metadata": {
        "id": "mglTTQsA2kOb",
        "jupyter": {
          "outputs_hidden": false
        }
      },
      "outputs": [],
      "source": [
        "array_f[0,:] #1st row"
      ]
    },
    {
      "cell_type": "markdown",
      "metadata": {
        "id": "bQDMZCiu2kOb"
      },
      "source": [
        "For slicing, we use the same syntax as in lists, i.e., if M is an ndarray we can write `M[start:stop:step]`."
      ]
    },
    {
      "cell_type": "code",
      "execution_count": null,
      "metadata": {
        "id": "y1CeGEau2kOb",
        "jupyter": {
          "outputs_hidden": false
        }
      },
      "outputs": [],
      "source": [
        "array_g = np.arange(10)\n",
        "array_g[1:3]"
      ]
    },
    {
      "cell_type": "markdown",
      "metadata": {
        "id": "61_2pwuM2kOb"
      },
      "source": [
        "We can omit any of the 3 parameters (`start`, `stop`, `step`) selecting the rest of the elements."
      ]
    },
    {
      "cell_type": "code",
      "execution_count": null,
      "metadata": {
        "id": "b5IUwkZS2kOb",
        "jupyter": {
          "outputs_hidden": false
        }
      },
      "outputs": [],
      "source": [
        "#take the values after the index 5 (including the elemenent in the 5th position)\n",
        "array_g[5:]"
      ]
    },
    {
      "cell_type": "code",
      "execution_count": null,
      "metadata": {
        "id": "mYXljDiJ2kOb",
        "jupyter": {
          "outputs_hidden": false
        }
      },
      "outputs": [],
      "source": [
        "#take the values before the index 5 (without the elemenent in the 5th position)\n",
        "array_g[:5]"
      ]
    },
    {
      "cell_type": "markdown",
      "metadata": {
        "id": "UbOrBPaZ2kOb"
      },
      "source": [
        "<div class=\"alert alert-success\">\n",
        "\n",
        "<b>EXERCISE 2.3</b>: **Create a null vector of size 10 except for the fifth value which should be equal to 1.**\n",
        "</div>"
      ]
    },
    {
      "cell_type": "code",
      "execution_count": null,
      "metadata": {
        "id": "Xn8yIeof2kOc"
      },
      "outputs": [],
      "source": []
    },
    {
      "cell_type": "markdown",
      "metadata": {
        "id": "_SfONFw02kOc"
      },
      "source": [
        "**Fancy indexing**: when an array or a list is used instead of an index. See the example"
      ]
    },
    {
      "cell_type": "code",
      "execution_count": null,
      "metadata": {
        "id": "_HgwNOG82kOc",
        "jupyter": {
          "outputs_hidden": false
        }
      },
      "outputs": [],
      "source": [
        "ind = [2,4,6]\n",
        "array_i = np.zeros(10) #initialization\n",
        "array_i[ind] = 1 # put 1 in the positions specified by the list \"ind\"\n",
        "array_i"
      ]
    },
    {
      "cell_type": "markdown",
      "metadata": {
        "id": "K8ilFCWl2kOc"
      },
      "source": [
        "**Boolean indexing**: mask out specific elements using as a mask a boolean NumPy array.    \n",
        "Example:"
      ]
    },
    {
      "cell_type": "code",
      "execution_count": null,
      "metadata": {
        "id": "X8BEf4Jq2kOc",
        "jupyter": {
          "outputs_hidden": false
        }
      },
      "outputs": [],
      "source": [
        "A = np.arange(1,6)\n",
        "print(A)\n",
        "mask = np.array([True, False, False, True, False])\n",
        "A[mask]"
      ]
    },
    {
      "cell_type": "markdown",
      "metadata": {
        "id": "OqRH1zhn2kOc"
      },
      "source": [
        "We can use this feature to select elements that satisfy specific conditions.   \n",
        "Example:"
      ]
    },
    {
      "cell_type": "code",
      "execution_count": null,
      "metadata": {
        "id": "bb6WiZ5m2kOd",
        "jupyter": {
          "outputs_hidden": false
        }
      },
      "outputs": [],
      "source": [
        "A = np.random.random((3,3))\n",
        "print(A)\n",
        "mask = A > 0.5\n",
        "print(mask)\n",
        "A_masked = A[mask]\n",
        "A_masked"
      ]
    },
    {
      "cell_type": "markdown",
      "metadata": {
        "id": "lqN2sFpJ2kOd"
      },
      "source": [
        "<div class=\"alert alert-success\">\n",
        "\n",
        "<b>EXERCISE 2.4</b>: **Change all even numbers into zero-values**\n",
        "</div>\n"
      ]
    },
    {
      "cell_type": "code",
      "execution_count": null,
      "metadata": {
        "id": "GlDdcv922kOd",
        "jupyter": {
          "outputs_hidden": false
        }
      },
      "outputs": [],
      "source": [
        "#start by creating an array randomly\n"
      ]
    },
    {
      "cell_type": "markdown",
      "metadata": {
        "id": "ua_p9Ulp2kOd"
      },
      "source": [
        "### Linear algebra   \n",
        "Vectorizing code is the key to writing efficient numerical calculation with Python/NumPy. That means that as much as possible of a program should be formulated in terms of matrix and vector operations."
      ]
    },
    {
      "cell_type": "code",
      "execution_count": null,
      "metadata": {
        "id": "b7aNPfof2kOd",
        "jupyter": {
          "outputs_hidden": false
        }
      },
      "outputs": [],
      "source": [
        "A = np.arange(25).reshape(5,5)\n",
        "A"
      ]
    },
    {
      "cell_type": "code",
      "execution_count": null,
      "metadata": {
        "id": "dwtT8vKf2kOd",
        "jupyter": {
          "outputs_hidden": false
        }
      },
      "outputs": [],
      "source": [
        "A + 1 + A*2"
      ]
    },
    {
      "cell_type": "markdown",
      "metadata": {
        "id": "M7YXA-DO2kOd"
      },
      "source": [
        "When we add, subtract, multiply and divide arrays with each other, the default behaviour is the element-wise mode:"
      ]
    },
    {
      "cell_type": "code",
      "execution_count": null,
      "metadata": {
        "id": "NmjO715N2kOd",
        "jupyter": {
          "outputs_hidden": false
        }
      },
      "outputs": [],
      "source": [
        "A*A"
      ]
    },
    {
      "cell_type": "markdown",
      "metadata": {
        "id": "bEf_aWg22kOe"
      },
      "source": [
        "Basic operations on NumPy arrays (addition, etc.) are elementwise. Nevertheless, It’s also possible to do operations on arrays of different sizes if NumPy can transform these arrays so that they all have the same size: this conversion is called broadcasting."
      ]
    },
    {
      "cell_type": "code",
      "execution_count": null,
      "metadata": {
        "colab": {
          "base_uri": "https://localhost:8080/",
          "height": 287
        },
        "id": "jn8YdO2Z2kOe",
        "jupyter": {
          "outputs_hidden": false
        },
        "outputId": "0b450c7b-d51f-4e1d-dee7-8bfdb5446e79"
      },
      "outputs": [
        {
          "data": {
            "text/plain": [
              "<matplotlib.colorbar.Colorbar at 0x7f90a1b16c90>"
            ]
          },
          "execution_count": 21,
          "metadata": {},
          "output_type": "execute_result"
        },
        {
          "data": {
            "image/png": "[encoded data removed]",
            "text/plain": [
              "<Figure size 432x288 with 2 Axes>"
            ]
          },
          "metadata": {
            "needs_background": "light"
          },
          "output_type": "display_data"
        }
      ],
      "source": [
        "x, y = np.arange(5), np.arange(5).reshape((5, 1))\n",
        "import matplotlib.pyplot as plt\n",
        "%matplotlib inline\n",
        "distance = np.sqrt(x ** 2 + y ** 2)\n",
        "distance\n",
        "plt.pcolor(distance)\n",
        "plt.colorbar()"
      ]
    },
    {
      "cell_type": "markdown",
      "metadata": {
        "id": "BSMZ42qj2kOe"
      },
      "source": [
        "**Matrix algebra**: We can perform matrix multiplication by using two functions: the `matmul()` or the `dot()`.\n",
        "You can see the [docs](https://docs.scipy.org/doc/numpy-1.13.0/reference/generated/numpy.matmul.html) for their difference."
      ]
    },
    {
      "cell_type": "code",
      "execution_count": null,
      "metadata": {
        "id": "aINwVH_C2kOe",
        "jupyter": {
          "outputs_hidden": false
        }
      },
      "outputs": [],
      "source": [
        "np.dot(A,A)"
      ]
    },
    {
      "cell_type": "markdown",
      "metadata": {
        "id": "ybF1GIfa2kOe"
      },
      "source": [
        "**Statistics**: Often it is useful to store datasets in NumPy arrays. NumPy provides a number of functions to calculate statistics of datasets in arrays."
      ]
    },
    {
      "cell_type": "code",
      "execution_count": null,
      "metadata": {
        "id": "EAGgv2Kh2kOe",
        "jupyter": {
          "outputs_hidden": false
        }
      },
      "outputs": [],
      "source": [
        "a = np.random.random(40)\n",
        "print('Mean value is', np.mean(a))\n",
        "print('Median value is',  np.median(a))\n",
        "print('Std is', np.std(a))\n",
        "print('Variance is', np.var(a))\n",
        "print('Min is', a.min())\n",
        "print('Element of minimum value is', a.argmin())\n",
        "print('Max is', a.max())\n",
        "print('Sum is', np.sum(a))\n",
        "print('Prod', np.prod(a))\n",
        "print('Cumsum is', np.cumsum(a)[-1])\n",
        "print('CumProd of 5 first elements is', np.cumprod(a)[4])\n",
        "print('Unique values in this array are:', np.unique(np.random.randint(1,6,10)))\n",
        "print('85% Percentile value is: ', np.percentile(a, 85))"
      ]
    },
    {
      "cell_type": "markdown",
      "metadata": {
        "id": "-tlkcYnG2kOe"
      },
      "source": [
        "**Sorting**"
      ]
    },
    {
      "cell_type": "code",
      "execution_count": null,
      "metadata": {
        "id": "y3Uwi0qn2kOe",
        "jupyter": {
          "outputs_hidden": false
        }
      },
      "outputs": [],
      "source": [
        "a = np.random.random(40)\n",
        "print(a.argsort()) # Returns the indices that would sort an array.\n",
        "a.sort() #sorts in place!\n",
        "print(a.argsort())"
      ]
    },
    {
      "cell_type": "markdown",
      "metadata": {
        "id": "y8W3ZoWW2kOf"
      },
      "source": [
        "**Concatenating arrays**"
      ]
    },
    {
      "cell_type": "code",
      "execution_count": null,
      "metadata": {
        "id": "xtD5X4EN2kOf",
        "jupyter": {
          "outputs_hidden": false
        }
      },
      "outputs": [],
      "source": [
        "a = np.array([[1,2], [2,4]])\n",
        "b = np.array([[5,6]])\n",
        "print(np.concatenate((a, b), axis = 0))\n",
        "print(np.concatenate((a, b.T), axis = 1)) # use .T to transpose a matrix"
      ]
    },
    {
      "cell_type": "markdown",
      "metadata": {
        "id": "LrSQBfsm2kOf"
      },
      "source": [
        "### View and copy\n",
        "As mentioned before in the introduction to basic Python, assignments in Python usually do not copy the underlaying objects, but keep the same memory space attached to an object. This increases the performance, and is important for example when objects are passed between functions, to avoid an excessive amount of memory copying when it is not necessary (technical term: pass by reference). To circumvent this, the copy-function can be used."
      ]
    },
    {
      "cell_type": "code",
      "execution_count": null,
      "metadata": {
        "id": "_pobxL132kOf",
        "jupyter": {
          "outputs_hidden": false
        }
      },
      "outputs": [],
      "source": [
        "A = np.array([[1, 2], [3, 4]])\n",
        "B = A # Same memory space as A; changing B will change A!\n",
        "C = A.copy() # New object, new memory space.\n",
        "B[0,0] = 5\n",
        "print(A)\n",
        "C[0,0] = 10\n",
        "print(A)\n",
        "print(C)"
      ]
    },
    {
      "cell_type": "markdown",
      "metadata": {
        "id": "QeD9lAsI2kOf",
        "toc-hr-collapsed": true
      },
      "source": [
        "## 3. Pandas data structures\n",
        "For data-intensive work in Python the Pandas library has become essential. Pandas is designed to work with tabular or structured data (like R dataframe, SQL table, Excel spreadsheet, etc.).  \n",
        "What is Pandas?\n",
        "* Pandas can be thought of as special arrays where columns represent variables and rows observations. In contrast to NumPy arrays, it gives better support for heterogeneous data types.\n",
        "\n",
        "* Powerful for working with missing data, working with time series data, for reading and writing your data, for reshaping, grouping, merging your data, etc."
      ]
    },
    {
      "cell_type": "code",
      "execution_count": 36,
      "metadata": {
        "id": "qdyRbDoG2kOf"
      },
      "outputs": [],
      "source": [
        "# import pandas package\n",
        "import pandas as pd"
      ]
    },
    {
      "cell_type": "markdown",
      "metadata": {
        "id": "itkFIF1x2kOf"
      },
      "source": [
        "### Data structures    \n",
        "Pandas consists of two fundamental object types, both built upon NumPy arrays: the Series object, and the DataFrame object.    \n",
        "\n",
        "**Series**   \n",
        "A Series is a basic holder for one-dimensional labeled data. It can be created much as a NumPy array is created:"
      ]
    },
    {
      "cell_type": "code",
      "execution_count": null,
      "metadata": {
        "id": "YYaTWdDy2kOg",
        "jupyter": {
          "outputs_hidden": false
        }
      },
      "outputs": [],
      "source": [
        "s = pd.Series([0.1, 0.2, 0.3, 0.4])\n",
        "s"
      ]
    },
    {
      "cell_type": "markdown",
      "metadata": {
        "id": "46xoxg5O2kOg"
      },
      "source": [
        "The difference with the NumPy arrays is that in series we can use various indexing ways.  \n",
        "We can take the indices and the values of the data structure `s` by using the following properties.\n"
      ]
    },
    {
      "cell_type": "code",
      "execution_count": null,
      "metadata": {
        "id": "vpP1hh-02kOg",
        "jupyter": {
          "outputs_hidden": false
        }
      },
      "outputs": [],
      "source": [
        "print(s.index)\n",
        "print(s.values)"
      ]
    },
    {
      "cell_type": "markdown",
      "metadata": {
        "id": "wU69aYfC2kOg"
      },
      "source": [
        "We can also define explicitely the indexing of a series:"
      ]
    },
    {
      "cell_type": "code",
      "execution_count": null,
      "metadata": {
        "id": "gCqRAzeM2kOg",
        "jupyter": {
          "outputs_hidden": false
        }
      },
      "outputs": [],
      "source": [
        "s2 = pd.Series(np.arange(4), index=['a', 'b', 'c', 'd'])\n",
        "print(s2)\n",
        "print(s2['d']) #print the value of the series in the position 'd'"
      ]
    },
    {
      "cell_type": "markdown",
      "metadata": {
        "id": "c5VluFgG2kOg"
      },
      "source": [
        "A Series object is similar to an **ordered** dictionary in which each key is mapped to a specific value.   \n",
        "In fact, it's possible to construct a series directly from a Python dictionary:"
      ]
    },
    {
      "cell_type": "code",
      "execution_count": null,
      "metadata": {
        "id": "0hexomDg2kOg",
        "jupyter": {
          "outputs_hidden": false
        }
      },
      "outputs": [],
      "source": [
        "pop_dict = {'Germany': 81.3,\n",
        "            'Belgium': 11.3,\n",
        "            'France': 64.3,\n",
        "            'United Kingdom': 64.9,\n",
        "            'Netherlands': 16.9}\n",
        "population = pd.Series(pop_dict)\n",
        "population"
      ]
    },
    {
      "cell_type": "markdown",
      "metadata": {
        "id": "5mLVQlKK2kOg"
      },
      "source": [
        "Slicing and indexing works as expected:"
      ]
    },
    {
      "cell_type": "code",
      "execution_count": null,
      "metadata": {
        "id": "EO_njlI22kOh",
        "jupyter": {
          "outputs_hidden": false
        }
      },
      "outputs": [],
      "source": [
        "print(population['Germany'])\n",
        "print(population[population > 60]) #remember boolean indexing\n",
        "print(population['France':'Netherlands'])"
      ]
    },
    {
      "cell_type": "markdown",
      "metadata": {
        "id": "0POo_XKz2kOh"
      },
      "source": [
        "Element-wise operations:"
      ]
    },
    {
      "cell_type": "code",
      "execution_count": null,
      "metadata": {
        "id": "z_m1JUm-2kOh",
        "jupyter": {
          "outputs_hidden": false
        }
      },
      "outputs": [],
      "source": [
        "population / 100"
      ]
    },
    {
      "cell_type": "markdown",
      "metadata": {
        "id": "-UQBmD-C2kOh"
      },
      "source": [
        "Useful functions:"
      ]
    },
    {
      "cell_type": "code",
      "execution_count": null,
      "metadata": {
        "id": "V9IUxGTZ2kOh",
        "jupyter": {
          "outputs_hidden": false
        }
      },
      "outputs": [],
      "source": [
        "print(population.mean())\n",
        "print(population.max())"
      ]
    },
    {
      "cell_type": "markdown",
      "metadata": {
        "id": "ET1Cb_ef2kOh"
      },
      "source": [
        "**DataFrames: Multi-dimensional Data**   \n",
        "A DataFrame is a tabular data structure (multi-dimensional object to hold labeled data) comprised of rows and columns, akin to a spreadsheet, database table, or R's data.frame object. You can think of it as multiple Series objects that share the same index.   \n",
        "\n",
        "One of the most common ways of creating a dataframe is from a dictionary of arrays or lists."
      ]
    },
    {
      "cell_type": "code",
      "execution_count": null,
      "metadata": {
        "id": "2kADghfG2kOh",
        "jupyter": {
          "outputs_hidden": false
        }
      },
      "outputs": [],
      "source": [
        "data = {'country': ['Belgium', 'France', 'Germany', 'Netherlands', 'United Kingdom'],\n",
        "        'population': [11.3, 64.3, 81.3, 16.9, 64.9],\n",
        "        'area': [30510, 671308, 357050, 41526, 244820],\n",
        "        'capital': ['Brussels', 'Paris', 'Berlin', 'Amsterdam', 'London']}\n",
        "countries = pd.DataFrame(data)\n",
        "countries"
      ]
    },
    {
      "cell_type": "markdown",
      "metadata": {
        "id": "6eJjKW_G2kOh"
      },
      "source": [
        "A DataFrame has besides an index attribute, also a columns attribute:"
      ]
    },
    {
      "cell_type": "code",
      "execution_count": null,
      "metadata": {
        "id": "gbbnpzQ52kOh",
        "jupyter": {
          "outputs_hidden": false
        }
      },
      "outputs": [],
      "source": [
        "countries.columns"
      ]
    },
    {
      "cell_type": "markdown",
      "metadata": {
        "id": "z5u2xB0Y2kOh"
      },
      "source": [
        "An overview of that information can be given with the info() method:"
      ]
    },
    {
      "cell_type": "code",
      "execution_count": null,
      "metadata": {
        "id": "ZyOhRxlP2kOi",
        "jupyter": {
          "outputs_hidden": false
        }
      },
      "outputs": [],
      "source": [
        "countries.info()"
      ]
    },
    {
      "cell_type": "markdown",
      "metadata": {
        "id": "4z_SEc2b2kOi"
      },
      "source": [
        "To access a Series representing a column in the data, use typical indexing syntax:"
      ]
    },
    {
      "cell_type": "code",
      "execution_count": null,
      "metadata": {
        "id": "LXc9A_Ra2kOi",
        "jupyter": {
          "outputs_hidden": false
        }
      },
      "outputs": [],
      "source": [
        "countries['capital']"
      ]
    },
    {
      "cell_type": "markdown",
      "metadata": {
        "id": "2jDRlxk42kOi"
      },
      "source": [
        "If we don't like what the index looks like, we can reset it and set one of our columns:\n"
      ]
    },
    {
      "cell_type": "code",
      "execution_count": null,
      "metadata": {
        "id": "BC8914kf2kOi",
        "jupyter": {
          "outputs_hidden": false
        }
      },
      "outputs": [],
      "source": [
        "countries = countries.set_index('country')\n",
        "countries"
      ]
    },
    {
      "cell_type": "markdown",
      "metadata": {
        "id": "MbIuT5JB2kOi"
      },
      "source": [
        "Adding a new column to the dataframe is very simple:"
      ]
    },
    {
      "cell_type": "code",
      "execution_count": null,
      "metadata": {
        "id": "aYsc3hK12kOi",
        "jupyter": {
          "outputs_hidden": false
        }
      },
      "outputs": [],
      "source": [
        "countries['density'] = countries['population']*1000000 / countries['area']\n",
        "countries"
      ]
    },
    {
      "cell_type": "markdown",
      "metadata": {
        "id": "U4Q5icmY2kOi"
      },
      "source": [
        "Masking is also working as expected:"
      ]
    },
    {
      "cell_type": "code",
      "execution_count": null,
      "metadata": {
        "id": "2FgkxYSr2kOi",
        "jupyter": {
          "outputs_hidden": false
        }
      },
      "outputs": [],
      "source": [
        "countries[countries['density'] > 300]"
      ]
    },
    {
      "cell_type": "markdown",
      "metadata": {
        "id": "zHgdLQSd2kOj"
      },
      "source": [
        "One useful method to use is the describe method, which computes summary statistics for each column:"
      ]
    },
    {
      "cell_type": "code",
      "execution_count": null,
      "metadata": {
        "id": "8lS_cPp42kOj",
        "jupyter": {
          "outputs_hidden": false
        }
      },
      "outputs": [],
      "source": [
        "countries.describe()"
      ]
    },
    {
      "cell_type": "markdown",
      "metadata": {
        "id": "artTD5xA2kOj"
      },
      "source": [
        "For more advanced indexing, you have some extra attributes:   \n",
        "* loc: selection by label   \n",
        "* iloc: selection by position"
      ]
    },
    {
      "cell_type": "code",
      "execution_count": null,
      "metadata": {
        "id": "Bg3oFium2kOj",
        "jupyter": {
          "outputs_hidden": false
        }
      },
      "outputs": [],
      "source": [
        "countries.loc['Germany', 'area']"
      ]
    },
    {
      "cell_type": "markdown",
      "metadata": {
        "id": "BOsKIgHu2kOj"
      },
      "source": [
        "Similar to NumPy indexing by using `iloc`:"
      ]
    },
    {
      "cell_type": "code",
      "execution_count": null,
      "metadata": {
        "id": "OAi_wunQ2kOj",
        "jupyter": {
          "outputs_hidden": false
        }
      },
      "outputs": [],
      "source": [
        "countries.iloc[2, 0]"
      ]
    },
    {
      "cell_type": "markdown",
      "metadata": {
        "id": "VB-VuH_92kOj"
      },
      "source": [
        "### Plotting\n",
        "We can visualize the data by using the packages Matplotlib and Seaborn:"
      ]
    },
    {
      "cell_type": "code",
      "execution_count": null,
      "metadata": {
        "id": "0M5XO4fX2kOj"
      },
      "outputs": [],
      "source": [
        "%matplotlib inline\n",
        "import matplotlib.pyplot as plt\n",
        "import seaborn\n",
        "%matplotlib inline\n",
        "plt.style.use('seaborn-white')"
      ]
    },
    {
      "cell_type": "code",
      "execution_count": null,
      "metadata": {
        "id": "T1YWIG762kOk",
        "jupyter": {
          "outputs_hidden": false
        }
      },
      "outputs": [],
      "source": [
        "countries.plot()"
      ]
    },
    {
      "cell_type": "markdown",
      "metadata": {
        "id": "uxSwEpW52kOk"
      },
      "source": [
        "This plot is not so informative though, but we can visualise the data of each column separately.   \n",
        "You can also  play with the different keywords: 'line', 'bar', 'hist', 'density', 'area', 'pie', 'scatter', 'hexbin'   \n",
        "See the examples below."
      ]
    },
    {
      "cell_type": "code",
      "execution_count": null,
      "metadata": {
        "id": "mc61gjG12kOk",
        "jupyter": {
          "outputs_hidden": false
        }
      },
      "outputs": [],
      "source": [
        "countries['population'].plot(kind='bar')"
      ]
    },
    {
      "cell_type": "code",
      "execution_count": null,
      "metadata": {
        "id": "5zWC3ffc2kOk",
        "jupyter": {
          "outputs_hidden": false
        }
      },
      "outputs": [],
      "source": [
        "countries['population'].plot(kind='pie')"
      ]
    },
    {
      "cell_type": "markdown",
      "metadata": {
        "id": "OWu5sBGZ2kOk"
      },
      "source": [
        "For examining possible correlations, a scatter plot is usually quite useful:"
      ]
    },
    {
      "cell_type": "code",
      "execution_count": null,
      "metadata": {
        "id": "lukYE2VF2kOl",
        "jupyter": {
          "outputs_hidden": false
        }
      },
      "outputs": [],
      "source": [
        "countries.plot.scatter('population', 'area')"
      ]
    },
    {
      "cell_type": "markdown",
      "metadata": {
        "id": "p5r4yMn72kOl"
      },
      "source": [
        "**Reading from file**     \n",
        "A wide range of input/output formats are natively supported by Pandas:   \n",
        "* CSV, text\n",
        "* SQL database\n",
        "* Excel\n",
        "* HDF5\n",
        "* json\n",
        "* html\n",
        "* Pickle   \n",
        "etc.\n",
        "\n"
      ]
    },
    {
      "cell_type": "markdown",
      "metadata": {
        "id": "f05wzQkA2kOl"
      },
      "source": [
        "## 4. The Iris example\n",
        "For the rest of our first lab we will explore the *Iris* dataset, which is stored as a .csv file. This famous (Fisher’s or Anderson’s) Iris dataset contains measurements (in centimeters) of the sepal length and width and petal length and width,\n",
        "respectively, of 120 *Iris* flowers. Each of these flowers belongs to one of 3 species of *Iris*. These species\n",
        "are *Iris setosa*, *Iris versicolor*, and *Iris virginica*.\n",
        "To do it so, we should firstly load the data as:"
      ]
    },
    {
      "cell_type": "code",
      "execution_count": 37,
      "metadata": {
        "id": "39IUPDww6z7L",
        "outputId": "f1f09125-9227-4aee-d3b5-b4941ed9043f",
        "colab": {
          "base_uri": "https://localhost:8080/"
        }
      },
      "outputs": [
        {
          "output_type": "stream",
          "name": "stdout",
          "text": [
            "--2024-01-29 09:58:50--  https://raw.githubusercontent.com/tfmortie/mlmust/main/01_python_intro/iris.csv\n",
            "Resolving raw.githubusercontent.com (raw.githubusercontent.com)... 185.199.108.133, 185.199.109.133, 185.199.110.133, ...\n",
            "Connecting to raw.githubusercontent.com (raw.githubusercontent.com)|185.199.108.133|:443... connected.\n",
            "HTTP request sent, awaiting response... 200 OK\n",
            "Length: 4177 (4.1K) [text/plain]\n",
            "Saving to: ‘iris.csv’\n",
            "\n",
            "iris.csv            100%[===================>]   4.08K  --.-KB/s    in 0s      \n",
            "\n",
            "2024-01-29 09:58:50 (54.4 MB/s) - ‘iris.csv’ saved [4177/4177]\n",
            "\n"
          ]
        }
      ],
      "source": [
        "!wget https://raw.githubusercontent.com/tfmortie/mlmust/main/01_python_intro/iris.csv"
      ]
    },
    {
      "cell_type": "code",
      "execution_count": 38,
      "metadata": {
        "id": "77KCbUxMNsyy"
      },
      "outputs": [],
      "source": [
        "iris = pd.read_csv('iris.csv')"
      ]
    },
    {
      "cell_type": "code",
      "execution_count": 39,
      "metadata": {
        "id": "F2ynk1Sf2kOl",
        "jupyter": {
          "outputs_hidden": false
        },
        "outputId": "53cb2706-297b-40a3-be4c-8f0173994826",
        "colab": {
          "base_uri": "https://localhost:8080/",
          "height": 804
        }
      },
      "outputs": [
        {
          "output_type": "execute_result",
          "data": {
            "text/plain": [
              "   Sepal.Length  Sepal.Width  Petal.Length  Petal.Width Species\n",
              "0           5.1          3.5           1.4          0.2  setosa\n",
              "1           4.9          3.0           1.4          0.2  setosa\n",
              "2           4.7          3.2           1.3          0.2  setosa\n",
              "3           4.6          3.1           1.5          0.2  setosa\n",
              "4           5.0          3.6           1.4          0.2  setosa"
            ],
            "text/html": [
              "\n",
              "  <div id=\"df-8044ca6e-2614-4590-8f99-131ec6ca8370\" class=\"colab-df-container\">\n",
              "    <div>\n",
              "<style scoped>\n",
              "    .dataframe tbody tr th:only-of-type {\n",
              "        vertical-align: middle;\n",
              "    }\n",
              "\n",
              "    .dataframe tbody tr th {\n",
              "        vertical-align: top;\n",
              "    }\n",
              "\n",
              "    .dataframe thead th {\n",
              "        text-align: right;\n",
              "    }\n",
              "</style>\n",
              "<table border=\"1\" class=\"dataframe\">\n",
              "  <thead>\n",
              "    <tr style=\"text-align: right;\">\n",
              "      <th></th>\n",
              "      <th>Sepal.Length</th>\n",
              "      <th>Sepal.Width</th>\n",
              "      <th>Petal.Length</th>\n",
              "      <th>Petal.Width</th>\n",
              "      <th>Species</th>\n",
              "    </tr>\n",
              "  </thead>\n",
              "  <tbody>\n",
              "    <tr>\n",
              "      <th>0</th>\n",
              "      <td>5.1</td>\n",
              "      <td>3.5</td>\n",
              "      <td>1.4</td>\n",
              "      <td>0.2</td>\n",
              "      <td>setosa</td>\n",
              "    </tr>\n",
              "    <tr>\n",
              "      <th>1</th>\n",
              "      <td>4.9</td>\n",
              "      <td>3.0</td>\n",
              "      <td>1.4</td>\n",
              "      <td>0.2</td>\n",
              "      <td>setosa</td>\n",
              "    </tr>\n",
              "    <tr>\n",
              "      <th>2</th>\n",
              "      <td>4.7</td>\n",
              "      <td>3.2</td>\n",
              "      <td>1.3</td>\n",
              "      <td>0.2</td>\n",
              "      <td>setosa</td>\n",
              "    </tr>\n",
              "    <tr>\n",
              "      <th>3</th>\n",
              "      <td>4.6</td>\n",
              "      <td>3.1</td>\n",
              "      <td>1.5</td>\n",
              "      <td>0.2</td>\n",
              "      <td>setosa</td>\n",
              "    </tr>\n",
              "    <tr>\n",
              "      <th>4</th>\n",
              "      <td>5.0</td>\n",
              "      <td>3.6</td>\n",
              "      <td>1.4</td>\n",
              "      <td>0.2</td>\n",
              "      <td>setosa</td>\n",
              "    </tr>\n",
              "  </tbody>\n",
              "</table>\n",
              "</div>\n",
              "    <div class=\"colab-df-buttons\">\n",
              "\n",
              "  <div class=\"colab-df-container\">\n",
              "    <button class=\"colab-df-convert\" onclick=\"convertToInteractive('df-8044ca6e-2614-4590-8f99-131ec6ca8370')\"\n",
              "            title=\"Convert this dataframe to an interactive table.\"\n",
              "            style=\"display:none;\">\n",
              "\n",
              "  <svg xmlns=\"http://www.w3.org/2000/svg\" height=\"24px\" viewBox=\"0 -960 960 960\">\n",
              "    <path d=\"M120-120v-720h720v720H120Zm60-500h600v-160H180v160Zm220 220h160v-160H400v160Zm0 220h160v-160H400v160ZM180-400h160v-160H180v160Zm440 0h160v-160H620v160ZM180-180h160v-160H180v160Zm440 0h160v-160H620v160Z\"/>\n",
              "  </svg>\n",
              "    </button>\n",
              "\n",
              "  <style>\n",
              "    .colab-df-container {\n",
              "      display:flex;\n",
              "      gap: 12px;\n",
              "    }\n",
              "\n",
              "    .colab-df-convert {\n",
              "      background-color: #E8F0FE;\n",
              "      border: none;\n",
              "      border-radius: 50%;\n",
              "      cursor: pointer;\n",
              "      display: none;\n",
              "      fill: #1967D2;\n",
              "      height: 32px;\n",
              "      padding: 0 0 0 0;\n",
              "      width: 32px;\n",
              "    }\n",
              "\n",
              "    .colab-df-convert:hover {\n",
              "      background-color: #E2EBFA;\n",
              "      box-shadow: 0px 1px 2px rgba(60, 64, 67, 0.3), 0px 1px 3px 1px rgba(60, 64, 67, 0.15);\n",
              "      fill: #174EA6;\n",
              "    }\n",
              "\n",
              "    .colab-df-buttons div {\n",
              "      margin-bottom: 4px;\n",
              "    }\n",
              "\n",
              "    [theme=dark] .colab-df-convert {\n",
              "      background-color: #3B4455;\n",
              "      fill: #D2E3FC;\n",
              "    }\n",
              "\n",
              "    [theme=dark] .colab-df-convert:hover {\n",
              "      background-color: #434B5C;\n",
              "      box-shadow: 0px 1px 3px 1px rgba(0, 0, 0, 0.15);\n",
              "      filter: drop-shadow(0px 1px 2px rgba(0, 0, 0, 0.3));\n",
              "      fill: #FFFFFF;\n",
              "    }\n",
              "  </style>\n",
              "\n",
              "    <script>\n",
              "      const buttonEl =\n",
              "        document.querySelector('#df-8044ca6e-2614-4590-8f99-131ec6ca8370 button.colab-df-convert');\n",
              "      buttonEl.style.display =\n",
              "        google.colab.kernel.accessAllowed ? 'block' : 'none';\n",
              "\n",
              "      async function convertToInteractive(key) {\n",
              "        const element = document.querySelector('#df-8044ca6e-2614-4590-8f99-131ec6ca8370');\n",
              "        const dataTable =\n",
              "          await google.colab.kernel.invokeFunction('convertToInteractive',\n",
              "                                                    [key], {});\n",
              "        if (!dataTable) return;\n",
              "\n",
              "        const docLinkHtml = 'Like what you see? Visit the ' +\n",
              "          '<a target=\"_blank\" href=https://colab.research.google.com/notebooks/data_table.ipynb>data table notebook</a>'\n",
              "          + ' to learn more about interactive tables.';\n",
              "        element.innerHTML = '';\n",
              "        dataTable['output_type'] = 'display_data';\n",
              "        await google.colab.output.renderOutput(dataTable, element);\n",
              "        const docLink = document.createElement('div');\n",
              "        docLink.innerHTML = docLinkHtml;\n",
              "        element.appendChild(docLink);\n",
              "      }\n",
              "    </script>\n",
              "  </div>\n",
              "\n",
              "\n",
              "<div id=\"df-824460ca-5ba9-478e-9e6d-93f296216170\">\n",
              "  <button class=\"colab-df-quickchart\" onclick=\"quickchart('df-824460ca-5ba9-478e-9e6d-93f296216170')\"\n",
              "            title=\"Suggest charts\"\n",
              "            style=\"display:none;\">\n",
              "\n",
              "<svg xmlns=\"http://www.w3.org/2000/svg\" height=\"24px\"viewBox=\"0 0 24 24\"\n",
              "     width=\"24px\">\n",
              "    <g>\n",
              "        <path d=\"M19 3H5c-1.1 0-2 .9-2 2v14c0 1.1.9 2 2 2h14c1.1 0 2-.9 2-2V5c0-1.1-.9-2-2-2zM9 17H7v-7h2v7zm4 0h-2V7h2v10zm4 0h-2v-4h2v4z\"/>\n",
              "    </g>\n",
              "</svg>\n",
              "  </button>\n",
              "\n",
              "<style>\n",
              "  .colab-df-quickchart {\n",
              "      --bg-color: #E8F0FE;\n",
              "      --fill-color: #1967D2;\n",
              "      --hover-bg-color: #E2EBFA;\n",
              "      --hover-fill-color: #174EA6;\n",
              "      --disabled-fill-color: #AAA;\n",
              "      --disabled-bg-color: #DDD;\n",
              "  }\n",
              "\n",
              "  [theme=dark] .colab-df-quickchart {\n",
              "      --bg-color: #3B4455;\n",
              "      --fill-color: #D2E3FC;\n",
              "      --hover-bg-color: #434B5C;\n",
              "      --hover-fill-color: #FFFFFF;\n",
              "      --disabled-bg-color: #3B4455;\n",
              "      --disabled-fill-color: #666;\n",
              "  }\n",
              "\n",
              "  .colab-df-quickchart {\n",
              "    background-color: var(--bg-color);\n",
              "    border: none;\n",
              "    border-radius: 50%;\n",
              "    cursor: pointer;\n",
              "    display: none;\n",
              "    fill: var(--fill-color);\n",
              "    height: 32px;\n",
              "    padding: 0;\n",
              "    width: 32px;\n",
              "  }\n",
              "\n",
              "  .colab-df-quickchart:hover {\n",
              "    background-color: var(--hover-bg-color);\n",
              "    box-shadow: 0 1px 2px rgba(60, 64, 67, 0.3), 0 1px 3px 1px rgba(60, 64, 67, 0.15);\n",
              "    fill: var(--button-hover-fill-color);\n",
              "  }\n",
              "\n",
              "  .colab-df-quickchart-complete:disabled,\n",
              "  .colab-df-quickchart-complete:disabled:hover {\n",
              "    background-color: var(--disabled-bg-color);\n",
              "    fill: var(--disabled-fill-color);\n",
              "    box-shadow: none;\n",
              "  }\n",
              "\n",
              "  .colab-df-spinner {\n",
              "    border: 2px solid var(--fill-color);\n",
              "    border-color: transparent;\n",
              "    border-bottom-color: var(--fill-color);\n",
              "    animation:\n",
              "      spin 1s steps(1) infinite;\n",
              "  }\n",
              "\n",
              "  @keyframes spin {\n",
              "    0% {\n",
              "      border-color: transparent;\n",
              "      border-bottom-color: var(--fill-color);\n",
              "      border-left-color: var(--fill-color);\n",
              "    }\n",
              "    20% {\n",
              "      border-color: transparent;\n",
              "      border-left-color: var(--fill-color);\n",
              "      border-top-color: var(--fill-color);\n",
              "    }\n",
              "    30% {\n",
              "      border-color: transparent;\n",
              "      border-left-color: var(--fill-color);\n",
              "      border-top-color: var(--fill-color);\n",
              "      border-right-color: var(--fill-color);\n",
              "    }\n",
              "    40% {\n",
              "      border-color: transparent;\n",
              "      border-right-color: var(--fill-color);\n",
              "      border-top-color: var(--fill-color);\n",
              "    }\n",
              "    60% {\n",
              "      border-color: transparent;\n",
              "      border-right-color: var(--fill-color);\n",
              "    }\n",
              "    80% {\n",
              "      border-color: transparent;\n",
              "      border-right-color: var(--fill-color);\n",
              "      border-bottom-color: var(--fill-color);\n",
              "    }\n",
              "    90% {\n",
              "      border-color: transparent;\n",
              "      border-bottom-color: var(--fill-color);\n",
              "    }\n",
              "  }\n",
              "</style>\n",
              "\n",
              "  <script>\n",
              "    async function quickchart(key) {\n",
              "      const quickchartButtonEl =\n",
              "        document.querySelector('#' + key + ' button');\n",
              "      quickchartButtonEl.disabled = true;  // To prevent multiple clicks.\n",
              "      quickchartButtonEl.classList.add('colab-df-spinner');\n",
              "      try {\n",
              "        const charts = await google.colab.kernel.invokeFunction(\n",
              "            'suggestCharts', [key], {});\n",
              "      } catch (error) {\n",
              "        console.error('Error during call to suggestCharts:', error);\n",
              "      }\n",
              "      quickchartButtonEl.classList.remove('colab-df-spinner');\n",
              "      quickchartButtonEl.classList.add('colab-df-quickchart-complete');\n",
              "    }\n",
              "    (() => {\n",
              "      let quickchartButtonEl =\n",
              "        document.querySelector('#df-824460ca-5ba9-478e-9e6d-93f296216170 button');\n",
              "      quickchartButtonEl.style.display =\n",
              "        google.colab.kernel.accessAllowed ? 'block' : 'none';\n",
              "    })();\n",
              "  </script>\n",
              "</div>\n",
              "\n",
              "    </div>\n",
              "  </div>\n"
            ]
          },
          "metadata": {},
          "execution_count": 39
        },
        {
          "output_type": "display_data",
          "data": {
            "text/plain": [
              "<google.colab._quickchart_helpers.SectionTitle at 0x7f0f6115d090>"
            ],
            "text/html": [
              "<h4 class=\"colab-quickchart-section-title\">Distributions</h4>\n",
              "<style>\n",
              "  .colab-quickchart-section-title {\n",
              "      clear: both;\n",
              "  }\n",
              "</style>"
            ]
          },
          "metadata": {}
        },
        {
          "output_type": "display_data",
          "data": {
            "text/plain": [
              "from matplotlib import pyplot as plt\n",
              "_df_0['Sepal.Length'].plot(kind='hist', bins=20, title='Sepal.Length')\n",
              "plt.gca().spines[['top', 'right',]].set_visible(False)"
            ],
            "text/html": [
              "      <div class=\"colab-quickchart-chart-with-code\" id=\"chart-e79acc85-65f2-4d03-9d9c-cd71c7a28a19\">\n",
              "        <img style=\"width: 180px;\" src=\"data:image/png;base64,iVBORw0KGgoAAAANSUhEUgAAAioAAAGrCAYAAADuNLxTAAAAOXRFWHRTb2Z0d2FyZQBNYXRwbG90\n",
              "bGliIHZlcnNpb24zLjcuMSwgaHR0cHM6Ly9tYXRwbG90bGliLm9yZy/bCgiHAAAACXBIWXMAAA9h\n",
              "AAAPYQGoP6dpAAAjG0lEQVR4nO3dfVSUdf7/8dcINbXeoYiB4oCCkFZKGh5Da01rS1PMu7KOpm0g\n",
              "Zm03upuZWWm12nZrdjziTbRKZXlTcexuS6m0vNe8LZUUhxIlNUEyQYbr94df5+eEFBjX8AGej3Pm\n",
              "HOaaT9e85zqs57nXXMw4LMuyBAAAYKB61T0AAABAeQgVAABgLEIFAAAYi1ABAADGIlQAAICxCBUA\n",
              "AGAsQgUAABiLUAEAAMYiVAAAgLEIFQDV4vPPP5fD4VBJSUl1j1IpTz75pLp3717dYwB1BqEC1FH7\n",
              "9u3T7bffrhYtWqhBgwZq0aKF+vTpo9zc3OoeTZIZIRMZGam5c+dW2/MDIFSAOqtPnz5q2LChtm/f\n",
              "rsLCQm3evFm33XabHA5HdY8GAF6EClAHHTlyRN99951Gjx6tpk2bSpIuueQSjRgxQqGhoZKktWvX\n",
              "qkePHgoODlZERIQmTZrkc3bD4XDoxRdfVHx8vBo0aKAuXbpow4YN3sc///xzJSQkKDg4WE2aNFHP\n",
              "nj31zTffVNlr+O6779S3b19dcsklatmypcaMGaNffvnF+3hkZKSmTJniDbKoqCi9++673scty9K0\n",
              "adPkcrkUFBSkpKQk3XrrrRo5cqQkqXfv3nK73brvvvvUoEEDXXbZZT7PP3nyZIWFhalp06ZKSUmp\n",
              "cW9hATUFoQLUQcHBwbriiiuUkpKitLQ0bd26VaWlpd7Hd+3apV69emn06NE6dOiQvvzyS2VkZOjZ\n",
              "Z5/12c/MmTP13//+V0eOHFGfPn3Uu3dv5efnS5IuuOACPf/888rNzZXb7VZ0dLT69++v4uLiPz3/\n",
              "4cOHdc0116hXr15yu93asmWLdu/erQcffNBn3dy5c/X0008rPz9f9957r0aMGKGCggJJ0oIFC/Tc\n",
              "c89p0aJFOnz4sK6++mqfkPnoo4/kcrn06quvqrCwUDt27PA+tnbtWtWvX1/79+/XmjVrtGjRIi1Y\n",
              "sOBPvy4A52ABqJMOHz5sTZo0yYqPj7ecTqfVpEkTa9y4cdbJkyetf/zjH9bQoUN91qenp1tRUVHe\n",
              "+5KsV155xXvf4/FYoaGh1vz588/5fEePHrUkWVu3brUsy7IyMzMtSdapU6fOuf73Hn/hhResrl27\n",
              "+mxbtWqVdeGFF1olJSWWZVlWRESENXnyZO/jhYWFliRrzZo1lmVZVq9evax//etfPvvo3LmzNWLE\n",
              "CO/9iIgIa86cOT5rnnjiCat169Y+2wYPHmyNHj36nK8DwJ8TWK2VBKDaBAcHa8qUKZoyZYqKior0\n",
              "0UcfacSIEWrQoIH27NmjzMxMBQUFedeXlpb6nHWRpNatW3t/rlevniIiIpSTkyNJ2rp1qyZOnKhN\n",
              "mzbp+PHjqlfv9AncvLy8Pz37nj17tHHjRp/5LMuSw+HQwYMH1bJlS0lSixYtvI/Xr19fknT8+HFJ\n",
              "0o8//qgBAwb47DcyMrJCz3/2fs/s+8x+AVQt3voBIKfTqVtuuUXXX3+9Nm3apNDQUN1xxx06duyY\n",
              "91ZQUKDCwkKf/y47O9v7c2lpqdxut8LDwyVJQ4YMUVRUlLZv366CggLt27dP0umg+LNCQ0PVvXt3\n",
              "n/ny8/N18uRJb6T8kZYtW2r//v0+2357/0xcAag+/K8QqIN+/vlnPfLII9q6dauKiork8Xi0fPly\n",
              "ZWZm6tprr9WYMWO0ePFiLVq0SMXFxfJ4PMrKytLHH3/ss5/p06fr22+/VXFxsZ555hkVFxcrMTFR\n",
              "kpSfn69GjRqpcePGOnr0qMaNG3desxYVFenkyZPeW3Fxse666y5t3rxZM2fO1IkTJ2RZlnJycvTe\n",
              "e+9VeL/Dhw/Xa6+9pvXr16ukpERpaWllLvYNDQ3Vrl27zmtuAFWDUAHqoAsvvFCHDx/WkCFD1KxZ\n",
              "MwUHB+uBBx7Q+PHjNW7cOMXHx+vTTz/VnDlz1LJlSwUHB2vw4MFlzjjcc889Gj58uJo2baqMjAx9\n",
              "+OGH3rdjXnvtNS1atEgNGzZU165d1bt379+d6Y033lCDBg3KbG/QoIEuvvhi761nz55yuVxavXq1\n",
              "Pv30U0VFRSkoKEg33nijtm3bVuFjcOedd+qhhx7SwIED1axZM61atUp9+/bVRRdd5F3z+OOP6/33\n",
              "31dQUJA6dOhQ4X0DqDoOqyrOwwKocxwOhz799FNdf/311T1KlYmLi9Ntt92mCRMmVPcoAP4PZ1QA\n",
              "1Flvv/22fv31V508eVIvvfSSdu7cqSFDhlT3WADOQqgAqLPmzJmj0NBQhYSEKD09Xe+//76io6Or\n",
              "eywAZ+GtHwAAYCzOqAAAAGMRKgAAwFiECgAAMBahAgAAjFUrQmX69OnVPQIAALBBrQiV335aJgAA\n",
              "qB1qRagAAIDaiVABAADGIlQAAICxCBUAAGAsQgUAABiLUAEAAMYiVAAAgLEIFQAAYCxCBQAAGItQ\n",
              "AQAAxiJUAACAsQgVAABgLFtD5f7771dkZKQcDoe++eabctfNmzdPbdu2VVRUlJKTk3Xq1Ck7xwIA\n",
              "ADWEraEyePBgrVq1ShEREeWu2bdvnyZNmqSVK1cqKytLhw4d0uzZs+0cCwAA1BC2hsq1116r8PDw\n",
              "312zePFiJSYmKjQ0VA6HQ6NHj9Zbb71V7vqioiIVFBT43DweT1WPDgAADBBY3QO43W6fMy6RkZFy\n",
              "u93lrp86daomT57ss61r1662zBb5yAe27FeSsqfdbNu+ayK7jjXHGdWB32f/4N9oX7X1967GXUw7\n",
              "YcIE5efn+9y6dOlS3WMBAAAbVPsZFZfLpe+//957Pzs7Wy6Xq9z1TqdTTqfTZ1tAQIBt8wEAgOpT\n",
              "7WdUBg0apIyMDB08eFCWZWnWrFkaOnRodY8FAAAMYGuopKSkKDw8XD/88INuvPFGRUdHS5KSkpKU\n",
              "kZEhSWrTpo0mT56sbt26KTo6WiEhIUpJSbFzLAAAUEPY+tZPamrqObfPnTvX535ycrKSk5PtHAUA\n",
              "ANRA1f7WDwAAQHkIFQAAYCxCBQAAGItQAQAAxiJUAACAsQgVAABgLEIFAAAYi1ABAADGIlQAAICx\n",
              "CBUAAGAsQgUAABiLUAEAAMYiVAAAgLEIFQAAYCxCBQAAGItQAQAAxiJUAACAsQgVAABgLEIFAAAY\n",
              "i1ABAADGIlQAAICxCBUAAGAsQgUAABiLUAEAAMYiVAAAgLEIFQAAYCxCBQAAGItQAQAAxiJUAACA\n",
              "sQgVAABgLEIFAAAYi1ABAADGIlQAAICxCBUAAGAsQgUAABiLUAEAAMYiVAAAgLEIFQAAYCxCBQAA\n",
              "GItQAQAAxiJUAACAsQgVAABgLEIFAAAYi1ABAADGIlQAAICxCBUAAGAsQgUAABiLUAEAAMYiVAAA\n",
              "gLEIFQAAYCxCBQAAGItQAQAAxiJUAACAsQgVAABgLEIFAAAYi1ABAADGIlQAAICxCBUAAGAsQgUA\n",
              "ABiLUAEAAMYiVAAAgLFsDZU9e/YoISFBMTExio+P144dO8qsKS0t1dixY9W+fXt16NBB1113nbKy\n",
              "suwcCwAA1BC2hkpKSopGjRql3bt3a/z48Ro5cmSZNRkZGfrqq6+0ZcsWbd26Vb169dKjjz5q51gA\n",
              "AKCGsC1U8vLytGHDBg0bNkySNGjQIOXk5JQ5W+JwOFRUVKSTJ0/KsiwVFBQoPDzcrrEAAEANEmjX\n",
              "jnNychQWFqbAwNNP4XA45HK55Ha7FR0d7V3Xr18/ZWZmKjQ0VA0bNlTLli31xRdflLvfoqIiFRUV\n",
              "+WzzeDz2vAgAAFCtqv1i2g0bNmj79u368ccfdeDAAfXq1UujR48ud/3UqVPVuHFjn9u6dev8ODEA\n",
              "APAX20KlVatWys3NVUlJiSTJsiy53W65XC6fdfPnz1fPnj0VFBSkevXqacSIEcrMzCx3vxMmTFB+\n",
              "fr7PrUuXLna9DAAAUI1sC5XmzZurU6dOSk9PlyQtWbJE4eHhPm/7SFKbNm20YsUKFRcXS5KWLVum\n",
              "yy+/vNz9Op1ONWrUyOcWEBBg18sAAADVyLZrVCQpNTVVI0eO1L///W81atRIaWlpkqSkpCQlJiYq\n",
              "MTFR9957r7799lt17NhRF1xwgUJDQzVr1iw7xwIAADWEraESGxur1atXl9k+d+5c789Op1Nz5syx\n",
              "cwwAAFBDVfvFtAAAAOUhVAAAgLEIFQAAYCxCBQAAGItQAQAAxiJUAACAsQgVAABgLEIFAAAYi1AB\n",
              "AADGIlQAAICxCBUAAGAsQgUAABiLUAEAAMYiVAAAgLEIFQAAYCxCBQAAGItQAQAAxiJUAACAsQgV\n",
              "AABgLEIFAAAYi1ABAADGIlQAAICxCBUAAGAsQgUAABiLUAEAAMYiVAAAgLEIFQAAYCxCBQAAGItQ\n",
              "AQAAxiJUAACAsQgVAABgLEIFAAAYi1ABAADGIlQAAICxCBUAAGAsQgUAABiLUAEAAMYiVAAAgLEI\n",
              "FQAAYCxCBQAAGItQAQAAxiJUAACAsQgVAABgLEIFAAAYi1ABAADGIlQAAICxCBUAAGAsQgUAABiL\n",
              "UAEAAMYiVAAAgLEIFQAAYCxCBQAAGItQAQAAxiJUAACAsQgVAABgLEIFAAAYi1ABAADGIlQAAICx\n",
              "CBUAAGAsQgUAABiLUAEAAMYiVAAAgLFsDZU9e/YoISFBMTExio+P144dO865btu2berRo4fatWun\n",
              "du3aaenSpXaOBQAAaohAO3eekpKiUaNGaeTIkVq8eLFGjhyp9evX+6w5ceKE+vfvr/nz56t79+7y\n",
              "eDw6evSonWMBAIAawrYzKnl5edqwYYOGDRsmSRo0aJBycnKUlZXls+7NN99U165d1b17d0lSQECA\n",
              "QkJCyt1vUVGRCgoKfG4ej8eulwEAAKqRbaGSk5OjsLAwBQaePmnjcDjkcrnkdrt91u3cuVNOp1N9\n",
              "+/ZVXFyc7rzzTv3000/l7nfq1Klq3Lixz23dunV2vQwAAFCNKh0qn3zySZUOUFJSos8++0ypqana\n",
              "vHmzWrZsqXvuuafc9RMmTFB+fr7PrUuXLlU6EwAAMEOlQ2XKlCmKjY3V9OnTVVBQUO66Vq1aKTc3\n",
              "VyUlJZIky7Lkdrvlcrl81rlcLl133XVq2bKlHA6Hhg0bpjVr1pS7X6fTqUaNGvncAgICKvsyAABA\n",
              "DVDpUPnqq6+0cOFCbd++XTExMRozZox27txZZl3z5s3VqVMnpaenS5KWLFmi8PBwRUdH+6y79dZb\n",
              "tX79em/0fPjhh+rYseP5vBYAAFDLnNc1KldeeaXmzJmjjz/+WMuWLVOHDh10ww03aNu2bT7rUlNT\n",
              "lZqaqpiYGE2bNk1paWmSpKSkJGVkZEg6fUbl0UcfVUJCgjp06KAVK1Zo1qxZf/JlAQCA2uC8/jz5\n",
              "s88+04wZM7Rt2zbde++9uvvuu/X5559rwIABPn/VExsbq9WrV5f57+fOnetzf/jw4Ro+fPj5jAIA\n",
              "AGqxSodKu3bt1KxZM91///0aOHCg9/qQwYMHa968eVU+IAAAqLsqHSrp6enq3LnzOR/76KOP/vRA\n",
              "AAAAZ1T6GpWNGzf6fHLskSNHNGfOnCodCgAAQDqPUJk5c6aaNm3qvR8cHKyZM2dW6VAAAADSeYSK\n",
              "ZVlltvER9gAAwA6VDpWwsDC988473vtvv/22wsLCqnQoAAAA6Twupn355ZfVv39/Pfzww5Kkv/zl\n",
              "L3r//ferfDAAAIBKh8qll16qnTt3ateuXZJOf1YKH2EPAADscF4f+OZwOBQUFKSSkhL9+OOPklTm\n",
              "O3wAAAD+rEqHyuuvv677779fF1xwgerVO32Ji8PhUF5eXpUPBwAA6rZKh8pTTz2l9evXKzY21o55\n",
              "AAAAvCr9Vz/NmjUjUgAAgF9UOlRuueUWvfzyy8rLy1NBQYH3BgAAUNUq/dbPxIkTJUljx46Vw+GQ\n",
              "ZVlyOBx86BsAAKhylQ6V0tJSO+YAAAAoo9Jv/Uinv5hwwYIFkqRjx44pNze3SocCAACQzvNLCf/+\n",
              "97/rySeflHT625PvuOOOqp4LAACg8qEye/ZsrVmzRo0aNZIkRUVF6aeffqrywQAAACodKk6nUxdf\n",
              "fLHPtsDA8/qAWwAAgN9V6VAJCQnR7t275XA4JJ3+pFo+Ph8AANjhvL49+fbbb9d3332nVq1aqVGj\n",
              "Rlq2bJkdswEAgDqu0qESHR2ttWvXateuXbIsi29PBgAAtql0qLjdbklS/fr1JYlvTwYAALapdKh0\n",
              "7tzZ+4m0J0+e1IkTJxQcHMy3JwMAgCpX6VD57Z8iL126VFu2bKmygQAAAM44r0+mPdvAgQP1wQcf\n",
              "VMUsAAAAPip9RuXsb0r2eDxau3Yt354MAABsUelQCQoK8l6jEhAQoLZt2+qVV16xYzYAAFDH8e3J\n",
              "AADAWH/6GhUAAAC7VPqMSr169bwfn382y7LkcDjk8XiqZDAAAIBKh8qUKVP066+/6p577pEkzZo1\n",
              "SxdffLEefPDBqp4NAADUcZUOlXfffVcbN2703n/66afVuXNnTZw4sUoHAwAAqPQ1KsePH/f5FNq8\n",
              "vDwdP368SocCAACQzuOMyrhx49SxY0f16dNHkvTxxx/rySefrOq5AAAAKh8qKSkp6tatmzIzMyVJ\n",
              "Y8eO1WWXXVblgwEAAFQ6VCQpODhYV1xxhXr06KGSkhIVFxfrwgsvrOrZAABAHVfpa1QWL16srl27\n",
              "6q677pIk7dixQ7fccktVzwUAAFD5UJk6dao2bdqkoKAgSVLHjh21f//+qp4LAACg8qESEBCg4OBg\n",
              "n2287QMAAOxQ6VBp2LChDh065P102uXLl6tp06ZVPhgAAEClL6Z99tln1bt3b+3du1fdu3fXvn37\n",
              "9MEHH9gxGwAAqOMqFSqlpaXyeDzKzMzU119/LcuylJCQ4L1eBQAAoCpVKlTq1aunUaNGacuWLerd\n",
              "u7ddMwEAAEg6j2tU2rZtq6ysLDtmAQAA8FHpa1SOHj2quLg4JSQkqEGDBt7tS5curdLBAAAAKhwq\n",
              "o0aN0uzZszVixAglJiaqSZMmds4FAABQ8VDZsGGDJGnEiBHq1KmTNm3aZNtQAAAA0nlcoyJJlmVV\n",
              "9RwAAABlVPiMyq+//qpt27bJsiydPHnS+/MZHTp0sGVAAABQd1UqVBITE733z/7Z4XBo7969VTsZ\n",
              "AACo8yocKtnZ2TaOAQAAUNZ5XaMCAADgD4QKAAAwFqECAACMRagAAABjESoAAMBYhAoAADAWoQIA\n",
              "AIxFqAAAAGMRKgAAwFi2hsqePXuUkJCgmJgYxcfHa8eOHeWutSxLPXv2VFBQkJ0jAQCAGsTWUElJ\n",
              "SdGoUaO0e/dujR8/XiNHjix37UsvvaSoqCg7xwEAADWMbaGSl5enDRs2aNiwYZKkQYMGKScnR1lZ\n",
              "WWXW7tixQ++9954eeeSRP9xvUVGRCgoKfG4ej6fK5wcAANXPtlDJyclRWFiYAgNPf++hw+GQy+WS\n",
              "2+32WXfq1CklJycrNTVVAQEBf7jfqVOnqnHjxj63devW2fIaAABA9ar2i2knT56sgQMHql27dhVa\n",
              "P2HCBOXn5/vcunTpYvOUAACgOgTateNWrVopNzdXJSUlCgwMlGVZcrvdcrlcPuu++OILud1uvfrq\n",
              "qyopKVFBQYEiIyO1fv16hYSElNmv0+mU0+n02VaRMzEAAKDmse2MSvPmzdWpUyelp6dLkpYsWaLw\n",
              "8HBFR0f7rFu5cqX279+v7OxsrVq1So0aNVJ2dvY5IwUAANQttr71k5qaqtTUVMXExGjatGlKS0uT\n",
              "JCUlJSkjI8POpwYAALWAbW/9SFJsbKxWr15dZvvcuXPPuT4yMlLHjh2zcyQAAFCDVPvFtAAAAOUh\n",
              "VAAAgLEIFQAAYCxCBQAAGItQAQAAxiJUAACAsQgVAABgLEIFAAAYi1ABAADGIlQAAICxCBUAAGAs\n",
              "QgUAABiLUAEAAMYiVAAAgLEIFQAAYCxCBQAAGItQAQAAxiJUAACAsQgVAABgLEIFAAAYi1ABAADG\n",
              "IlQAAICxCBUAAGAsQgUAABiLUAEAAMYiVAAAgLEIFQAAYCxCBQAAGItQAQAAxiJUAACAsQgVAABg\n",
              "LEIFAAAYi1ABAADGIlQAAICxCBUAAGAsQgUAABiLUAEAAMYiVAAAgLEIFQAAYCxCBQAAGItQAQAA\n",
              "xiJUAACAsQgVAABgLEIFAAAYi1ABAADGIlQAAICxCBUAAGAsQgUAABiLUAEAAMYiVAAAgLEIFQAA\n",
              "YCxCBQAAGItQAQAAxiJUAACAsQgVAABgLEIFAAAYi1ABAADGIlQAAICxCBUAAGAsQgUAABiLUAEA\n",
              "AMYiVAAAgLFsDZU9e/YoISFBMTExio+P144dO8qsWbFihbp06aL27dvrsssu08MPP6zS0lI7xwIA\n",
              "ADWEraGSkpKiUaNGaffu3Ro/frxGjhxZZk2TJk20cOFC7dy5Uxs3btTXX3+t+fPn2zkWAACoIWwL\n",
              "lby8PG3YsEHDhg2TJA0aNEg5OTnKysryWXfllVeqTZs2kqSLLrpIcXFxys7OLne/RUVFKigo8Ll5\n",
              "PB67XgYAAKhGtoVKTk6OwsLCFBgYKElyOBxyuVxyu93l/jcHDx7U4sWL1bdv33LXTJ06VY0bN/a5\n",
              "rVu3rsrnBwAA1c+Yi2kLCgrUr18/Pfzww7rqqqvKXTdhwgTl5+f73Lp06eLHSQEAgL8E2rXjVq1a\n",
              "KTc3VyUlJQoMDJRlWXK73XK5XGXWHj9+XDfddJP69++vsWPH/u5+nU6nnE6nz7aAgIAqnR0AAJjB\n",
              "tjMqzZs3V6dOnZSeni5JWrJkicLDwxUdHe2zrrCwUDfddJNuuukmPfbYY3aNAwAAaiBb3/pJTU1V\n",
              "amqqYmJiNG3aNKWlpUmSkpKSlJGRIUmaPn261q1bp6VLlyouLk5xcXF65pln7BwLAADUELa99SNJ\n",
              "sbGxWr16dZntc+fO9f48ceJETZw40c4xAABADWXMxbQAAAC/RagAAABjESoAAMBYhAoAADAWoQIA\n",
              "AIxFqAAAAGMRKgAAwFiECgAAMBahAgAAjEWoAAAAYxEqAADAWIQKAAAwFqECAACMRagAAABjESoA\n",
              "AMBYhAoAADAWoQIAAIxFqAAAAGMRKgAAwFiECgAAMBahAgAAjEWoAAAAYxEqAADAWIQKAAAwFqEC\n",
              "AACMRagAAABjESoAAMBYhAoAADAWoQIAAIxFqAAAAGMRKgAAwFiECgAAMBahAgAAjEWoAAAAYxEq\n",
              "AADAWIQKAAAwFqECAACMRagAAABjESoAAMBYhAoAADAWoQIAAIxFqAAAAGMRKgAAwFiECgAAMBah\n",
              "AgAAjEWoAAAAYxEqAADAWIQKAAAwFqECAACMRagAAABjESoAAMBYhAoAADAWoQIAAIxFqAAAAGMR\n",
              "KgAAwFiECgAAMBahAgAAjEWoAAAAYxEqAADAWIQKAAAwFqECAACMZWuo7NmzRwkJCYqJiVF8fLx2\n",
              "7NhxznXz5s1T27ZtFRUVpeTkZJ06dcrOsQAAQA1ha6ikpKRo1KhR2r17t8aPH6+RI0eWWbNv3z5N\n",
              "mjRJK1euVFZWlg4dOqTZs2fbORYAAKghbAuVvLw8bdiwQcOGDZMkDRo0SDk5OcrKyvJZt3jxYiUm\n",
              "Jio0NFQOh0OjR4/WW2+9Ve5+i4qKVFBQ4HPzeDx2vQwAAFCNAu3acU5OjsLCwhQYePopHA6HXC6X\n",
              "3G63oqOjvevcbrciIiK89yMjI+V2u8vd79SpUzV58mSfbZdeeqnGjh1bpfN7PB6FrVunLl26KCAg\n",
              "oEr3LUljxy6v8n3WVHYea47z/+fxeLTOxt9pnMbvs3/wb3RZA23Yp8fj0dVXP23bcY6IiNADDzzw\n",
              "u2tsCxW7TJgwoUyUOJ1OOZ3OKn2egoICNW7cWJ988okaNWpUpfuGL461f3Cc/YPj7B8cZ/8w4Tjb\n",
              "FiqtWrVSbm6uSkpKFBgYKMuy5Ha75XK5fNa5XC59//333vvZ2dll1pzNjigBAABmsu0alebNm6tT\n",
              "p05KT0+XJC1ZskTh4eE+b/tIp69dycjI0MGDB2VZlmbNmqWhQ4faNRYAAKhBbP2rn9TUVKWmpiom\n",
              "JkbTpk1TWlqaJCkpKUkZGRmSpDZt2mjy5Mnq1q2boqOjFRISopSUFDvHAgAANYSt16jExsZq9erV\n",
              "ZbbPnTvX535ycrKSk5PtHKXSnE6nnnjiCd5m8gOOtX9wnP2D4+wfHGf/MOE4OyzLsqrt2QEAAH4H\n",
              "H6EPAACMRagAAABjESoAAMBYhAoAADAWofJ/0tLS5HA49N57753zcbfbrX79+ik2Nlbt27fXjBkz\n",
              "/DtgLfF7x/mTTz5RXFyc99aiRQt16tTJ/0PWAn/0+/zss8+qffv2iouLU9euXbVu3Tr/DliL/NGx\n",
              "fu6553T55Zerffv2GjBggI4dO+bX+Wq6yMhIxcbGev9dePvtt8+5bt68eWrbtq2ioqKUnJysU6dO\n",
              "+XnSmq0ixzk7O1s9evRQ48aNFRcX57/hLFj79u2zrr76aqtr167Wu+++W+bx0tJSq1OnTtY777zj\n",
              "3Xbw4EE/Tlg7/NFx/q2bb77Zev755+0frJb5o+O8efNmy+VyWcePH7csy7IWLFhgxcfH+3nK2uGP\n",
              "jvX//vc/q127dlZBQYFlWZb11FNPWWPGjPHzlDVbRESEtXnz5t9ds3fvXissLMzKzc21SktLrX79\n",
              "+lmvvvqqfwasJSpynI8cOWKtXLnSWrZsmdWxY0e/zGVZllXnz6iUlpYqKSlJM2bMKPfvxJcvXy6n\n",
              "06khQ4Z4t11yySX+GrFWqMhxPtuBAwe0fPlyDR8+3A/T1R4VOc4Oh0OnTp3SL7/8Ikk6duyYwsPD\n",
              "/TlmrVCRY71lyxZ1795dDRs2lCT16dNHCxYs8OeYdcLixYuVmJio0NBQORwOjR49Wm+99VZ1j1Xr\n",
              "NG3aVN27d1f9+vX9+rx1PlRefPFFdevWTZ07dy53zc6dOxUSEqKhQ4fqyiuv1IABA7R3714/Tlnz\n",
              "VeQ4n+31119Xnz591Lx5c5snq10qcpw7duyohx56SK1bt1Z4eLheeukl3so8DxU51p07d9Znn33m\n",
              "/YqQN954Q8ePH9fRo0f9OGnNd+edd+qKK67Q3XffrZ9++qnM4263WxEREd77kZGRcrvd/hyxVvij\n",
              "41xd6nSobN++XUuWLNFjjz32u+tKSkq0YsUKTZo0SZs3b9aNN96oW2+91U9T1nwVPc5nWJal1157\n",
              "TXfffbfNk9UuFT3O+/bt09KlS5WVlaUffvhBDz30kG677TY/TVk7VPRYX3fddfrnP/+pvn37qmvX\n",
              "rgoJCZEkBQbWuC+urzZffvmltm7dqk2bNqlZs2YaMWJEdY9UKxl9nP32JpOBZs6caYWGhloRERFW\n",
              "RESE5XQ6rZCQEGvmzJk+6xYtWmRdc8013vuFhYWWw+GwiouL/T1yjVTR43xGZmam1bJlS6ukpMTP\n",
              "k9ZsFT3Ozz33nJWcnOy9X1hYaEmyioqK/D1yjVXZ3+kzVq9ebYWHh/tpytrnwIEDVoMGDcps/89/\n",
              "/mOlpKR473/wwQdWt27d/DlarVLecT4jMzPTr9eo1OlQ+a2//vWv57wgrrCw0GrdurX1ww8/WJZl\n",
              "We+8847Vvn17P09Xe5R3nM8YNmyYNXHiRP8NVEuVd5yXLFlitW/f3nsx7cKFC62YmBg/T1e7/N7v\n",
              "9IEDByzLsqxffvnFuuGGG6xXXnnFj5PVbIWFhdbPP//svf/CCy/4/J/GM77//vsyF9POmDHDj5PW\n",
              "bBU9zmf4O1Q4/1iOxx9/XC1atNDo0aNVv359zZo1SzfffLMsy1Ljxo21cOHC6h6xVjj7OEtSfn6+\n",
              "li5dqm3btlXzZLXL2cd5wIABWr9+va666io5nU7Vr19fb775ZnWPWGv89nf6b3/7m0pLS1VcXKzh\n",
              "w4frvvvuq+YJa45Dhw5p0KBB8ng8sixLbdq00fz58yVJSUlJSkxMVGJiotq0aaPJkyerW7dukqQe\n",
              "PXooJSWlOkevUSp6nE+cOKGYmBgVFRUpPz9f4eHhGj58uKZOnWrrfHwpIQAAMFadvpgWAACYjVAB\n",
              "AADGIlQAAICxCBUAAGAsQgUAABiLUAEAAMYiVAAAgLEIFQAAYCxCBQAAGItQAQAAxvp/QigqT63i\n",
              "qpIAAAAASUVORK5CYII=\n",
              "\">\n",
              "      </div>\n",
              "      <script type=\"text/javascript\">\n",
              "        (() => {\n",
              "          const chartElement = document.getElementById(\"chart-e79acc85-65f2-4d03-9d9c-cd71c7a28a19\");\n",
              "          async function getCodeForChartHandler(event) {\n",
              "            const chartCodeResponse =  await google.colab.kernel.invokeFunction(\n",
              "                'getCodeForChart', [\"chart-e79acc85-65f2-4d03-9d9c-cd71c7a28a19\"], {});\n",
              "            const responseJson = chartCodeResponse.data['application/json'];\n",
              "            await google.colab.notebook.addCell(responseJson.code, 'code');\n",
              "          }\n",
              "          chartElement.onclick = getCodeForChartHandler;\n",
              "        })();\n",
              "      </script>\n",
              "      <style>\n",
              "        .colab-quickchart-chart-with-code  {\n",
              "            display: block;\n",
              "            float: left;\n",
              "            border: 1px solid transparent;\n",
              "        }\n",
              "\n",
              "        .colab-quickchart-chart-with-code:hover {\n",
              "            cursor: pointer;\n",
              "            border: 1px solid #aaa;\n",
              "        }\n",
              "      </style>"
            ]
          },
          "metadata": {}
        },
        {
          "output_type": "display_data",
          "data": {
            "text/plain": [
              "from matplotlib import pyplot as plt\n",
              "_df_1['Sepal.Width'].plot(kind='hist', bins=20, title='Sepal.Width')\n",
              "plt.gca().spines[['top', 'right',]].set_visible(False)"
            ],
            "text/html": [
              "      <div class=\"colab-quickchart-chart-with-code\" id=\"chart-90c34be6-8411-4375-814c-e5b295fdb11e\">\n",
              "        <img style=\"width: 180px;\" src=\"data:image/png;base64,iVBORw0KGgoAAAANSUhEUgAAAioAAAGrCAYAAADuNLxTAAAAOXRFWHRTb2Z0d2FyZQBNYXRwbG90\n",
              "bGliIHZlcnNpb24zLjcuMSwgaHR0cHM6Ly9tYXRwbG90bGliLm9yZy/bCgiHAAAACXBIWXMAAA9h\n",
              "AAAPYQGoP6dpAAAi+UlEQVR4nO3de1TUdf7H8dcANnkDlDBUBFPEzA3xAmtIram56iq6km11NKkF\n",
              "sfsePUcl86S2hdXaZttxxcvaum52UXPJbscUy8pU1FKxVEwcLJTUBC0FGb6/PzzNrwmpwfjCB3k+\n",
              "zplzmC8fv7znc8zzbObLjMOyLEsAAAAG8qvvAQAAAKpDqAAAAGMRKgAAwFiECgAAMBahAgAAjEWo\n",
              "AAAAYxEqAADAWIQKAAAwFqECAACMRagAqHcbN26Uw+FQRUVFrZ1z06ZNatGihdxud7VrEhMTNXPm\n",
              "zJ89T0pKisaOHVtrcwGoGUIFgA4dOqQ77rhD7dq1U4sWLdSuXTsNGzZMRUVF9T2aLMtSaGio5s+f\n",
              "73X8pptuUrNmzVRWVuY5tmvXLjkcDh04cEA33nijzpw5I39/f59/lsPh0HvvvVdrswP49QgVABo2\n",
              "bJhatmypPXv26MyZM9q5c6f+9Kc/yeFw1PdocjgcGjhwoFdAnDlzRrm5uYqMjNRHH33kOb5u3Tp1\n",
              "7NhRXbp0qY9RAdiAUAEauRMnTuiLL77QxIkT1bp1a0nS1VdfrfHjxyssLEyStGXLFvXv318hISGK\n",
              "jIzUjBkzvF6mcTgcevbZZxUXF6cWLVooPj5eubm5nu9v3LhRCQkJCgkJUatWrTRgwAB9+umnPs84\n",
              "ePBg5eTkeF7G2bhxo2JjYzVy5EitW7fOs27dunW65ZZbPGt+/HJSRUWFpkyZorCwMIWGhiojI8Pr\n",
              "Z3Tv3l2SNGLECLVo0UJDhw71fK+iokIPPPCAQkJCdPXVV2vGjBk+zw7g1yFUgEYuJCRE119/vdLT\n",
              "07V06VLt2rVLlZWVnu/v27dPAwcO1MSJE3Xs2DF98MEHys7O1lNPPeV1nvnz5+vf//63Tpw4oWHD\n",
              "hmno0KEqKSmRJDVp0kR/+9vfVFRUJJfLpaioKI0cOVLl5eU+zTh48GCdOnVK27Ztk3QhSAYNGqRB\n",
              "gwZ5QqWsrEwffPCBJ1R+6umnn9arr76qDRs26MiRIwoICNCWLVs838/Ly5MkvfHGGzpz5ozefvtt\n",
              "z/def/11JSYmqri4WGvWrNGcOXOUk5Pj0+wAfiULQKN3/Phxa8aMGVZcXJzldDqtVq1aWZMnT7bO\n",
              "nTtnPfjgg9btt9/utX758uVW586dPfclWc8//7znvtvttsLCwqxly5Zd9OedPHnSkmTt2rXLsizL\n",
              "ysnJsSRZ58+fr3bGbt26WbNnz/Z8/f7771tnz561mjVrZh0/ftxav3695efnZ504ceKi54yKivKa\n",
              "saKiwgoNDbUee+wxr8exbt06r587fvx46+abb/Y61qdPH2vOnDnVzgqg9gTUayUBMEJISIhmz56t\n",
              "2bNnq6ysTG+//bbGjx+vFi1a6MCBA8rJyVFwcLBnfWVlpdezLpJ0zTXXeL728/NTZGSkCgsLJV24\n",
              "yHX69OnasWOHTp8+LT+/C0/mFhcX+zzjLbfconXr1umee+5RYWGhbrjhBjVp0kR9+/bV+vXrtXPn\n",
              "TvXu3dvz8tVPHTlyxGtGf39/RURE+PSz27Vr53W/efPmOn36tM+zA7h0vPQDwIvT6dSoUaM0aNAg\n",
              "7dixQ2FhYbrzzjt16tQpz620tFRnzpzx+nMFBQWerysrK+VyuRQeHi5JGjNmjDp37qw9e/aotLRU\n",
              "hw4dknThN3p8NXjwYH3yySdavXq1brzxRjVp0kSSPC///Pj6lIsJDw/3mtHtdntC6gcmXDwMwBuh\n",
              "AjRy3377raZNm6Zdu3aprKxMbrdb69evV05Ojm666Sbdd999WrlypV577TWVl5fL7XYrPz9f77zz\n",
              "jtd55s2bp88//1zl5eV64oknVF5erqSkJElSSUmJAgMDFRQUpJMnT2ry5Mk1nrN///5yOBzKzMzU\n",
              "oEGDPMcHDhyoN954Qzt37tTgwYOr/fPjx4/X3Llz9cUXX6isrEyzZ8/WyZMnvdaEhYVp3759NZ4N\n",
              "gH0IFaCRu+KKK3T8+HGNGTNGV111lUJCQvTwww9r6tSpmjx5suLi4rRu3TotWrRI7du3V0hIiG69\n",
              "9VYdPnzY6zz33nuvxo0bp9atWys7O1tvvfWW5+Wif/3rX3rttdfUsmVL9e3b1+s3ai7mv//9r1q0\n",
              "aOF1rHnz5kpISFBRUZFXqPTp00dlZWVq2rSpbrjhhmrPOXXqVI0ePVq/+93vFB4ervLycv32t7/1\n",
              "WpOZmamnnnpKwcHBGj58uC/bB8BmDqsmz70CwEU4HA7Pb+IAQG3iGRUAAGAsQgUAABiLX08G8Kvx\n",
              "CjIAu/CMCgAAMBahAgAAjEWoAAAAYxEqAADAWJdFqMybN6++RwAAADa4LELlp++QCQAALg+XRagA\n",
              "AIDLE6ECAACMRagAAABjESoAAMBYhAoAADAWoQIAAIxFqAAAAGMRKgAAwFiECgAAMBahAgAAjEWo\n",
              "AAAAYxEqAADAWLaGykMPPaSOHTvK4XDo008/rXbdkiVL1KVLF3Xu3FlpaWk6f/68nWMBAIAGwtZQ\n",
              "ufXWW/Xhhx8qMjKy2jWHDh3SjBkztGnTJuXn5+vYsWNauHChnWMBAIAGwtZQuemmmxQeHv6za1au\n",
              "XKmkpCSFhYXJ4XBo4sSJWrFiRbXry8rKVFpa6nVzu921PToAADBAQH0P4HK5vJ5x6dixo1wuV7Xr\n",
              "MzMzNWvWLK9jffv2tWW2jtPetOW8klQw5w+2ndsu7Ic3u/ajIe4FUB/4N8nb5fpvUoO7mDYjI0Ml\n",
              "JSVet/j4+PoeCwAA2KDen1GJiIjQwYMHPfcLCgoUERFR7Xqn0ymn0+l1zN/f37b5AABA/an3Z1SS\n",
              "k5OVnZ2to0ePyrIsLViwQLfffnt9jwUAAAxga6ikp6crPDxcR44c0e9//3tFRUVJklJTU5WdnS1J\n",
              "6tSpk2bNmqV+/fopKipKoaGhSk9Pt3MsAADQQNj60k9WVtZFjy9evNjrflpamtLS0uwcBQAANED1\n",
              "/tIPAABAdQgVAABgLEIFAAAYi1ABAADGIlQAAICxCBUAAGAsQgUAABiLUAEAAMYiVAAAgLEIFQAA\n",
              "YCxCBQAAGItQAQAAxiJUAACAsQgVAABgLEIFAAAYi1ABAADGIlQAAICxCBUAAGAsQgUAABiLUAEA\n",
              "AMYiVAAAgLEIFQAAYCxCBQAAGItQAQAAxiJUAACAsQgVAABgLEIFAAAYi1ABAADGIlQAAICxCBUA\n",
              "AGAsQgUAABiLUAEAAMYiVAAAgLEIFQAAYCxCBQAAGItQAQAAxiJUAACAsQgVAABgLEIFAAAYi1AB\n",
              "AADGIlQAAICxCBUAAGAsQgUAABiLUAEAAMYiVAAAgLEIFQAAYCxCBQAAGItQAQAAxiJUAACAsQgV\n",
              "AABgLEIFAAAYi1ABAADGIlQAAICxCBUAAGAsQgUAABiLUAEAAMYiVAAAgLEIFQAAYCxCBQAAGItQ\n",
              "AQAAxiJUAACAsWwNlQMHDighIUHR0dGKi4tTXl5elTWVlZWaNGmSrrvuOsXExOjmm29Wfn6+nWMB\n",
              "AIAGwtZQSU9P14QJE7R//35NnTpVKSkpVdZkZ2fro48+0meffaZdu3Zp4MCBeuSRR+wcCwAANBC2\n",
              "hUpxcbFyc3M1duxYSVJycrIKCwurPFvicDhUVlamc+fOybIslZaWKjw83K6xAABAAxJg14kLCwvV\n",
              "tm1bBQRc+BEOh0MRERFyuVyKioryrBsxYoRycnIUFhamli1bqn379nr//ferPW9ZWZnKysq8jrnd\n",
              "bnseBAAAqFf1fjFtbm6u9uzZo6+++kpff/21Bg4cqIkTJ1a7PjMzU0FBQV63rVu31uHEAACgrtgW\n",
              "Kh06dFBRUZEqKiokSZZlyeVyKSIiwmvdsmXLNGDAAAUHB8vPz0/jx49XTk5OtefNyMhQSUmJ1y0+\n",
              "Pt6uhwEAAOqRbaHSpk0b9erVS8uXL5ckrVq1SuHh4V4v+0hSp06dtGHDBpWXl0uS1q5dq9/85jfV\n",
              "ntfpdCowMNDr5u/vb9fDAAAA9ci2a1QkKSsrSykpKXryyScVGBiopUuXSpJSU1OVlJSkpKQk3X//\n",
              "/fr888/Vo0cPNWnSRGFhYVqwYIGdYwEAgAbC1lDp2rWrNm/eXOX44sWLPV87nU4tWrTIzjEAAEAD\n",
              "Ve8X0wIAAFSHUAEAAMYiVAAAgLEIFQAAYCxCBQAAGItQAQAAxiJUAACAsQgVAABgLEIFAAAYi1AB\n",
              "AADGIlQAAICxCBUAAGAsQgUAABiLUAEAAMYiVAAAgLEIFQAAYCxCBQAAGItQAQAAxiJUAACAsQgV\n",
              "AABgLEIFAAAYi1ABAADGIlQAAICxCBUAAGAsQgUAABiLUAEAAMYiVAAAgLEIFQAAYCxCBQAAGItQ\n",
              "AQAAxiJUAACAsQgVAABgLEIFAAAYi1ABAADGIlQAAICxCBUAAGAsQgUAABiLUAEAAMYiVAAAgLEI\n",
              "FQAAYCxCBQAAGItQAQAAxiJUAACAsQgVAABgLEIFAAAYi1ABAADGIlQAAICxCBUAAGAsQgUAABiL\n",
              "UAEAAMYiVAAAgLEIFQAAYCxCBQAAGItQAQAAxiJUAACAsQgVAABgLEIFAAAYi1ABAADGIlQAAICx\n",
              "CBUAAGAsQgUAABiLUAEAAMayNVQOHDighIQERUdHKy4uTnl5eRddt3v3bvXv31/dunVTt27dtHr1\n",
              "ajvHAgAADUSAnSdPT0/XhAkTlJKSopUrVyolJUXbtm3zWvP9999r5MiRWrZsmRITE+V2u3Xy5Ek7\n",
              "xwIAAA2Ebc+oFBcXKzc3V2PHjpUkJScnq7CwUPn5+V7rXnrpJfXt21eJiYmSJH9/f4WGhlZ73rKy\n",
              "MpWWlnrd3G63XQ8DAADUI9tCpbCwUG3btlVAwIUnbRwOhyIiIuRyubzW7d27V06nU8OHD1dsbKzu\n",
              "uusuffPNN9WeNzMzU0FBQV63rVu32vUwAABAPapxqLz77ru1OkBFRYXee+89ZWVlaefOnWrfvr3u\n",
              "vffeatdnZGSopKTE6xYfH1+rMwEAADPUOFRmz56trl27at68eSotLa12XYcOHVRUVKSKigpJkmVZ\n",
              "crlcioiI8FoXERGhm2++We3bt5fD4dDYsWP1ySefVHtep9OpwMBAr5u/v39NHwYAAGgAahwqH330\n",
              "kV5++WXt2bNH0dHRuu+++7R3794q69q0aaNevXpp+fLlkqRVq1YpPDxcUVFRXutuu+02bdu2zRM9\n",
              "b731lnr06HEpjwUAAFxmLukalZ49e2rRokV65513tHbtWsXExOiWW27R7t27vdZlZWUpKytL0dHR\n",
              "mjNnjpYuXSpJSk1NVXZ2tqQLz6g88sgjSkhIUExMjDZs2KAFCxb8yocFAAAuB5f068nvvfee/vGP\n",
              "f2j37t26//779ec//1kbN27UH//4R6/f6unatas2b95c5c8vXrzY6/64ceM0bty4SxkFAABcxmoc\n",
              "Kt26ddNVV12lhx56SKNHj/ZcH3LrrbdqyZIltT4gAABovGocKsuXL1fv3r0v+r233377Vw8EAADw\n",
              "gxpfo7J9+3avd449ceKEFi1aVKtDAQAASJcQKvPnz1fr1q0990NCQjR//vxaHQoAAEC6hFCxLKvK\n",
              "Md7CHgAA2KHGodK2bVu9+uqrnvuvvPKK2rZtW6tDAQAASJdwMe1zzz2nkSNHasqUKZKkZs2a6X//\n",
              "+1+tDwYAAFDjULn22mu1d+9e7du3T9KF90rhLewBAIAdLukN3xwOh4KDg1VRUaGvvvpKkqp8hg8A\n",
              "AMCvVeNQefHFF/XQQw+pSZMm8vO7cImLw+FQcXFxrQ8HAAAatxqHyuOPP65t27apa9eudswDAADg\n",
              "UePf+rnqqquIFAAAUCdqHCqjRo3Sc889p+LiYpWWlnpuAAAAta3GL/1Mnz5dkjRp0iQ5HA5ZliWH\n",
              "w8GbvgEAgFpX41CprKy0Yw4AAIAqavzSj3Thgwn/85//SJJOnTqloqKiWh0KAABAusQPJbznnns0\n",
              "c+ZMSRc+PfnOO++s7bkAAABqHioLFy7UJ598osDAQElS586d9c0339T6YAAAADUOFafTqaZNm3od\n",
              "Cwi4pDe4BQAA+Fk1DpXQ0FDt379fDodD0oV3quXt8wEAgB0u6dOT77jjDn3xxRfq0KGDAgMDtXbt\n",
              "WjtmAwAAjVyNQyUqKkpbtmzRvn37ZFkWn54MAABsU+NQcblckqTmzZtLEp+eDAAAbFPjUOndu7fn\n",
              "HWnPnTun77//XiEhIXx6MgAAqHU1DpWf/iry6tWr9dlnn9XaQAAAAD+4pHem/bHRo0frzTffrI1Z\n",
              "AAAAvNT4GZUff1Ky2+3Wli1b+PRkAABgixqHSnBwsOcaFX9/f3Xp0kXPP/+8HbMBAIBGjk9PBgAA\n",
              "xvrV16gAAADYpcbPqPj5+XnePv/HLMuSw+GQ2+2ulcEAAABqHCqzZ8/W2bNnde+990qSFixYoKZN\n",
              "m+ovf/lLbc8GAAAauRqHyuuvv67t27d77v/1r39V7969NX369FodDAAAoMbXqJw+fdrrXWiLi4t1\n",
              "+vTpWh0KAABAuoRnVCZPnqwePXpo2LBhkqR33nlHM2fOrO25AAAAah4q6enp6tevn3JyciRJkyZN\n",
              "Uvfu3Wt9MAAAgBqHiiSFhITo+uuvV//+/VVRUaHy8nJdccUVtT0bAABo5Gp8jcrKlSvVt29f3X33\n",
              "3ZKkvLw8jRo1qrbnAgAAqHmoZGZmaseOHQoODpYk9ejRQ4cPH67tuQAAAGoeKv7+/goJCfE6xss+\n",
              "AADADjUOlZYtW+rYsWOed6ddv369WrduXeuDAQAA1Phi2qeeekpDhw7Vl19+qcTERB06dEhvvvmm\n",
              "HbMBAIBGrkahUllZKbfbrZycHH388ceyLEsJCQme61UAAABqU41Cxc/PTxMmTNBnn32moUOH2jUT\n",
              "AACApEu4RqVLly7Kz8+3YxYAAAAvNb5G5eTJk4qNjVVCQoJatGjhOb569epaHQwAAMDnUJkwYYIW\n",
              "Llyo8ePHKykpSa1atbJzLgAAAN9DJTc3V5I0fvx49erVSzt27LBtKAAAAOkSrlGRJMuyansOAACA\n",
              "Knx+RuXs2bPavXu3LMvSuXPnPF//ICYmxpYBAQBA41WjUElKSvLc//HXDodDX375Ze1OBgAAGj2f\n",
              "Q6WgoMDGMQAAAKq6pGtUAAAA6gKhAgAAjEWoAAAAYxEqAADAWIQKAAAwFqECAACMRagAAABjESoA\n",
              "AMBYhAoAADCWraFy4MABJSQkKDo6WnFxccrLy6t2rWVZGjBggIKDg+0cCQAANCC2hkp6eromTJig\n",
              "/fv3a+rUqUpJSal27d///nd17tzZznEAAEADY1uoFBcXKzc3V2PHjpUkJScnq7CwUPn5+VXW5uXl\n",
              "ac2aNZo2bdovnresrEylpaVeN7fbXevzAwCA+mdbqBQWFqpt27YKCLjwuYcOh0MRERFyuVxe686f\n",
              "P6+0tDRlZWXJ39//F8+bmZmpoKAgr9vWrVtteQwAAKB+1fvFtLNmzdLo0aPVrVs3n9ZnZGSopKTE\n",
              "6xYfH2/zlAAAoD4E2HXiDh06qKioSBUVFQoICJBlWXK5XIqIiPBa9/7778vlcumFF15QRUWFSktL\n",
              "1bFjR23btk2hoaFVzut0OuV0Or2O+fJMDAAAaHhse0alTZs26tWrl5YvXy5JWrVqlcLDwxUVFeW1\n",
              "btOmTTp8+LAKCgr04YcfKjAwUAUFBReNFAAA0LjY+tJPVlaWsrKyFB0drTlz5mjp0qWSpNTUVGVn\n",
              "Z9v5owEAwGXAtpd+JKlr167avHlzleOLFy++6PqOHTvq1KlTdo4EAAAakHq/mBYAAKA6hAoAADAW\n",
              "oQIAAIxFqAAAAGMRKgAAwFiECgAAMBahAgAAjEWoAAAAYxEqAADAWIQKAAAwFqECAACMRagAAABj\n",
              "ESoAAMBYhAoAADAWoQIAAIxFqAAAAGMRKgAAwFiECgAAMBahAgAAjEWoAAAAYxEqAADAWIQKAAAw\n",
              "FqECAACMRagAAABjESoAAMBYhAoAADAWoQIAAIxFqAAAAGMRKgAAwFiECgAAMBahAgAAjEWoAAAA\n",
              "YxEqAADAWIQKAAAwFqECAACMRagAAABjESoAAMBYhAoAADAWoQIAAIxFqAAAAGMRKgAAwFiECgAA\n",
              "MBahAgAAjEWoAAAAYxEqAADAWIQKAAAwFqECAACMRagAAABjESoAAMBYhAoAADAWoQIAAIxFqAAA\n",
              "AGMRKgAAwFiECgAAMBahAgAAjEWoAAAAYxEqAADAWIQKAAAwFqECAACMRagAAABjESoAAMBYhAoA\n",
              "ADCWraFy4MABJSQkKDo6WnFxccrLy6uyZsOGDYqPj9d1112n7t27a8qUKaqsrLRzLAAA0EDYGirp\n",
              "6emaMGGC9u/fr6lTpyolJaXKmlatWunll1/W3r17tX37dn388cdatmyZnWMBAIAGwrZQKS4uVm5u\n",
              "rsaOHStJSk5OVmFhofLz873W9ezZU506dZIkXXnllYqNjVVBQUG15y0rK1NpaanXze122/UwAABA\n",
              "PbItVAoLC9W2bVsFBARIkhwOhyIiIuRyuar9M0ePHtXKlSs1fPjwatdkZmYqKCjI67Z169Zanx8A\n",
              "ANQ/Yy6mLS0t1YgRIzRlyhT16dOn2nUZGRkqKSnxusXHx9fhpAAAoK4E2HXiDh06qKioSBUVFQoI\n",
              "CJBlWXK5XIqIiKiy9vTp0xoyZIhGjhypSZMm/ex5nU6nnE6n1zF/f/9anR0AAJjBtmdU2rRpo169\n",
              "emn58uWSpFWrVik8PFxRUVFe686cOaMhQ4ZoyJAhevTRR+0aBwAANEC2vvSTlZWlrKwsRUdHa86c\n",
              "OVq6dKkkKTU1VdnZ2ZKkefPmaevWrVq9erViY2MVGxurJ554ws6xAABAA2HbSz+S1LVrV23evLnK\n",
              "8cWLF3u+nj59uqZPn27nGAAAoIEy5mJaAACAnyJUAACAsQgVAABgLEIFAAAYi1ABAADGIlQAAICx\n",
              "CBUAAGAsQgUAABiLUAEAAMYiVAAAgLEIFQAAYCxCBQAAGItQAQAAxiJUAACAsQgVAABgLEIFAAAY\n",
              "i1ABAADGIlQAAICxCBUAAGAsQgUAABiLUAEAAMYiVAAAgLEIFQAAYCxCBQAAGItQAQAAxiJUAACA\n",
              "sQgVAABgLEIFAAAYi1ABAADGIlQAAICxCBUAAGAsQgUAABiLUAEAAMYiVAAAgLEIFQAAYCxCBQAA\n",
              "GItQAQAAxiJUAACAsQgVAABgLEIFAAAYi1ABAADGIlQAAICxCBUAAGAsQgUAABiLUAEAAMYiVAAA\n",
              "gLEIFQAAYCxCBQAAGItQAQAAxiJUAACAsQgVAABgLEIFAAAYi1ABAADGIlQAAICxCBUAAGAsQgUA\n",
              "ABiLUAEAAMYiVAAAgLEIFQAAYCxCBQAAGItQAQAAxrI1VA4cOKCEhARFR0crLi5OeXl5F123ZMkS\n",
              "denSRZ07d1ZaWprOnz9v51gAAKCBsDVU0tPTNWHCBO3fv19Tp05VSkpKlTWHDh3SjBkztGnTJuXn\n",
              "5+vYsWNauHChnWMBAIAGwrZQKS4uVm5ursaOHStJSk5OVmFhofLz873WrVy5UklJSQoLC5PD4dDE\n",
              "iRO1YsWKas9bVlam0tJSr5vb7bbrYQAAgHrksCzLsuPE27dv15133ql9+/Z5jsXHx2vOnDkaMGCA\n",
              "59iDDz6odu3aKSMjQ5K0d+9eDRkyRC6X66LnnTlzpmbNmuV17Nprr9XQoUNrdX63262tW7cqPj5e\n",
              "/v7+tXruyxH75Tv2ynfsle/YK9+xV76ze68iIyP18MMP/+yagFr/qTbLyMjQpEmTvI45nU45nc5a\n",
              "/TmlpaUKCgrSu+++q8DAwFo99+WI/fIde+U79sp37JXv2CvfmbBXtoVKhw4dVFRUpIqKCgUEBMiy\n",
              "LLlcLkVERHiti4iI0MGDBz33CwoKqqz5MTuiBAAAmMm2a1TatGmjXr16afny5ZKkVatWKTw8XFFR\n",
              "UV7rkpOTlZ2draNHj8qyLC1YsEC33367XWMBAIAGxNbf+snKylJWVpaio6M1Z84cLV26VJKUmpqq\n",
              "7OxsSVKnTp00a9Ys9evXT1FRUQoNDVV6erqdYwEAgAbC1mtUunbtqs2bN1c5vnjxYq/7aWlpSktL\n",
              "s3OUGnM6nXrsscd4mclH7Jfv2CvfsVe+Y698x175zoS9su23fgAAAH4t3kIfAAAYi1ABAADGIlQA\n",
              "AICxCBUAAGCsRh8qgwcPVkxMjGJjY3XjjTdq586dF13HJzxf4Mt+FRQUqH///goKClJsbGzdD2kI\n",
              "X/Zqw4YNio+P13XXXafu3btrypQpqqysrIdp65cve7V582bFxsYqNjZW3bt3V3p6usrKyuph2vrl\n",
              "679ZkmRZlgYMGKDg4OC6G9AgvuzVxo0b1bRpU8/frdjYWJ09e7Yepq1fvv692r17t/r3769u3bqp\n",
              "W7duWr16tf3DWY3ct99+6/l69erVVkxMTJU1X375pdW2bVurqKjIqqystEaMGGG98MILdTilOXzZ\n",
              "rxMnTlibNm2y1q5da/Xo0aPuhjOML3u1Y8cO6+DBg5ZlWdbZs2etfv36WUuXLq2jCc3hy1599913\n",
              "Vnl5uWVZluV2u61Ro0ZZzz77bF2NaAxf9uoHc+fOtVJTU62goCD7BzOQL3uVk5PTqP+d+oGv/w1e\n",
              "c8011qZNmyzLsqyKigqruLjY9tka/TMqP/4/jZKSEjkcjipravoJz5czX/ardevWSkxMVPPmzetw\n",
              "MvP4slc9e/ZUp06dJElXXnmlYmNjVVBQUEcTmsOXvWrWrJmaNGkiSSovL9fZs2cvuu5y58teSVJe\n",
              "Xp7WrFmjadOm1dFk5vF1r+DbXr300kvq27evEhMTJUn+/v4KDQ21fbYG96GEdrjrrruUk5MjSXrr\n",
              "rbeqfN/lcikyMtJzv2PHjtV+unNj8Ev7hf9Xk706evSoVq5cqbVr19bFaMbxZa8KCgo0cuRIHTx4\n",
              "UH/4wx9033331eWIxvilvTp//rzS0tK0ZMmSRv/pwL78vTp48KB69eolf39/3X333fy90sX3au/e\n",
              "vXI6nRo+fLiOHDmimJgYzZ071/5Ysf05mwbkxRdftIYOHVrl+AMPPGA9+eSTnvt5eXlWhw4d6nI0\n",
              "I1W3Xz/gKdX/90t7VVJSYvXp08eaO3duHU5lpl/aK8uyrNOnT1sjR460VqxYUUdTmam6vZo+fbr1\n",
              "zDPPWJZlWYcOHWq0L/38WHV7VVJSYp06dcqyLMsqLCy0rr/+euuVV16p6/GMUt1ePfjgg1Z4eLh1\n",
              "5MgRq7Ky0po2bZqVnJxs+zyEyk9ceeWV1vHjx72OPf3001Z6errn/ptvvmn169evrkcz0sX26weE\n",
              "irfq9qq0tNS64YYbrMcff7wepjLTz/29+sGKFSus4cOH19FE5rrYXiUmJloRERFWZGSk1b59e8vh\n",
              "cFiRkZF1cj2ByXz5e/Xkk09aDzzwQB1NZK6L7dUzzzxjjRs3znN/z549Vvv27W2fpVFfo3Lq1Cl9\n",
              "/fXXnvtr1qxRSEiIWrdu7bWOT3i+wNf9gu97debMGQ0ZMkRDhgzRo48+WtdjGsHXvcrPz/f8tl15\n",
              "eblef/11xcTE1Oms9c3Xvdq0aZMOHz6sgoICffjhhwoMDFRBQUGdXE9gCl/3qqioyPObdqdPn9ba\n",
              "tWvVs2fPOp21vvm6V7fddpu2bdum0tJSSRdeHurRo4ft8zXqa1RKSko0ZswYnT17Vn5+fgoNDdXa\n",
              "tWvlcDiUmpqqpKQkJSUleX3CsyT179+/UX7Cs6/79f333ys6OlplZWUqKSlReHi4xo0bp8zMzPp+\n",
              "CHXG172aN2+etm7dqu+++87za35jxozR9OnT6/kR1B1f92rDhg16/vnn5e/vr4qKCg0cOFAzZsyo\n",
              "7/HrlK97Bd/3atWqVfrnP/+pgIAAVVRUaMyYMbr77rvre/w65eteRURE6JFHHlFCQoL8/PzUvn17\n",
              "LVy40Pb5+FBCAABgrEb90g8AADAboQIAAIxFqAAAAGMRKgAAwFiECgAAMBahAgAAjEWoAAAAYxEq\n",
              "AADAWIQKAAAwFqECAACM9X+juMdwHHaX0AAAAABJRU5ErkJggg==\n",
              "\">\n",
              "      </div>\n",
              "      <script type=\"text/javascript\">\n",
              "        (() => {\n",
              "          const chartElement = document.getElementById(\"chart-90c34be6-8411-4375-814c-e5b295fdb11e\");\n",
              "          async function getCodeForChartHandler(event) {\n",
              "            const chartCodeResponse =  await google.colab.kernel.invokeFunction(\n",
              "                'getCodeForChart', [\"chart-90c34be6-8411-4375-814c-e5b295fdb11e\"], {});\n",
              "            const responseJson = chartCodeResponse.data['application/json'];\n",
              "            await google.colab.notebook.addCell(responseJson.code, 'code');\n",
              "          }\n",
              "          chartElement.onclick = getCodeForChartHandler;\n",
              "        })();\n",
              "      </script>\n",
              "      <style>\n",
              "        .colab-quickchart-chart-with-code  {\n",
              "            display: block;\n",
              "            float: left;\n",
              "            border: 1px solid transparent;\n",
              "        }\n",
              "\n",
              "        .colab-quickchart-chart-with-code:hover {\n",
              "            cursor: pointer;\n",
              "            border: 1px solid #aaa;\n",
              "        }\n",
              "      </style>"
            ]
          },
          "metadata": {}
        },
        {
          "output_type": "display_data",
          "data": {
            "text/plain": [
              "from matplotlib import pyplot as plt\n",
              "_df_2['Petal.Length'].plot(kind='hist', bins=20, title='Petal.Length')\n",
              "plt.gca().spines[['top', 'right',]].set_visible(False)"
            ],
            "text/html": [
              "      <div class=\"colab-quickchart-chart-with-code\" id=\"chart-1fb31cc6-3391-4a53-a069-902e2926de65\">\n",
              "        <img style=\"width: 180px;\" src=\"data:image/png;base64,iVBORw0KGgoAAAANSUhEUgAAAioAAAGrCAYAAADuNLxTAAAAOXRFWHRTb2Z0d2FyZQBNYXRwbG90\n",
              "bGliIHZlcnNpb24zLjcuMSwgaHR0cHM6Ly9tYXRwbG90bGliLm9yZy/bCgiHAAAACXBIWXMAAA9h\n",
              "AAAPYQGoP6dpAAAkOklEQVR4nO3de1DVdf7H8dfpUHgFEjVRBEZFTFMuheuqObaNpZZoaIWtbWYg\n",
              "rrnujrYWU1aYGzVjblbrqEF2cccybxGlTbbq4lZqmW5r6wUTEVNpTQUNQeD7+8OfZzxx0SPnC58D\n",
              "z8fMmfF8z5cv7898EZ+eq8OyLEsAAAAGuqaxBwAAAKgNoQIAAIxFqAAAAGMRKgAAwFiECgAAMBah\n",
              "AgAAjEWoAAAAYxEqAADAWIQKAAAwFqECoMG8+eabCg0NbewxPDZx4kRNmDChsccAmiVCBWjGhg4d\n",
              "quuuu05t2rRRQECAbrrpJmVlZV3R1zocDm3YsMGr85gQMnasC8DVI1SAZm7WrFk6c+aMTp48qSee\n",
              "eELJycnatGlTY48FAJIIFQD/z+l0asKECQoODtbXX3+trVu3aujQoQoODlZ4eLhmz56tiooKSVKf\n",
              "Pn0kSaNGjVKbNm00YsQISdL777+vm2++Wddff73at2+vhIQEHTx40Gsz1jWTdOHekFdffVWDBg1S\n",
              "mzZt1LdvX23ZssV1+/nz5zVz5kx16tRJHTp0UFpamgYPHqxnn322znVJUkVFhaZNm6bg4GDdcMMN\n",
              "mj17ttfWBaB2hAoASRf+IX7nnXf0008/6ZZbbtHtt9+uKVOm6Pjx4/rnP/+p7Oxsvfjii5Kk3bt3\n",
              "S5I+/PBDnTlzRuvWrZMktW3bVm+88Yb+97//ac+ePbIsSw888IBX5tu7d2+dM12UmZmpt956S6dO\n",
              "ndLtt9+u3/72t67bMjIytHbtWm3evFmFhYXy9/fX1q1bXbfXti5JWrNmjQYPHqyioiKtXbtWL7zw\n",
              "gjZu3OiVtQGoHaECNHPz5s1TUFCQOnXqpJdffllLly7VqlWrNGrUKCUlJcnPz0/h4eGaNWuWli5d\n",
              "Wuexhg8frujoaDmdTrVv315z5szRl19+qZKSknrP+be//e2KZpo5c6Z69OghPz8/paSkqKCgQMeP\n",
              "H5ckvf3225o5c6aioqLk7++v2bNnq127dlf0/QcNGqSkpCQ5nU79+te/VkxMjLZt21bvdQGom19j\n",
              "DwCgcT322GOaO3eu27Z3331XGzduVFBQkGtbVVWVqqqq6jzW5s2bNWfOHH333Xc6e/asa3tRUZHa\n",
              "tm1brzn3799/RTN17tzZ9efWrVtLkkpKSnTDDTfoyJEjCg8Pd93udDrVtWvXK/r+lx734rG9EWAA\n",
              "6sY9KgCq6dSpkx544AGdOnXKdSkuLtaZM2dc+zgcDrevKS8v1913363hw4dr3759Ki4u1ubNmyVJ\n",
              "lmU1yEyX06VLFx06dMh1vaqqSoWFhW77/HJdABoXoQKgmqlTp2rlypV6//33VV5ersrKSuXl5Wn9\n",
              "+vWufTp16qS9e/e6rpeXl6u0tFTXX3+92rZtqx9++EFPPfXUVX3/c+fOuV3Onz9/RTNdzoMPPqi/\n",
              "/vWv2rdvn8rLyzV37lydOHHCbZ9frgtA4yJUAFQTHx+vTz/9VK+//rq6dOmi4OBgjRs3zu3eiIyM\n",
              "DL344osKCgrS3XffrTZt2igzM1Nz5851vWLm3nvvrfP7PP/8865X2lx05MgRtWzZ0u3y8MMPX9FM\n",
              "l5OWlqa77rpLt956q7p06aLS0lLFxsaqRYsWta4LQONyWN64TxYAfFBFRYVCQkL0yiuvaPz48Y09\n",
              "DoAacI8KgGajpKREH374ocrLy3XmzBk9/vjjqqqqcnu/FABmIVQANBtVVVV67rnn1L59e3Xp0kXb\n",
              "tm3Txx9/7PZKIgBm4aEfAABgLO5RAQAAxiJUAACAsQgVAABgLEIFAAAYq0mEyoIFCxp7BAAAYIMm\n",
              "ESqevDMlAADwHU0iVAAAQNNEqAAAAGMRKgAAwFiECgAAMBahAgAAjEWoAAAAYxEqAADAWIQKAAAw\n",
              "FqECAACMRagAAABjESoAAMBYhAoAADCWraFyxx13qF+/foqJidGtt96qb775psb9srKyFBkZqe7d\n",
              "uyslJUXnz5+3cywAAOAjbA2VFStW6N///rd27typGTNmaOLEidX2OXjwoGbPnq3c3Fzl5eXp+PHj\n",
              "WrJkiZ1jAQAAH2FrqAQFBbn+fPr0aTkcjmr7rFy5UgkJCerUqZMcDoemTJmi5cuX13rMsrIyFRcX\n",
              "u10qKyvtGB8AADQyP7u/we9+9ztt3LhRkvTxxx9Xu72goEDh4eGu6xERESooKKj1eBkZGUpPT3fb\n",
              "NmDAAC9NC8A0EU98ZMtx81+4y5bjAvAu259M+/bbb+vw4cOaO3euHn/88XofLy0tTadPn3a79O/f\n",
              "3wuTAgAA0zTYq34eeughbdy4USdOnHDbHhYWpkOHDrmu5+fnKywsrNbj+Pv7KyAgwO3idDptmxsA\n",
              "ADQe20Ll1KlT+uGHH1zX165dq+DgYLVr185tv7Fjxyo7O1vHjh2TZVlatGiRkpKS7BoLAAD4ENue\n",
              "o3L69Gnde++9Ki0t1TXXXKMOHTooJydHDodDycnJSkhIUEJCgrp166b09HQNGjRIkjR06FClpqba\n",
              "NRYAAPAhDsuyrMYeor5mzJih+fPnN/YYAGzAk2mB5o13pgUAAMYiVAAAgLEIFQAAYCxCBQAAGItQ\n",
              "AQAAxiJUAACAsQgVAABgLEIFAAAYi1ABAADGIlQAAICxCBUAAGAsQgUAABiLUAEAAMYiVAAAgLEI\n",
              "FQAAYCxCBQAAGItQAQAAxiJUAACAsQgVAABgLEIFAAAYi1ABAADGIlQAAICxCBUAAGAsQgUAABiL\n",
              "UAEAAMYiVAAAgLEIFQAAYCxCBQAAGItQAQAAxiJUAACAsQgVAABgLEIFAAAYi1ABAADGIlQAAICx\n",
              "CBUAAGAsQgUAABiLUAEAAMYiVAAAgLEIFQAAYCxCBQAAGItQAQAAxiJUAACAsQgVAABgLEIFAAAY\n",
              "i1ABAADGIlQAAICxCBUAAGAsQgUAABiLUAEAAMYiVAAAgLFsC5Vz585pzJgx6tmzp6KjozVs2DDl\n",
              "5eVV2y8/P19Op1MxMTGuy4EDB+waCwAA+BA/Ow8+efJkjRgxQg6HQ6+99pqSk5O1adOmavu1bdtW\n",
              "O3futHMUAADgg2y7R6VFixYaOXKkHA6HJGnAgAHKz8+v93HLyspUXFzsdqmsrKz3cQEAgHka7Dkq\n",
              "CxYs0OjRo2u87ezZs4qPj1dcXJzmzJlTZ3hkZGQoMDDQ7bJt2za7xgYAAI2oQULl+eefV15enjIy\n",
              "MqrdFhISoiNHjmj79u3asGGDcnNz9dJLL9V6rLS0NJ0+fdrt0r9/fzvHBwAAjcT2UJk3b55Wr16t\n",
              "devWqVWrVtVu9/f3V8eOHSVJ7dq106RJk5Sbm1vr8fz9/RUQEOB2cTqdts0PAAAaj62hMn/+fC1f\n",
              "vlyffvqpgoKCatynqKhI58+fl3Th+SerV69WbGysnWMBAAAfYVuoFBYWaubMmTp16pRuu+02xcTE\n",
              "6Fe/+pUk6emnn9aiRYskSVu2bFFsbKyio6MVFxenTp066cknn7RrLAAA4ENse3lyaGioLMuq8bY5\n",
              "c+a4/pyYmKjExES7xgAAAD6Md6YFAADGIlQAAICxCBUAAGAsQgUAABiLUAEAAMYiVAAAgLEIFQAA\n",
              "YCxCBQAAGItQAQAAxiJUAACAsQgVAABgLEIFAAAYi1ABAADGIlQAAICxCBUAAGAsQgUAABiLUAEA\n",
              "AMYiVAAAgLEIFQAAYCxCBQAAGItQAQAAxiJUAACAsQgVAABgLEIFAAAYi1ABAADGIlQAAICxCBUA\n",
              "AGAsQgUAABiLUAEAAMYiVAAAgLEIFQAAYCxCBQAAGItQAQAAxiJUAACAsQgVAABgLEIFAAAYi1AB\n",
              "AADGIlQAAICxCBUAAGAsQgUAABiLUAEAAMYiVAAAgLEIFQAAYCxCBQAAGItQAQAAxiJUAACAsQgV\n",
              "AABgLEIFAAAYi1ABAADGsi1Uzp07pzFjxqhnz56Kjo7WsGHDlJeXV+O+OTk56tWrlyIjI5WYmKji\n",
              "4mK7xgIAAD7E1ntUJk+erL1792rXrl0aPXq0kpOTq+1z5swZPfLII1q7dq3279+vzp0767nnnrNz\n",
              "LAAA4CNsC5UWLVpo5MiRcjgckqQBAwYoPz+/2n7r1q1TbGysevXqJUmaOnWqli9fbtdYAADAh/g1\n",
              "1DdasGCBRo8eXW17QUGBwsPDXdcjIiJ09OhRVVRUyM+v+nhlZWUqKytz21ZZWen9gQEAQKNrkCfT\n",
              "Pv/888rLy1NGRka9j5WRkaHAwEC3y7Zt27wwJQAAMI3toTJv3jytXr1a69atU6tWrardHhYWpkOH\n",
              "Drmu5+fnKyQkpMZ7UyQpLS1Np0+fdrv079/ftvkBAEDjsTVU5s+fr+XLl+vTTz9VUFBQjfsMHz5c\n",
              "O3bs0J49eyRJCxcuVFJSUq3H9Pf3V0BAgNvF6XTaMT4AAGhktj1HpbCwUDNnzlS3bt102223SboQ\n",
              "GVu3btXTTz+tzp07a8qUKWrbtq0yMzM1ZswYVVRU6KabbtJbb71l11gAAMCH2BYqoaGhsiyrxtvm\n",
              "zJnjdj0hIUEJCQl2jQIAAHwU70wLAACMRagAAABjESoAAMBYhAoAADAWoQIAAIxFqAAAAGMRKgAA\n",
              "wFiECgAAMBahAgAAjEWoAAAAYxEqAADAWIQKAAAwFqECAACMRagAAABjESoAAMBYhAoAADAWoQIA\n",
              "AIxFqAAAAGMRKgAAwFgeh8onn3xixxwAAADVeBwqc+bMUVRUlBYsWKDi4mI7ZgIAAJB0FaHyr3/9\n",
              "S++++67+85//qGfPnpo6daq+++47O2YDAADN3FU9RyU2Nlavv/661q9fr5ycHPXr10/Dhg3Tt99+\n",
              "6+35AABAM3ZVobJhwwaNHj1aiYmJevTRR3Xs2DGlpqbqnnvu8fZ8AACgGfPz9AtuvPFGtW/fXtOn\n",
              "T1diYqKcTqckady4ccrKyvL6gAAAoPnyOFSWLVumm2++ucbb1q1bV++BAAAALvL4oZ+vv/5aP/30\n",
              "k+v6iRMn9Prrr3t1KAAAAOkqQmXhwoVq166d63pwcLAWLlzo1aEAAACkqwgVy7KqbausrPTKMAAA\n",
              "AJfyOFRCQkK0YsUK1/X33ntPISEhXh0KAABAuoon07788ssaPXq0Zs2aJUlq1aqVPvjgA68PBgAA\n",
              "4HGo9OrVS99995327t0rSYqKinK9RBkAAMCbPA4VSXI4HAoKClJFRYWOHDkiSQoLC/PqYAAAAB6H\n",
              "yptvvqnp06fr2muv1TXXXHiKi8PhUFFRkdeHAwAAzZvHofLcc89p+/btioqKsmMeAAAAF49f9dO+\n",
              "fXsiBQAANAiPQ2XMmDF6+eWXVVRUpOLiYtcFAADA2zx+6OfJJ5+UJM2YMUMOh0OWZcnhcPCmbwAA\n",
              "wOs8DpWqqio75gAAAKjG44d+pAsfTPjOO+9Ikk6dOqWjR496dSgAAADpKj+UcNKkSXr22WclXfj0\n",
              "5AceeMDbcwEAAHgeKkuWLNGXX36pgIAASVL37t31448/en0wAAAAj0PF399fLVu2dNvm53dVb3AL\n",
              "AABQJ49DpUOHDtq3b58cDoekC+9Uy9vnAwAAO1zVpyePHz9ee/bsUdeuXRUQEKCcnBw7ZgMAAM2c\n",
              "x6HSo0cPbd26VXv37pVlWXx6MgAAsI3HoVJQUCBJat26tSTx6ckAAMA2HofKzTff7HpH2nPnzunn\n",
              "n39WcHAwn54MAAC8zuNQ+eVLkVevXq1du3Z5bSAAAICLruqdaS+VmJiojz76yBuzAAAAuPE4VC79\n",
              "xOSTJ09q/fr1tX568vTp0xURESGHw6GdO3fWuM+mTZvUsmVLxcTEuC6lpaWejgUAAJogjx/6CQoK\n",
              "cj1Hxel0KjIyUq+88kqN+44bN06zZs3S4MGD6zxmVFRUrSEDAACaL1s/PXnIkCGeHv6yysrKVFZW\n",
              "5ratsrLS698HAAA0vno/R8UbDhw4oLi4OMXHx2vhwoV17puRkaHAwEC3y7Zt2xpoUgAA0JA8DpVr\n",
              "rrlGTqez2uXidk/FxcWpsLBQO3bs0Jo1a7Ro0SKtWLGi1v3T0tJ0+vRpt0v//v09/r4AAMB8Hj/0\n",
              "M2fOHJWWlur3v/+9JGnRokVq2bKl/vSnP13VABc/hVmSQkNDNX78eOXm5uq+++6rcX9/f3/5+/u7\n",
              "beOdcQEAaJo8vkdlzZo1+stf/qLQ0FCFhoZq7ty5Wr16tVq3bu16t1pPHD161PW8l5KSEuXk5Cg2\n",
              "Ntbj4wAAgKbH41ApKSlxexfaoqIilZSU1LhvamqqQkNDVVhYqDvvvFM9evSQJCUnJys7O1uStGrV\n",
              "KvXt21fR0dEaMGCAhg0bpocffvhq1gIAAJoYjx/6mTlzpqKjozVy5EhJ0vr16/Xss8/WuO/ixYtr\n",
              "3J6Zmen687Rp0zRt2jRPxwAAAM2Ax6GSmpqqQYMGaePGjZKkGTNmqE+fPl4fDAAAwONQkaTg4GD1\n",
              "7dtXQ4cOVUVFhcrLy3Xdddd5ezYAANDMefwclZUrV2rAgAGu55Hs3r1bY8aM8fZcAAAAnodKRkaG\n",
              "duzYoaCgIElSdHS0Dh065O25AAAAPA8Vp9Op4OBgt2087AMAAOzgcai0bdtWx48fl8PhkCR99tln\n",
              "ateundcHAwAA8PjJtC+++KJGjBih77//XoMHD9bBgwf10Ucf2TEbAABo5jwKlaqqKlVWVmrjxo36\n",
              "/PPPZVmWBg4c6Hq+CgAAgDd5FCrXXHONJk+erF27dmnEiBF2zQQAACDpKp6jEhkZqby8PDtmAQAA\n",
              "cOPxc1R++uknxcTEaODAgWrTpo1r++rVq706GAAAwBWHyuTJk7VkyRI99NBDSkhI0PXXX2/nXAAA\n",
              "AFceKl999ZUk6aGHHlJcXJx27Nhh21AAAADSVTxHRZIsy/L2HAAAANVc8T0qpaWl+vbbb2VZls6d\n",
              "O+f680X9+vWzZUAAANB8eRQqCQkJruuX/tnhcOj777/37mQAAKDZu+JQyc/Pt3EMAACA6q7qOSoA\n",
              "AAANgVABAADGIlQAAICxCBUAAGAsQgUAABiLUAEAAMYiVAAAgLEIFQAAYCxCBQAAGItQAQAAxiJU\n",
              "AACAsQgVAABgLEIFAAAYi1ABAADGIlQAAICxCBUAAGAsQgUAABiLUAEAAMYiVAAAgLEIFQAAYCxC\n",
              "BQAAGItQAQAAxiJUAACAsQgVAABgLEIFAAAYi1ABAADGIlQAAICxCBUAAGAsQgUAABiLUAEAAMYi\n",
              "VAAAgLEIFQAAYCxCBQAAGMvWUJk+fboiIiLkcDi0c+fOWvfLyspSZGSkunfvrpSUFJ0/f97OsQAA\n",
              "gI+wNVTGjRunLVu2KDw8vNZ9Dh48qNmzZys3N1d5eXk6fvy4lixZYudYAADAR9gaKkOGDFFoaGid\n",
              "+6xcuVIJCQnq1KmTHA6HpkyZouXLl9e6f1lZmYqLi90ulZWV3h4dAAAYwK+xBygoKHC7xyUiIkIF\n",
              "BQW17p+RkaH09HS3bQMGDLBltognPrLluJKU/8Jdth0bAND82PVvVmP/e+VzT6ZNS0vT6dOn3S79\n",
              "+/dv7LEAAIANGv0elbCwMB04cMB1PT8/X2FhYbXu7+/vL39/f7dtTqfTtvkAAEDjafR7VMaOHavs\n",
              "7GwdO3ZMlmVp0aJFSkpKauyxAACAAWwNldTUVIWGhqqwsFB33nmnevToIUlKTk5Wdna2JKlbt25K\n",
              "T0/XoEGD1KNHD3Xo0EGpqal2jgUAAHyErQ/9LF68uMbtmZmZbtdTUlKUkpJi5ygAAMAHNfpDPwAA\n",
              "ALUhVAAAgLEIFQAAYCxCBQAAGItQAQAAxiJUAACAsQgVAABgLEIFAAAYi1ABAADGIlQAAICxCBUA\n",
              "AGAsQgUAABiLUAEAAMYiVAAAgLEIFQAAYCxCBQAAGItQAQAAxiJUAACAsQgVAABgLEIFAAAYi1AB\n",
              "AADGIlQAAICxCBUAAGAsQgUAABiLUAEAAMYiVAAAgLEIFQAAYCxCBQAAGItQAQAAxiJUAACAsQgV\n",
              "AABgLEIFAAAYi1ABAADGIlQAAICxCBUAAGAsQgUAABiLUAEAAMYiVAAAgLEIFQAAYCxCBQAAGItQ\n",
              "AQAAxiJUAACAsQgVAABgLEIFAAAYi1ABAADGIlQAAICxCBUAAGAsQgUAABiLUAEAAMayNVT279+v\n",
              "gQMHqmfPnoqPj9fu3bur7bNp0ya1bNlSMTExrktpaamdYwEAAB/hZ+fBU1NTNXnyZE2cOFErV67U\n",
              "xIkTtX379mr7RUVFaefOnXaOAgAAfJBt96gUFRXpq6++0oQJEyRJY8eO1eHDh5WXl2fXtwQAAE2M\n",
              "baFy+PBhhYSEyM/vwp02DodDYWFhKigoqLbvgQMHFBcXp/j4eC1cuLDO45aVlam4uNjtUllZacsa\n",
              "AABA47L1oZ8rERcXp8LCQgUGBqqwsFAjR45U+/btdd9999W4f0ZGhtLT0922DRgwoCFGBQAADcy2\n",
              "e1S6du2qo0ePqqKiQpJkWZYKCgoUFhbmtl9AQIACAwMlSaGhoRo/frxyc3NrPW5aWppOnz7tdunf\n",
              "v79dywAAAI3ItlDp2LGj4uLitGzZMknSqlWrFBoaqh49erjtd/ToUVVVVUmSSkpKlJOTo9jY2FqP\n",
              "6+/vr4CAALeL0+m0axkAAKAR2fry5MWLF2vx4sXq2bOnXnjhBS1dulSSlJycrOzsbEkXAqZv376K\n",
              "jo7WgAEDNGzYMD388MN2jgUAAHyErc9RiYqK0hdffFFte2ZmpuvP06ZN07Rp0+wcAwAA+CjemRYA\n",
              "ABiLUAEAAMYiVAAAgLEIFQAAYCxCBQAAGItQAQAAxiJUAACAsQgVAABgLEIFAAAYi1ABAADGIlQA\n",
              "AICxCBUAAGAsQgUAABiLUAEAAMYiVAAAgLEIFQAAYCxCBQAAGItQAQAAxiJUAACAsQgVAABgLEIF\n",
              "AAAYi1ABAADGIlQAAICxCBUAAGAsQgUAABiLUAEAAMYiVAAAgLEIFQAAYCxCBQAAGItQAQAAxiJU\n",
              "AACAsQgVAABgLEIFAAAYi1ABAADGIlQAAICxCBUAAGAsQgUAABiLUAEAAMYiVAAAgLEIFQAAYCxC\n",
              "BQAAGItQAQAAxiJUAACAsQgVAABgLEIFAAAYi1ABAADGIlQAAICxCBUAAGAsQgUAABiLUAEAAMay\n",
              "NVT279+vgQMHqmfPnoqPj9fu3btr3C8rK0uRkZHq3r27UlJSdP78eTvHAgAAPsLWUElNTdXkyZO1\n",
              "b98+Pf7445o4cWK1fQ4ePKjZs2crNzdXeXl5On78uJYsWWLnWAAAwEfYFipFRUX66quvNGHCBEnS\n",
              "2LFjdfjwYeXl5bntt3LlSiUkJKhTp05yOByaMmWKli9fXutxy8rKVFxc7HaprKy0axkAAKAR+dl1\n",
              "4MOHDyskJER+fhe+hcPhUFhYmAoKCtSjRw/XfgUFBQoPD3ddj4iIUEFBQa3HzcjIUHp6utu2Xr16\n",
              "acaMGV6dv7KyUiHbtql///5yOp1ePbYkzZjxmdeP6anKykpts3GNjY31+T47/x7yd7BhNPU1mrS+\n",
              "RBuOWVlZqV//eq5t6wsPD9cf//jHOvexLVTskpaWVi1K/P395e/v79XvU1xcrMDAQH3yyScKCAjw\n",
              "6rFN0dTXyPp8X1NfY1Nfn9T018j67GdbqHTt2lVHjx5VRUWF/Pz8ZFmWCgoKFBYW5rZfWFiYDhw4\n",
              "4Lqen59fbZ9L2RElAADATLY9R6Vjx46Ki4vTsmXLJEmrVq1SaGio28M+0oXnrmRnZ+vYsWOyLEuL\n",
              "Fi1SUlKSXWMBAAAfYuurfhYvXqzFixerZ8+eeuGFF7R06VJJUnJysrKzsyVJ3bp1U3p6ugYNGqQe\n",
              "PXqoQ4cOSk1NtXMsAADgI2x9jkpUVJS++OKLatszMzPdrqekpCglJcXOUTzm7++vZ555pkk/zNTU\n",
              "18j6fF9TX2NTX5/U9NfI+uznsCzLarTvDgAAUAfeQh8AABiLUAEAAMYiVAAAgLEIFQAAYKxmESrT\n",
              "p09XRESEHA6Hdu7cWeM+X3zxhWJiYhQTE6M+ffooNTVVZWVlrtvr+oTnxv705/qu7x//+If69++v\n",
              "3r17q0+fPpo1a5aqqqokXXgDPqfT6framJgYtzfoawj1Xd+mTZvUsmVLtzWUlpa6vraxz59U/zUu\n",
              "XbrUbX3t27dXYuKFN9T2lXN4kWVZ+s1vfqOgoCC37Tk5OerVq5ciIyOVmJio4uLiK7qtIdR3fd9+\n",
              "+62GDBmiXr166aabbtKkSZPcfkYdDof69u3rOn+5ubk2raR29V3j5X4Off0cfvLJJ25r69y5s+Li\n",
              "4ly3+8o5rM/vS9t+l1rNwObNm63Dhw9b4eHh1jfffFPjPmfPnrXKy8sty7KsyspKa8yYMdb8+fMt\n",
              "y7Ks77//3goJCbGOHj1qVVVVWaNGjbJee+21y97WUOq7vh07dlgHDhywLMuySktLrUGDBllLly61\n",
              "LMuyDh48aAUGBtq9hDrVd30bN260oqOja/w6E86fZdV/jb/Up08fa+XKlZZl+c45vOill16ykpOT\n",
              "3WYuKSmxOnbsaP33v/+1LMuyHn30Ueuxxx677G0Npb7r27dvn7Vr1y7LsiyroqLCuu+++6xnnnnG\n",
              "dbsk6+TJk94f3AP1XWNdP4dN4Rz+0l133WXNmzfPdd1XzuHV/r6083dps7hHZciQIQoNDa1zn1at\n",
              "Wunaa6+VJJWXl6u0tFQOh0NS3Z/w7OmnP9uhvuuLjY1Vt27dJEktWrRQTEyM8vPzbZ3ZE/VdX11M\n",
              "OH+Sd9e4detWFRUVKSEhwZZZr8aVrE+Sdu/erbVr1+qJJ55w275u3TrFxsaqV69ekqSpU6e6zlNd\n",
              "tzWU+q4vMjJS/fr1kyQ5nU7Fx8cb9XdQqv8a69IUzuGlfvjhB3322Wd68MEHvTlivV3pGmvTWP8W\n",
              "NotQuVL5+fmKjo5W+/btFRgYqKlTp0qq+xOePf3058ZU2/oudezYMa1cuVJ33323a9vZs2cVHx+v\n",
              "uLg4zZkzR5WVlQ059hWra30HDhxQXFyc4uPjtXDhQtd2Xzp/0pWdw6ysLD344IOuqJF84xyeP39e\n",
              "KSkpWrx4cbVPaa3pPF38LLG6bjNJXeu71NmzZ5WZmanRo0e7bb/99tsVHR2tGTNm6OzZs3aPe1Uu\n",
              "t8bafg6b2jl88803NXLkSHXs2NFtuy+cQ+nqfl/a+buUULlERESEdu3apWPHjqmsrEyrV69u7JG8\n",
              "6nLrKy4u1qhRozRr1izdcsstkqSQkBAdOXJE27dv14YNG5Sbm6uXXnqpMca/rNrWFxcXp8LCQu3Y\n",
              "sUNr1qzRokWLtGLFikae9upc7hyePXtW7777rh555BHXNl85h+np6UpMTNSNN97Y2KPY4krWV15e\n",
              "rvvvv1933HGH7rnnHtf2Q4cO6euvv9bnn3+uH3/8UX/+858bYmSP1bVGX/k5rMuVnEPLsvTGG2+4\n",
              "/R2UfOccmvj7klCpQZs2bZSUlKS///3vki58wvOhQ4dct1/6Cc913WaqX65PkkpKSjR8+HCNHj1a\n",
              "M2bMcG339/d3/a+gXbt2mjRpUqM8CcwTv1xfQECAAgMDJUmhoaEaP368aw2+eP6kms+hJL3//vvq\n",
              "06ePevfu7drmK+dw8+bNevXVVxUREaHBgweruLhYERER+vHHH2s8TyEhIfLz86vzNpPUtT7pwv/W\n",
              "77//foWEhGjBggVuX3vxZ7J169aaOnWqkedPqnuNdf0cNpVzeHGfc+fO6c4773T7Wl85h1f7+9LO\n",
              "36WEyv/Ly8tzPUO5vLxca9ascT1mXNcnPPvKpz/Xtb4zZ85o+PDhGj58uJ566im3rysqKnJ93cX/\n",
              "wcfGxjbs8FegrvUdPXrU9SqmkpIS5eTkuNbgK+dPqnuNF2VlZVX7n5yvnMPc3FwdOnRI+fn52rJl\n",
              "iwICApSfn68OHTpo+PDh2rFjh/bs2SNJWrhwoes81XWbSepaX0VFhZKSktSuXTstWbLE7blHJ0+e\n",
              "1M8//yxJqqqq0nvvvWfk+ZPqXmNdP4dN4RxelJWVpYkTJ7o9NORL5/Bqf1/a+rvUK0/JNdzkyZOt\n",
              "Ll26WE6n0+rYsaPVvXt3y7Is65FHHrE++OADy7Isa/HixVafPn2sfv36Wb1797b+8Ic/WKWlpa5j\n",
              "LFmyxOrWrZvVrVs3a9KkSa5XX1zuNl9Y39y5cy0/Pz8rOjradZk7d65lWZa1atUqt6+bNm2ade7c\n",
              "OZ9a36uvvmr17t3bddszzzxjVVVVuY7f2OfPG2u0LMvas2eP1aZNG6u4uNjt2L5yDi9V0ytEPvjg\n",
              "AysqKsrq3r27NXr0aOvUqVNXdFtDqO/6li1bZkmy+vXr5/o7OHXqVMuyLOvzzz+3+vbt6zp/EyZM\n",
              "sE6cONEg67pUfdd4uZ9DXz+HlmVZp06dslq1auV6FeVFvnQO6/P70q7fpXwoIQAAMBYP/QAAAGMR\n",
              "KgAAwFiECgAAMBahAgAAjEWoAAAAYxEqAADAWIQKAAAwFqECAACMRagAAABjESoAAMBY/wc0ORW4\n",
              "/hOCjwAAAABJRU5ErkJggg==\n",
              "\">\n",
              "      </div>\n",
              "      <script type=\"text/javascript\">\n",
              "        (() => {\n",
              "          const chartElement = document.getElementById(\"chart-1fb31cc6-3391-4a53-a069-902e2926de65\");\n",
              "          async function getCodeForChartHandler(event) {\n",
              "            const chartCodeResponse =  await google.colab.kernel.invokeFunction(\n",
              "                'getCodeForChart', [\"chart-1fb31cc6-3391-4a53-a069-902e2926de65\"], {});\n",
              "            const responseJson = chartCodeResponse.data['application/json'];\n",
              "            await google.colab.notebook.addCell(responseJson.code, 'code');\n",
              "          }\n",
              "          chartElement.onclick = getCodeForChartHandler;\n",
              "        })();\n",
              "      </script>\n",
              "      <style>\n",
              "        .colab-quickchart-chart-with-code  {\n",
              "            display: block;\n",
              "            float: left;\n",
              "            border: 1px solid transparent;\n",
              "        }\n",
              "\n",
              "        .colab-quickchart-chart-with-code:hover {\n",
              "            cursor: pointer;\n",
              "            border: 1px solid #aaa;\n",
              "        }\n",
              "      </style>"
            ]
          },
          "metadata": {}
        },
        {
          "output_type": "display_data",
          "data": {
            "text/plain": [
              "<google.colab._quickchart_helpers.SectionTitle at 0x7f0f611038b0>"
            ],
            "text/html": [
              "<h4 class=\"colab-quickchart-section-title\">2-d distributions</h4>\n",
              "<style>\n",
              "  .colab-quickchart-section-title {\n",
              "      clear: both;\n",
              "  }\n",
              "</style>"
            ]
          },
          "metadata": {}
        },
        {
          "output_type": "display_data",
          "data": {
            "text/plain": [
              "from matplotlib import pyplot as plt\n",
              "_df_3.plot(kind='scatter', x='Sepal.Length', y='Sepal.Width', s=32, alpha=.8)\n",
              "plt.gca().spines[['top', 'right',]].set_visible(False)"
            ],
            "text/html": [
              "      <div class=\"colab-quickchart-chart-with-code\" id=\"chart-4b79e76e-fd07-440f-a568-7ad1a670915e\">\n",
              "        <img style=\"width: 180px;\" src=\"data:image/png;base64,iVBORw0KGgoAAAANSUhEUgAAAioAAAGkCAYAAAAfYg6GAAAAOXRFWHRTb2Z0d2FyZQBNYXRwbG90\n",
              "bGliIHZlcnNpb24zLjcuMSwgaHR0cHM6Ly9tYXRwbG90bGliLm9yZy/bCgiHAAAACXBIWXMAAA9h\n",
              "AAAPYQGoP6dpAAApiUlEQVR4nO3df3RU9YH//9dkJkyQECAhyAKSAArywxB+yIZC5IeWRZFQddOi\n",
              "QqAVC+uq1eweWaq0RNnD6dqiooelrFYXwg9RIGuz4PaoobKFAJUACmu3WMIPYyAEMvlBMslM7vcP\n",
              "vszH2SSQQO7MO8nzcc6cw9z7zp0X78PRV+593zsOy7IsAQAAGCgi3AEAAACaQlEBAADGoqgAAABj\n",
              "UVQAAICxKCoAAMBYFBUAAGAsigoAADAWRQUAABirXRSV1157LdwRAACADdpFUTl58mS4IwAAABu0\n",
              "i6ICAADaJ4oKAAAwFkUFAAAYi6ICAACMRVEBAADGoqgAAABjUVQAAICxKCoAAMBYFBUAAGAsigoA\n",
              "ADAWRQUA0ObU1Pl1vtKrmjp/uKPAZq5wBwAAoLlKKrzKzi/Uh1+cVXWdX50jnbp3RG/NGZ+gntHu\n",
              "cMeDDWw9ozJt2jQlJSUpOTlZqampKigoaHTc559/rsmTJ2vo0KEaOnSotm3bZmcsAEAbVFLh1VOb\n",
              "CrRh3ylVeX1yRThU5fUpe99JPbmxQOcrveGOCBvYekZly5Yt6t69uyRp+/btmj9/vg4fPhw05tKl\n",
              "S5o1a5bWrVuniRMnyu/368KFC3bGAgC0Qdn5hTp+rkLx0W65nJd/z+7ilnz+eh0/V6HsvSf1zHcH\n",
              "hzklWputZ1SulBRJ8ng8cjgcDcZs3LhRKSkpmjhxoiTJ6XQqPj6+yWN6vV6Vl5cHvfx+rlECQHtW\n",
              "U+fXh1+cVZTLGSgpV7icEXK7nNp5tJg1K+2Q7YtpMzIydMstt2jp0qVav359g/3Hjh2T2+3W/fff\n",
              "r+TkZGVkZKikpKTJ461YsULdunULeu3fv9/OvwIAIMwqvT5V1/nVydX4/7bcrghV1/pV6fWFOBns\n",
              "ZntRWbdunU6fPq3ly5dr8eLFDfb7fD599NFH+vWvf62CggL17dtXf/d3f9fk8ZYsWSKPxxP0Gjdu\n",
              "nJ1/BQBAmEW7Xeoc6VStr77R/V5fvTp3cirazT0i7U3Ibk+eN2+e8vLyVFpaGrS9f//+mjJlivr2\n",
              "7SuHw6E5c+YoPz+/yeO43W7FxMQEvZxOp93xAQBhFBXp1PQRN6vG55fPH1xWfP56eX1+3Tu8t6Ii\n",
              "+f9Be2NbUSkrK1NRUVHgfU5OjuLi4hQbGxs07vvf/74OHDig8vJySdKOHTs0cuRIu2IBANqoueMT\n",
              "dWuvriqp9OpCVa2qvD5dqKpVSaVXt/XqqjnjE8IdETaw7RyZx+NRenq6qqurFRERofj4eOXm5srh\n",
              "cGjBggVKS0tTWlqa+vfvr5/+9Kf6zne+o4iICPXt21dr1661KxYAoI3qGe3WG4+MUvbek9p5tFjV\n",
              "tX5FR7mUPrwfz1FpxxyWZVnhDnGjMjMztXLlynDHAACESE3d5YWz0W4Xl3vaOVYdAQDanKhIJwWl\n",
              "g+C7fgAAgLEoKgAAwFgUFQAAYCyKCgAAMBZFBQAAGIuiAgAAjEVRAQAAxqKoAAAAY1FUAACAsSgq\n",
              "AADAWBQVAABgLIoKAAAwFkUFAAAYi6ICAACMRVEBAADGoqgAAABjUVQAAICxKCoAAMBYFBUAAGAs\n",
              "igoAADAWRQUAABiLogIAAIxFUQEAAMaiqAAAAGNRVAAAgLEoKgAAwFgUFQAAYCyKCgAAMBZFBQAA\n",
              "GIuiAgAAjEVRAQAAxqKoAAAAY1FUAACAsSgqAADAWBQVAABgLIoKAAAwFkUFAAAYi6ICAACMRVEB\n",
              "AADGoqgAAABjUVQAAICxKCoAAMBYFBUAAGAsigoAADAWRQUAADSqps6v85Ve1dT5w5bBFbZPBgAA\n",
              "Riqp8Co7v1AffnFW1XV+dY506t4RvTVnfIJ6RrtDmsXWMyrTpk1TUlKSkpOTlZqaqoKCggZjdu3a\n",
              "pc6dOys5OTnwqq6utjMWAABoQkmFV09tKtCGfadU5fXJFeFQlden7H0n9eTGAp2v9IY0j61nVLZs\n",
              "2aLu3btLkrZv36758+fr8OHDDcYNGTJEhw4dsjMKAABohuz8Qh0/V6H4aLdczsvnM7q4JZ+/XsfP\n",
              "VSh770k9893BIctj6xmVKyVFkjwejxwOxw0f0+v1qry8POjl94fv2hkAAO1FTZ1fH35xVlEuZ6Ck\n",
              "XOFyRsjtcmrn0eKQrlmxfTFtRkaGbrnlFi1dulTr169vdMxXX32l0aNH684779Tq1auverwVK1ao\n",
              "W7duQa/9+/fbER0AgA6l0utTdZ1fnVyN1wO3K0LVtX5Ven0hy2R7UVm3bp1Onz6t5cuXa/HixQ32\n",
              "jx49WmfOnNHBgwe1fft2rVmzRlu2bGnyeEuWLJHH4wl6jRs3zs6/AgAAHUK026XOkU7V+uob3e/1\n",
              "1atzJ6ei3aG7FydktyfPmzdPeXl5Ki0tDdoeExOjbt26SZL69eunhx9+WLt3727yOG63WzExMUEv\n",
              "p9Npa3YAADqCqEinpo+4WTU+v3z+4LLi89fL6/Pr3uG9FRUZuv/v2lZUysrKVFRUFHifk5OjuLg4\n",
              "xcbGBo375ptvVF9/eTIqKiqUm5urUaNG2RULAABcxdzxibq1V1eVVHp1oapWVV6fLlTVqqTSq9t6\n",
              "ddWc8QkhzWPbuRuPx6P09HRVV1crIiJC8fHxys3NlcPh0IIFC5SWlqa0tDRt3bpV//qv/yqXyyWf\n",
              "z6f09HT98Ic/tCsWAAC4ip7Rbr3xyChl7z2pnUeLVV3rV3SUS+nD+4XlOSoOy7KskH6iDTIzM7Vy\n",
              "5cpwxwAAoF2pqbu8cDba7Qrp5Z5v48m0AACgUVGRzrAVlCv4rh8AAGAsigoAADAWRQUAABiLogIA\n",
              "AIxFUQEAAMaiqAAAAGNRVAAAgLEoKgAAwFgUFQAAYCyKCgAAMBZFBQAAGIuiAgAAjEVRAQAAxqKo\n",
              "AAAAY1FUAACAsSgqAADAWBQVAABgLIoKAAAwFkUFAAAYi6ICAACMRVEBAADGoqgAAABjUVQAAICx\n",
              "KCoAAMBYFBUAAGAsigoAADAWRQUAABiLogIAAIxFUQEAAMaiqAAAAGNRVAAAgLEoKgAAwFgUFQAA\n",
              "YCyKCgAAMBZFBQAAGIuiAgAAjEVRAQAAxqKoAAAAY1FUAACAsSgqAADAWBQVAABgLIoKAAAwFkUF\n",
              "AAAYi6ICAACMRVEBAADGoqgAAABj2VpUpk2bpqSkJCUnJys1NVUFBQVNjrUsS1OnTlX37t3tjAQA\n",
              "ANoQl50H37JlS6B4bN++XfPnz9fhw4cbHfvKK69o0KBBOnjwoJ2RAABAG2LrGZVvnx3xeDxyOByN\n",
              "jjt69KhycnL0T//0T9c8ptfrVXl5edDL7/e3VmQAAGAQW8+oSFJGRoby8vIkSTt27Giwv66uTo8/\n",
              "/rjeeustOZ3Oax5vxYoVysrKCtqWkpLSOmEBAIBRbF9Mu27dOp0+fVrLly/X4sWLG+zPysrSgw8+\n",
              "qKFDhzbreEuWLJHH4wl6jRs3rrVjAwAAAzgsy7JC9WGdO3fWmTNnFBcXF9iWmpqqU6dOyeFwyOfz\n",
              "qaioSP3799eBAwcUHx/frONmZmZq5cqVdsUGAABhYtuln7KyMl26dEl9+vSRJOXk5CguLk6xsbFB\n",
              "43bv3h34c2FhoZKTk1VYWGhXLAAA0IbYVlQ8Ho/S09NVXV2tiIgIxcfHKzc3Vw6HQwsWLFBaWprS\n",
              "0tLs+ngAANAOhPTSj1249AMAQPvEk2kBAICxKCoAAMBYFBUAAGAsigoAADAWRQUAABiLogIAAIxF\n",
              "UQEAAMaiqAAAAGNRVAAAgLEoKgAAwFgUFQAAYCyKCgAAMBZFBQAAGIuiAgAAjEVRAQAAxqKoAAAA\n",
              "Y1FUAACAsSgqAADAWBQVAABgLNf1/FB9fb2Ki4vl8/kC2/r3799qoQAAAKTrKCrvvPOOnn76aUVG\n",
              "Rioi4vIJGYfDoXPnzrV6OAAA0LG1uKi89NJLOnDggIYMGWJHHgAAgIAWr1Hp2bMnJQUAAIREs4tK\n",
              "eXm5ysvL9b3vfU+vvvqqzp07F9hWXl5uZ0YAANBBNfvST/fu3eVwOGRZliQpMzMz8N7hcMjv99sW\n",
              "EgAAdEzNLir19fV25gAAAGigxWtUnnjiiWZtAwAAuFEtLir5+fkNtu3Zs6dVwgAAAHxbsy/9vPvu\n",
              "u9q8ebNOnDihBx98MLDd4/EoOjralnAAAKBja3ZRuf322zVr1iwdPHhQs2bNCmyPiYnR3XffbUs4\n",
              "AADQsTW7qIwcOVIjR47UjBkzFB8fb2cmAAAASS0oKj/84Q/lcDia3P+b3/ymVQIBAABc0ezFtGPH\n",
              "jtWYMWPUqVMn5efna+DAgRo0aJD2798vt9ttZ0YAANBBNfuMyt///d9Lku666y7l5+crJiZGkvTU\n",
              "U0/p/vvvtycdAADo0Fp8e3JJSUmgpEiXF9OWlJS0aigAAADpOr49eeTIkZo/f74ee+wxSdLbb7+t\n",
              "kSNHtnowAACAFp9RefPNNxUfH69nnnlGzzzzjOLj4/Xmm2/akQ0AAHRwLT6jEh0drZdfftmOLAAA\n",
              "AEGaXVQ2bdqkhx9+WKtWrWp0/9NPP91qoQAAAKQWFJUvv/xSklRQUNBg39WerwIAAHC9ml1U5s+f\n",
              "L+ny4lkAAIBQaNEj9OPi4jRlyhRNnTpVU6dOVZ8+fezMBgAAOrhm3/Vz8eJFbdq0SYMHD9b69es1\n",
              "ZMgQDRkyRIsWLdJ7771nZ0YAANBBOSzLsq7nB30+nzZv3qyXXnpJx48fl9/vb+1szZaZmamVK1eG\n",
              "7fMBAIA9WnR78qlTp7Rr1y7l5eVpz5496tWrl/72b/9WkyZNsisfAADowJpdVAYMGKCePXtqxowZ\n",
              "ysjI0OrVq9W5c2c7swEAgA6u2UXl7rvv1h/+8Af97ne/U21trerq6jRx4kTddNNNduYDAAAdWLMX\n",
              "07755pv6n//5H23ZskVDhw7Vu+++q9GjR2vChAl6/vnnG/2ZadOmKSkpScnJyUpNTW30GSx79+5V\n",
              "cnKykpOTNXz4cC1cuFBer/f6/0YAAKDduK7FtD6fT/n5+crLy1N2dnaTi2nLysrUvXt3SdL27du1\n",
              "bNkyHT58OGjMpUuXFBkZqcjISNXX1+uhhx7SXXfdpWeffbbZeVhMCwBA+9TsSz979uzRrl27tGvX\n",
              "Lu3Zs0d9+/bVlClTlJWVpcmTJzf6M1dKiiR5PJ5Gn2D77UtHtbW1qq6uvuqTbr1eb4MzLuG84wgA\n",
              "ANin2WdUBg4cqKlTp2ry5MmaMmWK+vbt26wPyMjIUF5eniRpx44duuOOOxqMKSws1KxZs/TVV19p\n",
              "xowZWr9+vTp16tTo8ZYtW6asrKygbSkpKdq7d2+z8gAAgLbjup+j0lL//u//rnfffVc7duxockxl\n",
              "ZaXmzJmj2bNna/bs2Y2OaeyMytKlS/Xaa6+1al4AABB+zV5MezW5ubnXHDNv3jzl5eWptLS0yTHR\n",
              "0dGaPXu2NmzY0OQYt9utmJiYoJfT6byu3AAAwGytUlT+4z/+o8G2srIyFRUVBd7n5OQoLi5OsbGx\n",
              "QeOOHz+uuro6SZfXqGzfvl1JSUmtEQsAALRxLXoybVP+7d/+rcE2j8ej9PR0VVdXKyIiQvHx8crN\n",
              "zZXD4dCCBQuUlpamtLQ0ffLJJ1q1apWcTqd8Pp/uvvtuLV26tDViAQCANi5ka1TsxO3JAAC0T80+\n",
              "o9KjR49Gbxu2LEsOh0MXLlxo1WAAAADNLiqHDh2yMQYAAEBDzS4qCQkJduYAAABooMWLac+dO6ef\n",
              "//znOnz4sGpqagLbDx482KrBAAAAWnx78mOPPabExESdP39eWVlZ6tOnj2bMmGFHNgAA0MG1uKic\n",
              "Pn1aixcvltvt1syZM7Vt2zZ99NFHdmQDAAAdXIuLypXv4ImKilJpaalcLpfOnz/f6sEAAABavEZl\n",
              "8ODBKi0t1Zw5c/TXf/3XiomJ0ZgxY+zIBgAAOrgWF5Xs7GxJ0k9+8hONHTtWFy9e1PTp01s9GAAA\n",
              "wHU9Qv/UqVP69NNP5XA4lJqaKperVZ7EDwAAEKTFa1Q2btyoUaNGaevWrXr//fc1ZswYbd682Y5s\n",
              "AACgg2vxqZAXX3xRf/zjHzVgwABJUmFhoaZPn67Zs2e3ejgAANCxtfiMyk033RQoKZKUmJiom266\n",
              "qVVDAQAASNdRVGbMmKFly5bpzJkzOn36tF588UXNnDlT5eXlKi8vtyMjAADooByWZVkt+YGIiKa7\n",
              "jcPhkN/vv+FQLZWZmamVK1eG/HMBAIC9WrxGpb6+3o4cAAAADbT40o8kffbZZ1q/fr0kqaysTN98\n",
              "802rhgIAAJCuo6isXr1aP/rRj7Rs2TJJUmlpqR555JHWzgUAANDyorJ27Vrl5+crJiZGkjRo0CCV\n",
              "lJS0ejAAAIAWFxW3263OnTsHbePJtAAAwA4tLirx8fH63//9XzkcDknSO++8o/79+7d6MAAAgBaf\n",
              "Cnn11Vf18MMP68svv9Qtt9yimJgY5ebm2pENAAB0cC0uKrfeeqv27duno0eP6re//a3uuOOOoCfV\n",
              "AgAAtJZmX/q55557dOjQIUlScXGxJk2apN27d+u5557TL37xC7vyAQCADqzZReXrr79WcnKypMvf\n",
              "oDxp0iTt3LlTe/bs0YYNG+zKBwAAOrBmF5Vv3+mzZ88e3XfffZKkHj16cNcPAACwRbOLSkREhM6c\n",
              "OaPKykr9/ve/16RJkwL7Ll26ZEs4AADQsTX7VMhPf/pTjRo1Si6XS1OmTNHgwYMlXT67kpiYaFc+\n",
              "AADQgTW7qDz44IP6zne+o7NnzyopKSmwPTExUWvXrrUlHAAA6NhatLikd+/e6t27d9C2Pn36tGog\n",
              "AACAK67r25MBAABCgaICAACMRVEBAADGoqgAAABjUVQAAICxKCoAAMBYFBUAAGAsigoAADAWRQUA\n",
              "ABiLogIAAIxFUQEAAMaiqAAAAGNRVAAAgLEoKgAAwFgUFQAAYCyKCsKups6v85Ve1dT5wx0FAGAY\n",
              "V7gDoOMqqfAqO79QH35xVtV1fnWOdOreEb01Z3yCeka7wx0PAGAAW8+oTJs2TUlJSUpOTlZqaqoK\n",
              "CgoajPnkk080btw4DRs2TMOHD9dzzz2n+vp6O2PBACUVXj21qUAb9p1SldcnV4RDVV6fsved1JMb\n",
              "C3S+0hvuiAAAA9haVLZs2aIjR47o0KFDyszM1Pz58xuM6dGjhzZv3qxjx47ps88+0549e7Ru3To7\n",
              "Y8EA2fmFOn6uQvHRbvXo0kld3C716NJJ8dFuHT9Xoey9J8MdEQBgAFsv/XTv3j3wZ4/HI4fD0WDM\n",
              "qFGjAn+OiopScnKyCgsLmzym1+uV1xv827bfz9qGtqSmzq8PvzirKJdTLmdwV3Y5I+R2ObXzaLEW\n",
              "TR6kqEhnmFICAExg+xqVjIwM5eXlSZJ27Nhx1bHFxcV6//33lZub2+SYFStWKCsrK2hbSkrKjQdF\n",
              "yFR6faqu86uTq/ETem5XhKpr/ar0+igqANDB2X7Xz7p163T69GktX75cixcvbnJceXm5Zs6cqeee\n",
              "e05jx45tctySJUvk8XiCXuPGjbMjOmwS7Xapc6RTtb7G1yJ5ffXq3MmpaDdrvQGgowvZ7cnz5s1T\n",
              "Xl6eSktLG+yrqKjQ9OnTNWvWLGVmZl71OG63WzExMUEvp5PfutuSqEinpo+4WTU+v3z+4LLi89fL\n",
              "6/Pr3uG9OZsCALCvqJSVlamoqCjwPicnR3FxcYqNjQ0aV1lZqenTp2v69Ol64YUX7IoDw8wdn6hb\n",
              "e3VVSaVXF6pqVeX16UJVrUoqvbqtV1fNGZ8Q7ogAAAPYdm7d4/EoPT1d1dXVioiIUHx8vHJzc+Vw\n",
              "OLRgwQKlpaUpLS1Nr732mvbv36+qqipt27ZNkpSenq7nn3/ermgwQM9ot954ZJSy957UzqPFqq71\n",
              "KzrKpfTh/XiOCgAgwGFZlhXuEDcqMzNTK1euDHcMXKeaussLZ6PdLi73AACCsFoRYRcV6aSgAAAa\n",
              "xXf9AAAAY1FUAACAsSgqAADAWBQVAABgLIoKAAAwFkUFAAAYi6ICAACMRVEBAADGoqgAAABjUVQA\n",
              "AICxKCoAAMBYFBUAAGAsigoAADAWRQUAABiLogIAAIxFUQEAAMaiqAAAAGNRVAAAgLEoKgAAwFgU\n",
              "FQAAYCyKCgAAMBZFBQAAGIuiAgAAjEVRAQAAxqKoAAAAY1FUAACAsSgqAADAWBQVAABgLIoKAAAw\n",
              "FkUFAAAYi6ICAACMRVEBAADGoqgAAABjUVQAAICxKCoAAMBYFBUAAGAsigoAADAWRQUAABiLogIA\n",
              "AIxFUQEAAMaiqAAAAGNRVAAAgLEoKgAAwFgUFQAAYCyKShNq6vw6X+lVTZ0/3FEAAOiwXOEOYJqS\n",
              "Cq+y8wv14RdnVV3nV+dIp+4d0VtzxieoZ7Q73PEAAOhQbD2jMm3aNCUlJSk5OVmpqakqKChoMKaw\n",
              "sFCTJ09Wt27dlJycbGecayqp8OqpTQXasO+Uqrw+uSIcqvL6lL3vpJ7cWKDzld6w5gMAoKOxtahs\n",
              "2bJFR44c0aFDh5SZman58+c3GBMTE6Ply5dr48aNdkZpluz8Qh0/V6H4aLd6dOmkLm6XenTppPho\n",
              "t46fq1D23pPhjggAQIdia1Hp3r174M8ej0cOh6PBmNjYWE2cOFFdunRp1jG9Xq/Ky8uDXn7/ja8j\n",
              "qanz68MvzirK5ZTLGTwtLmeE3C6ndh4tZs0KAAAhZPsalYyMDOXl5UmSduzYccPHW7FihbKysoK2\n",
              "paSk3PBxK70+Vdf51cnVeHdzuyJUXetXpdenqEjnDX8eAAC4Ntvv+lm3bp1Onz6t5cuXa/HixTd8\n",
              "vCVLlsjj8QS9xo0bd8PHjXa71DnSqVpffaP7vb56de7kVLSb9ccAAIRKyG5PnjdvnvLy8lRaWnpD\n",
              "x3G73YqJiQl6OZ03foYjKtKp6SNuVo3PL58/uKz4/PXy+vy6d3hvzqYAABBCthWVsrIyFRUVBd7n\n",
              "5OQoLi5OsbGxdn3kDZs7PlG39uqqkkqvLlTVqsrr04WqWpVUenVbr66aMz4h3BEBAOhQbLuO4fF4\n",
              "lJ6erurqakVERCg+Pl65ublyOBxasGCB0tLSlJaWpkuXLmnw4MHyer3yeDzq16+f5s6dqxUrVtgV\n",
              "rUk9o91645FRyt57UjuPFqu61q/oKJfSh/fjOSoAAISBw7IsK9whblRmZqZWrlzZqsesqbu8cDba\n",
              "7eJyDwAAYcLK0CZERTopKAAAhBnf9QMAAIxFUQEAAMaiqAAAAGNRVAAAgLEoKgAAwFgUFQAAYCyK\n",
              "CgAAMBZFBQAAGIuiAgAAjEVRAQAAxqKoAAAAY1FUAACAsSgqAADAWBQVAABgLIoKAAAwFkUFAAAY\n",
              "i6ICAACMRVEBAADGoqgAAABjUVQAAICxKCoAAMBYFBUAAGAsigoAADAWRQUAABiLogIAAIxFUQEA\n",
              "AMaiqAAAAGNRVAAAgLEoKgAAwFgUFQAAYCyKCgAAMBZFBQAAGIuiAgAAjEVRAQAAxqKoAAAAY1FU\n",
              "AACAsSgqAADAWBQVAABgLIoKAAAwFkUFAAAYi6ICAACMRVEBAADGoqgAAABjUVQAAICxKCoA0Ipq\n",
              "6vw6X+lVTZ0/3FGAdsEV7gAA0B6UVHiVnV+oD784q+o6vzpHOnXviN6aMz5BPaPd4Y4HtFm2nlGZ\n",
              "Nm2akpKSlJycrNTUVBUUFDQ67q233tJtt92mQYMG6fHHH1ddXZ2dsQCgVZVUePXUpgJt2HdKVV6f\n",
              "XBEOVXl9yt53Uk9uLND5Sm+4IwJtlq1FZcuWLTpy5IgOHTqkzMxMzZ8/v8GYEydOaOnSpdq9e7eO\n",
              "Hz+us2fPau3atXbGAoBWlZ1fqOPnKhQf7VaPLp3Uxe1Sjy6dFB/t1vFzFcreezLcEYE2y9ai0r17\n",
              "98CfPR6PHA5HgzHvv/++0tLS1Lt3bzkcDi1atEibNm1q8pher1fl5eVBL7+fa8EAwqOmzq8Pvzir\n",
              "KJdTLmfwf1Jdzgi5XU7tPFrMmhXgOtm+RiUjI0N5eXmSpB07djTYf+rUKSUkJATeJyYm6tSpU00e\n",
              "b8WKFcrKygralpKS0kppAaBlKr0+Vdf51cnV+O99bleEqmv9qvT6FBXpDHE6oO2z/a6fdevW6fTp\n",
              "01q+fLkWL158w8dbsmSJPB5P0GvcuHGtkBQAWi7a7VLnSKdqffWN7vf66tW5k1PRbu5dAK5HyG5P\n",
              "njdvnvLy8lRaWhq0vX///jp58v9dvy0sLFT//v2bPI7b7VZMTEzQy+nktxQA4REV6dT0ETerxueX\n",
              "zx9cVnz+enl9ft07vDdnU4DrZFtRKSsrU1FRUeB9Tk6O4uLiFBsbGzTuoYce0gcffKDi4mJZlqU1\n",
              "a9Zo9uzZdsUCgFY3d3yibu3VVSWVXl2oqlWV16cLVbUqqfTqtl5dNWd8wrUPAqBRtp2L9Hg8Sk9P\n",
              "V3V1tSIiIhQfH6/c3Fw5HA4tWLBAaWlpSktL08CBA5WVlaUJEyZIkiZPnqyFCxfaFQsAWl3PaLfe\n",
              "eGSUsvee1M6jxaqu9Ss6yqX04f14jgpwgxyWZVnhDnGjMjMztXLlynDHAADV1F1eOBvtdnG5B2gF\n",
              "rO4CgFYUFemkoACtiO/6AQAAxqKoAAAAY1FUAACAsSgqAADAWBQVAABgLIoKAAAwFkUFAAAYi6IC\n",
              "AACMRVEBAADGoqgAAABjtYvv+nnwwQeVmJjYqsf0+/3av3+/xo0bJ6eTx2HbibkODeY5NJjn0GCe\n",
              "Q8PueU5ISNBPfvKTq45pF0XFDuXl5erWrZs8Ho9iYmLCHaddY65Dg3kODeY5NJjn0DBhnrn0AwAA\n",
              "jEVRAQAAxqKoAAAAY1FUmuB2u/Xzn/9cbrc73FHaPeY6NJjn0GCeQ4N5Dg0T5pnFtAAAwFicUQEA\n",
              "AMaiqAAAAGNRVAAAgLEoKv+/t99+Ww6HQzk5OY3uP3XqlGbOnKkhQ4Zo2LBhev3110MbsJ242jz/\n",
              "13/9l5KTkwOvPn36aPTo0aEP2Q5c69/zL37xCw0bNkzJyclKSUnR/v37QxuwHbnWXL/88ssaMWKE\n",
              "hg0bpgceeEBlZWUhzdfWJSYmasiQIYH/Lrz77ruNjnvrrbd02223adCgQXr88cdVV1cX4qRtW3Pm\n",
              "ubCwUJMnT1a3bt2UnJwcunAWrBMnTljjx4+3UlJSrO3btzfYX19fb40ePdrasmVLYFtxcXEIE7YP\n",
              "15rn/2vGjBnWL3/5S/uDtTPXmueCggKrf//+VkVFhWVZlrV+/XrrzjvvDHHK9uFac/273/3OGjp0\n",
              "qFVeXm5ZlmW99NJL1hNPPBHilG1bQkKCVVBQcNUxf/nLX6y/+qu/sr755hurvr7emjlzpvXGG2+E\n",
              "JmA70Zx5Li0ttXbv3m3l5uZaI0eODEkuy7KsDn9Gpb6+XgsWLNDrr7/e5O1XH3/8sdxut9LT0wPb\n",
              "br755lBFbBeaM8/fVlRUpI8//lhz584NQbr2oznz7HA4VFdXp6qqKklSWVmZ+vXrF8qY7UJz5vrw\n",
              "4cOaOHGiunbtKkm67777tH79+lDG7BDef/99paWlqXfv3nI4HFq0aJE2bdoU7ljtTmxsrCZOnKgu\n",
              "XbqE9HM7fFFZuXKlJkyYoDFjxjQ55tixY4qPj9fs2bM1atQoPfDAA/rLX/4SwpRtX3Pm+dveeecd\n",
              "3XffferVq5fNydqX5szzyJEj9eyzz2rAgAHq16+fXnnlFS5lXofmzPWYMWP00Ucfqbi4WJZlacOG\n",
              "DaqoqNCFCxdCmLTty8jI0B133KHHHntMJSUlDfafOnVKCQkJgfeJiYk6depUKCO2C9ea53Dp0EXl\n",
              "iy++0NatW/XCCy9cdZzP59Mnn3yipUuXqqCgQH/zN3+j73//+yFK2fY1d56vsCxLv/nNb/TYY4/Z\n",
              "nKx9ae48nzhxQtu2bdPx48d15swZPfvss/rBD34QopTtQ3PnesqUKfrHf/xH3X///UpJSVF8fLwk\n",
              "yeVyhSJmu/Dpp5/qyJEjOnjwoHr27Kl58+aFO1K7ZPQ8h+wik4FWr15t9e7d20pISLASEhIst9tt\n",
              "xcfHW6tXrw4a995771mpqamB95WVlZbD4bBqa2tDHblNau48X5GXl2f17dvX8vl8IU7atjV3nl9+\n",
              "+WXr8ccfD7yvrKy0JFlerzfUkduslv6bvmLv3r1Wv379QpSy/SkqKrKio6MbbP+Xf/kXa+HChYH3\n",
              "//mf/2lNmDAhlNHalabm+Yq8vLyQrlHp0EXl/5o0aVKjC+IqKyutAQMGWGfOnLEsy7K2bNliDRs2\n",
              "LMTp2o+m5vmKOXPmWM8//3zoArVTTc3z1q1brWHDhgUW027evNkaPHhwiNO1L1f7N11UVGRZlmVV\n",
              "VVVZ3/3ud61Vq1aFMFnbVllZaV28eDHw/le/+lXQL41XfPXVVw0W077++ushTNq2NXeerwh1UeH8\n",
              "YxN+9rOfqU+fPlq0aJG6dOmiNWvWaMaMGbIsS926ddPmzZvDHbFd+PY8S5LH49G2bdv0+eefhzlZ\n",
              "+/LteX7ggQd04MABjR07Vm63W126dNHGjRvDHbHd+L//pqdNm6b6+nrV1tZq7ty5evLJJ8OcsO04\n",
              "e/asHnroIfn9flmWpYEDB2rdunWSpAULFigtLU1paWkaOHCgsrKyNGHCBEnS5MmTtXDhwnBGb1Oa\n",
              "O8+XLl3S4MGD5fV65fF41K9fP82dO1crVqywNR/f9QMAAIzVoRfTAgAAs1FUAACAsSgqAADAWBQV\n",
              "AA1s27ZNY8aMUXJysm6//XZNnTpV9fX1rf45hYWF6t69e6P7du3aFbLvEyksLNSaNWuCtiUmJurQ\n",
              "oUMh+XwATeOuHwBBvvnmG/34xz/WZ599Fnja58GDB+VwOMKczD5XisqVO3UAmIMzKgCCnD17Vk6n\n",
              "U7GxsYFto0ePlsPh0J///GfNmDFDd955p5KSkvTGG28ExjgcDr3wwgsaNWqUBg8erA0bNgT2Pfro\n",
              "oxo7dqySkpI0Y8YMFRcX31DGX/7ylxo3bpxGjx6t6dOn6+TJk5KkZcuW6Qc/+IFmzpypYcOGaerU\n",
              "qYHH1dfV1emJJ57Q4MGDlZKSon/4h3/Q5MmTJUmLFi3Sn/70JyUnJystLS3wOdu2bdP48eM1YMAA\n",
              "LV++/IYyA7g+FBUAQZKSkjRx4kQlJCTogQce0Msvv6yvv/5afr9fDz/8sH71q1/pwIEDys/P19q1\n",
              "a3XgwIHAzzocDhUUFOjDDz/UU089pcLCQknSq6++qj/+8Y86cuSIUlNTtWzZsuvOt3HjRv3pT3/S\n",
              "3r17dfDgQT366KN64oknAvv37dund955R8eOHVOvXr3061//WpK0du1a/fnPf9bRo0e1e/duHTly\n",
              "JPAza9as0ZAhQ3To0CF98MEHge1lZWXau3evDhw4EJgHAKHFpR8AQSIiIrR161Z9+eWX+v3vf6+d\n",
              "O3fqn//5n/Xpp5/q6NGjmj17dmBsRUWFjh07pjvvvFPS5YdDSdLAgQN111136dNPP1ViYqI2btyo\n",
              "9evXq6amRjU1NerZs+d158vJydGBAwcCXwbo9/uD9k+fPl1xcXGSpPHjxwceHvjxxx9rzpw5ioyM\n",
              "lCTNmzdPb7755lU/65FHHpEk9ezZUwMHDtSJEyfUt2/f684OoOUoKgAadfvtt+v222/XwoULNX36\n",
              "dP32t79VbGxsixaYOhwO/fd//7dWrVqlvXv3qlevXvrggw/0s5/97LpzWZalJUuW6Mc//nGj+6Oi\n",
              "ogJ/djqd8vl8TWa7luYeC4B9uPQDIMjXX3+tP/zhD4H3Fy9e1IkTJzRixAjFxMTo7bffDuw7fvx4\n",
              "YA2IpMC+wsJC7d69W6mpqbp48aK6du2quLg41dbWBi7FXK/vfe97WrNmTdDak4KCgmv+3NSpU7Vx\n",
              "40bV1dWprq4u8IhwSYqJiZHH47mhXADswRkVAEF8Pp9efPFFnThxQjfddJN8Pp/mzZunWbNmacSI\n",
              "EXrmmWf0yiuvyO/3q2fPnkHfE+T3+zVq1ChVVVVp1apVSkxMVN++fZWdna0hQ4YoLi5O99xzT5Nr\n",
              "Pb79vSKSdOzYMfXr1y+wf/z48XrvvfdUWlqqKVOmBPL+6Ec/0qhRo67691q4cKE+//xzDRs2TD16\n",
              "9NDYsWNVVFQk6fK6nOHDh2vEiBEaOHBg0DoVAOHFd/0AaBUOh0MXL15s8rkoJqioqFDXrl1VV1en\n",
              "Rx99VGPGjNHixYvDHQvAVXBGBUCHcc8998jr9aqmpkYTJ07U008/He5IAK6BMyoAAMBYLKYFAADG\n",
              "oqgAAABjUVQAAICxKCoAAMBYFBUAAGAsigoAADAWRQUAABiLogIAAIz1/wHNmLYV7/2CowAAAABJ\n",
              "RU5ErkJggg==\n",
              "\">\n",
              "      </div>\n",
              "      <script type=\"text/javascript\">\n",
              "        (() => {\n",
              "          const chartElement = document.getElementById(\"chart-4b79e76e-fd07-440f-a568-7ad1a670915e\");\n",
              "          async function getCodeForChartHandler(event) {\n",
              "            const chartCodeResponse =  await google.colab.kernel.invokeFunction(\n",
              "                'getCodeForChart', [\"chart-4b79e76e-fd07-440f-a568-7ad1a670915e\"], {});\n",
              "            const responseJson = chartCodeResponse.data['application/json'];\n",
              "            await google.colab.notebook.addCell(responseJson.code, 'code');\n",
              "          }\n",
              "          chartElement.onclick = getCodeForChartHandler;\n",
              "        })();\n",
              "      </script>\n",
              "      <style>\n",
              "        .colab-quickchart-chart-with-code  {\n",
              "            display: block;\n",
              "            float: left;\n",
              "            border: 1px solid transparent;\n",
              "        }\n",
              "\n",
              "        .colab-quickchart-chart-with-code:hover {\n",
              "            cursor: pointer;\n",
              "            border: 1px solid #aaa;\n",
              "        }\n",
              "      </style>"
            ]
          },
          "metadata": {}
        },
        {
          "output_type": "display_data",
          "data": {
            "text/plain": [
              "from matplotlib import pyplot as plt\n",
              "_df_4.plot(kind='scatter', x='Sepal.Width', y='Petal.Length', s=32, alpha=.8)\n",
              "plt.gca().spines[['top', 'right',]].set_visible(False)"
            ],
            "text/html": [
              "      <div class=\"colab-quickchart-chart-with-code\" id=\"chart-32e1703c-cbc9-4741-b80e-9d5415d757e3\">\n",
              "        <img style=\"width: 180px;\" src=\"data:image/png;base64,iVBORw0KGgoAAAANSUhEUgAAAjgAAAGkCAYAAAA8OV9TAAAAOXRFWHRTb2Z0d2FyZQBNYXRwbG90\n",
              "bGliIHZlcnNpb24zLjcuMSwgaHR0cHM6Ly9tYXRwbG90bGliLm9yZy/bCgiHAAAACXBIWXMAAA9h\n",
              "AAAPYQGoP6dpAAAvN0lEQVR4nO3df3RTZZ7H8U9IMQVKi0D5oZ02QpFipU060pEByg9XqaMDDuJY\n",
              "f40KxXJYZXd7djyi4iy4ypn1AIosg4yIxwOiIxSmi6uz4wBOK2irEAfxsNpK2qlSiootrSVN0rt/\n",
              "eMhM1pamJWnC5f06557TPM9zb773MWQ+c/PkxmIYhiEAAAAT6RPtAgAAAMKNgAMAAEyHgAMAAEyH\n",
              "gAMAAEyHgAMAAEyHgAMAAEyHgAMAAEyHgAMAAEzngg44zzzzTLRLAAAAEXBBB5yamppolwAAACLg\n",
              "gg44AADAnAg4AADAdAg4AADAdAg4AADAdAg4AADAdAg4AADAdAg4AADAdAg4AADAdAg4AADAdAg4\n",
              "AADAdAg4iKrTXr++bPbotNcf7VIAACYSF+0CcGE6ccqjze+69eZHx9Xq9atfX6uuv3KE7pyYpqEJ\n",
              "tmiXBwA4z0X0Cs7ixYtlt9tlsVjkcrk6HLN3717169dPDocjsLW2tgb6N27cqDFjxmj06NFasGCB\n",
              "vF5vSH2IXSdOefTA1oPa8l6tWjw+xfWxqMXj0+b3anT/ywf1ZbMn2iUCAM5zEQ04c+fOVXl5udLS\n",
              "0s46buzYsXK5XIGtX79+kqSjR49q6dKlKisrU1VVlY4fP64NGzZ02YfYtvldt6oaTik5waaLB1yk\n",
              "AbY4XTzgIiUn2FTVcEqb9/Mr7wCAcxPRgJOXl6eUlJQe779t2zbNmjVLI0aMkMVi0cKFC7V169Yu\n",
              "+zri8XjU1NQUtPn9rPvobae9fr350XHFx1kVZw1++cVZ+8gWZ9Ubh+tZkwMAOCcxsci4urpaOTk5\n",
              "mjBhgtatWxdor62tDbr6Y7fbVVtb22VfR1asWKGkpKSgraKiIgJng7Np9vjU6vXroriOX3q2uD5q\n",
              "bfOr2ePr5coAAGYS9YCTk5Ojuro6HThwQDt27ND69ev1u9/9LuzPs2TJEjU2NgZtubm5YX8enF2C\n",
              "LU79+lrV5mvvsN/ja1e/i6xKsLH+HQDQc1EPOImJiUpKSpIkpaSk6LbbblNZWZkkKTU1VTU1f1uP\n",
              "4Xa7lZqa2mVfR2w2mxITE4M2q9UaiVPCWcT3tSr/yuE67fPL5w8OOT5/uzw+v67PHKH4vvy3AQD0\n",
              "XNQDzrFjx9Te/t3/0J06dUq7du2S0+mUJN18880qLS1VfX29DMPQ+vXrVVBQ0GUfYttdE+1KHzZQ\n",
              "J5o9+rqlTS0en75uadOJZo/GDBuoOyeefVE6AABdiWjAKSoqUkpKiurq6jRz5kylp6dLkgoLC1Va\n",
              "WipJ2r59u8aPH6/s7GxdffXVuvbaa3XvvfdKkkaNGqVly5Zp0qRJSk9PV3JysoqKirrsQ2wbmmDT\n",
              "2tuduvNHaUqIj5Ov3VBCfJzu/FGanr3dyX1wAADnzGIYhhHtIqKluLhYq1atinYZF7TT3u8WFCfY\n",
              "4vhYCgAQNqzkRFTF97USbAAAYRf1NTgAAADhRsABAACmQ8ABAACmQ8ABAACmQ8ABAACmQ8ABAACm\n",
              "Q8ABAACmQ8ABAACmQ8ABAACmQ8ABAACmQ8ABAACmQ8ABAACmQ8ABAACmQ8ABAACmQ8ABAACmQ8AB\n",
              "AACmQ8ABAACmQ8ABAACmQ8ABAACmQ8ABAACmQ8ABAACmQ8ABAACmQ8ABAACmQ8ABAACmQ8ABAACm\n",
              "Q8ABAACmQ8ABAACmQ8ABAACmQ8ABAACmQ8ABAACmQ8ABAACmQ8ABAACmE9GAs3jxYtntdlksFrlc\n",
              "rrOONQxDM2bM0KBBgwJtf/jDH+RwOALbJZdcopycnEC/xWLR+PHjA/1lZWUROhMAAHA+iYvkwefO\n",
              "nasHH3xQkydP7nLs6tWrNXr0aB04cCDQNnPmTM2cOTPw+MYbb9T06dOD9isrKwsKRQAAABENOHl5\n",
              "eSGNO3z4sHbu3KlNmzbptdde63DMF198oT/96U964YUXelSLx+ORx+MJavP7/T06FgAAiG1RX4Pj\n",
              "9Xq1YMECPffcc7JarZ2Oe/HFF/WTn/xEw4YNC2q/5pprlJ2dreLiYrW0tHS6/4oVK5SUlBS0VVRU\n",
              "hO08AABA7Ih6wFm2bJnmzJmjcePGdTrGMAy98MILmj9/flB7TU2NPvjgA+3bt08nTpzQL3/5y06P\n",
              "sWTJEjU2NgZtubm5YTsPAAAQOyL6EVUo3n77bdXW1mrt2rXy+XxqamqS3W5XZWWlkpOTA2NOnz4d\n",
              "tB5HklJTUyVJAwYM0KJFi3Tfffd1+jw2m002my2o7WxXjAAAwPkr6gHn77/55Ha75XA45Ha7g8Zs\n",
              "3LhR99xzT1AgOXnypGw2m/r376/29na9+uqrcjqdvVU2AACIYRH9iKqoqEgpKSmqq6vTzJkzlZ6e\n",
              "LkkqLCxUaWlpSMdobGxUSUmJ5s2bF9R+5MgRXX311crOztb48eP11Vdf6emnnw73KQAAgPOQxTAM\n",
              "I9pFREtxcbFWrVoV7TIAAECYRX2RMQAAQLgRcAAAgOkQcAAAgOkQcAAAgOkQcAAAgOkQcAAAgOkQ\n",
              "cAAAgOkQcAAAgOkQcAAAgOkQcAAAgOkQcAAAgOkQcAAAgOkQcAAAgOkQcAAAgOkQcAAAgOkQcAAA\n",
              "gOkQcAAAgOkQcAAAgOkQcAAAgOkQcAAAgOkQcAAAgOkQcAAAgOkQcAAAgOkQcAAAgOkQcAAAgOkQ\n",
              "cAAAgOkQcAAAgOkQcAAAgOkQcAAAgOkQcAAAgOkQcAAAgOkQcAAAgOkQcAAAgOlENOAsXrxYdrtd\n",
              "FotFLpfrrGMNw9CMGTM0aNCgQJvb7ZbVapXD4Qhs1dXVgf5du3YpIyNDY8aM0Zw5c9TU1BShMwEA\n",
              "AOeTiAacuXPnqry8XGlpaV2OXb16tUaPHv299oEDB8rlcgW2M2Oam5s1f/587dy5U59++qkuueQS\n",
              "Pf7442E/BwAAcP6JaMDJy8tTSkpKl+MOHz6snTt36qGHHgr52G+88YacTqcyMjIkSYsWLdLWrVs7\n",
              "He/xeNTU1BS0+f3+kJ8PAACcP6K+Bsfr9WrBggV67rnnZLVav9ff0tKiCRMmKCcnR8uXLw+Ektra\n",
              "2qArQ3a7XceOHZPP5+vweVasWKGkpKSgraKiIjInBQAAoirqAWfZsmWaM2eOxo0b972+kSNH6vPP\n",
              "P1dlZaXeeustlZWVaeXKlT16niVLlqixsTFoy83NPdfyAQBADIp6wHn77bf17LPPym63a/LkyWpq\n",
              "apLdbteJEydks9k0bNgwSdLgwYM1b948lZWVSZJSU1NVU1MTOI7b7dbIkSMVFxfX4fPYbDYlJiYG\n",
              "bR1dMQIAAOe/qAecsrIy1dTUyO12q7y8XImJiXK73UpOTlZDQ4O8Xq+k79bQlJSUyOl0SpLy8/N1\n",
              "4MABHTlyRJK0bt06FRQURO08AABA7IhowCkqKlJKSorq6uo0c+ZMpaenS5IKCwtVWlra5f7l5eVy\n",
              "Op3Kzs5WTk6ORowYoUceeUTSd9+uev7553XTTTcpPT1ddXV1Wrp0aSRPBwAAnCcshmEY0S4iWoqL\n",
              "i7Vq1apolwEAAMIs6h9RAQAAhBsBBwAAmA4BBwAAmA4BBwAAmA4BBwAAmA4BBwAAmA4BBwAAmA4B\n",
              "BwAAmA4BBwAAmA4BBwAAmA4BBwAAmA4BBwAAmA4BBwAAmA4BBwAAmA4BBwAAmA4BBwAAmA4BBwAA\n",
              "mA4BBwAAmA4BBwAAmA4BBwAAmA4BBwAAmA4BBwAAmA4BBwAAmA4BBwAAmA4BBwAAmA4BBwAAmA4B\n",
              "BwAAmA4BBwAAmA4BBwAAmA4BBwAAmA4BBwAAmA4BBwAAmA4BBwAAmE5EA87ixYtlt9tlsVjkcrnO\n",
              "OtYwDM2YMUODBg0KtB06dEh5eXnKyMjQlVdeqXnz5qm1tTXQb7FYNH78eDkcDjkcDpWVlUXoTAAA\n",
              "wPkkogFn7ty5Ki8vV1paWpdjV69erdGjRwe1xcfHa+3atTpy5Ig+/PBDtbS06Ne//nXQmLKyMrlc\n",
              "LrlcLk2ZMiWs9QMAgPNTXCQPnpeXF9K4w4cPa+fOndq0aZNee+21QPuYMWMCf1utVk2YMEEfffRR\n",
              "j2rxeDzyeDxBbX6/v0fHAgAAsS3qa3C8Xq8WLFig5557TlartdNxLS0tev755zV79uyg9muuuUbZ\n",
              "2dkqLi5WS0tLp/uvWLFCSUlJQVtFRUXYzgMAAMSOqAecZcuWac6cORo3blynY9ra2nTrrbfquuuu\n",
              "089+9rNAe01NjT744APt27dPJ06c0C9/+ctOj7FkyRI1NjYGbbm5uWE9FwAAEBsi+hFVKN5++23V\n",
              "1tZq7dq18vl8ampqkt1uV2VlpZKTk+X1enXrrbdq5MiReuaZZ4L2TU1NlSQNGDBAixYt0n333dfp\n",
              "89hsNtlstqC2s10xAgAA56+oB5y//+aT2+2Ww+GQ2+2WJPl8PhUUFGjw4MHasGGDLBZLYOzJkydl\n",
              "s9nUv39/tbe369VXX5XT6ezt8gEAQAyK6EdURUVFSklJUV1dnWbOnKn09HRJUmFhoUpLS7vc/9VX\n",
              "X1VJSYnef/99OZ1OORwO/eM//qMk6ciRI7r66quVnZ2t8ePH66uvvtLTTz8dydMBAADnCYthGEa0\n",
              "i4iW4uJirVq1KtplAACAMIv6ImMAAIBwI+AAAADTIeAAAADTIeAAAADTIeAAAADTIeAAAADT6faN\n",
              "/g4cOKCHH35Yn332mXw+X6D9s88+C2thAAAAPdXtgHP33Xfr/vvv18SJE/mpAwAAEJO6HXCsVquK\n",
              "iooiUQsAAEBYdHsNzqRJk/T+++9HohYAAICwCPkKjtPplMVikdfr1W9/+1ulp6crPj4+0H/gwIGI\n",
              "FAgAANBdIQccfsgSAACcL0IOOFOnTpUkvfDCC5o3b15Q3wsvvBDoBwAAiLZur8FZu3bt99r+8z//\n",
              "MyzFAAAAhEPIV3AqKiq0f/9+nThxQmvWrAm0NzY2yuPxRKQ4AACAngg54Bw7dkwul0vffvutDh48\n",
              "GGhPTEzUiy++GInaAAAAeiTkgDN79mzNnj1bb7zxhq6//vpI1gQAAHBOun2jvxMnTuill14Kahs0\n",
              "aJB++MMf6tJLLw1bYQAAAD3V7YCzZcsW/fnPf9bkyZNlsVhUXl6u3NxcffLJJ3r66af185//PBJ1\n",
              "AgAAhKzb36JKSEjQwYMH9cc//lH/8z//o4MHD2rw4MHat2+f/v3f/z0SNQIAAHRLtwPOJ598ooyM\n",
              "jMDjsWPHqqqqSna7XX36dPtwAAAAYdftRDJw4EC99NJLMgxDhmHopZdeUkJCQiRqAwAA6JFuB5xN\n",
              "mzZp7dq1stlsio+P19q1a7Vx40a1tLToqaeeikSNAAAA3dLtRcZjx45VRUWFTp06Jem7KzpnXHvt\n",
              "teGrDAAAoIe6HXCk7276d/ToUfl8vkBbXl5e2IoCAAA4F90OOE888YSeeuopjRo1SlarVZJksVhU\n",
              "UVER9uIAAAB6otsB54UXXlB1dbWGDBkSiXoAAADOWbcXGQ8fPpxwAwAAYlq3r+Bce+21+ud//mfd\n",
              "fvvtio+PD7RnZWWFtTAAAICe6nbAOfM7VL///e8DbRaLRZ999ln4qgIAADgH3Q44R48ejUQdAAAA\n",
              "YdOj31bYvn27nnzySUnSF198oUOHDoW1qPPdaa9fXzZ7dNrrj3YpAIAw4b09dLEwV92+gvPYY4+p\n",
              "srJS1dXVevjhh2WxWFRUVKR9+/ZFor7zyolTHm1+1603PzquVq9f/fpadf2VI3TnxDQNTbBFuzwA\n",
              "QA/w3h66WJqrbl/B+f3vf69du3ZpwIABkqSRI0equbm5w7GLFy+W3W6XxWKRy+U663ENw9CMGTM0\n",
              "aNCgoPZdu3YpIyNDY8aM0Zw5c9TU1BRSX287ccqjB7Ye1Jb3atXi8Smuj0UtHp82v1ej+18+qC+b\n",
              "PVGrDQDQM7y3hy7W5qrbAadfv36BG/ydYRhGh2Pnzp2r8vJypaWldXnc1atXa/To0UFtzc3Nmj9/\n",
              "vnbu3KlPP/1Ul1xyiR5//PEu+6Jh87tuVTWcUnKCTRcPuEgDbHG6eMBFSk6wqarhlDbvr4labQCA\n",
              "nuG9PXSxNlfdDjhpaWkqKyuTxWKR1+vVsmXL5HA4Ohybl5enlJSULo95+PBh7dy5Uw899FBQ+xtv\n",
              "vCGn06mMjAxJ0qJFi7R169Yu+zri8XjU1NQUtPn94fls8LTXrzc/Oq74OKvirMFTGmftI1ucVW8c\n",
              "rudzWwA4j/DeHrpYnKtuB5w1a9boiSee0KFDhzRgwADt27dPq1ev7nEBXq9XCxYs0HPPPfe9K0O1\n",
              "tbVBV3/sdruOHTsmn8931r6OrFixQklJSUFbuH5eotnjU6vXr4viOp5OW1wftbb51ezpuDYAQOzh\n",
              "vT10sThXPbqT8ZtvvqnGxkadPHlSf/jDH/T222/3uIBly5Zpzpw5GjduXI+PEYolS5aosbExaMvN\n",
              "zQ3LsRNscerX16o2X3uH/R5fu/pdZFWCrUe/bQoAiALe20MXi3PVo6+JS1L//v0DC43/5V/+pccF\n",
              "vP3223r22Wdlt9s1efJkNTU1yW6368SJE0pNTVVNzd8+s3O73Ro5cqTi4uLO2tcRm82mxMTEoO3/\n",
              "XzHqqfi+VuVfOVynfX75/MH/cX3+dnl8fl2fOULxfcPzfACAyOO9PXSxOFc9Djh/r7NFxqEoKytT\n",
              "TU2N3G63ysvLlZiYKLfbreTkZOXn5+vAgQM6cuSIJGndunUqKCiQpLP2RcNdE+1KHzZQJ5o9+rql\n",
              "TS0en75uadOJZo/GDBuoOyd2vdAaABBbeG8PXazNVVgCjsVi6bC9qKhIKSkpqqur08yZM5Weni5J\n",
              "KiwsVGlpaZfHHThwoJ5//nnddNNNSk9PV11dnZYuXdplXzQMTbBp7e1O3fmjNCXEx8nXbighPk53\n",
              "/ihNz97u5F4JAHAe4r09dLE2VxYjxMsva9as6bDdMAwtW7ZMX3/9dVgL6w3FxcVatWpV2I972vvd\n",
              "QqoEWxyXLgHAJHhvD10szFXIq30OHjzYad/s2bPDUoxZxPe18uIHAJPhvT10sTBXIQecTZs2RbIO\n",
              "AACAsAnLGhwAAIBYEpaAk5OTE47DAAAAhEVYAs7rr78ejsMAAACERVgCzsiRI8NxGAAAgLAIeZFx\n",
              "cXHxWfsj8XVrAACAngg54CQlJUWyDgAAgLAJOeD86le/imQdAAAAYdOjn/WsqKiQy+XS6dOnA22L\n",
              "Fy8OW1EAAADnotsB58knn9S2bdtUW1urqVOn6o9//KOuueYaAg4AAIgZ3f4W1csvv6x9+/YpJSVF\n",
              "27dvV2Vlpfr04X6BAAAgdnQ7mcTHxys+Pl7t7e0yDENjx45VdXV1JGoDAADokW5/RNWvXz95vV45\n",
              "HA7967/+q1JSUuT3+yNRGwAAQI90+wrOb37zG7W1tWnlypVqamrSO++8o82bN0eiNgAAgB7pdsCp\n",
              "q6vTgAEDlJycrN/+9rfatm2bjh07FonaAAAAeqTbAefhhx8OqQ0AACBaQl6D88knn+jIkSNqbGxU\n",
              "aWlpoL2xsVHffvttRIoDAADoiZADzv79+/Xiiy+qoaFBq1evDrQnJiZq5cqVESkOAACgJ0IOOHff\n",
              "fbfuvvtubdy4UfPnz49kTQAAAOek22twfvGLX2jlypVatGiRJKm6ulq7d+8Oe2EAAAA91e374Dzw\n",
              "wAPy+/0qLy+XJA0ZMkS33nqr3n///bAXBwAA0BPdDjjvvvuuXC6XnE6nJGnQoEHyer1hLwwAAKCn\n",
              "evRTDX/P7/ervb09bAUBAACcq24HnKysLG3evFnt7e2qqqrSwoULNW3atAiUBgAA0DPdCjgfffSR\n",
              "8vLytGnTJtXX12vSpEnq06ePfv3rX0eqPgAAgG4LeQ3OunXr9PDDD2vs2LE6cuSINm3apDlz5kSy\n",
              "NgAAgB4J+QrOunXr9Je//EXvvfeeysvLtWrVqkjWBQAA0GMhB5y+ffsqNTVVkjR+/Hi1tLRErCgA\n",
              "AIBzEfJHVKdPn9ahQ4dkGEaHj7OysiJTIQAAQDeFHHBaW1s1a9asoLYzjy0Wiz777LPwVgYAANBD\n",
              "IQcct9sdwTIAAADCp9v3wQEAAIh1EQ04ixcvlt1ul8Vikcvl6nDM/v375XA45HA4lJmZqaKiInk8\n",
              "HknSpk2bAn0Oh0NDhw4NfDXd7XbLarUG9VdXV0fydAAAwHkiogFn7ty5Ki8vV1paWqdjsrOzVVlZ\n",
              "KZfLpUOHDqmhoUHr1q2TJN17771yuVyBbcSIEbrjjjsC+w4cODCof/To0ZE8HQAAcJ7o9o9tdkde\n",
              "Xl6XY/r37x/4u62tTa2trbJYLN8b995776mhoeF7C51D5fF4AleGzvD7/T06FgAAiG0xsQbH7XYr\n",
              "OztbQ4cOVVJSkhYtWvS9MRs3btRdd92lvn37BtpaWlo0YcIE5eTkaPny5WcNLCtWrFBSUlLQVlFR\n",
              "EZHzAQAA0RUTAcdut+vDDz9UfX29PB6PSkpKgvpbWlr0yiuvaP78+YG2kSNH6vPPP1dlZaXeeust\n",
              "lZWVaeXKlZ0+x5IlS9TY2Bi05ebmRuycAABA9MREwDkjISFBBQUF2rJlS1D7a6+9pszMTF1xxRWB\n",
              "NpvNpmHDhkmSBg8erHnz5qmsrKzTY9tsNiUmJgZtVqs1MicCAACiKuoBp6qqSl6vV9J3a3B27Njx\n",
              "vbsib9y4MejqjSQ1NDQE9jtz1cfpdPZO0QAAIKZFNOAUFRUpJSVFdXV1mjlzptLT0yVJhYWFKi0t\n",
              "lSTt3r1bTqdT2dnZcjqdGj58uJYuXRo4xv/+7//K5XLp1ltvDTp2eXl5YL+cnByNGDFCjzzySCRP\n",
              "BwAAnCcsxpkfk7oAFRcX86voAACYUNQ/ogIAAAg3Ag4AADAdAg4AADAdAg4AADAdAg4AADAdAg4A\n",
              "ADAdAg4AADAdAg4AADAdAg4AADAdAg4AADAdAg4AADAdAg4AADAdAg4AADAdAg4AADAdAg4AADAd\n",
              "Ag4AADAdAg4AADAdAg4AADAdAg4AADAdAg4AADAdAg4AADAdAg4AADAdAg4AADAdAg4AADAdAg4A\n",
              "ADAdAg4AADAdAg4AADAdAg4AADAdAg4AADAdAg4AADAdAg4AADAdAg4AADAdAg4AADCdiAacxYsX\n",
              "y263y2KxyOVydThm//79cjgccjgcyszMVFFRkTwejyRp79696tevX6Df4XCotbU1sO/GjRs1ZswY\n",
              "jR49WgsWLJDX643k6QAAgPNERAPO3LlzVV5errS0tE7HZGdnq7KyUi6XS4cOHVJDQ4PWrVsX6B87\n",
              "dqxcLldg69evnyTp6NGjWrp0qcrKylRVVaXjx49rw4YNkTwdAABwnohowMnLy1NKSspZx/Tv3199\n",
              "+/aVJLW1tam1tVUWi6XLY2/btk2zZs3SiBEjZLFYtHDhQm3durXT8R6PR01NTUGb3+/v3gkBAIDz\n",
              "QkyswXG73crOztbQoUOVlJSkRYsWBfqqq6uVk5OjCRMmBF3Zqa2tDboyZLfbVVtb2+lzrFixQklJ\n",
              "SUFbRUVFZE4IAABEVUwEHLvdrg8//FD19fXyeDwqKSmRJOXk5Kiurk4HDhzQjh07tH79ev3ud7/r\n",
              "0XMsWbJEjY2NQVtubm44TwMAAMSImAg4ZyQkJKigoEBbtmyRJCUmJiopKUmSlJKSottuu01lZWWS\n",
              "pNTUVNXU1AT2dbvdSk1N7fTYNptNiYmJQZvVao3g2QAAgGiJesCpqqoKfPupra1NO3bsUFZWliTp\n",
              "2LFjam9vlySdOnVKu3btktPplCTdfPPNKi0tVX19vQzD0Pr161VQUBCdkwAAADElogGnqKhIKSkp\n",
              "qqur08yZM5Weni5JKiwsVGlpqSRp9+7dcjqdys7OltPp1PDhw7V06VJJ0vbt2zV+/HhlZ2fr6quv\n",
              "1rXXXqt7771XkjRq1CgtW7ZMkyZNUnp6upKTk1VUVBTJ0wEAAOcJi2EYRrSLiJbi4mKtWrUq2mUA\n",
              "AIAwi/pHVAAAAOFGwAEAAKZDwAEAAKZDwAEAAKZDwAEAAKZDwAEAAKZDwAEAAKZDwAEAAKZDwAEA\n",
              "AKZDwAEAAKZDwAEAAKZDwAEAAKZDwAEAAKZDwAEAAKZDwAEAAKZDwAEAAKZDwAEAAKZDwAEAAKZD\n",
              "wAEAAKZDwAEAAKZDwAEAAKZDwAEAAKZDwAEAAKZDwAEAAKZDwAEAAKZDwAEAAKZDwAEAAKZDwAEA\n",
              "AKZDwAEAAKZDwAEAAKZDwAEAAKZDwAEAAKZDwAEAAKYT0YCzePFi2e12WSwWuVyuDsfs379fDodD\n",
              "DodDmZmZKioqksfjkSTt3r1bubm5uuKKK5SZmakHH3xQ7e3tkiS32y2r1RrY1+FwqLq6OpKnAwAA\n",
              "zhMRDThz585VeXm50tLSOh2TnZ2tyspKuVwuHTp0SA0NDVq3bp0k6eKLL9Yrr7yijz/+WB988IH2\n",
              "7dunl156KbDvwIED5XK5Atvo0aMjeToAAOA8ERfJg+fl5XU5pn///oG/29ra1NraKovFIklyOp2B\n",
              "vvj4eDkcDrnd7h7V4vF4AleGzvD7/T06FgAAiG0xsQbH7XYrOztbQ4cOVVJSkhYtWvS9MfX19dq2\n",
              "bZtuvPHGQFtLS4smTJignJwcLV++/KyBZcWKFUpKSgraKioqInI+AAAgumIi4Njtdn344Yeqr6+X\n",
              "x+NRSUlJUH9TU5N++tOf6sEHH9RVV10lSRo5cqQ+//xzVVZW6q233lJZWZlWrlzZ6XMsWbJEjY2N\n",
              "QVtubm5EzwsAAERHTAScMxISElRQUKAtW7YE2k6dOqX8/HzNnj1bxcXFgXabzaZhw4ZJkgYPHqx5\n",
              "8+aprKys02PbbDYlJiYGbVarNXInAwAAoibqAaeqqkper1fSd2twduzYoaysLElSc3Oz8vPzlZ+f\n",
              "r0cffTRov4aGhsB+Z676/P2aHQAAcOGKaMApKipSSkqK6urqNHPmTKWnp0uSCgsLVVpaKum7r4I7\n",
              "nU5lZ2fL6XRq+PDhWrp0qSTpmWeeUUVFhUpKSgJfBX/iiSckSeXl5YH9cnJyNGLECD3yyCORPB0A\n",
              "AHCesBiGYUS7iGgpLi7WqlWrol0GAAAIs6h/RAUAABBuBBwAAGA6BBwAAGA6BBwAAGA6BBwAAGA6\n",
              "BBwAAGA6BBwAAGA6BBwAAGA6BBwAAGA6BBwAAGA6BBwAAGA6BBwAAGA6BBwAAGA6BBwAAGA6BBwA\n",
              "AGA6BBwAAGA6BBwAAGA6BBwAAGA6BBwAAGA6BBwAAGA6BBwAAGA6BBwAAGA6BBwAAGA6BBwAAGA6\n",
              "BBwAAGA6BBwAAGA6BBwAAGA6BBwAAGA6BBwAAGA6BBwAAGA6BBwAAGA6BBzgPHHa69eXzR6d9vqj\n",
              "XQoAxLy4aBcA4OxOnPJo87tuvfnRcbV6/erX16rrrxyhOyemaWiCLdrlAUBMiugVnMWLF8tut8ti\n",
              "scjlcnU4Zv/+/XI4HHI4HMrMzFRRUZE8Hk+gf+PGjRozZoxGjx6tBQsWyOv1htQHmMGJUx49sPWg\n",
              "trxXqxaPT3F9LGrx+LT5vRrd//JBfdns6fogAHABimjAmTt3rsrLy5WWltbpmOzsbFVWVsrlcunQ\n",
              "oUNqaGjQunXrJElHjx7V0qVLVVZWpqqqKh0/flwbNmzosg8wi83vulXVcErJCTZdPOAiDbDF6eIB\n",
              "Fyk5waaqhlPavL8m2iUCQEyKaMDJy8tTSkrKWcf0799fffv2lSS1tbWptbVVFotFkrRt2zbNmjVL\n",
              "I0aMkMVi0cKFC7V169Yu+zri8XjU1NQUtPn9rGVA7Drt9evNj44rPs6qOGvwP9U4ax/Z4qx643A9\n",
              "a3IAoAMxscjY7XYrOztbQ4cOVVJSkhYtWiRJqq2tDbr6Y7fbVVtb22VfR1asWKGkpKSgraKiIkJn\n",
              "BJy7Zo9PrV6/Lorr+J+pLa6PWtv8avb4erkyAIh9MRFw7Ha7PvzwQ9XX18vj8aikpCTsz7FkyRI1\n",
              "NjYGbbm5uWF/HiBcEmxx6tfXqjZfe4f9Hl+7+l1kVYKN7woAwP8XEwHnjISEBBUUFGjLli2SpNTU\n",
              "VNXU/G2NgdvtVmpqapd9HbHZbEpMTAzarFZrhM4EOHfxfa3Kv3K4Tvv88vmDQ47P3y6Pz6/rM0co\n",
              "vi+vYwD4/6IecKqqqgLffmpra9OOHTuUlZUlSbr55ptVWlqq+vp6GYah9evXq6CgoMs+wCzummhX\n",
              "+rCBOtHs0dctbWrx+PR1S5tONHs0ZthA3Tmx8wX8AHAhi2jAKSoqUkpKiurq6jRz5kylp6dLkgoL\n",
              "C1VaWipJ2r17t5xOp7Kzs+V0OjV8+HAtXbpUkjRq1CgtW7ZMkyZNUnp6upKTk1VUVNRlH2AWQxNs\n",
              "Wnu7U3f+KE0J8XHytRtKiI/TnT9K07O3O7kPDgB0wmIYhhHtIqKluLhYq1atinYZQEhOe79bUJxg\n",
              "i+NjKQDoAqsTgfNEfF8rwQYAQhT1NTgAAADhRsABAACmQ8ABAACmQ8ABAACmQ8ABAACmQ8ABAACm\n",
              "Q8ABAACmQ8ABAACmQ8ABAACmQ8ABAACmc0H/FtWcOXNkt9vDfly/36+Kigrl5ubKauXW+mfDXIWO\n",
              "uQodcxU65ip0zFXoIj1XaWlp+qd/+qezjrmgA06kNDU1KSkpSY2NjUpMTIx2OTGNuQodcxU65ip0\n",
              "zFXomKvQxcJc8REVAAAwHQIOAAAwHQIOAAAwHQJOBNhsNv3qV7+SzWaLdikxj7kKHXMVOuYqdMxV\n",
              "6Jir0MXCXLHIGAAAmA5XcAAAgOkQcAAAgOkQcAAAgOkQcM7Bddddp6ysLDkcDk2ZMkUHDx7scNzG\n",
              "jRs1ZswYjR49WgsWLJDX6+3lSqMvlLlyu92aNm2akpKS5HA4er/IGBHKXO3evVu5ubm64oorlJmZ\n",
              "qQcffFDt7e1RqDa6Qpmr/fv3y+FwyOFwKDMzU0VFRfJ4PFGoNrpCfb+SJMMwNGPGDA0aNKj3Cowh\n",
              "oczV3r171a9fv8Bry+FwqLW1NQrVRleor6tDhw5p2rRpGjdunMaNG6eSkpLIF2egx06ePBn4u6Sk\n",
              "xMjKyvremM8++8wYOXKkcezYMaO9vd346U9/aqxdu7YXq4wNoczVV199ZZSVlRm7du0ysrOze6+4\n",
              "GBPKXB04cMCorq42DMMwWltbjUmTJhmbNm3qpQpjRyhz1dLSYrS1tRmGYRh+v9+46aabjFWrVvVW\n",
              "iTEjlLk6Y+XKlUZhYaGRlJQU+cJiUChztWfPngv6feqMUP8NXnbZZUZZWZlhGIbh8/mMhoaGiNfG\n",
              "FZxz8Pf/76axsVEWi+V7Y7Zt26ZZs2ZpxIgRslgsWrhwobZu3dqLVcaGUOZq8ODBmjx5sgYMGNCL\n",
              "lcWeUObK6XRq1KhRkqT4+Hg5HA653e5eqjB2hDJX/fv3V9++fSVJbW1tam1t7XCc2YUyV5J0+PBh\n",
              "7dy5Uw899FAvVRZ7Qp0rhDZXL7/8sq6++mpNnjxZkmS1WpWcnBzx2uIi/gwm94tf/EJ79uyRJP33\n",
              "f//39/pra2uVlpYWeGy321VbW9tr9cWSruYKf9Oduaqvr9e2bdu0a9eu3igt5oQyV263W7Nnz1Z1\n",
              "dbVuuOEGLVq0qDdLjBldzZXX69WCBQu0cePGC/7HJEN5XVVXVysnJ0dWq1X33nsvryt1PFcff/yx\n",
              "bDabbrzxRtXV1SkrK0srV66MfMiJ+DWiC8SLL75oXH/99d9rv//++40nn3wy8Pjw4cPGD37wg94s\n",
              "LeZ0NldncOn3b7qaq8bGRuOqq64yVq5c2YtVxaau5sowDOPUqVPG7Nmzja1bt/ZSVbGps7l65JFH\n",
              "jKeeesowDMM4evToBfsR1d/rbK4aGxuNb775xjAMw/jrX/9qjB8/3nj11Vd7u7yY0tlcPfDAA0ZK\n",
              "SopRV1dntLe3Gw899JBx8803R7weAk4YxcfHG19++WVQ23/8x38YRUVFgcevv/66MWnSpN4uLeZ0\n",
              "NFdnEHCCdTZXTU1NxsSJE43HH388ClXFprO9rs7YunWrceONN/ZSRbGro7maPHmykZqaaqSlpRmX\n",
              "XnqpYbFYjLS0tF5ZLxHLQnldPfnkk8b999/fSxXFro7m6qmnnjLuuuuuwOOPPvrIuPTSSyNeC2tw\n",
              "euibb77RF198EXi8c+dODRkyRIMHDw4ad/PNN6u0tFT19fUyDEPr169XQUFBb5cbVaHOFUKfq+bm\n",
              "ZuXn5ys/P1+PPvpob5cZE0Kdq6qqqsA3F9va2rRjxw5lZWX1aq3RFupclZWVqaamRm63W+Xl5UpM\n",
              "TJTb7e6V9RKxItS5OnbsWOCbi6dOndKuXbvkdDp7tdZoC3Wufv7zn6uyslJNTU2SvvsYKzs7O+L1\n",
              "sQanhxobG3XLLbeotbVVffr0UXJysnbt2iWLxaLCwkLNmjVLs2bN0qhRo7Rs2TJNmjRJkjRt2jQV\n",
              "FRVFufreFepcffvtt7r88svl8XjU2NiolJQU3XXXXVqxYkW0T6HXhDpXzzzzjCoqKtTS0hL4uuUt\n",
              "t9yiRx55JMpn0HtCnavdu3drzZo1slqt8vl8uuaaa7R06dJol9+rQp0rhD5X27dv129+8xvFxcXJ\n",
              "5/Pplltu0b333hvt8ntVqHOVmpqqhx9+WD/+8Y/Vp08fXXrppdqwYUPE6+O3qAAAgOnwERUAADAd\n",
              "Ag4AADAdAg4AADAdAg6AiCgpKdEPf/hDORwOZWRkaMaMGRH5vSy3293pbyZddtllKi8vDzwuLCyU\n",
              "3W4PPPb5fBo4cKCqq6v12GOPacuWLR0eZ+3atbrnnnskSS6XS6+88kpQv8Vi0TfffHMupwEgzPgW\n",
              "FYCwO3bsmO677z598MEHgTt5HzhwoNdveT99+nTt3bs3cIv48vJyDRkyRG63W3a7XZWVlRo8eLBG\n",
              "jx6t5cuXh3RMl8ulnTt3XnC3ewDON1zBARB2x48fl9VqDbofRk5OjiwWiz799FPdcMMNmjBhgrKy\n",
              "srR27drAGIvFokcffVROp1OXX3550BWVO+64Q1dddZWysrJ0ww03qL6+vss6zgQcSfrrX/+qiy++\n",
              "WDfccEOgbe/evZo+fbok6Z577tHTTz8t6bv7mtx6660aO3asJk+erEOHDkmSGhoa9Nhjj2nPnj1y\n",
              "OBxauHBh4LnWrVun3NxcXXbZZdq0aVOP5g1A+BBwAIRdVlaWJk+erLS0NP3sZz/TU089pc8//1x+\n",
              "v1+33XabVq5cqcrKSr377rvasGGDKisrA/taLBYdPHhQb775ph544IHAj4g+/fTTev/99/WXv/xF\n",
              "U6ZM0b/92791Wcf06dO1b98+tbW1ac+ePZo6daqmTp0a+N2cPXv2aMaMGd/bb/ny5bLZbDpy5Ihe\n",
              "f/11/fnPf5YkDRs2TMuXL9f06dPlcrm0fv36wD42m00VFRV64403tHjxYvl8vnOYQQDnioADIOz6\n",
              "9Omj7du3a9++fcrPz9c777yjzMxMHT58WIcPH1ZBQYEcDod+/OMf69SpU/r4448D+xYWFkqSRo0a\n",
              "pby8vEC4ePnll3XVVVfpyiuv1PPPPy+Xy9VlHSkpKbr00kv13nvvae/evZo2bZomTpyoffv2yev1\n",
              "at++fYErOH/vT3/6k+bPny+LxaKkpCTdfvvtXT7XHXfcIUnKyMhQXFxcSFeYAEQOa3AARExGRoYy\n",
              "MjJUVFSk/Px8/dd//ZcGDx4cUjg5w2KxqLy8XGvWrNH+/fs1bNgwlZaW6rHHHgtp/+nTp2vPnj2B\n",
              "Y/Tv31/Dhg3TK6+8opEjR+oHP/hBSDV0JT4+PvD3mbsmA4geruAACLvPP/9c77zzTuDxyZMndfTo\n",
              "UV155ZVKTEwMWqNSVVWlr7/+OvD4TJ/b7VZZWZmmTJmikydPauDAgRoyZIja2tr03HPPhVzL9OnT\n",
              "tXnzZg0ZMkQJCQmSpKlTp+rxxx/v8OqNJP3DP/yDNm3aJMMw1NTUpK1btwb6EhMT1djYGPLzA4gO\n",
              "Ag6AsPP5fFq+fLkuv/xyORwOTZkyRXfffbdmz56tXbt2qaSkRFlZWcrMzNT8+fPV2toa2Nfv98vp\n",
              "dOq6667TmjVrZLfblZ+fr7Fjx2rs2LGaMmWKHA5Hp89dWFio0tLSwONp06bp008/1dSpUwNtU6dO\n",
              "1aefftrh+htJWrp0qVpbW5WRkaGf/OQngW9hSdI111wjj8ejrKysoEXGAGILv0UFIGZYLBadPHmy\n",
              "0/vaAECouIIDAABMh0XGAGIGF5QBhAtXcAAAgOkQcAAAgOkQcAAAgOkQcAAAgOkQcAAAgOkQcAAA\n",
              "gOkQcAAAgOkQcAAAgOn8H4nodIe+d239AAAAAElFTkSuQmCC\n",
              "\">\n",
              "      </div>\n",
              "      <script type=\"text/javascript\">\n",
              "        (() => {\n",
              "          const chartElement = document.getElementById(\"chart-32e1703c-cbc9-4741-b80e-9d5415d757e3\");\n",
              "          async function getCodeForChartHandler(event) {\n",
              "            const chartCodeResponse =  await google.colab.kernel.invokeFunction(\n",
              "                'getCodeForChart', [\"chart-32e1703c-cbc9-4741-b80e-9d5415d757e3\"], {});\n",
              "            const responseJson = chartCodeResponse.data['application/json'];\n",
              "            await google.colab.notebook.addCell(responseJson.code, 'code');\n",
              "          }\n",
              "          chartElement.onclick = getCodeForChartHandler;\n",
              "        })();\n",
              "      </script>\n",
              "      <style>\n",
              "        .colab-quickchart-chart-with-code  {\n",
              "            display: block;\n",
              "            float: left;\n",
              "            border: 1px solid transparent;\n",
              "        }\n",
              "\n",
              "        .colab-quickchart-chart-with-code:hover {\n",
              "            cursor: pointer;\n",
              "            border: 1px solid #aaa;\n",
              "        }\n",
              "      </style>"
            ]
          },
          "metadata": {}
        },
        {
          "output_type": "display_data",
          "data": {
            "text/plain": [
              "<google.colab._quickchart_helpers.SectionTitle at 0x7f0f6115dab0>"
            ],
            "text/html": [
              "<h4 class=\"colab-quickchart-section-title\">Time series</h4>\n",
              "<style>\n",
              "  .colab-quickchart-section-title {\n",
              "      clear: both;\n",
              "  }\n",
              "</style>"
            ]
          },
          "metadata": {}
        },
        {
          "output_type": "display_data",
          "data": {
            "text/plain": [
              "from matplotlib import pyplot as plt\n",
              "import seaborn as sns\n",
              "def _plot_series(series, series_name, series_index=0):\n",
              "  from matplotlib import pyplot as plt\n",
              "  import seaborn as sns\n",
              "  palette = list(sns.palettes.mpl_palette('Dark2'))\n",
              "  xs = series['Petal.Width']\n",
              "  ys = series['Sepal.Length']\n",
              "  \n",
              "  plt.plot(xs, ys, label=series_name, color=palette[series_index % len(palette)])\n",
              "\n",
              "fig, ax = plt.subplots(figsize=(10, 5.2), layout='constrained')\n",
              "df_sorted = _df_5.sort_values('Petal.Width', ascending=True)\n",
              "_plot_series(df_sorted, '')\n",
              "sns.despine(fig=fig, ax=ax)\n",
              "plt.xlabel('Petal.Width')\n",
              "_ = plt.ylabel('Sepal.Length')"
            ],
            "text/html": [
              "      <div class=\"colab-quickchart-chart-with-code\" id=\"chart-bc053bd3-7abd-4095-a4d7-a0000f899ba1\">\n",
              "        <img style=\"width: 180px;\" src=\"data:image/png;base64,iVBORw0KGgoAAAANSUhEUgAAA/MAAAITCAYAAABLz0yVAAAAOXRFWHRTb2Z0d2FyZQBNYXRwbG90\n",
              "bGliIHZlcnNpb24zLjcuMSwgaHR0cHM6Ly9tYXRwbG90bGliLm9yZy/bCgiHAAAACXBIWXMAAA9h\n",
              "AAAPYQGoP6dpAAAplUlEQVR4nO3dfbSVdZ3//9fxHD2KBeWoGRogxk0ocLiJMDKkO8l7bQptaVng\n",
              "DViTOo2TZWpmkWODNa4pQxNXmUoTLm1czWrSUpkhI1O8K6cyj6ACJnGjKPfX749+7W9HDngO7g1+\n",
              "7PFYa691zr6uvc/7+Ony6um19z5NVVVVAQAAAIqx044eAAAAAOgeMQ8AAACFEfMAAABQGDEPAAAA\n",
              "hRHzAAAAUBgxDwAAAIUR8wAAAFAYMQ8AAACFeVXE/Ne//vUdPQIAAABsN6+KmH/88cd39AgAAACw\n",
              "3bwqYh4AAAD+loh5AAAAKIyYBwAAgMKIeQAAACiMmAcAAIDCiHkAAAAojJgHAACAwoh5AAAAKIyY\n",
              "BwAAgMKIeQAAACiMmAcAAIDCiHkAAAAojJgHAACAwoh5AAAAKIyYBwAAgMKIeQAAACiMmAcAAIDC\n",
              "NDTm+/Xrl0GDBqWtrS1tbW2ZPXv2Zvu0t7fn0EMPTa9evdLW1tbIcQAAAOBVoaXRP2D27NlbjfSe\n",
              "PXvmkksuycqVK/O5z32u0eMAAN1UVVVe2LA+SbJby85pamrawRMBADv8ZfZ77LFH3vGOd2T33Xfv\n",
              "0v5r167NqlWrOtw2btzY4CkB4G/XCxvWZ+B1F2TgdRfUoh4A2LEaHvMf+chHMnTo0EyePDl//OMf\n",
              "X/bzTZ8+Pb169epwmz9/fh0mBQAAgDI0NObvuuuuPPDAA7n33nuz55575qMf/ejLfs7zzjsvK1eu\n",
              "7HAbM2ZMHaYFAACAMjT0PfN9+vRJkuy8884566yzMnDgwJf9nK2trWltbe1wX3Nz88t+XgAAAChF\n",
              "w67Mr169OitWrKh9f8MNN2TEiBGN+nEAAADwN6NhV+aXLl2aD3zgA9m4cWOqqkr//v3zne98J0ky\n",
              "ZcqUHH300Tn66KPz/PPPZ+DAgVm7dm1WrlyZ/fbbLyeffHKmT5/eqNEAAACgaA2L+f79++e+++7r\n",
              "dNvVV19d+7pHjx554oknGjUGAAAAvOrs8D9NBwAAAHSPmAcAAIDCiHkAAAAojJgHAACAwoh5AAAA\n",
              "KIyYBwAAgMKIeQAAACiMmAcAAIDCiHkAAAAojJgHAACAwoh5AAAAKIyYBwAAgMKIeQAAACiMmAcA\n",
              "AIDCiHkAAAAojJgHAACAwoh5AAAAKIyYBwAAgMKIeQAAACiMmAcAAIDCiHkAAAAojJgHAACAwoh5\n",
              "AAAAKIyYBwAAgMKIeQAAACiMmAcAAIDCiHkAAAAojJgHAACAwoh5AAAAKIyYBwAAgMKIeQAAACiM\n",
              "mAcAAIDCiHkAAAAojJgHAACAwoh5AAAAKIyYBwAAgMKIeQAAACiMmAcAAIDCiHkAAAAojJgHAACA\n",
              "woh5AAAAKIyYBwAAgMKIeQAAACiMmAcAAIDCiHkAAAAojJgHAACAwoh5AAAAKIyYBwAAgMKIeQAA\n",
              "ACiMmAcAAIDCiHkAAAAojJgHAACAwoh5AAAAKIyYBwAAgMKIeQAAACiMmAcAAIDCiHkAAAAojJgH\n",
              "AACAwoh5AAAAKIyYBwAAgMKIeQAAACiMmAcAAIDCiHkAAAAojJgHAACAwoh5AAAAKIyYBwAAgMKI\n",
              "eQAAACiMmAcAAIDCiHkAAAAojJgHAACAwoh5AAAAKIyYBwAAgMKIeQAAACiMmAcAAIDCiHkAAAAo\n",
              "jJgHAACAwoh5AAAAKIyYBwAAgMI0NOb79euXQYMGpa2tLW1tbZk9e3an+33729/OgAEDcsABB+TU\n",
              "U0/N+vXrGzkWAAAAFK3hV+Znz56dBQsWZMGCBZk0adJm2x977LF8/vOfz9y5c/P73/8+S5cuzcyZ\n",
              "Mxs9FgAAABRrh7/M/gc/+EGOPvro7LPPPmlqasoZZ5yRG264YUePBQD8/6pUnX4NAOw4LY3+AR/5\n",
              "yEdSVVXGjBmTr3zlK9lrr706bF+4cGH69u1b+75fv35ZuHDhFp9v7dq1Wbt2bYf7Nm7cWN+hAYCa\n",
              "Fzas7/D17ju37sBpAICkwVfm77rrrjzwwAO59957s+eee+ajH/3oy37O6dOnp1evXh1u8+fPr8O0\n",
              "AAAAUIaGxnyfPn2SJDvvvHPOOuuszJ07t9N9Hn/88dr37e3ttcd15rzzzsvKlSs73MaMGVP/4QEA\n",
              "AOAVqmExv3r16qxYsaL2/Q033JARI0Zstt8HPvCB/PCHP8ySJUtSVVWuvPLKnHDCCVt83tbW1vTs\n",
              "2bPDrbm5uRG/AgAAALwiNew980uXLs0HPvCBbNy4MVVVpX///vnOd76TJJkyZUqOPvroHH300enf\n",
              "v3++8IUvZNy4cUmSQw89NKeffnqjxgIAAIDiNSzm+/fvn/vuu6/TbVdffXWH70899dSceuqpjRoF\n",
              "AAAAXlV2+J+mAwAAALpHzAMAAEBhxDwAAAAURswDAABAYcQ8AAAAFEbMAwAAQGHEPAAAABRGzAMA\n",
              "AEBhxDwAAAAURswDAABAYcQ8AAAAFEbMAwAAQGHEPAAAABRGzAMAAEBhxDwAAAAURswDAABAYcQ8\n",
              "AAAAFEbMAwAAQGHEPAAAABRGzAMAAEBhxDwAAAAURswDAABAYcQ8AAAAFEbMAwAAQGHEPAAAABRG\n",
              "zAMAAEBhxDwAAAAURswDAABAYcQ8AAAAFEbMAwAAQGHEPAAAABRGzAMAAEBhxDwAAAAURswDAABA\n",
              "YcQ8AAAAFEbMAwAAQGHEPAAAABRGzAMAAEBhxDwAAAAURswDAABAYcQ8AAAAFEbMAwAAQGHEPAAA\n",
              "ABRGzAMAAEBhxDwAAAAURswDAABAYcQ8AAAAFEbMAwAAQGHEPAAAABRGzAMAAEBhxDwAAAAURswD\n",
              "AABAYcQ8AAAAFEbMAwAAQGHEPAAAABRGzAMAAEBhxDwAAAAURswDAABAYcQ8AAAAFEbMAwAAQGHE\n",
              "PAAAABRGzAMAAEBhxDwAAAAURswDAABAYcQ8AAAAFEbMAwAAQGHEPAAAABRGzAMAAEBhxDwAAAAU\n",
              "RswDAABAYcQ8AAAAFEbMAwAAQGHEPAAAABRGzAMAAEBhxDwAAAAURswDAABAYcQ8AAAAFEbMAwAA\n",
              "QGHEPAAAABRmu8T8rFmz0tTUlJtvvrnT7ZdddlkOOuigDBkyJMcdd1xWrFixPcYCAACAIjU85tvb\n",
              "23PVVVdl7NixnW7/yU9+klmzZuXnP/95fv3rX2fUqFH53Oc+1+ixAAAAoFgNjflNmzZlypQpueKK\n",
              "K9La2trpPvfff3/e8Y535LWvfW2S5PDDD893v/vdLT7n2rVrs2rVqg63jRs3NmR+AAAAeCVqaMzP\n",
              "mDEj48aNy6hRo7a4z6hRo3LbbbdlyZIlqaoq3/ve9/Lss8/mT3/6U6f7T58+Pb169epwmz9/fqN+\n",
              "BQAAAHjFaVjMP/TQQ5kzZ07OP//8re43YcKEfPrTn86RRx6ZsWPHZq+99kqStLS0dLr/eeedl5Ur\n",
              "V3a4jRkzpu7zAwAAwCtV58VcB3Pnzk17e3sGDBiQJFmyZElOO+20LF68OFOnTu2w77Rp0zJt2rQk\n",
              "yd1335399tsvPXv27PR5W1tbN3vJfnNzcwN+AwAAAHhlatiV+alTp2bx4sVpb29Pe3t7xo4dm5kz\n",
              "Z24W8kmyePHiJMnzzz+fCy64IOeee26jxgIAAIDiNezK/NZccMEF6d27d84444wkyfve975s2rQp\n",
              "69aty8knn5xPfOITO2IsAAAAKMJ2i/k77rij9vXFF1/cYduDDz64vcYAAACA4jX878wDAAAA9SXm\n",
              "AQAAoDBiHgAAAAoj5gEAAKAw2/QBeIsXL85jjz2WDRs21O575zvfWbehAAAAgC3rdsx/6UtfymWX\n",
              "XZb+/funubk5SdLU1JT58+fXfTgAAABgc92O+WuuuSaPPvpo/u7v/q4R8wAAAAAvodvvmX/DG94g\n",
              "5AEAAGAH6vKV+QceeCBJ8t73vjdnnXVWPvzhD2fXXXetbR82bFj9pwMAAAA20+WYP+aYYzp8f8st\n",
              "t9S+bmpqyh/+8If6TQUAAABsUZdj/rHHHmvkHAAAAEAXdfs988cee2yX7gMAAAAao9sxv3Dhws3u\n",
              "e/TRR+syDAAAAPDSuvwy+29961u58sor89vf/jYjR46s3b9y5coceOCBDRkOAAAA2FyXY37ixIkZ\n",
              "NGhQpk6dmssvv7x2f8+ePX2SPQAAAGxHXY75vn37pm/fvvnNb37TyHkAAACAl9DlmP+Ld73rXZvd\n",
              "97rXvS4HH3xw/uEf/iGtra11GQwAAADoXLc/AG/kyJFpaWnJ5MmTM2XKlOyyyy7p3bt37rnnnnzy\n",
              "k59sxIwAAADAX+n2lfl58+Zl7ty5aW5uTpJ88IMfzCGHHJL/+Z//ydChQ+s+IAAAANBRt6/ML1u2\n",
              "LE1NTbXvm5qasnz58rS0tGTXXXet63AAAADA5rp9Zf7d73533v/+9+ekk05Kklx//fV517veleee\n",
              "e8775QEAAGA76HbM/9u//Vu+9a1v5eabb06SHHnkkTn99NPT0tKSu+++u97zAQAAAC/S7ZhvaWnJ\n",
              "mWeemTPPPLMR8wAAAAAvodsxv2LFinzrW9/Ko48+mg0bNtTuv+aaa+o6GAAAANC5bsf83//932ev\n",
              "vfbKwQcfXPtEewAAAGD76XbML168OLfddlsjZgEAAAC6oNt/mu6AAw7IihUrGjAKAAAA0BXdvjLf\n",
              "o0ePjBw5MhMnTuzwd+VnzJhR18EAAACAznU75t/ylrfkLW95SyNmAQAAALqg2zF/4YUXNmIOAAAA\n",
              "oIu6/Z75RYsW5cgjj0xbW1uSZMGCBbn88svrPRcAAACwBd2O+dNPPz0nnHBCqqpKkhx00EH+xjwA\n",
              "AABsR92O+aeffjonnXRSdtrpzw9taWlJS0u3X60PAAAAbKNux3xLS0vtqnySLF++vMP3AAAAQGN1\n",
              "O+Y/+MEP5vTTT8+qVaty9dVX573vfW8mT57ciNkAAACATnT79fH/+I//mBtuuCErV67Mf//3f+ec\n",
              "c87Jhz/84UbMBgAAAHRim97sfuKJJ+bEE0+sfT9p0qTMnj27bkMBAAAAW9btl9l35uc//3k9ngYA\n",
              "AADogrrEvA/AAwAAgO2nLjHf1NRUj6cBAAAAuqDL75kfMWJEp9FeVVWefvrpug4FAAAAbFmXY/5r\n",
              "X/taA8cAAAAAuqrLMT9+/PhGzgEAAAB0UV3eM3/rrbfW42kAAACALqhLzN9yyy31eBoAAACgC+oS\n",
              "81dddVU9ngYAAADogrrEPAAAALD9dPkD8F7/+tdv8U/TNTU15U9/+lNdBwMAAAA61+WYX7BgQQPH\n",
              "AAAAALqqyzHft2/fRs4BAAAAdFGXY/4vnn766Vx44YW5//77s2bNmtr99957b10HAwAAADrX7Q/A\n",
              "mzx5cvr165dnnnkmX/jCF9K7d+8cccQRjZgNAAAA6ES3Y37RokX553/+57S2tuaoo47KTTfdlNtu\n",
              "u60RswEAAACd6HbM77LLLkmSXXfdNcuWLUtLS0ueeeaZug8GAAAAdK7b75kfOHBgli1blpNOOilv\n",
              "e9vb0rNnz4waNaoRswEAAACd6HbMX3fddUmST33qUxk9enSWL1+eiRMn1n0wAAAAoHPdjvkkWbhw\n",
              "Ye666640NTXlkEMOSUvLNj0NAAAAsA26/Z7566+/PiNGjMicOXPygx/8IKNGjcqNN97YiNkAAACA\n",
              "TnT7kvrFF1+ce+65J/vvv3+SpL29PRMnTswJJ5xQ9+EAAACAzXX7ynyPHj1qIZ8k/fr1S48ePeo6\n",
              "FAAAALBl3Y75I444IhdddFGeeOKJLFq0KBdffHGOOuqorFq1KqtWrWrEjAAAAMBf6fbL7L/0pS8l\n",
              "+fPL7f/aF7/4xTQ1NWXjxo31mQwAAADoVLdjftOmTY2YAwAAAOiibr/MPkl+9atf5bvf/W6SZMWK\n",
              "FVm8eHFdhwIAAAC2rNsx/41vfCMf//jHc9FFFyVJli1blg9/+MP1ngsAAADYgm7H/MyZM3P33Xen\n",
              "Z8+eSZIDDjggf/zjH+s+GAAAANC5bsd8a2trdttttw73tbR0+633AAAAwDbqdszvtdde+e1vf5um\n",
              "pqYkybXXXps+ffrUfTAAAACgc92+pP61r30tJ554Yh555JG86U1vSs+ePXPrrbc2YjYAAACgE92O\n",
              "+Te/+c35xS9+kYcffjj/+Z//maFDh2b//fdvxGwAAABAJ7r8Mvv3vOc9WbBgQZJkyZIlGT9+fObO\n",
              "nZtzzz03l156aaPmAwAAAF6kyzH/5JNPpq2tLUly/fXXZ/z48fmv//qvzJs3L9/73vcaNR8AAADw\n",
              "Il2O+b/+BPt58+bl8MMPT5K8/vWv92n2AAAAsB11OeZ32mmnPPHEE3nuuedy5513Zvz48bVtzz//\n",
              "fEOGAwAAADbX5Uvqn/3sZzNixIi0tLRkwoQJGThwYJI/X6Xv169fo+YDAAAAXqTLMX/88cfn7W9/\n",
              "e5YuXZphw4bV7u/Xr19mzpzZkOEAAACAzXXrze777LNP9tlnnw739e7du64DAQAAAFvX5ffMAwAA\n",
              "AK8M2yXmZ82alaamptx8882dbr/00kszZMiQtLW1ZezYsZk/f/72GAsAAACK1PC/Kdfe3p6rrroq\n",
              "Y8eO7XT7ggUL8o1vfCMPP/xwXvOa1+S6667LJz7xCUEPAAAAW9DQK/ObNm3KlClTcsUVV6S1tbXT\n",
              "fZqamrJ+/fqsXr06SbJixYrst99+W3zOtWvXZtWqVR1uGzdubMj8AAAA8ErU0CvzM2bMyLhx4zJq\n",
              "1Kgt7jN8+PCcffbZ2X///bPHHnuktbU1d9111xb3nz59er7whS90uG9LV/0BAADg1ahhV+Yfeuih\n",
              "zJkzJ+eff/5W93vsscdy00035fe//32eeOKJnH322Zk0adIW9z/vvPOycuXKDrcxY8bUe3wAAAB4\n",
              "xWrYlfm5c+emvb09AwYMSJIsWbIkp512WhYvXpypU6fW9pszZ06GDh1a+xN3H/vYx/LJT34y69at\n",
              "yy677LLZ87a2tm72kv3m5uZG/RoAAADwitOwK/NTp07N4sWL097envb29owdOzYzZ87sEPJJ0r9/\n",
              "//zv//5vnnvuuSTJrbfemoEDB3Ya8gAAAMB2+DT7zlxwwQXp3bt3zjjjjBx33HH55S9/mdGjR6e1\n",
              "tTW77757rr/++h0xFgAAABShqaqqakcP8XKdc845mTFjxo4eAwBelZ554bm03XhJkmTBCednz91e\n",
              "s4MnAgAa+qfpAAAAgPoT8wAAAFAYMQ8AAACFEfMAAABQGDEPAAAAhRHzAAAAUBgxDwAAAIUR8wAA\n",
              "AFAYMQ8AAACFEfMAAABQGDEPAAAAhRHzAAAAUBgxDwAAAIUR8wAAAFAYMQ8AAACFEfMAAABQGDEP\n",
              "AAAAhRHzAAAAUBgxDwAAAIUR8wAAAFAYMQ8AAACFEfMAAABQGDEPAAAAhRHzAAAAUBgxDwAAAIUR\n",
              "8wAAAFAYMQ8AAACFEfMAAABQGDEPAAAAhRHzAAAAUBgxDwAAAIUR8wAAAFAYMQ8AAACFEfMAAABQ\n",
              "GDEPAAAAhRHzAAAAUBgxDwAAAIUR8wAAAFAYMQ8AAACFEfMAAABQGDEPAAAAhRHzAAAAUBgxDwAA\n",
              "AIUR8wAAAFAYMQ8AAACFEfMAAABQGDEPAAAAhRHzAAAAUBgxDwAAAIUR8wAAAFAYMQ8AAACFEfMA\n",
              "AABQGDEPAAAAhRHzAAAAUBgxDwAAAIUR8wAAAFAYMQ8AAACFEfMAAABQGDEPAAAAhRHzAAAAUBgx\n",
              "DwAAAIUR8wAAAFAYMQ8AAACFEfMAAABQGDEPAAAAhRHzAAAAUBgxDwAAAIUR8wAAAFAYMQ8AAACF\n",
              "EfMAAABQGDEPAAAAhRHzAAAAUBgxDwAAAIUR8wAAAFAYMQ8AAACFEfMAAABQGDEPAAAAhRHzAAAA\n",
              "UJjtEvOzZs1KU1NTbr755s22/fjHP05bW1vt1rt374wcOXJ7jAUAAABFamn0D2hvb89VV12VsWPH\n",
              "drr9sMMOy2GHHVb7/sgjj8yECRMaPRYAAAAUq6FX5jdt2pQpU6bkiiuuSGtr60vu/9RTT+X222/P\n",
              "ySef3MixAAAAoGgNvTI/Y8aMjBs3LqNGjerS/tdee20OP/zw7L333lvcZ+3atVm7dm2H+zZu3Piy\n",
              "5gQAAICSNOzK/EMPPZQ5c+bk/PPP79L+VVXlmmuuyeTJk7e63/Tp09OrV68Ot/nz59djZAAAAChC\n",
              "w2J+7ty5aW9vz4ABA9KvX7/cfffdOe200/LNb36z0/3vvPPOrFmzpsP75ztz3nnnZeXKlR1uY8aM\n",
              "acSvAAAAAK9IDXuZ/dSpUzN16tTa94ceemjOOuusHHvssZ3u/+1vfzunnHJKmpubt/q8ra2tm73/\n",
              "/qUeAwAAAK8mDf80+85ccMEF6d27d84444wkycqVK3PTTTflwQcf3BHjAAAAQFG2W8zfcccdta8v\n",
              "vvjiDtt69eqV1atXb69RAAAAoGgN/dN0AAAAQP2JeQAAACiMmAcAAIDCiHkAAAAojJgHAACAwoh5\n",
              "AAAAKIyYBwAAgMKIeQAAACiMmAcAAIDCiHkAAAAojJgHAACAwoh5AAAAKIyYBwAAgMKIeQAAACiM\n",
              "mAcAAIDCiHkAAAAojJgHAACAwoh5AAAAKIyYBwAAgMKIeQAAACiMmAcAAIDCiHkAAAAojJgHAACA\n",
              "woh5AAAAKIyYBwAAgMKIeQAAACiMmAcAAIDCiHkAAAAojJgHAACAwoh5AAAAKIyYBwAAgMKIeQAA\n",
              "ACiMmAcAAIDCiHkAAAAojJgHAACAwoh5AAAAKIyYBwAAgMKIeQAAACiMmAcAAIDCiHkAAAAojJgH\n",
              "AACAwoh5AAAAKIyYBwAAgMKIeQAAACiMmAcAAIDCiHkAAAAojJgHAACAwoh5AAAAKIyYBwAAgMKI\n",
              "eQAAACiMmAcAAIDCiHkAAAAojJgHAACAwoh5AAAAKIyYBwAAgMKIeQAAACiMmAcAAIDCiHkAAAAo\n",
              "jJgHAACAwoh5AAAAKIyYBwAAgMKIeQAAACiMmAcAAIDCiHkAAAAojJgHAACAwoh5AAAAKIyYBwAA\n",
              "gMKIeQAAACiMmAcAAIDCiHkAAAAojJgHAACAwoh5AAAAKIyYBwAAgMKIeQAAACiMmAcAAIDCiHkA\n",
              "AAAojJgHAACAwoh5AAAAKIyYBwAAgMJsl5ifNWtWmpqacvPNN3e6feHChTnqqKMyaNCgDBkyJFdc\n",
              "ccX2GAsAAACK1NLoH9De3p6rrroqY8eO7XR7VVU57rjj8pnPfCYf/OAHkyRLly5t9FgAAABQrIZe\n",
              "md+0aVOmTJmSK664Iq2trZ3uc/vtt6e1tbUW8knyhje8YYvPuXbt2qxatarDbePGjXWfHQAAAF6p\n",
              "GhrzM2bMyLhx4zJq1Kgt7vPrX/86e+21V0444YSMGDEixx13XP7whz9scf/p06enV69eHW7z589v\n",
              "xPgAQJI9du3R6dcAwI7TsJfZP/TQQ5kzZ07uuuuure63YcOG/PSnP83dd9+dAw88MFdeeWU+9KEP\n",
              "5Z577ul0//POOy/nnHNOh/s+//nP121uAKCjnZp2ysJTvlz7GgDY8RoW83Pnzk17e3sGDBiQJFmy\n",
              "ZElOO+20LF68OFOnTq3t16dPn4wYMSIHHnhgkuTkk0/OtGnTsn79+uy8886bPW9ra+tmL9lvbm5u\n",
              "1K8BAETEA8ArTcPOzFOnTs3ixYvT3t6e9vb2jB07NjNnzuwQ8kny/ve/P0888USefPLJJMmPfvSj\n",
              "vOUtb+k05AEAAIDt8Gn2nbngggvSu3fvnHHGGdl9991z5ZVX5ogjjkhVVenVq1duvPHGHTEWAAAA\n",
              "FKGpqqpqRw/xcp1zzjmZMWPGjh4DAAAAtgtvgAMAAIDCiHkAAAAojJgHAACAwoh5AAAAKIyYBwAA\n",
              "gMKIeQAAACiMmAcAAIDCiHkAAAAojJgHAACAwoh5AAAAKIyYBwAAgMKIeQAAACiMmAcAAIDCiHkA\n",
              "AAAojJgHAACAwoh5AAAAKExTVVXVjh7i5Tr++OPTr1+/HT3GS9q4cWPmz5+fMWPGpLm5eUePQxdY\n",
              "s7JYr7JYr7JYr/JYs7JYr7JYr7KUuF59+/bNpz71qa3u86qI+VKsWrUqvXr1ysqVK9OzZ88dPQ5d\n",
              "YM3KYr3KYr3KYr3KY83KYr3KYr3K8mpdLy+zBwAAgMKIeQAAACiMmAcAAIDCiPntqLW1NRdeeGFa\n",
              "W1t39Ch0kTUri/Uqi/Uqi/UqjzUri/Uqi/Uqy6t1vXwAHgAAABTGlXkAAAAojJgHAACAwoh5AAAA\n",
              "KIyY74bf/e53efvb356BAwfmrW99ax5++OHN9mlvb8+hhx6aXr16pa2trcO2TZs25dOf/nQOOuig\n",
              "DB48OJMnT866detq22+99dYMHjw4AwYMyPHHH59Vq1Z1aRuda+R6Pfjgg3nnO9+ZwYMH56CDDsrH\n",
              "P/7xvPDCC7XHNjU1ZejQoWlra0tbW1vmzp3b0N/11aCR69Xe3p7m5ubaerS1teXRRx+tPdbx1X2N\n",
              "XK8f//jHHdaqd+/eGTlyZO2xjq9t05U1++lPf5oxY8ZkyJAhOfDAA3Puuedm06ZNte3bep5yjHVf\n",
              "I9fLOaz+GrlezmH118j1cg5rjJe7Zs8991wOO+yw7Lnnnnnd61632WOLPYdVdNmECROqWbNmVVVV\n",
              "Vf/xH/9RjR49erN9li1bVs2dO7e69dZbq+HDh3fYNnPmzGrChAnV2rVrq02bNlVTpkyp/uVf/qWq\n",
              "qqp69tlnq7333rv6zW9+U1VVVZ155pnVpz/96ZfcxpY1cr1++9vfVvfff39VVVW1YcOG6kMf+lB1\n",
              "4YUX1h6bpFq+fHkjfq1XrUau12OPPVb16tWr05/r+No2jVyvFzviiCOqr371q7XvHV/bpitrdu+9\n",
              "91aPPvpoVVVV9cILL1Tjxo2rPWZbz1OOsW3TyPVyDqu/Rq6Xc1j9NXK9Xsw5rD5e7pqtWbOmuv32\n",
              "26v77rtvs+Op5HOYmO+ipUuXVq997Wur9evXV1VVVZs2bare8IY3VL/73e863f9nP/vZZv/n9cwz\n",
              "z6y+9KUv1b6fM2dONXTo0Kqqqur73/9+ddhhh9W2Pfzww9W+++77ktvoXKPX68Uuu+yy6qMf/Wjt\n",
              "e/+i7p5Gr9fW/o+Q46v7tufx9eSTT1a77rprtXTp0tp9jq/u6+6a/cWZZ55Zi7xtPU85xrqv0ev1\n",
              "Ys5hL0+j18s5rL625/HlHFYf9Vizv+jseCr5HOZl9l20aNGivPGNb0xLS0uSP79Epk+fPlm4cGGX\n",
              "n2PUqFH54Q9/mFWrVmX9+vX5/ve/n/b29iTJwoUL07dv39q+/fr1y+LFi7Nhw4atbqNzjV6vv7Z6\n",
              "9epcffXVOeaYYzrc/+53vzvDhw/POeeck9WrV7+s3+fVbnus1+rVq/PWt741I0eOzMUXX5yNGzcm\n",
              "2fqxR+e25/F17bXX5vDDD8/ee+/d4X7HV/dsy5otWbIkP/jBD3LkkUcm2fbzlGOs+xq9Xn/NOezl\n",
              "2x7r5RxWP9vz+HIOq496rNnWlHwOE/Pb0SmnnJKJEydm/PjxGT9+fAYOHFj7HyWvPF1Zr3Xr1mXS\n",
              "pEl53/vel+OOO652/+OPP55f/epXmTdvXv74xz/mn/7pn7b3+H9ztrZeb3zjG/Pkk0/ml7/8ZW67\n",
              "7bbMnTs3//qv/7qDJ/7b1pXjq6qqXHPNNZk8eXKH+x1fjbdq1aocddRROffcczN69OgdPQ4vYVvX\n",
              "yzlsx+juejmH7Vjbenw5h+04f0vnMDHfRW9605s6/FeYqqqycOHC9OnTp8vP0dTUlIsuuij33Xdf\n",
              "5s2bV/twhiTp06dPHn/88dq+7e3ttf8CtbVtdK7R65Uk69evz6RJk/LGN74xX//61zs89i8/Z/fd\n",
              "d8+0adN8uMlLaPR6tba21v6r+B577JGPf/zjtTVxfHXf9ji+kuTOO+/MmjVrcthhh3W43/HVfd1Z\n",
              "s2effTYTJ07MMccck3POOad2/7aepxxj3dfo9Uqcw+qp0evlHFZf2+P4SpzD6qkea7Y1JZ/DxHwX\n",
              "7b333hk5cmSuu+66JMmcOXOy33775c1vfnOXn2PNmjVZvnx5kuSZZ57JV77ylZx77rlJkokTJ+be\n",
              "e+/NI488kiT5xje+kRNOOOElt9G5Rq/Xhg0bcsIJJ2SPPfbIzJkz09TUVHvc8uXL8/zzzyf58yd2\n",
              "z549OyNGjKjXr/aq1Oj1evrpp7N+/fokydq1a3PTTTfV1sTx1X2NXq+/+Pa3v51TTjklzc3Ntfsc\n",
              "X9umq2v23HPPZeLEiZk4cWLOP//8Dtu29TzlGOu+Rq+Xc1h9NXq9nMPqq9Hr9RfOYfVTjzXbmqLP\n",
              "YTvovfpFeuSRR6qxY8dWAwYMqEaNGlU98MADVVVV1eTJk6tbbrmlqqqqWr16dbXvvvtWe+65Z7Xz\n",
              "zjtX++67b/WZz3ymqqqqWrJkSTV48OBqyJAh1eDBg6tvfvObHZ7/lltuqQYNGlQdcMAB1THHHFOt\n",
              "WLGiS9voXCPX67rrrquSVMOGDauGDx9eDR8+vJo2bVpVVVU1b968aujQodWwYcOqIUOGVCeddFK1\n",
              "bNmy7fzbl6eR6zVnzpzqwAMPrK3JJz7xiWrNmjW17Y6v7mv0vw9XrFhR9ejRo/aptH/h+Np2XVmz\n",
              "Sy65pGppaan9e2348OHVJZdcUnuObT1POca6r5Hr5RxWf41cL+ew+mv0vw+dw+qvHms2dOjQap99\n",
              "9qmampqqfffdtzrppJNq20o9hzVVVVXt6P+gAAAAAHSdl9kDAABAYcQ8AAAAFEbMAwAAQGHEPAAU\n",
              "pl+/fhk0aFDa2toyZMiQ/Pu///tW97/22mtrn8T7Ui666KKcddZZm91/5513dvjk4HXr1qVHjx65\n",
              "6KKLavfdeOONOeSQQ5IkbW1tefbZZzv9GaNHj84dd9zR6WzXXnttjj322C7NCgB/y14ZfyAPAOiW\n",
              "2bNnp62tLY8//niGDRuWQw45JMOGDet032uvvTave93rMnjw4G3+eWPHjs2TTz6ZJ554Ivvtt19+\n",
              "8YtfZNiwYbUoT5Kf/exnede73pUkWbBgQZeetx6zAcDfIlfmAaBgffv2zaBBg3L//ffn1FNPzZgx\n",
              "YzJs2LCcdtppWbduXa6++urcc889Ofvss9PW1pYf/ehHefDBB/OOd7wjI0eOzJAhQ3LJJZe85M9p\n",
              "bW3N29/+9lq833HHHTnllFPy1FNPZc2aNbX7JkyYkCRpamrKihUrkiTz5s1LW1tbDjrooHzsYx/L\n",
              "hg0bkqTT2ZI//63gE088MUOHDs3o0aPzhz/8oc7/1ACgfGIeAAr24IMP5pFHHsk111yTQw45JPPn\n",
              "z8/999+fTZs25etf/3qmTJmS0aNH5/LLL8+CBQty+OGHp1+/frn99ttz77335le/+lXmzJmTu+++\n",
              "+yV/1oQJE/Kzn/0syZ+vwh966KF529velp///Od56qmnsmjRohx88MEdHrNu3bpMmjQpX/3qV/PQ\n",
              "Qw/lxBNPzP33358knc6WJL/85S/z5S9/OQ8++GDe85735NJLL63zPzUAKJ+X2QNAgSZNmpTddtst\n",
              "PXr0yDXXXJNp06blsssuy4wZM5IkL7zwQpqbmzt97AsvvJBp06ZlwYIF2WmnnbJo0aIsWLAgY8eO\n",
              "3erPnDBhQmbNmpW1a9emvb09gwcPzvjx43PHHXdk8eLFOfjgg9Pa2trhMY888khaWlrynve8J0ny\n",
              "vve9L/3799/qzzn44IOz//77176+4ooruvTPBAD+loh5ACjQX94z/xdTp07NnDlzMnDgwJd87Gc/\n",
              "+9nsueeeue+++9LS0pLjjz++9lL5rRkzZkyWLl2a73//+xkzZkySZPz48Zk8eXKeeuqp2vvlX0pT\n",
              "U9NWt++66661r5ubm2svywcA/h8vsweAV4Fjjz02l156aS18ly9fnt///vdJkp49e2blypW1fZcv\n",
              "X5799tsvLS0t+b//+7/85Cc/6dLP2HnnnTNu3Lh88YtfzKGHHpokGTBgQBYtWpSf/OQntffL/7XB\n",
              "gwdnw4YNtZfn33bbbXn00Udr2188GwDQNWIeAF4FLr/88uy2225pa2vLsGHD8u53vzvt7e1JktNO\n",
              "Oy1f/vKXax8yd/7552fWrFkZNmxYPvOZz2zxivpTTz3V4ep/8ueX2v/ud7+rxXzy50+6X7ZsWe1q\n",
              "/V/bZZddMnv27Jx99tkZOnRorr/++gwfPry2/cWzAQBd01RVVbWjhwAAAAC6zpV5AAAAKIyYBwAA\n",
              "gMKIeQAAACiMmAcAAIDCiHkAAAAojJgHAACAwoh5AAAAKIyYBwAAgMKIeQAAACiMmAcAAIDC/H+M\n",
              "NubP0NqFMQAAAABJRU5ErkJggg==\n",
              "\">\n",
              "      </div>\n",
              "      <script type=\"text/javascript\">\n",
              "        (() => {\n",
              "          const chartElement = document.getElementById(\"chart-bc053bd3-7abd-4095-a4d7-a0000f899ba1\");\n",
              "          async function getCodeForChartHandler(event) {\n",
              "            const chartCodeResponse =  await google.colab.kernel.invokeFunction(\n",
              "                'getCodeForChart', [\"chart-bc053bd3-7abd-4095-a4d7-a0000f899ba1\"], {});\n",
              "            const responseJson = chartCodeResponse.data['application/json'];\n",
              "            await google.colab.notebook.addCell(responseJson.code, 'code');\n",
              "          }\n",
              "          chartElement.onclick = getCodeForChartHandler;\n",
              "        })();\n",
              "      </script>\n",
              "      <style>\n",
              "        .colab-quickchart-chart-with-code  {\n",
              "            display: block;\n",
              "            float: left;\n",
              "            border: 1px solid transparent;\n",
              "        }\n",
              "\n",
              "        .colab-quickchart-chart-with-code:hover {\n",
              "            cursor: pointer;\n",
              "            border: 1px solid #aaa;\n",
              "        }\n",
              "      </style>"
            ]
          },
          "metadata": {}
        },
        {
          "output_type": "display_data",
          "data": {
            "text/plain": [
              "from matplotlib import pyplot as plt\n",
              "import seaborn as sns\n",
              "def _plot_series(series, series_name, series_index=0):\n",
              "  from matplotlib import pyplot as plt\n",
              "  import seaborn as sns\n",
              "  palette = list(sns.palettes.mpl_palette('Dark2'))\n",
              "  xs = series['Petal.Width']\n",
              "  ys = series['Sepal.Width']\n",
              "  \n",
              "  plt.plot(xs, ys, label=series_name, color=palette[series_index % len(palette)])\n",
              "\n",
              "fig, ax = plt.subplots(figsize=(10, 5.2), layout='constrained')\n",
              "df_sorted = _df_6.sort_values('Petal.Width', ascending=True)\n",
              "_plot_series(df_sorted, '')\n",
              "sns.despine(fig=fig, ax=ax)\n",
              "plt.xlabel('Petal.Width')\n",
              "_ = plt.ylabel('Sepal.Width')"
            ],
            "text/html": [
              "      <div class=\"colab-quickchart-chart-with-code\" id=\"chart-eaf5e0c4-2963-486f-9a5a-ebfb769ffd56\">\n",
              "        <img style=\"width: 180px;\" src=\"data:image/png;base64,iVBORw0KGgoAAAANSUhEUgAAA/MAAAITCAYAAABLz0yVAAAAOXRFWHRTb2Z0d2FyZQBNYXRwbG90\n",
              "bGliIHZlcnNpb24zLjcuMSwgaHR0cHM6Ly9tYXRwbG90bGliLm9yZy/bCgiHAAAACXBIWXMAAA9h\n",
              "AAAPYQGoP6dpAAAr6ElEQVR4nO3dfZTXdZ3//8cHsBFqBwIxEwXUVNSYGZWIVBZRD3EywXWX1F1D\n",
              "TLrStgtOK5r6S4uitrZyL6z1kHqwTMkLKo572qyx5RwyLIFcN7uwEBQvCQYvcOTi/fvD43ydGHAG\n",
              "5wO+6HY753POzPvz/rznOb56++7u52JqVVVVAQAAAIrRZ3cPAAAAAPSMmAcAAIDCiHkAAAAojJgH\n",
              "AACAwoh5AAAAKIyYBwAAgMKIeQAAACiMmAcAAIDC7BExf9VVV+3uEQAAAGCX2SNi/qGHHtrdIwAA\n",
              "AMAus0fEPAAAAPwlEfMAAABQGDEPAAAAhRHzAAAAUBgxDwAAAIUR8wAAAFAYMQ8AAACFEfMAAABQ\n",
              "GDEPAAAAhRHzAAAAUBgxDwAAAIUR8wAAAFAYMQ8AAACFEfMAAABQGDEPAAAAhRHzAAAAUBgxDwAA\n",
              "AIWpa8xPmjQpTU1NaWlpyfjx47Ns2bIu97vvvvty4okn5ogjjsgRRxyR2267rZ5jAQAAQNH61fPg\n",
              "CxYsyKBBg5Ikt99+e2bMmJEVK1Z02ue5557L1KlTM3/+/JxwwgnZsmVL/vSnP9VzLACgB6qqysbN\n",
              "m5Ik/fvtlVqttpsnAgDqGvMvhXyStLW1dXnxv/HGGzNu3LiccMIJSZK+fftm6NCh2z1me3t72tvb\n",
              "O23bsmVL7wwMAGxj4+ZNOexb/1+S5LfnfCYD9nrdbp4IAKj7e+anT5+eAw88MJdffnluuOGGbe7/\n",
              "v//7vzQ0NOTd7353WlpaMn369Dz55JPbPd7cuXMzcODATrelS5fW81cAAACA15S6x/z8+fOzevXq\n",
              "zJkzJ7Nnz97m/s2bN+fOO+/Mf/7nf2bZsmUZNmxYPvzhD2/3eJdcckna2to63caOHVvPXwEAAABe\n",
              "U3bZp9mfe+65aW1tzdq1azttHz58eCZOnJhhw4alVqvlnHPOyd13373d4zQ0NKSxsbHTrW/fvvUe\n",
              "HwAAAF4z6hbz69evz5o1azq+X7hwYYYMGZLBgwd32u8973lP7rnnnmzYsCFJcscdd6S5ubleYwEA\n",
              "AEDx6vYBeG1tbZk2bVo2btyYPn36ZOjQoVm0aFFqtVpmzpyZKVOmZMqUKRk+fHg+9alP5bjjjkuf\n",
              "Pn0ybNiwXHPNNfUaCwAAAIpXt5gfMWLEdj+Ybt68eZ2+f+9735v3vve99RoFAAAA9ii77D3zAAAA\n",
              "QO8Q8wAAAFAYMQ8AAACFEfMAAABQGDEPAAAAhRHzAAAAUBgxDwAAAIUR8wAAAFAYMQ8AAACFEfMA\n",
              "AABQGDEPAAAAhRHzAAAAUBgxDwAAAIUR8wAAAFAYMQ8AAACFEfMAAABQGDEPAAAAhRHzAAAAUBgx\n",
              "DwAAAIUR8wAAAFAYMQ8AAACFEfMAAABQGDEPAAAAhRHzAAAAUBgxDwAAAIUR8wAAAFAYMQ8AAACF\n",
              "EfMAAABQGDEPAAAAhRHzAAAAUBgxDwAAAIUR8wAAAFAYMQ8AAACFEfMAAABQGDEPAAAAhRHzAAAA\n",
              "UBgxDwAAAIUR8wAAAFAYMQ8AAACFEfMAAABQGDEPAAAAhRHzAAAAUBgxDwAAAIUR8wAAAFAYMQ8A\n",
              "AACFEfMAAABQGDEPAAAAhRHzAAAAUBgxDwAAAIUR8wAAAFAYMQ8AAACFEfMAAABQGDEPAAAAhRHz\n",
              "AAAAUBgxDwAAAIUR8wAAAFAYMQ8AAACFEfMAAABQGDEPAAAAhRHzAAAAUBgxDwAAAIUR8wAAAFAY\n",
              "MQ8AAACFEfMAAABQmLrG/KRJk9LU1JSWlpaMHz8+y5Yt22afu+66K/37909LS0vHbePGjfUcCwAA\n",
              "AIrWr54HX7BgQQYNGpQkuf322zNjxoysWLFim/0OP/zwLF++vJ6jAAA7qUrV5dcAwO5T15h/KeST\n",
              "pK2tLbVa7VUfs729Pe3t7Z22bdmy5VUfFwDo2sbNmzp9/fq9GnbjNABAsgveMz99+vQceOCBufzy\n",
              "y3PDDTd0uc+DDz6YY445Jm9729ty9dVX7/B4c+fOzcCBAzvdli5dWo/RAQAA4DWp7jE/f/78rF69\n",
              "OnPmzMns2bO3uf+YY47Jww8/nHvvvTe33357vvGNb2TBggXbPd4ll1yStra2TrexY8fW81cAAACA\n",
              "15Rd9mn25557blpbW7N27dpO2xsbGzNw4MAkyQEHHJCzzz47ixcv3u5xGhoa0tjY2OnWt2/fus4O\n",
              "AAAAryV1i/n169dnzZo1Hd8vXLgwQ4YMyeDBgzvt9+ijj2br1q1JkqeffjqLFi3K0UcfXa+xAAAA\n",
              "oHh1+wC8tra2TJs2LRs3bkyfPn0ydOjQLFq0KLVaLTNnzsyUKVMyZcqU3Hrrrfn617+efv36ZfPm\n",
              "zZk2bVrOO++8eo0FAAAAxatbzI8YMWK7H0w3b968jq8/8pGP5CMf+Ui9xgAAAIA9zi57zzwAAADQ\n",
              "O8Q8AAAAFEbMAwAAQGHEPAAAABRGzAMAAEBhxDwAAAAURswDAABAYcQ8AAAAFEbMAwAAQGHEPAAA\n",
              "ABRGzAMAAEBhxDwAAAAURswDAABAYcQ8AAAAFEbMAwAAQGHEPAAAABRGzAMAAEBhxDwAAAAURswD\n",
              "AABAYcQ8AAAAFEbMAwAAQGHEPAAAABRGzAMAAEBhxDwAAAAURswDAABAYcQ8AAAAFEbMAwAAQGHE\n",
              "PAAAABRGzAMAAEBhxDwAAAAURswDAABAYcQ8AAAAFEbMAwAAQGHEPAAAABRGzAMAAEBhxDwAAAAU\n",
              "RswDAABAYcQ8AAAAFEbMAwAAQGHEPAAAABRGzAMAAEBhxDwAAAAURswDAABAYcQ8AAAAFEbMAwAA\n",
              "QGHEPAAAABRGzAMAAEBhxDwAAAAURswDAABAYcQ8AAAAFEbMAwAAQGHEPAAAABRGzAMAAEBhxDwA\n",
              "AAAURswDAABAYcQ8AAAAFEbMAwAAQGHEPAAAABRGzAMAAEBhxDwAAAAURswDAABAYcQ8AAAAFEbM\n",
              "AwAAQGHqGvOTJk1KU1NTWlpaMn78+Cxbtmy7+1ZVlZNOOimDBg2q50gAAABQvH71PPiCBQs64vz2\n",
              "22/PjBkzsmLFii73/epXv5pDDjkk9957bz1HAgAAgOLV9Zn5lz/L3tbWllqt1uV+999/fxYuXJiL\n",
              "L764nuMAAADAHqGuz8wnyfTp09Pa2pokueOOO7a5f9OmTXn/+9+fb37zm+nbt+8rHq+9vT3t7e2d\n",
              "tm3ZsqV3hgUAAIAC1P0D8ObPn5/Vq1dnzpw5mT179jb3X3nllTnjjDNyxBFHdOt4c+fOzcCBAzvd\n",
              "li5d2ttjAwAAwGtWraqqalf9sP79++fhhx/OkCFDOraNHz8+q1atSq1Wy+bNm7NmzZoMHz4899xz\n",
              "T4YOHbrNMbp6Zv7yyy/PVVddVff5AeAv0VMbn0nLTXOSJMvPuiz79H/Dbp4IAKjby+zXr1+f5557\n",
              "Lvvvv3+SZOHChRkyZEgGDx7cab/Fixd3fL1y5cq0tLRk5cqV2z1uQ0NDGhoaOm3rzsvzAQAAYE9R\n",
              "t5hva2vLtGnTsnHjxvTp0ydDhw7NokWLUqvVMnPmzEyZMiVTpkyp148HAACAPVbdYn7EiBHbfS/7\n",
              "vHnzutw+cuTIrF+/vl4jAQAAwB6h7h+ABwAAAPQuMQ8AAACFEfMAAABQGDEPAAAAhRHzAAAAUBgx\n",
              "DwAAAIUR8wAAAFAYMQ8AAACFEfMAAABQGDEPAAAAhRHzAAAAUBgxDwAAAIUR8wAAAFAYMQ8AAACF\n",
              "EfMAAABQGDEPAAAAhRHzAAAAUBgxDwAAAIUR8wAAAFAYMQ8AAACFEfMAAABQGDEPAAAAhRHzAAAA\n",
              "UBgxDwAAAIUR8wAAAFAYMQ8AAACFEfMAAABQGDEPAAAAhRHzAAAAUBgxDwAAAIUR8wAAAFAYMQ8A\n",
              "AACFEfMAAABQGDEPAAAAhRHzAAAAUBgxDwAAAIUR8wAAAFCYfjvzoK1bt+axxx7L5s2bO7YNHz68\n",
              "14YCAAAAtq/HMX/99dfnox/9aPbaa6/06fPiE/u1Wi1PPPFErw8HAAAAbKvHMf/Zz34299xzTw4/\n",
              "/PB6zAMAAAC8gh6/Z36fffYR8gAAALAbdTvmN2zYkA0bNuT000/P1772tTzxxBMd2zZs2FDPGQEA\n",
              "AICX6fbL7AcNGpRarZaqqpIks2bN6vi+Vqtly5YtdRsSAAAA+H+6HfNbt26t5xwAAABAN/X4PfMX\n",
              "XHBBt7YBAAAA9dHjmL/77ru32bZkyZJeGQYAAAB4Zd1+mf3NN9+cm266KX/84x9zxhlndGxva2vL\n",
              "G97whroMBwAAAGyr2zE/atSoTJ06Nffee2+mTp3asb2xsTEnn3xyXYYDAAAAttXtmG9ubk5zc3NO\n",
              "PfXUDB06tJ4zAQAAADvQ7Zg/77zzUqvVtnv/tdde2ysDAQAAADvW7Q/AGzNmTI499ti87nWvy913\n",
              "352DDz44hxxySJYuXZqGhoZ6zggAAAC8TLefmb/wwguTJH/913+du+++O42NjUmSf/zHf8y73/3u\n",
              "+kwHAAAAbKPHf5ruySef7Aj55MUPwHvyySd7dSgAAABg+7r9zPxLmpubM2PGjJx//vlJkuuuuy7N\n",
              "zc29PhgAAADQtR4/Mz9v3rwMHTo0H//4x/Pxj388Q4cOzbx58+oxGwAAANCFHj8z/4Y3vCFf+tKX\n",
              "6jELAAAA0A3djvnvfOc7Ofvss/Ov//qvXd7/0Y9+tNeGAgAAALav2zH/wAMPJEmWLVu2zX07+vvz\n",
              "AAAAQO/qdszPmDEjyYsfeAcAAADsPt2O+ebm5gwZMiQTJ07MSSedlJNOOin7779/PWcDAAAAutDt\n",
              "T7Nft25dvvOd7+Swww7LDTfckMMPPzyHH354PvShD+W73/1uPWcEAAAAXqbbMd+3b9+MGzcuF198\n",
              "cX74wx9m3bp1ufzyy9Pa2pqzzjqrnjMCAAAAL9OjP023atWq3HXXXWltbc2SJUuy77775u/+7u8y\n",
              "YcKEes0HAAAA/Jlux/xBBx2UffbZJ6eeemqmT5+eq6++Ov3796/nbAAAAEAXuv0y+5NPPjnPPPNM\n",
              "/vu//zs/+tGPsnjx4jz33HM7fMykSZPS1NSUlpaWjB8/vss/a/ezn/0sLS0taWlpyVFHHZUPfvCD\n",
              "aW9v7/lvAgAAAH8huh3z8+bNy69//essWLAgRxxxRG6++eYcc8wxOf7443PppZd2+ZgFCxbkV7/6\n",
              "VZYvX55Zs2Z1/Hm7l2tubs4999yT5cuX57777ssTTzyRq6++eqd/IQAAANjTdTvmX3LAAQfk7LPP\n",
              "znnnnZd/+Id/yFNPPZUvfOELXe47aNCgjq/b2tpSq9W22WfAgAHZa6+9kiQvvPBCNm7c2OV+AAAA\n",
              "wIu6/Z75JUuW5K677spdd92VJUuWZNiwYZk4cWKuvPLKnHjiidt93PTp09Pa2pokueOOO7rcZ+XK\n",
              "lZk6dWoefPDBnHrqqbngggu2e7z29vZtXoa/ZcuW7v4aAAAAULxuPzN/zjnn5A9/+EOmT5+e3/zm\n",
              "N/nNb36Tb3zjGznrrLOy3377bfdx8+fPz+rVqzNnzpzMnj27y31GjhyZFStW5LHHHkt7e3tuu+22\n",
              "7R5v7ty5GThwYKfb0qVLu/trAAAAQPFqVVVVu+qH9e/fPw8//HCGDBmy3X1uuummfPvb384PfvCD\n",
              "Lu/v6pn5yy+/PFdddVWvzgoAvOipjc+k5aY5SZLlZ12Wffq/YTdPBAD0+D3zXVm0aNE229avX581\n",
              "a9Z0fL9w4cIMGTIkgwcP7rTf73//+2zatCnJi++Zv/3229PU1LTdn9XQ0JDGxsZOt759+/bGrwEA\n",
              "AABF6JWY/973vrfNtra2tpx++ukZPXp0mpub8+///u9ZtGhRarVaZs6cme9///tJkp/85Cc5+uij\n",
              "09zcnKOPPjpvetObcvnll/fGWAAAALBH2qUvs6+XWbNm5Stf+cruHgMA9kheZg8Arz298sw8AAAA\n",
              "sOt0+0/TvfGNb+zy779XVZVarZY//elPvToYAAAA0LVux/zy5cvrOAYAAADQXd2O+REjRtRzDgAA\n",
              "AKCbuh3zL3niiSfy6U9/OitWrMjzzz/fsf3ee+/t1cEAAACArvX4A/DOP//8jBw5Mk899VSuvPLK\n",
              "7L///jn11FPrMRsAAADQhR7H/OrVqzN79uw0NDTktNNOy2233ZY777yzHrMBAAAAXehxzL/uda9L\n",
              "kuy9995Zu3Zt+vXrl6eeeqrXBwMAAAC61uP3zB922GFZu3ZtzjnnnLz97W9PY2Njjj322HrMBgAA\n",
              "AHShxzH/rW99K0nysY99LGPGjMm6desyefLkXh8MAAAA6FqPYz5JVq1alf/5n/9JrVbL+PHj06/f\n",
              "Th0GAAAA2Ak9fs/8jTfemKOPPjq33nprbrnllhx77LG56aab6jEbAAAA0IUeP6X+mc98Jr/4xS9y\n",
              "0EEHJUlWrlyZyZMn56yzzur14QAAAIBt9fiZ+QEDBnSEfJKMHDkyAwYM6NWhAAAAgO3rccyfeuqp\n",
              "ueKKK/Lwww9n9erV+cxnPpPTTjstGzZsyIYNG+oxIwAAAPAyPX6Z/ec+97kkL77c/uU++9nPplar\n",
              "ZcuWLb0zGQAAANClHsf81q1b6zEHAAAA0E09fpl9kvzyl7/MDTfckCRZv359Hn300V4dCgAAANi+\n",
              "Hsf81Vdfnfe973254oorkiRr167N3//93/f2XAAAAMB29Djmr7nmmtx9991pbGxMkhxyyCF58skn\n",
              "e30wAAAAoGs9jvmGhob079+/07Z+/Xr81nsAAABgJ/U45ocOHZrf/va3qdVqSZLrr78+w4cP7/XB\n",
              "AAAAgK71+Cn1r33tazn77LPzwAMP5MADD0xjY2MWLVpUj9kAAACALvQ45t/ylrfk5z//ee6///78\n",
              "4Ac/yOjRo3PQQQfVYzYAAACgC91+mf0pp5yS5cuXJ0kee+yxTJgwIYsXL85FF12UL37xi/WaDwAA\n",
              "APgz3Y75Rx55JC0tLUmSG2+8MRMmTMh//dd/ZcmSJfn2t79dr/kAAACAP9PtmH/5J9gvWbIk73rX\n",
              "u5Ikb3zjG32aPQAAAOxC3Y75Pn365OGHH84zzzyTn/70p5kwYULHfc8991xdhgMAAAC21e2n1D/1\n",
              "qU/l6KOPTr9+/TJx4sQcdthhSV58ln7kyJH1mg8AAAD4M92O+TPOOCPHHXdcHn/88TQ1NXVsHzly\n",
              "ZK655pq6DAcAAABsq0dvdt9vv/2y3377ddq2//779+pAAAAAwI51+z3zAAAAwGuDmAcAAIDCiHkA\n",
              "AAAojJgHAACAwoh5AAAAKIyYBwAAgMKIeQAAACiMmAcAAIDCiHkAAAAojJgHAACAwoh5AAAAKIyY\n",
              "BwAAgMKIeQAAACiMmAcAAIDCiHkAAAAojJgHAACAwoh5AAAAKIyYBwAAgMKIeQAAACiMmAcAAIDC\n",
              "iHkAAAAojJgHAACAwoh5AAAAKIyYBwAAgMKIeQAAACiMmAcAAIDCiHkAAAAojJgHAACAwoh5AAAA\n",
              "KIyYBwAAgMKIeQAAACiMmAcAAIDCiHkAAAAoTF1jftKkSWlqakpLS0vGjx+fZcuWbbPPT37yk4wd\n",
              "OzZHHnlkjjrqqFx00UXZunVrPccCAACAovWr58EXLFiQQYMGJUluv/32zJgxIytWrOi0zxvf+Mbc\n",
              "dNNNOfjgg/P888/nlFNOyfz58zNjxox6jgYAAADFqmvMvxTySdLW1pZarbbNPkcffXTH13vvvXda\n",
              "WlqycuXK7R6zvb097e3tnbZt2bLlVc8KAHRta1V1+TUAsPvUNeaTZPr06WltbU2S3HHHHTvc97HH\n",
              "Hsstt9ySRYsWbXefuXPn5sorr+y0bdy4ca9+UACgS39qf7bT1/sO+KvdOA0AkOyCD8CbP39+Vq9e\n",
              "nTlz5mT27Nnb3W/Dhg057bTTctFFF2XMmDHb3e+SSy5JW1tbp9vYsWPrMToAAAC8Ju2yT7M/99xz\n",
              "09ramrVr125z39NPP53Jkydn6tSpmTVr1g6P09DQkMbGxk63vn371mtsAAAAeM2pW8yvX78+a9as\n",
              "6fh+4cKFGTJkSAYPHtxpv2eeeSaTJ0/O5MmTc9lll9VrHAAAANhj1O09821tbZk2bVo2btyYPn36\n",
              "ZOjQoVm0aFFqtVpmzpyZKVOmZMqUKbnqqquydOnSPPvss7ntttuSJNOmTcull15ar9EAAACgaHWL\n",
              "+REjRmTp0qVd3jdv3ryOry+99FLhDgAAAD2wy94zDwAAAPQOMQ8AAACFEfMAAABQGDEPAAAAhRHz\n",
              "AAAAUBgxDwAAAIUR8wAAAFAYMQ8AAACFEfMAAABQGDEPAAAAhRHzAAAAUBgxDwAAAIUR8wAAAFAY\n",
              "MQ8AAACFEfMAAABQGDEPAAAAhRHzAAAAUBgxDwAAAIUR8wAAAFAYMQ8AAACFEfMAAABQGDEPAAAA\n",
              "hRHzAAAAUBgxDwAAAIUR8wAAAFAYMQ8AAACFEfMAAABQGDEPAAAAhRHzAAAAUBgxDwAAAIUR8wAA\n",
              "AFAYMQ8AAACFEfMAAABQGDEPAAAAhRHzAAAAUBgxDwAAAIUR8wAAAFAYMQ8AAACFEfMAAABQGDEP\n",
              "AAAAhRHzAAAAUBgxDwAAAIUR8wAAAFAYMQ8AAACFEfMAAABQGDEPAAAAhRHzAAAAUBgxDwAAAIUR\n",
              "8wAAAFAYMQ8AAACFEfMAAABQGDEPAAAAhRHzAAAAUBgxDwAAAIUR8wAAAFAYMQ8AAACFEfMAAABQ\n",
              "GDEPAAAAhRHzAAAAUBgxDwAAAIUR8wAAAFAYMQ8AAACFEfMAAABQGDEPAAAAhalrzE+aNClNTU1p\n",
              "aWnJ+PHjs2zZsm32WblyZU488cQMHDgwLS0t9RwHAAAA9gj96nnwBQsWZNCgQUmS22+/PTNmzMiK\n",
              "FSs67dPY2Jg5c+akra0tl156aT3HAQAAgD1CXZ+Zfynkk6StrS21Wm2bfQYPHpwTTjghr3/967t1\n",
              "zPb29mzYsKHTbcuWLb01MgAAALzm1fWZ+SSZPn16WltbkyR33HHHqz7e3Llzc+WVV3baNm7cuFd9\n",
              "XACga4MbXt/l1wDA7lP3D8CbP39+Vq9enTlz5mT27Nmv+niXXHJJ2traOt3Gjh3bC5MCAF3p87JX\n",
              "1vXp4lV2AMCut8s+zf7cc89Na2tr1q5d+6qO09DQkMbGxk63vn379tKUAAAA8NpXt5hfv3591qxZ\n",
              "0/H9woULM2TIkAwePLhePxIAAAD+ItTtPfNtbW2ZNm1aNm7cmD59+mTo0KFZtGhRarVaZs6cmSlT\n",
              "pmTKlCl57rnncthhh6W9vT1tbW054IAD8t73vjdz586t12gAAABQtLrF/IgRI7J06dIu75s3b17H\n",
              "1wMGDMjDDz9crzEAAABgj7PL3jMPAAAA9A4xDwAAAIUR8wAAAFAYMQ8AAACFEfMAAABQGDEPAAAA\n",
              "hRHzAAAAUBgxDwAAAIUR8wAAAFAYMQ8AAACFEfMAAABQGDEPAAAAhRHzAAAAUBgxDwAAAIUR8wAA\n",
              "AFAYMQ8AAACFEfMAAABQGDEPAAAAhRHzAAAAUBgxDwAAAIUR8wAAAFAYMQ8AAACFEfMAAABQGDEP\n",
              "AAAAhRHzAAAAUBgxDwAAAIUR8wAAAFAYMQ8AAACFEfMAAABQGDEPAAAAhRHzAAAAUBgxDwAAAIUR\n",
              "8wAAAFAYMQ8AAACFEfMAAABQGDEPAAAAhRHzAAAAUBgxDwAAAIUR8wAAAFAYMQ8AAACFEfMAAABQ\n",
              "GDEPAAAAhRHzAAAAUBgxDwAAAIUR8wAAAFAYMQ8AAACFEfMAAABQGDEPAAAAhRHzAAAAUBgxDwAA\n",
              "AIUR8wAAAFAYMQ8AAACFEfMAAABQGDEPAAAAhRHzAAAAUBgxDwAAAIUR8wAAAFAYMQ8AAACFEfMA\n",
              "AABQGDEPAAAAhRHzAAAAUBgxDwAAAIUR8wAAAFAYMQ8AAACFqWvMT5o0KU1NTWlpacn48eOzbNmy\n",
              "Lvf75je/mUMPPTSHHHJI3v/+92fTpk31HAsAAACKVteYX7BgQX71q19l+fLlmTVrVmbMmLHNPn/8\n",
              "4x9z+eWXZ/Hixfn973+fxx9/PNdcc009xwIAAICi1TXmBw0a1PF1W1tbarXaNvvccsstmTJlSvbb\n",
              "b7/UarV86EMfyne+853tHrO9vT0bNmzodNuyZUs9xgcAAIDXpH71/gHTp09Pa2trkuSOO+7Y5v5V\n",
              "q1ZlxIgRHd+PHDkyq1at2u7x5s6dmyuvvLLTtnHjxvXStADAnxu894AuvwYAdp+6fwDe/Pnzs3r1\n",
              "6syZMyezZ89+1ce75JJL0tbW1uk2duzYXpgUAOhKn1qfrJrx+aya8fn0qfnsXAB4LdhlV+Rzzz03\n",
              "ra2tWbt2baftw4cPz0MPPdTx/cqVKzN8+PDtHqehoSGNjY2dbn379q3b3ADAi0Ev5AHgtaNuV+X1\n",
              "69dnzZo1Hd8vXLgwQ4YMyeDBgzvt97d/+7f5/ve/n8ceeyxVVeUb3/hGzjrrrHqNBQAAAMWr23vm\n",
              "29raMm3atGzcuDF9+vTJ0KFDs2jRotRqtcycOTNTpkzJlClTcvDBB+fKK6/M8ccfnyQ58cQT88EP\n",
              "frBeYwEAAEDxalVVVbt7iFdr1qxZ+cpXvrK7xwAAAIBdwpvfAAAAoDBiHgAAAAoj5gEAAKAwYh4A\n",
              "AAAKI+YBAACgMGIeAAAACiPmAQAAoDBiHgAAAAoj5gEAAKAwYh4AAAAKI+YBAACgMGIeAAAACiPm\n",
              "AQAAoDBiHgAAAAoj5gEAAKAwYh4AAAAKU6uqqtrdQ7xaZ5xxRkaOHLm7x3hFW7ZsydKlSzN27Nj0\n",
              "7dt3d4/DK7Be5bFmZbFeZbFe5bFmZbFeZbFeZSlxvUaMGJGPfexjO9xnj4j5UmzYsCEDBw5MW1tb\n",
              "Ghsbd/c4vALrVR5rVhbrVRbrVR5rVhbrVRbrVZY9db28zB4AAAAKI+YBAACgMGIeAAAACiPmd6GG\n",
              "hoZ8+tOfTkNDw+4ehW6wXuWxZmWxXmWxXuWxZmWxXmWxXmXZU9fLB+ABAABAYTwzDwAAAIUR8wAA\n",
              "AFAYMQ8AAACFEfM98Lvf/S7HHXdcDjvssLztbW/L/fffv80+K1euzIknnpiBAwempaWl031bt27N\n",
              "Jz/5ybz1rW/NqFGjcv755+eFF17ouH/RokUZNWpUDj300JxxxhnZsGFDt+6ja/Vcr/vuuy9//dd/\n",
              "nVGjRuWtb31r3ve+92Xjxo0dj63Vahk9enRaWlrS0tKSxYsX1/V33RPUc71WrlyZvn37dqxHS0tL\n",
              "HnzwwY7HOr96rp7r9cMf/rDTWu2///455phjOh7r/No53Vmzn/zkJxk7dmyOPPLIHHXUUbnooouy\n",
              "devWjvt39jrlHOu5eq6Xa1jvq+d6uYb1vnqul2tYfbzaNXvmmWfyzne+M/vss08GDRq0zWOLvYZV\n",
              "dNvEiROr6667rqqqqvrud79bjRkzZpt91q5dWy1evLhatGhR1dzc3Om+a665ppo4cWLV3t5ebd26\n",
              "tZo5c2b1z//8z1VVVdXTTz9d7bvvvtWvf/3rqqqq6sILL6w++clPvuJ9bF891+u3v/1ttWLFiqqq\n",
              "qmrz5s3Ve97znurTn/50x2OTVOvWravHr7XHqud6/fGPf6wGDhzY5c91fu2ceq7Xnzv11FOrL3/5\n",
              "yx3fO792TnfW7N57760efPDBqqqqauPGjdXxxx/f8ZidvU45x3ZOPdfLNaz31XO9XMN6Xz3X68+5\n",
              "hvWOV7tmzz//fPXjH/+4WrZs2TbnU8nXMDHfTY8//nj1V3/1V9WmTZuqqqqqrVu3Vm9605uq3/3u\n",
              "d13u39raus3/eb3wwgurz33ucx3f33rrrdXo0aOrqqqqBQsWVO985zs77rv//vurYcOGveJ9dK3e\n",
              "6/XnvvSlL1Xnnntux/f+Rd0z9V6vHf0fIedXz+3K8+uRRx6p9t577+rxxx/v2Ob86rmertlLLrzw\n",
              "wo7I29nrlHOs5+q9Xn/ONezVqfd6uYb1rl15frmG9Y7eWLOXdHU+lXwN8zL7blq9enXe/OY3p1+/\n",
              "fklefInM8OHDs2rVqm4f49hjj833v//9bNiwIZs2bcqCBQuycuXKJMmqVasyYsSIjn1HjhyZRx99\n",
              "NJs3b97hfXSt3uv1cs8++2zmzZuXqVOndtp+8sknp7m5ObNmzcqzzz77qn6fPd2uWK9nn302b3vb\n",
              "23LMMcfkM5/5TLZs2ZJkx+ceXduV59f111+fd73rXdl33307bXd+9czOrNljjz2WW265Je9+97uT\n",
              "7Px1yjnWc/Ver5dzDXv1dsV6uYb1nl15frmG9Y7eWLMdKfkaJuZ3oRkzZmTy5MmZMGFCJkyYkMMO\n",
              "O6zjf5S89nRnvV544YWceeaZmTRpUv7mb/6mY/tDDz2UX/7yl1myZEmefPLJ/NM//dOuHv8vzo7W\n",
              "681vfnMeeeSR3HPPPbnzzjuzePHi/Mu//MtunvgvW3fOr6qqcu211+b888/vtN35VX8bNmzIaaed\n",
              "losuuihjxozZ3ePwCnZ2vVzDdo+erpdr2O61s+eXa9ju85d0DRPz3XTggQd2+q8wVVVl1apVGT58\n",
              "eLePUavVcsUVV2TZsmVZsmRJx4czJMnw4cPz0EMPdey7cuXKjv8CtaP76Fq91ytJNm3alDPPPDNv\n",
              "fvObc9VVV3V67Es/5/Wvf30uuOACH27yCuq9Xg0NDR3/VXzw4MF53/ve17Emzq+e2xXnV5L89Kc/\n",
              "zfPPP593vvOdnbY7v3quJ2v29NNPZ/LkyZk6dWpmzZrVsX1nr1POsZ6r93olrmG9qd7r5RrWu3bF\n",
              "+ZW4hvWm3lizHSn5Gibmu2nffffNMccck29961tJkltvvTUHHHBA3vKWt3T7GM8//3zWrVuXJHnq\n",
              "qafyhS98IRdddFGSZPLkybn33nvzwAMPJEmuvvrqnHXWWa94H12r93pt3rw5Z511VgYPHpxrrrkm\n",
              "tVqt43Hr1q3Lc889l+TFT+y++eabc/TRR/fWr7ZHqvd6PfHEE9m0aVOSpL29PbfddlvHmji/eq7e\n",
              "6/WSb37zm5kxY0b69u3bsc35tXO6u2bPPPNMJk+enMmTJ+eyyy7rdN/OXqecYz1X7/VyDetd9V4v\n",
              "17DeVe/1eolrWO/pjTXbkaKvYbvpvfpFeuCBB6px48ZVhx56aHXsscdWv/rVr6qqqqrzzz+/+t73\n",
              "vldVVVU9++yz1bBhw6p99tmn2muvvaphw4ZVF198cVVVVfXYY49Vo0aNqo488shq1KhR1de//vVO\n",
              "x//e975XHX744dUhhxxSTZ06tVq/fn237qNr9Vyvb33rW1WSqqmpqWpubq6am5urCy64oKqqqlqy\n",
              "ZEk1evToqqmpqTryyCOrc845p1q7du0u/u3LU8/1uvXWW6ujjjqqY00+8pGPVM8//3zH/c6vnqv3\n",
              "vw/Xr19fDRgwoONTaV/i/Np53VmzOXPmVP369ev491pzc3M1Z86cjmPs7HXKOdZz9Vwv17DeV8/1\n",
              "cg3rffX+96FrWO/rjTUbPXp0td9++1W1Wq0aNmxYdc4553TcV+o1rFZVVbW7/4MCAAAA0H1eZg8A\n",
              "AACFEfMAAABQGDEPAAAAhRHzAFCYkSNH5vDDD09LS0uOPPLI/Md//McO97/++us7Pon3lVxxxRX5\n",
              "+Mc/vs32n/70p50+OfiFF17IgAEDcsUVV3Rsu+mmmzJ+/PgkSUtLS55++ukuf8aYMWNy1113dTnb\n",
              "9ddfn9NPP71bswLAX7LXxh/IAwB65Oabb05LS0seeuihNDU1Zfz48Wlqaupy3+uvvz6DBg3KqFGj\n",
              "dvrnjRs3Lo888kgefvjhHHDAAfn5z3+epqamjihPktbW1px00klJkuXLl3fruL0xGwD8JfLMPAAU\n",
              "bMSIETn88MOzYsWKvP/978/YsWPT1NSUD3zgA3nhhRcyb968/OIXv8gnPvGJtLS05I477sh9992X\n",
              "E044Icccc0yOPPLIzJkz5xV/TkNDQ4477riOeL/rrrsyY8aMrFmzJs8//3zHtokTJyZJarVa1q9f\n",
              "nyRZsmRJWlpa8ta3vjXnnXdeNm/enCRdzpa8+LeCzz777IwePTpjxozJH/7wh17+pwYA5RPzAFCw\n",
              "++67Lw888ECuvfbajB8/PkuXLs2KFSuydevWXHXVVZk5c2bGjBmTr371q1m+fHne9a53ZeTIkfnx\n",
              "j3+ce++9N7/85S9z66235u67737FnzVx4sS0trYmefFZ+BNPPDFvf/vb87Of/Sxr1qzJ6tWr8453\n",
              "vKPTY1544YWceeaZ+fKXv5z//d//zdlnn50VK1YkSZezJck999yTz3/+87nvvvtyyimn5Itf/GIv\n",
              "/1MDgPJ5mT0AFOjMM89M//79M2DAgFx77bW54IIL8qUvfSlf+cpXkiQbN25M3759u3zsxo0bc8EF\n",
              "F2T58uXp06dPVq9eneXLl2fcuHE7/JkTJ07Mddddl/b29qxcuTKjRo3KhAkTctddd+XRRx/NO97x\n",
              "jjQ0NHR6zAMPPJB+/frllFNOSZJMmjQpBx988A5/zjve8Y4cdNBBHV//27/9W7f+mQDAXxIxDwAF\n",
              "euk98y/58Ic/nFtvvTWHHXbYKz72U5/6VPbZZ58sW7Ys/fr1yxlnnNHxUvkdGTt2bB5//PEsWLAg\n",
              "Y8eOTZJMmDAh559/ftasWdPxfvlXUqvVdnj/3nvv3fF13759O16WDwD8P15mDwB7gNNPPz1f/OIX\n",
              "O8J33bp1+f3vf58kaWxsTFtbW8e+69atywEHHJB+/frlN7/5TX70ox9162fstddeOf744/PZz342\n",
              "J554YpLk0EMPzerVq/OjH/2o4/3yLzdq1Khs3ry54+X5d955Zx588MGO+/98NgCge8Q8AOwBvvrV\n",
              "r6Z///5paWlJU1NTTj755KxcuTJJ8oEPfCCf//znOz5k7rLLLst1112XpqamXHzxxdt9Rn3NmjWd\n",
              "nv1PXnyp/e9+97uOmE9e/KT7tWvXdjxb/3Kve93rcvPNN+cTn/hERo8enRtvvDHNzc0d9//5bABA\n",
              "99Sqqqp29xAAAABA93lmHgAAAAoj5gEAAKAwYh4AAAAKI+YBAACgMGIeAAAACiPmAQAAoDBiHgAA\n",
              "AAoj5gEAAKAwYh4AAAAKI+YBAACgMP8/rrCur8GiTskAAAAASUVORK5CYII=\n",
              "\">\n",
              "      </div>\n",
              "      <script type=\"text/javascript\">\n",
              "        (() => {\n",
              "          const chartElement = document.getElementById(\"chart-eaf5e0c4-2963-486f-9a5a-ebfb769ffd56\");\n",
              "          async function getCodeForChartHandler(event) {\n",
              "            const chartCodeResponse =  await google.colab.kernel.invokeFunction(\n",
              "                'getCodeForChart', [\"chart-eaf5e0c4-2963-486f-9a5a-ebfb769ffd56\"], {});\n",
              "            const responseJson = chartCodeResponse.data['application/json'];\n",
              "            await google.colab.notebook.addCell(responseJson.code, 'code');\n",
              "          }\n",
              "          chartElement.onclick = getCodeForChartHandler;\n",
              "        })();\n",
              "      </script>\n",
              "      <style>\n",
              "        .colab-quickchart-chart-with-code  {\n",
              "            display: block;\n",
              "            float: left;\n",
              "            border: 1px solid transparent;\n",
              "        }\n",
              "\n",
              "        .colab-quickchart-chart-with-code:hover {\n",
              "            cursor: pointer;\n",
              "            border: 1px solid #aaa;\n",
              "        }\n",
              "      </style>"
            ]
          },
          "metadata": {}
        },
        {
          "output_type": "display_data",
          "data": {
            "text/plain": [
              "from matplotlib import pyplot as plt\n",
              "import seaborn as sns\n",
              "def _plot_series(series, series_name, series_index=0):\n",
              "  from matplotlib import pyplot as plt\n",
              "  import seaborn as sns\n",
              "  palette = list(sns.palettes.mpl_palette('Dark2'))\n",
              "  xs = series['Petal.Width']\n",
              "  ys = series['Petal.Length']\n",
              "  \n",
              "  plt.plot(xs, ys, label=series_name, color=palette[series_index % len(palette)])\n",
              "\n",
              "fig, ax = plt.subplots(figsize=(10, 5.2), layout='constrained')\n",
              "df_sorted = _df_7.sort_values('Petal.Width', ascending=True)\n",
              "_plot_series(df_sorted, '')\n",
              "sns.despine(fig=fig, ax=ax)\n",
              "plt.xlabel('Petal.Width')\n",
              "_ = plt.ylabel('Petal.Length')"
            ],
            "text/html": [
              "      <div class=\"colab-quickchart-chart-with-code\" id=\"chart-ac2e7380-ba72-4983-aa7b-58ec382a0e0f\">\n",
              "        <img style=\"width: 180px;\" src=\"data:image/png;base64,iVBORw0KGgoAAAANSUhEUgAAA/MAAAITCAYAAABLz0yVAAAAOXRFWHRTb2Z0d2FyZQBNYXRwbG90\n",
              "bGliIHZlcnNpb24zLjcuMSwgaHR0cHM6Ly9tYXRwbG90bGliLm9yZy/bCgiHAAAACXBIWXMAAA9h\n",
              "AAAPYQGoP6dpAAAz/0lEQVR4nO3df5RX9YHf/9fHwQ6gMq6LP4hTmApEooGZIUp1NRh1E2g2q1nC\n",
              "WUm7W41iSMmWbjiJRxJtYmK0aVaMicsaV9TjieuPCBqObZrGGO1Q3UDEIcSWjaADQUGMa0AJDgPc\n",
              "7x9+/TQTBpgh82G4+nicc8+Zufd+7ud9fXu9Pvn8oFIURREAAACgNA4b6AEAAAAAfSPmAQAAoGTE\n",
              "PAAAAJSMmAcAAICSEfMAAABQMmIeAAAASkbMAwAAQMmIeQAAACiZd3TM33TTTQM9BAAAAOizd3TM\n",
              "r1u3bqCHAAAAAH32jo55AAAAKCMxDwAAACUj5gEAAKBkxDwAAACUjJgHAACAkhHzAAAAUDJiHgAA\n",
              "AEpGzAMAAEDJiHkAAAAoGTEPAAAAJSPmAQAAoGTEPAAAAJSMmAcAAICSEfMAAABQMmIeAAAASkbM\n",
              "AwAAQMmIeQAAACiZmsb8nDlz0tTUlEqlkvb29h73eeyxxzJkyJC0tLRUl+3bt1e3L1y4MGPHjs3o\n",
              "0aNz+eWXp6urq1fbAAAA4O2qpjE/ffr0LF26NKNGjdrnfieffHLa29ury5AhQ5Ikzz//fK6++uq0\n",
              "tbVlzZo1eemll3LrrbfudxsAcPDsLnZnd7F7oIcBAO8oNY35yZMnp7Gx8YAf/8ADD+SCCy7ICSec\n",
              "kEqlkk996lO555579rutJ52dndm6dWu3ZdeuXQc8NgDgzZAfeefnM/LOzwt6ADiIDonPzK9duzYT\n",
              "J07M6aefngULFlTXr1+/vtur+k1NTVm/fv1+t/Xk+uuvT0NDQ7dl2bJlNTgbAHjn+Oc3ftPjzwBA\n",
              "bQ14zE+cODEbNmzIihUr8uCDD+aWW27J/fff3+/PM2/evGzZsqXbMmnSpH5/HgAAAKi1AY/5YcOG\n",
              "paGhIUnS2NiYj3/842lra0uSjBw5MuvWravu29HRkZEjR+53W0/q6+szbNiwbktdXV0tTgkAAABq\n",
              "asBjfuPGjdm9+83P2L322mt5+OGH09ramiT52Mc+liVLlmTTpk0piiK33HJLZsyYsd9tAAAA8HZW\n",
              "05ifNWtWGhsbs2HDhkyZMiVjxoxJksycOTNLlixJkixatCjjx49Pc3NzzjjjjHzwgx/MJz7xiSTJ\n",
              "SSedlGuuuSZnnXVWxowZk2OPPTazZs3a7zYAAAB4O6sURVEM9CAGyty5czN//vyBHgYAlNavtr+e\n",
              "lnuvTZK0z7gqw4ccOcAjAoB3hgF/mz0AAADQN2IeAAAASkbMAwAAQMmIeQAAACgZMQ8AAAAlI+YB\n",
              "AACgZMQ8AAAAlIyYBwAAgJIR8wAAAFAyYh4AAABKRswDAABAyYh5AAAAKBkxDwAAACUj5gEAAKBk\n",
              "xDwAAACUjJgHAACAkhHzAAAAUDJiHgAAAEpGzAMAAEDJiHkAAAAoGTEPAAAAJSPmAQAAoGTEPAAA\n",
              "AJSMmAcAAICSEfMAAABQMmIeAAAASkbMAwAAQMmIeQAAACgZMQ8AAAAlI+YBAACgZMQ8AAAAlIyY\n",
              "BwAAgJIR8wAAAFAyYh4AAABKRswDAABAyYh5AAAAKBkxDwAAACUj5gEAAKBkxDwAAACUjJgHAACA\n",
              "khHzAAAAUDJiHgAAAEpGzAMAAEDJiHkAAAAoGTEPAAAAJVPTmJ8zZ06amppSqVTS3t6+z32Losh5\n",
              "552Xo48+urruBz/4QVpaWqrLu971rkycOLG6vVKpZPz48dXtbW1tNToTAAAAOHQMquXBp0+fniuu\n",
              "uCJnn332fve98cYbM3r06KxYsaK6bsqUKZkyZUr194985CM599xzuz2ura2t2x8AAAAAwNtdTV+Z\n",
              "nzx5chobG/e73zPPPJOHHnooV1555V73efHFF/OjH/0of/mXf9mfQwQAAIDSqekr873R1dWVyy+/\n",
              "PAsXLkxdXd1e97vzzjvz4Q9/OMcdd1y39eeff3527tyZ888/P1/5yldyxBFH9Pj4zs7OdHZ2dlu3\n",
              "a9eu3/8EAAAA4CAb8C/Au+aaazJt2rS85z3v2es+RVHk9ttvz2WXXdZt/bp16/LUU0/liSeeyMsv\n",
              "v5zPfe5zez3G9ddfn4aGhm7LsmXL+u08AAAA4GAZ8Jh//PHH861vfStNTU05++yzs3Xr1jQ1NeXl\n",
              "l1/uts8bb7zR7fPzSTJy5MgkyRFHHJHZs2fv8wvw5s2bly1btnRbJk2aVJuTAgAAgBoa8LfZ/3aA\n",
              "d3R0pKWlJR0dHd32WbhwYS655JJub8N/9dVXU19fn6FDh2b37t2577770trautfnqa+vT319fbd1\n",
              "+3pbPwAAAByqavrK/KxZs9LY2JgNGzZkypQpGTNmTJJk5syZWbJkSa+OsWXLlixevDiXXnppt/Wr\n",
              "V6/OGWeckebm5owfPz6vvPJKvvGNb/T3KQAAAMAhp6avzH/729/ucf1tt93W4/qmpqb8+te/7rau\n",
              "oaEh27Zt22PfM888Mz/72c9+7zECAABA2Qz4Z+YBAACAvhHzAAAAUDJiHgAAAEpGzAMAAEDJiHkA\n",
              "AAAoGTEPAAAAJSPmAQAAoGTEPAAAAJSMmAcAAICSEfMAAABQMmIeAAAASkbMAwAAQMmIeQAAACgZ\n",
              "MQ8AAAAlI+YBAACgZMQ8AAAAlIyYBwAAgJIR8wAAAFAyYh4AAABKRswDAABAyYh5AAAAKBkxDwAA\n",
              "ACUj5gEAAKBkxDwAAACUjJgHAACAkhHzAAAAUDJiHgAAAEpGzAMAAEDJiHkAAAAoGTEPAAAAJSPm\n",
              "AQAAoGTEPAAAAJSMmAcAAICSEfMAAABQMmIeAAAASkbMAwAAQMmIeQAAACgZMQ8AAAAlI+YBAACg\n",
              "ZMQ8AAAAlIyYBwAAgJIR8wAAAFAyYh4AAABKRswDAABAyYh5AAAAKBkxDwAAACVT05ifM2dOmpqa\n",
              "UqlU0t7evs99i6LIeeedl6OPPrq6rqOjI3V1dWlpaakua9eurW5/+OGHM27cuIwdOzbTpk3L1q1b\n",
              "a3QmAAAAcOioacxPnz49S5cuzahRo/a774033pjRo0fvsf6oo45Ke3t7dXlrn9dffz2XXXZZHnro\n",
              "oTz77LN517vela985Sv9fg4AAABwqKlpzE+ePDmNjY373e+ZZ57JQw89lCuvvLLXx/7+97+f1tbW\n",
              "jBs3Lkkye/bs3HPPPXvdv7OzM1u3bu227Nq1q9fPBwAAAIeKAf/MfFdXVy6//PJ8+9vfTl1d3R7b\n",
              "t23bltNPPz0TJ07Ml7/85WqAr1+/vtsr/k1NTdm4cWN27tzZ4/Ncf/31aWho6LYsW7asNicFAAAA\n",
              "NTTgMX/NNddk2rRpec973rPHthEjRuSFF17I8uXL88gjj6StrS033HDDAT3PvHnzsmXLlm7LpEmT\n",
              "ft/hAwAAwEE34DH/+OOP51vf+laamppy9tlnZ+vWrWlqasrLL7+c+vr6HHfccUmSY445Jpdeemna\n",
              "2tqSJCNHjsy6deuqx+no6MiIESMyaNCgHp+nvr4+w4YN67b09E4AAAAAONQNeMy3tbVl3bp16ejo\n",
              "yNKlSzNs2LB0dHTk2GOPzebNm9PV1ZXkzc+8L168OK2trUmSqVOnZsWKFVm9enWSZMGCBZkxY8aA\n",
              "nQcAAAAcLDWN+VmzZqWxsTEbNmzIlClTMmbMmCTJzJkzs2TJkv0+funSpWltbU1zc3MmTpyYE044\n",
              "IV/4wheSvPkt97fddls++tGPZsyYMdmwYUOuvvrqWp4OAAAAHBIqRVEUAz2IgTJ37tzMnz9/oIcB\n",
              "AKX1q+2vp+Xea5Mk7TOuyvAhRw7wiADgnWHA32YPAAAA9I2YBwAAgJIR8wAAAFAyYh4AAABKRswD\n",
              "AABAyYh5AAAAKBkxDwAAACUj5gEAAKBkxDwAAACUjJgHAACAkhHzAAAAUDJiHgAAAEpGzAMAAEDJ\n",
              "iHkAAAAoGTEPAAAAJSPmAQAAoGTEPAAAAJSMmAcAAICSEfMAAABQMmIeAAAASkbMAwAAQMmIeQAA\n",
              "ACgZMQ8AAAAlI+YBAACgZMQ8AAAAlIyYBwAAgJIR8wAAAFAyYh4AAABKRswDAABAyYh5AAAAKBkx\n",
              "DwAAACUj5gEAAKBkxDwAAACUjJgHAACAkhHzAAAAUDJiHgAAAEpGzAMAAEDJiHkAAAAoGTEPAAAA\n",
              "JSPmAQAAoGTEPAAAAJSMmAcAAICSEfMAAABQMmIeAAAASkbMAwAAQMmIeQAAACiZmsb8nDlz0tTU\n",
              "lEqlkvb29n3uWxRFzjvvvBx99NHVdatWrcrkyZMzbty4vPe9782ll16a7du3V7dXKpWMHz8+LS0t\n",
              "aWlpSVtbW43OBAAAAA4dNY356dOnZ+nSpRk1atR+973xxhszevTobusGDx6cm2++OatXr87KlSuz\n",
              "bdu2fO1rX+u2T1tbW9rb29Pe3p73v//9/Tp+AAAAOBQNquXBJ0+e3Kv9nnnmmTz00EO544478t3v\n",
              "fre6fuzYsdWf6+rqcvrpp+fnP//5AY2ls7MznZ2d3dbt2rXrgI4FAAAAA2nAPzPf1dWVyy+/PN/+\n",
              "9rdTV1e31/22bduW2267LRdeeGG39eeff36am5szd+7cbNu2ba+Pv/7669PQ0NBtWbZsWb+dBwAA\n",
              "ABwsAx7z11xzTaZNm5b3vOc9e91nx44dueiii/KhD30of/Znf1Zdv27dujz11FN54okn8vLLL+dz\n",
              "n/vcXo8xb968bNmypdsyadKkfj0XAAAAOBhq+jb73nj88cezfv363Hzzzdm5c2e2bt2apqamLF++\n",
              "PMcee2y6urpy0UUXZcSIEbnpppu6PXbkyJFJkiOOOCKzZ8/OJz/5yb0+T319ferr67ut29c7AQAA\n",
              "AOBQNeAx/9vfQN/R0ZGWlpZ0dHQkSXbu3JkZM2bkmGOOya233ppKpVLd99VXX019fX2GDh2a3bt3\n",
              "57777ktra+vBHj4AAAAcdDV9m/2sWbPS2NiYDRs2ZMqUKRkzZkySZObMmVmyZMl+H3/fffdl8eLF\n",
              "+elPf5rW1ta0tLTk05/+dJJk9erVOeOMM9Lc3Jzx48fnlVdeyTe+8Y1ang4AAAAcEipFURQDPYiB\n",
              "Mnfu3MyfP3+ghwEApfWr7a+n5d5rkyTtM67K8CFHDvCIAOCdYcC/AA8AAADoGzEPAAAAJSPmAQAA\n",
              "oGTEPAAAAJSMmAcAAICSEfMAAABQMmIeAAAASkbMAwAAQMmIeQAAACgZMQ8AAAAlI+YBAACgZMQ8\n",
              "AAAAlIyYBwAAgJIR8wAAAFAyYh4AAABKRswDAABAyYh5AAAAKBkxDwAAACUzqK8PWLFiRT7/+c/n\n",
              "ueeey86dO6vrn3vuuX4dGAAAANCzPsf8xRdfnL/6q7/KmWeembq6ulqMCQAAANiHPsd8XV1dZs2a\n",
              "VYuxAAAAAL3Q58/Mn3XWWfnpT39ai7EAAAAAvdDrV+ZbW1tTqVTS1dWVv//7v8+YMWMyePDg6vYV\n",
              "K1bUZIAAAABAd72O+W984xs1HAYAAADQW72O+XPOOSdJcvvtt+fSSy/ttu3222+vbgcAAABqq8+f\n",
              "mb/55pv3WPe3f/u3/TIYAAAAYP96/cr8smXL8uSTT+bll1/ON7/5zer6LVu2pLOzsyaDAwAAAPbU\n",
              "65jfuHFj2tvb85vf/CZPP/10df2wYcNy55131mJsAAAAQA96HfMXXnhhLrzwwnz/+9/Pv/k3/6aW\n",
              "YwIAAAD2odcx/5aXX345d911V7d1Rx99dN73vvflxBNP7LeBAQAAAD3rc8zffffd+V//63/l7LPP\n",
              "TqVSydKlSzNp0qT84he/yDe+8Y38+Z//eS3GCQAAAPz/+vxt9kceeWSefvrp/PCHP8z//J//M08/\n",
              "/XSOOeaYPPHEE7n22mtrMUYAAADgt/Q55n/xi19k3Lhx1d9PPvnkrFmzJk1NTTnssD4fDgAAAOij\n",
              "Ptf3UUcdlbvuuitFUaQoitx111058sgjazE2AAAAoAd9jvk77rgjN998c+rr6zN48ODcfPPNWbhw\n",
              "YbZt25avf/3rtRgjAAAA8Fv6/AV4J598cpYtW5bXXnstyZuv1L/lgx/8YP+NDAAAAOhRn2M+STZu\n",
              "3Jjnn38+O3furK6bPHlyvw0KAAAA2Ls+x/xXv/rVfP3rX89JJ52Uurq6JEmlUsmyZcv6fXAAAADA\n",
              "nvoc87fffnvWrl2bP/zDP6zFeAAAAID96PMX4B1//PFCHgAAAAZQn1+Z/+AHP5i//uu/zr/9t/82\n",
              "gwcPrq6fMGFCvw4MAAAA6FmfY/6uu+5Kknzve9+rrqtUKnnuuef6b1QAAADAXvU55p9//vlajAMA\n",
              "AADopT5/Zj5JFi1alOuuuy5J8uKLL2bVqlX9OigAAABg7/oc8//5P//n3HbbbbnzzjuTvPkW+1mz\n",
              "ZvX3uAAAAIC96HPMf+9738vDDz+cI444IkkyYsSIvP766z3uO2fOnDQ1NaVSqaS9vX2fxy2KIued\n",
              "d16OPvrobusffvjhjBs3LmPHjs20adOydevWXm0DAACAt6s+x/yQIUNSV1fXbV1RFD3uO3369Cxd\n",
              "ujSjRo3a73FvvPHGjB49utu6119/PZdddlkeeuihPPvss3nXu96Vr3zlK/vdBgAAAG9nfY75UaNG\n",
              "pa2tLZVKJV1dXbnmmmvS0tLS476TJ09OY2Pjfo/5zDPP5KGHHsqVV17Zbf33v//9tLa2Zty4cUmS\n",
              "2bNn55577tnvNgDg4ChS9PgzAFBbff42+29+85u5+OKLs2rVqhxxxBE599xzc/fddx/wALq6unL5\n",
              "5Zdn4cKFe7ziv379+m6v6jc1NWXjxo3ZuXPnPrcNGrTnaXV2dqazs7Pbul27dh3wuAGAZPvOrh5/\n",
              "BgBqq8+vzB9//PH5H//jf2TLli159dVX84Mf/CCPP/74AQ/gmmuuybRp0/Ke97zngI/RG9dff30a\n",
              "Ghq6LcuWLavpcwIAAEAtHNBfTZckQ4cOrX4J3mc+85kDHsDjjz+eb33rW2lqasrZZ5+drVu3pqmp\n",
              "KS+//HJGjhyZdevWVfft6OjIiBEjMmjQoH1u68m8efOyZcuWbsukSZMOeNwAQDJk0OE9/gwA1NYB\n",
              "x/xv29sX4PVGW1tb1q1bl46OjixdujTDhg1LR0dHjj322EydOjUrVqzI6tWrkyQLFizIjBkzkmSf\n",
              "23pSX1+fYcOGdVt+9239AEDfVFLp8WcAoLb6JeYrlZ5v3rNmzUpjY2M2bNiQKVOmZMyYMUmSmTNn\n",
              "ZsmSJfs97lFHHZXbbrstH/3oRzNmzJhs2LAhV1999X63AQAAwNtZpejly+rf/OY3e1xfFEWuueaa\n",
              "/PM//3O/DuxgmDt3bubPnz/QwwCA0vrV9tfTcu+1SZL2GVdl+JAjB3hEAPDO0Otvs3/66af3uu3C\n",
              "Cy/sl8EAAAAA+9frmL/jjjtqOQ4AAACgl/rlM/MAAADAwdMvMT9x4sT+OAwAAADQC/0S8//tv/23\n",
              "/jgMAAAA0Av9EvMjRozoj8MAAAAAvdDrL8CbO3fuPrf7K94AAADg4Oh1zDc0NNRyHAAAAEAv9Trm\n",
              "v/jFL9ZyHAAAAEAv9Trmf9uyZcvS3t6eN954o7puzpw5/TYoAAAAYO/6HPPXXXddHnjggaxfvz7n\n",
              "nHNOfvjDH+b8888X8wAAAHCQ9Pnb7P/hH/4hTzzxRBobG7No0aIsX748hx3WL1+KDwAAAPRCnyt8\n",
              "8ODBGTx4cHbv3p2iKHLyySdn7dq1tRgbAAAA0IM+v81+yJAh6erqSktLSz772c+msbExu3btqsXY\n",
              "AAAAgB70+ZX5v/u7v8uOHTtyww03ZOvWrfnf//t/5zvf+U4txgYAAAD0oM8xv2HDhhxxxBE59thj\n",
              "8/d///d54IEHsnHjxlqMDQAAAOhBn2P+85//fK/WAQAAALXR68/M/+IXv8jq1auzZcuWLFmypLp+\n",
              "y5Yt+c1vflOTwQEAAAB76nXMP/nkk7nzzjuzefPm3HjjjdX1w4YNyw033FCTwQEAAAB76nXMX3zx\n",
              "xbn44ouzcOHCXHbZZbUcEwAAALAPff7M/L//9/8+N9xwQ2bPnp0kWbt2bR599NF+HxgAAADQsz7/\n",
              "PfP/8T/+x+zatStLly5NkvzhH/5hLrroovz0pz/t98EBAAAAe+pzzP/jP/5j2tvb09ramiQ5+uij\n",
              "09XV1e8DAwAAAHrW57fZDx48uNvvu3btyu7du/ttQAAAAMC+9TnmJ0yYkO985zvZvXt31qxZk099\n",
              "6lP5wAc+UIOhAQAAAD3pU8z//Oc/z+TJk3PHHXdk06ZNOeuss3LYYYfla1/7Wq3GBwAAAPyOXn9m\n",
              "fsGCBfn85z+fk08+OatXr84dd9yRadOm1XJsAAAAQA96/cr8ggUL8rOf/Sw/+clPsnTp0syfP7+W\n",
              "4wIAAAD2otcxf/jhh2fkyJFJkvHjx2fbtm01GxQAAACwd71+m/0bb7yRVatWpSiKHn+fMGFCbUYI\n",
              "AAAAdNPrmN++fXsuuOCCbuve+r1SqeS5557r35EBAAAAPep1zHd0dNRwGAAAAEBv9fnvmQcAAAAG\n",
              "lpgHAACAkhHzAAAAUDJiHgAAAEpGzAMAAEDJiHkAAAAoGTEPAAAAJSPmAQAAoGTEPAAAAJSMmAcA\n",
              "AICSEfMAAABQMmIeAAAASkbMAwAAQMmIeQAAACiZmsb8nDlz0tTUlEqlkvb29h73efLJJ9PS0pKW\n",
              "lpaceuqpmTVrVjo7O5Mkd9xxR3VbS0tLhg8fnmnTpiVJOjo6UldX12372rVra3k6AAAAcEioacxP\n",
              "nz49S5cuzahRo/a6T3Nzc5YvX5729vasWrUqmzdvzoIFC5Ikn/jEJ9Le3l5dTjjhhPy7f/fvqo89\n",
              "6qijum0fPXp0LU8HAAAADgmDannwyZMn73efoUOHVn/esWNHtm/fnkqlssd+P/nJT7J58+ZccMEF\n",
              "BzSWzs7O6iv+b9m1a9cBHQsAAAAG0iHxmfmOjo40Nzdn+PDhaWhoyOzZs/fYZ+HChfnLv/zLHH74\n",
              "4dV127Zty+mnn56JEyfmy1/+8j7j/Prrr09DQ0O3ZdmyZTU5HwAAAKilQyLmm5qasnLlymzatCmd\n",
              "nZ1ZvHhxt+3btm3Lvffem8suu6y6bsSIEXnhhReyfPnyPPLII2lra8sNN9yw1+eYN29etmzZ0m2Z\n",
              "NGlSzc4JAAAAauWQiPm3HHnkkZkxY0buvvvubuu/+93v5tRTT80pp5xSXVdfX5/jjjsuSXLMMcfk\n",
              "0ksvTVtb216PXV9fn2HDhnVb6urqanMiAAAAUEMDHvNr1qxJV1dXkjc/M//ggw9mwoQJ3fZZuHBh\n",
              "t1flk2Tz5s3Vx731an5ra+vBGTQAAAAMoJrG/KxZs9LY2JgNGzZkypQpGTNmTJJk5syZWbJkSZLk\n",
              "0UcfTWtra5qbm9Pa2prjjz8+V199dfUY//RP/5T29vZcdNFF3Y69dOnS6uMmTpyYE044IV/4whdq\n",
              "eToAAABwSKgURVEM9CAGyty5czN//vyBHgYAlNavtr+elnuvTZK0z7gqw4ccOcAjAoB3hgF/mz0A\n",
              "AADQN2IeAAAASkbMAwAAQMmIeQAAACgZMQ8AAAAlI+YBAACgZMQ8AAAAlIyYBwAAgJIR8wAAAFAy\n",
              "Yh4AAABKRswDAABAyYh5AAAAKBkxDwAAACUj5gEAAKBkxDwAAACUjJgHAACAkhHzAAAAUDJiHgAA\n",
              "AEpGzAMAAEDJiHkAAAAoGTEPAAAAJSPmAQAAoGTEPAAAAJSMmAcAAICSEfMAAABQMmIeAAAASkbM\n",
              "AwAAQMmIeQAAACgZMQ8AAAAlI+YBAACgZMQ8AAAAlIyYBwAAgJIR8wAAAFAyYh4AAABKRswDAABA\n",
              "yYh5AAAAKBkxDwAAACUj5gEAAKBkxDwAAACUjJgHAACAkhHzAAAAUDJiHgAAAEpGzAMAAEDJiHkA\n",
              "AAAoGTEPAAAAJVPTmJ8zZ06amppSqVTS3t7e4z5PPvlkWlpa0tLSklNPPTWzZs1KZ2dnkuSxxx7L\n",
              "kCFDqttbWlqyffv26mMXLlyYsWPHZvTo0bn88svT1dVVy9MBAACAQ0JNY3769OlZunRpRo0atdd9\n",
              "mpubs3z58rS3t2fVqlXZvHlzFixYUN1+8sknp729vboMGTIkSfL888/n6quvTltbW9asWZOXXnop\n",
              "t956ay1PBwAAAA4JNY35yZMnp7GxcZ/7DB06NIcffniSZMeOHdm+fXsqlcp+j/3AAw/kggsuyAkn\n",
              "nJBKpZJPfepTueeee/pl3AAAAHAoOyQ+M9/R0ZHm5uYMHz48DQ0NmT17dnXb2rVrM3HixJx++und\n",
              "XrFfv359t1f8m5qasn79+r0+R2dnZ7Zu3dpt2bVrV21OCAAAAGrokIj5pqamrFy5Mps2bUpnZ2cW\n",
              "L16cJJk4cWI2bNiQFStW5MEHH8wtt9yS+++//4Ce4/rrr09DQ0O3ZdmyZf15GgAAAHBQHBIx/5Yj\n",
              "jzwyM2bMyN13350kGTZsWBoaGpIkjY2N+fjHP562trYkyciRI7Nu3brqYzs6OjJy5Mi9HnvevHnZ\n",
              "smVLt2XSpEk1PBsAAACojQGP+TVr1lS/hX7Hjh158MEHM2HChCTJxo0bs3v37iTJa6+9locffjit\n",
              "ra1Jko997GNZsmRJNm3alKIocsstt2TGjBl7fZ76+voMGzas21JXV1fjswMAAID+V9OYnzVrVhob\n",
              "G7Nhw4ZMmTIlY8aMSZLMnDkzS5YsSZI8+uijaW1tTXNzc1pbW3P88cfn6quvTpIsWrQo48ePT3Nz\n",
              "c84444x88IMfzCc+8YkkyUknnZRrrrkmZ511VsaMGZNjjz02s2bNquXpAAAAwCGhUhRFMdCDGChz\n",
              "587N/PnzB3oYAFBav9r+elruvTZJ0j7jqgwfcuQAjwgA3hkG/G32AAAAQN+IeQAAACgZMQ8AAAAl\n",
              "I+YBAACgZMQ8AAAAlIyYBwAAgJIR8wAAAFAyYh4AAABKRswDAABAyYh5AAAAKBkxDwAAACUj5gEA\n",
              "AKBkxDwAAACUjJgHAACAkhHzAAAAUDJiHgAAAEpGzAMAAEDJiHkAAAAoGTEPAAAAJSPmAQAAoGTE\n",
              "PAAAAJSMmAcAAICSEfMAAABQMmIeAAAASkbMAwAAQMmIeQAAACgZMQ8AAAAlI+YBAACgZMQ8AAAA\n",
              "lIyYBwAAgJIR8wAAAFAyYh4AAABKRswDAABAyYh5AAAAKBkxDwAAACUj5gEAAKBkxDwAAACUjJgH\n",
              "AACAkhHzAAAAUDJiHgAAAEpGzAMAAEDJiHkAAAAoGTEPAAAAJSPmAQAAoGTEPAAAAJSMmAcAAICS\n",
              "qWnMz5kzJ01NTalUKmlvb+9xnyeffDItLS1paWnJqaeemlmzZqWzszNJ8uijj2bSpEk55ZRTcuqp\n",
              "p+aKK67I7t27kyQdHR2pq6urPralpSVr166t5ekAAADAIaGmMT99+vQsXbo0o0aN2us+zc3NWb58\n",
              "edrb27Nq1aps3rw5CxYsSJL8wR/8Qe699978n//zf/LUU0/liSeeyF133VV97FFHHZX29vbqMnr0\n",
              "6FqeDgAAABwSBtXy4JMnT97vPkOHDq3+vGPHjmzfvj2VSiVJ0traWt02ePDgtLS0pKOj44DG0tnZ\n",
              "WX3F/y27du06oGMBAADAQDokPjPf0dGR5ubmDB8+PA0NDZk9e/Ye+2zatCkPPPBAPvKRj1TXbdu2\n",
              "LaeffnomTpyYL3/5y/uM8+uvvz4NDQ3dlmXLltXkfAAAAKCWDomYb2pqysqVK7Np06Z0dnZm8eLF\n",
              "3bZv3bo1f/qnf5orrrgip512WpJkxIgReeGFF7J8+fI88sgjaWtryw033LDX55g3b162bNnSbZk0\n",
              "aVJNzwsAAABq4ZCI+bcceeSRmTFjRu6+++7qutdeey1Tp07NhRdemLlz51bX19fX57jjjkuSHHPM\n",
              "Mbn00kvT1ta212PX19dn2LBh3Za6urranQwAAADUyIDH/Jo1a9LV1ZXkzc/MP/jgg5kwYUKS5PXX\n",
              "X8/UqVMzderUXHXVVd0et3nz5urj3no1/7c/Yw8AAABvVzWN+VmzZqWxsTEbNmzIlClTMmbMmCTJ\n",
              "zJkzs2TJkiRv/vVzra2taW5uTmtra44//vhcffXVSZKbbropy5Yty+LFi6t//dxXv/rVJMnSpUur\n",
              "j5s4cWJOOOGEfOELX6jl6QAAAMAhoVIURTHQgxgoc+fOzfz58wd6GABQWr/a/npa7r02SdI+46oM\n",
              "H3LkAI8IAN4ZBvxt9gAAAEDfiHkAAAAoGTEPAAAAJSPmAQAAoGTEPAAAAJSMmAcAAICSEfMAAABQ\n",
              "MmIeAAAASkbMAwAAQMmIeQAAACgZMQ8AAAAlI+YBAACgZMQ8AAAAlIyYBwAAgJIR8wAAAFAyYh4A\n",
              "AABKRswDAABAyYh5AAAAKBkxDwAAACUj5gEAAKBkxDwAAACUjJgHAACAkhHzAAAAUDJiHgAAAEpG\n",
              "zAMAAEDJiHkAAAAoGTEPAAAAJSPmAQAAoGTEPAAAAJSMmAcAAICSEfMAAABQMmIeAAAASkbMAwAA\n",
              "QMmIeQAAACgZMQ8AAAAlI+YBAACgZMQ8AAAAlIyYBwAAgJIR8wAAAFAyYh4AAABKRswDAABAyYh5\n",
              "AAAAKBkxDwAAACUj5gEAAKBkxDwAAACUjJgHAACAkqlpzM+ZMydNTU2pVCppb2/vcZ8nn3wyLS0t\n",
              "aWlpyamnnppZs2als7Ozun3hwoUZO3ZsRo8encsvvzxdXV292gYAAABvVzWN+enTp2fp0qUZNWrU\n",
              "Xvdpbm7O8uXL097enlWrVmXz5s1ZsGBBkuT555/P1Vdfnba2tqxZsyYvvfRSbr311v1uAwAAgLez\n",
              "msb85MmT09jYuM99hg4dmsMPPzxJsmPHjmzfvj2VSiVJ8sADD+SCCy7ICSeckEqlkk996lO55557\n",
              "9rutJ52dndm6dWu3ZdeuXf10pgAAAHDwHBKfme/o6Ehzc3OGDx+ehoaGzJ49O0myfv36bq/qNzU1\n",
              "Zf369fvd1pPrr78+DQ0N3ZZly5bV6IwA4J3hmMFDe/wZAKitQyLmm5qasnLlymzatCmdnZ1ZvHhx\n",
              "vz/HvHnzsmXLlm7LpEmT+v15AOCd5LDKYVl/yXVZf8l1OaxySPxvBQC8IxxSd90jjzwyM2bMyN13\n",
              "350kGTlyZNatW1fd3tHRkZEjR+53W0/q6+szbNiwbktdXV2NzgQA3jkOqxwm5AHgIBvwO++aNWuq\n",
              "30K/Y8eOPPjgg5kwYUKS5GMf+1iWLFmSTZs2pSiK3HLLLZkxY8Z+twEAAMDbWU1jftasWWlsbMyG\n",
              "DRsyZcqUjBkzJkkyc+bMLFmyJEny6KOPprW1Nc3NzWltbc3xxx+fq6++Okly0kkn5ZprrslZZ52V\n",
              "MWPG5Nhjj82sWbP2uw0AAADezipFURQDPYiBMnfu3MyfP3+ghwEAAAB9MuBvswcAAAD6RswDAABA\n",
              "yYh5AAAAKBkxDwAAACUj5gEAAKBkxDwAAACUjJgHAACAkhHzAAAAUDJiHgAAAEpGzAMAAEDJiHkA\n",
              "AAAoGTEPAAAAJSPmAQAAoGTEPAAAAJSMmAcAAICSEfMAAABQMpWiKIqBHsRAmTZtWpqamgZ6GPu1\n",
              "a9euLFu2LJMmTUpdXd1AD4e9ME/lYa7Kw1yVg3kqD3NVHuaqHMxTeZRtrkaNGpX/9J/+0z73eUfH\n",
              "fFls3bo1DQ0N2bJlS4YNGzbQw2EvzFN5mKvyMFflYJ7Kw1yVh7kqB/NUHm/HufI2ewAAACgZMQ8A\n",
              "AAAlI+YBAACgZMR8CdTX1+eLX/xi6uvrB3oo7IN5Kg9zVR7mqhzMU3mYq/IwV+Vgnsrj7ThXvgAP\n",
              "AAAASsYr8wAAAFAyYh4AAABKRswDAABAyYj5Gnv22WfzR3/0R3n3u9+d008/Pc8888we+3R0dOQD\n",
              "H/hAGhoa0tLS0m3b7t2789nPfjbvfe97M27cuFx22WXZsWNHdfvDDz+ccePGZezYsZk2bVq2bt3a\n",
              "q23sqZZztWrVqkyePDnjxo3Le9/73lx66aXZvn179bGVSiXjx49PS0tLWlpa0tbWVtNzLbNazlNH\n",
              "R0fq6uqq89DS0pK1a9dWH+ua6ptaztUPfvCDbvP0rne9KxMnTqw+1jXVN72Zq0cffTSTJk3KKaec\n",
              "klNPPTVXXHFFdu/eXd1+oPcj11Xv1XKe3Kf6Vy3nyr2qf9Vyrtyr+s/vO0+vv/56pkyZkuHDh+fo\n",
              "o4/e47GlvU8V1NS5555b3HHHHUVRFMV3v/vd4rTTTttjn1deeaVoa2srHn744aK5ubnbtltvvbU4\n",
              "99xzi87OzmL37t3FzJkzi//6X/9rURRF8dprrxXHHXdc8X//7/8tiqIoPv3pTxef/exn97uNntVy\n",
              "rn7xi18UK1euLIqiKHbu3Fn8+Z//efHFL36x+tgkxauvvlqL03rbqeU8Pf/880VDQ0OPz+ua6rta\n",
              "ztXv+pM/+ZPib/7mb6q/u6b6pjdztWLFimLt2rVFURTF9u3bi7POOqv6mAO9H7mu+qaW8+Q+1b9q\n",
              "OVfuVf2rlnP1u9yrDtzvO09vvPFG8aMf/ah4+umn97h+ynyfEvM19NJLLxVHHXVU0dXVVRRFUeze\n",
              "vbs4/vjji2effbbH/X/84x/v8T+zn/70p4uvfvWr1d8XLVpUjB8/viiKorj//vuLKVOmVLc988wz\n",
              "xYknnrjfbeyp1nP1u77+9a8XF198cfV3/zHvnVrP077+B8k11TcH85p64YUXisGDBxcvvfRSdZ1r\n",
              "qvf6Oldv+fSnP12NvQO9H7mueq/W8/S73KcOXK3nyr2q/xzM68q96sD1xzy9pafrp8z3KW+zr6Ff\n",
              "/vKXGTFiRAYNGpTkzbfSjBw5MuvXr+/1Md73vvdlyZIl2bp1a7q6unL//feno6MjSbJ+/fqMGjWq\n",
              "um9TU1M2btyYnTt37nMbe6r1XP22bdu25bbbbsuFF17Ybf3555+f5ubmzJ07N9u2bfu9zuft6mDM\n",
              "07Zt23L66adn4sSJ+fKXv5xdu3Yl2ff1xp4O5jV155135sMf/nCOO+64butdU71zIHO1adOmPPDA\n",
              "A/nIRz6S5MDvR66r3qv1PP0296nfz8GYK/eq/nEwryv3qgPXH/O0L2W+T4n5Q9wll1ySqVOn5pxz\n",
              "zsk555yTd7/73dV/kTm09GauduzYkYsuuigf+tCH8md/9mfV9evWrctTTz2VJ554Ii+//HI+97nP\n",
              "Hezhv2Psa55GjBiRF154IcuXL88jjzyStra23HDDDQM84neu3lxTRVHk9ttvz2WXXdZtvWuqdrZu\n",
              "3Zo//dM/zRVXXJHTTjttoIfDXhzoPLlPHXx9nSv3qoFzoNeVe9XB9U66T4n5GvqX//JfdvuTm6Io\n",
              "sn79+owcObLXx6hUKvnSl76Up59+Ok888UT1Cx2SZOTIkVm3bl11346OjuqfWu1rG3uq9VwlSVdX\n",
              "Vy666KKMGDEiN910U7fHvvU8RxxxRGbPnu0LUPai1vNUX19f/RPzY445Jpdeeml1LlxTfXMwrqkk\n",
              "efzxx/PGG29kypQp3da7pnqvL3P12muvZerUqbnwwgszd+7c6voDvR+5rnqv1vOUuE/1l1rPlXtV\n",
              "/zkY11XiXvX76o952pcy36fEfA0dd9xxmThxYr7zne8kSRYtWpTGxsaMGTOm18d444038uqrryZJ\n",
              "fvWrX+W//Jf/kiuuuCJJMnXq1KxYsSKrV69OkixYsCAzZszY7zb2VOu52rlzZ2bMmJFjjjkmt956\n",
              "ayqVSvVxr776an7zm98kefPbu++77760trb216m9rdR6njZv3pyurq4kSWdnZxYvXlydC9dU39R6\n",
              "rt6ycOHCXHLJJamrq6uuc031TW/n6vXXX8/UqVMzderUXHXVVd22Hej9yHXVe7WeJ/ep/lPruXKv\n",
              "6j+1nqu3uFf9fvpjnval1PepAfqs/jvG6tWrizPOOKMYO3Zs8b73va/42c9+VhRFUVx22WXF9773\n",
              "vaIoimLbtm3FiSeeWAwfPrw4/PDDixNPPLG48sori6Ioik2bNhXjxo0rTjnllGLcuHHF3/3d33U7\n",
              "/ve+973i5JNPLkaPHl1ceOGFxa9//etebWNPtZyr73znO0WSYsKECUVzc3PR3NxczJ49uyiKonji\n",
              "iSeK8ePHFxMmTChOOeWU4i/+4i+KV1555SCffXnUcp4WLVpUnHrqqdW5+Ku/+qvijTfeqG53TfVN\n",
              "rf/79+tf/7oYOnRo9Ztr3+Ka6rvezNW1115bDBo0qPrfsObm5uLaa6+tHuNA70euq96r5Ty5T/Wv\n",
              "Ws6Ve1X/qvV//9yr+kd/zNP48eOLE044oahUKsWJJ55Y/MVf/EV1W1nvU5WiKIqB/gMFAAAAoPe8\n",
              "zR4AAABKRswDAABAyYh5AAAAKBkxDwBvI01NTTn55JPT0tKSU045JX/7t3+7z/3vvPPO6rf07s+X\n",
              "vvSl/PVf//Ue6x9//PFu3yq8Y8eODB06NF/60peq6+699968//3vT5K0tLTktdde6/E5TjvttDz2\n",
              "2GM9ju3OO+/MRz/60V6NFQDe7g6NvyAPAOg39913X1paWrJu3bpMmDAh73//+zNhwoQe973zzjtz\n",
              "9NFHZ9y4cQf8fGeccUZeeOGFbNiwIY2NjfnJT36SCRMmVKM8SX784x/nvPPOS5K0t7f36rj9MTYA\n",
              "eLvyyjwAvE2NGjUqJ598clauXJnLL788kyZNyoQJE/LJT34yO3bsyG233Zaf/vSn+cxnPpOWlpb8\n",
              "9//+37Nq1aqcffbZmThxYk455ZRce+21+32e+vr6/NEf/VE13h977LFccsklefHFF/PGG29U1517\n",
              "7rlJkkqlkl//+tdJkieeeCItLS1573vfm0984hPZuXNnkvQ4tuTNv0f44x//eMaPH5/TTjstzz33\n",
              "XD//UwOAchDzAPA2tWrVqqxevTq333573v/+92fZsmVZuXJldu/enZtuuikzZ87MaaedlhtvvDHt\n",
              "7e358Ic/nKampvzoRz/KihUr8tRTT2XRokX5x3/8x/0+17nnnpsf//jHSd58Ff4DH/hA/vW//td5\n",
              "8skn8+KLL+aXv/xlzjzzzG6P2bFjRy666KL8zd/8TX7+85/n4x//eFauXJkkPY4tSZYvX57rrrsu\n",
              "q1atyh//8R/na1/7Wj//UwOAcvA2ewB4m7nooosyZMiQDB06NLfffntmz56dr3/965k/f36SZPv2\n",
              "7amrq+vxsdu3b8/s2bPT3t6eww47LL/85S/T3t6eM844Y5/Pee655+aOO+5IZ2dnOjo6Mm7cuJxz\n",
              "zjl57LHHsnHjxpx55pmpr6/v9pjVq1dn0KBB+eM//uMkyYc+9KGcdNJJ+3yeM888M//qX/2r6s/f\n",
              "+ta3evXPBADebsQ8ALzNvPWZ+bf8h//wH7Jo0aK8+93v3u9jP//5z2f48OF5+umnM2jQoEybNq36\n",
              "Vvl9mTRpUl566aXcf//9mTRpUpLknHPOyWWXXZYXX3yx+nn5/alUKvvcPnjw4OrPdXV11bflA8A7\n",
              "jbfZA8Db3Ec/+tF87Wtfq4bvq6++mjVr1iRJhg0bli1btlT3ffXVV9PY2JhBgwbln/7pn/LDH/6w\n",
              "V89x+OGH56yzzspXvvKVfOADH0iSjB07Nr/85S/zwx/+sPp5+d82bty47Ny5s/r2/EceeSRr166t\n",
              "bv/dsQEA/4+YB4C3uRtvvDFDhgxJS0tLJkyYkPPPPz8dHR1Jkk9+8pO57rrrql8yd9VVV+WOO+7I\n",
              "hAkTcuWVV+71FfUXX3yx26v/yZtvtX/22WerMZ+8+U33r7zySvXV+t/2L/7Fv8h9992Xz3zmMxk/\n",
              "fnz+4R/+Ic3NzdXtvzs2AOD/qRRFUQz0IAAAAIDe88o8AAAAlIyYBwAAgJIR8wAAAFAyYh4AAABK\n",
              "RswDAABAyYh5AAAAKBkxDwAAACUj5gEAAKBkxDwAAACUjJgHAACAkvn/ALi6erifN92iAAAAAElF\n",
              "TkSuQmCC\n",
              "\">\n",
              "      </div>\n",
              "      <script type=\"text/javascript\">\n",
              "        (() => {\n",
              "          const chartElement = document.getElementById(\"chart-ac2e7380-ba72-4983-aa7b-58ec382a0e0f\");\n",
              "          async function getCodeForChartHandler(event) {\n",
              "            const chartCodeResponse =  await google.colab.kernel.invokeFunction(\n",
              "                'getCodeForChart', [\"chart-ac2e7380-ba72-4983-aa7b-58ec382a0e0f\"], {});\n",
              "            const responseJson = chartCodeResponse.data['application/json'];\n",
              "            await google.colab.notebook.addCell(responseJson.code, 'code');\n",
              "          }\n",
              "          chartElement.onclick = getCodeForChartHandler;\n",
              "        })();\n",
              "      </script>\n",
              "      <style>\n",
              "        .colab-quickchart-chart-with-code  {\n",
              "            display: block;\n",
              "            float: left;\n",
              "            border: 1px solid transparent;\n",
              "        }\n",
              "\n",
              "        .colab-quickchart-chart-with-code:hover {\n",
              "            cursor: pointer;\n",
              "            border: 1px solid #aaa;\n",
              "        }\n",
              "      </style>"
            ]
          },
          "metadata": {}
        },
        {
          "output_type": "display_data",
          "data": {
            "text/plain": [
              "from matplotlib import pyplot as plt\n",
              "import seaborn as sns\n",
              "def _plot_series(series, series_name, series_index=0):\n",
              "  from matplotlib import pyplot as plt\n",
              "  import seaborn as sns\n",
              "  palette = list(sns.palettes.mpl_palette('Dark2'))\n",
              "  counted = (series['Petal.Width']\n",
              "                .value_counts()\n",
              "              .reset_index(name='counts')\n",
              "              .rename({'index': 'Petal.Width'}, axis=1)\n",
              "              .sort_values('Petal.Width', ascending=True))\n",
              "  xs = counted['Petal.Width']\n",
              "  ys = counted['counts']\n",
              "  plt.plot(xs, ys, label=series_name, color=palette[series_index % len(palette)])\n",
              "\n",
              "fig, ax = plt.subplots(figsize=(10, 5.2), layout='constrained')\n",
              "df_sorted = _df_8.sort_values('Petal.Width', ascending=True)\n",
              "_plot_series(df_sorted, '')\n",
              "sns.despine(fig=fig, ax=ax)\n",
              "plt.xlabel('Petal.Width')\n",
              "_ = plt.ylabel('count()')"
            ],
            "text/html": [
              "      <div class=\"colab-quickchart-chart-with-code\" id=\"chart-c40d4f48-d1a6-470a-8084-caf7e2475bac\">\n",
              "        <img style=\"width: 180px;\" src=\"data:image/png;base64,iVBORw0KGgoAAAANSUhEUgAAA/MAAAITCAYAAABLz0yVAAAAOXRFWHRTb2Z0d2FyZQBNYXRwbG90\n",
              "bGliIHZlcnNpb24zLjcuMSwgaHR0cHM6Ly9tYXRwbG90bGliLm9yZy/bCgiHAAAACXBIWXMAAA9h\n",
              "AAAPYQGoP6dpAAAlCklEQVR4nO3dfZBV9X348c+6kFWIPDjER4qElIdBFq6CWxQtUh1lrMGnaTFT\n",
              "o0aIEbCjMoaGCsYkVmo0JNZpmqoRa20MVmySsZ3pqPGBES0mCKKGVq0LKg8aC7u4wgK75/eH4/1l\n",
              "w4K7sBf84Os1cyd7zzn33u/lm8Pxzbn3bFVRFEUAAAAAaRy0vwcAAAAAdI6YBwAAgGTEPAAAACQj\n",
              "5gEAACAZMQ8AAADJiHkAAABIRswDAABAMmIeAAAAkjkgYv7222/f30MAAACAfeaAiPnVq1fv7yEA\n",
              "AADAPnNAxDwAAAB8moh5AAAASEbMAwAAQDJiHgAAAJIR8wAAAJCMmAcAAIBkxDwAAAAkI+YBAAAg\n",
              "GTEPAAAAyYh5AAAASEbMAwAAQDJiHgAAAJIR8wAAAJCMmAcAAIBkxDwAAAAkI+YBAAAgGTEPAAAA\n",
              "yYh5AAAASEbMAwAAQDJiHgAAAJIR8wAAAJCMmAcAAIBkxDwAAAAkI+YBAAAgGTEPAAAAyYh5AAAA\n",
              "SEbMAwAAQDJiHgAAAJIR8wAAAJCMmAcAAIBkxDwAAAAkI+YBAAAgGTEPAAAAyYh5AAAASEbMAwAA\n",
              "QDJiHgAAAJIR8wAAAJCMmAcAAIBkxDwAAAAkI+YBAAAgGTEPAAAAyYh5AAAASEbMAwAAQDJiHgAA\n",
              "AJIR8wAAAJCMmAcAAIBkxDwAAAAkI+YBAAAgGTEPAAAAyYh5AAAASEbMAwAAQDJiHgAAAJIR8wAA\n",
              "AJCMmAcAAIBkxDwAAAAkI+YBAAAgGTEPAAAAyYh5AAAASEbMAwAAQDJiHgAAAJIR8wAAAJBMRWN+\n",
              "4MCBMXTo0CiVSlEqlWLhwoU7bfPLX/4y6urqYvjw4XHcccfFrFmzorW1tZLDAgAAgNS6VfoFFi5c\n",
              "GKVSaZfr+/btGz/96U9j0KBBsXXr1jjjjDPivvvui8suu6zSQwMAAICUKh7zH+f4448v/3zwwQdH\n",
              "qVSK+vr6XW7f3Nwczc3NbZa1tLRUangAAADwiVPx78xfcsklUVtbG1OmTIl33313t9uuX78+Hnro\n",
              "oTjnnHN2uc28efOid+/ebW5Lly7t6mEDAADAJ1ZFY/7pp5+OF198MZYtWxb9+vWLSy+9dJfbNjY2\n",
              "xhe/+MWYNWtWjBkzZpfbzZ49OxoaGtrc6urqKjF8AAAA+ESq6MfsBwwYEBER3bt3j2uuuSaGDBnS\n",
              "7nabN2+OiRMnxrnnnhszZ87c7XPW1NRETU1Nm2XV1dVdM2AAAABIoGJn5puammLTpk3l+w888ECb\n",
              "78d/5P3334+JEyfGxIkTY86cOZUaDgAAABwwKnZmfsOGDXHhhRdGS0tLFEURgwYNivvuuy8iIqZO\n",
              "nRqTJk2KSZMmxe233x5Lly6NpqamePjhhyMi4s/+7M/i+uuvr9TQAAAAILWqoiiK/T2IvTVz5syY\n",
              "P3/+/h4GAAAA7BMVv5o9AAAA0LXEPAAAACQj5gEAACAZMQ8AAADJiHkAAABIRswDAABAMmIeAAAA\n",
              "khHzAAAAkIyYBwAAgGTEPAAAACQj5gEAACAZMQ8AAADJiHkAAABIRswDAABAMmIeAAAAkhHzAAAA\n",
              "kIyYBwAAgGTEPAAAACQj5gEAACAZMQ8AAADJiHkAAABIRswDAABAMmIeAAAAkhHzAAAAkIyYBwAA\n",
              "gGTEPAAAACQj5gEAACAZMQ8AAADJiHkAAABIRswDAABAMmIeAAAAkhHzAAAAkIyYBwAAgGTEPAAA\n",
              "ACQj5gEAACAZMQ8AAADJiHkAAABIRswDAABAMmIeAAAAkhHzAAAAkIyYBwAAgGTEPAAAACQj5gEA\n",
              "ACAZMQ8AAADJiHkAAABIRswDAABAMmIeAAAAkhHzAAAAkIyYBwAAgGTEPAAAACQj5gEAACAZMQ8A\n",
              "AADJiHkAAABIRswDAABAMmIeAAAAkhHzAAAAkIyYBwAAgGTEPAAAACQj5gEAACAZMQ8AAADJiHkA\n",
              "AABIRswDAABAMmIeAAAAkhHzAAAAkIyYBwAAgGTEPAAAACQj5gEAACAZMQ8AAADJiHkAAABIRswD\n",
              "AABAMmIeAAAAkhHzAAAAkIyYBwAAgGTEPAAAACQj5gEAACAZMQ8AAADJiHkAAABIRswDAABAMhWN\n",
              "+YEDB8bQoUOjVCpFqVSKhQsX7rRNfX19nHbaadG7d+8olUqVHA4AAAAcELpV+gUWLly420jv1atX\n",
              "3HTTTdHQ0BDXX399pYcDAAAA6e33j9kfdthhccopp0TPnj07tH1zc3M0Nja2ubW0tFR4lAAAAPDJ\n",
              "UfGYv+SSS6K2tjamTJkS77777l4/37x586J3795tbkuXLu2CkQIAAEAOFY35p59+Ol588cVYtmxZ\n",
              "9OvXLy699NK9fs7Zs2dHQ0NDm1tdXV0XjBYAAAByqOh35gcMGBAREd27d49rrrkmhgwZstfPWVNT\n",
              "EzU1NW2WVVdX7/XzAgAAQBYVOzPf1NQUmzZtKt9/4IEH4vjjj6/UywEAAMCnRsXOzG/YsCEuvPDC\n",
              "aGlpiaIoYtCgQXHfffdFRMTUqVNj0qRJMWnSpPjggw9iyJAh0dzcHA0NDdG/f//48pe/HPPmzavU\n",
              "0AAAACC1isX8oEGD4oUXXmh33d13313+uUePHvHWW29VahgAAABwwNnvv5oOAAAA6BwxDwAAAMmI\n",
              "eQAAAEhGzAMAAEAyYh4AAACSEfMAAACQjJgHAACAZMQ8AAAAJCPmAQAAIBkxDwAAAMmIeQAAAEhG\n",
              "zAMAAEAyYh4AAACSEfMAAACQjJgHAACAZMQ8AAAAJCPmAQAAIBkxDwAAAMmIeQAAAEhGzAMAAEAy\n",
              "Yh4AAACSEfMAAACQjJgHAACAZMQ8AAAAJCPmAQAAIBkxDwAAAMmIeQAAAEhGzAMAAEAyYh4AAACS\n",
              "EfMAAACQjJgHAACAZMQ8AAAAJCPmAQAAIBkxDwAAAMmIeQAAAEhGzAMAAEAyYh4AAACSEfMAAACQ\n",
              "jJgHAACAZMQ8AAAAJCPmAQAAIBkxDwAAAMmIeQAAAEhGzAMAAEAyYh4AAACSEfMAAACQjJgHAACA\n",
              "ZMQ8AAAAJCPmAQAAIBkxDwAAAMmIeQAAAEhGzAMAAEAyYh4AAACSEfMAAACQjJgHAACAZMQ8AAAA\n",
              "JCPmAQAAIBkxDwAAAMmIeQAAAEhGzAMAAEAyYh4AAACSEfMAAACQjJgHAACAZMQ8AAAAJNNtTx70\n",
              "yiuvxFtvvRWHHHJI1NbWRp8+fbp4WAAAAMCudDjmN2/eHLfddlvcdddd0aNHjzjiiCNi69at8frr\n",
              "r0ddXV381V/9VZx++umVHCsAAAAQnYj5CRMmxCWXXBIvvPBCHHHEEeXlra2tsXjx4vjRj34Ur732\n",
              "Wnzta1+ryEABAACAD3U45p955pmoqanZaflBBx0U48ePj/Hjx0dzc3OXDg4AAADYWYcvgNdeyO/J\n",
              "NgAAAMDe6XDMn3POObFkyZJ2123atCm+973vxT/+4z922cAAAACA9nX4Y/Y333xzzJ49O1555ZU4\n",
              "8cQTyxfAW7VqVbz99tsxY8aMuPzyyys5VgAAACA6EfMjR46Mf//3f48333wznnrqqXjrrbeiR48e\n",
              "8Rd/8RdxyimnRLdue/Rb7gAAAIBO6nSBb9y4MS6++OI2y1588cUYOXJklw0KAAAA2LUOf2f+I5dd\n",
              "dlmHlgEAAACV0eEz8++8806sX78+tmzZEitXroyiKCIioqGhIZqamio2QAAAAKCtDsf8Aw88ED/4\n",
              "wQ9i7dq1MWnSpPLy3r17x6xZsyoyOAAAAGBnHY75q6++Oq6++ur4zne+E3Pnzq3kmAAAAIDd6PQF\n",
              "8ObOnRutra2xfv362LFjR3n5gAEDunRgAAAAQPs6fQG8f/qnf4o+ffpEbW1tjB49OkaPHh1jxoxp\n",
              "d9uBAwfG0KFDo1QqRalUioULF7a73Y9//OMYPHhwfOELX4ivfvWrsX379s4OCwAAAD41On1m/tvf\n",
              "/nY8//zzMXTo0A5tv3DhwiiVSrtc/8Ybb8TcuXNj2bJlccQRR8S5554bd955Z8yYMaOzQwMAAIBP\n",
              "hU6fme/Xr1+HQ74jHnrooZg0aVIceeSRUVVVFVdeeWU88MADXfb8AAAAcKDpdMyfd9558YMf/CDe\n",
              "eeedaGxsLN925ZJLLona2tqYMmVKvPvuuzutX7NmTRx77LHl+wMHDow1a9bs8vmam5vbvG5jY2O0\n",
              "tLR09m0AAABAWp2O+euvvz5mzpwZRx55ZPTt2zf69OkTffv2bXfbp59+Ol588cVYtmxZ9OvXLy69\n",
              "9NK9HvC8efOid+/ebW5Lly7d6+cFAACALDod862treVbS0tL+X/b89EV7rt37x7XXHNNLF68uN1t\n",
              "Vq9eXb5fX1+/2yvjz549OxoaGtrc6urqOvs2AAAAIK1Ox3xHNTU1xaZNm8r3H3jggTj++ON32u7C\n",
              "Cy+MX/ziF7F+/fooiiJ+9KMfxUUXXbTL562pqYlevXq1uVVXV1fiLQAAAMAnUqevZn/QQQdFVVXV\n",
              "Tst//+z8hg0b4sILL4yWlpYoiiIGDRoU9913X0RETJ06NSZNmhSTJk2KQYMGxbe+9a0YN25cRESc\n",
              "dtpp8bWvfW1P3gsAAAB8KlQVRVF05gFNTU3ln7ds2RL33XdftLS0xNe//vUuH1xHzZw5M+bPn7/f\n",
              "Xh8AAAD2pU5/zL5nz57lW79+/WLmzJnx0EMPVWJsAAAAQDv2+jvzq1atit/+9rddMRYAAACgAzr9\n",
              "nfm+ffuWvzO/Y8eOiIi44447unZUAAAAwC51OuaXL1/+/x/crVsceeSRriYPAAAA+1CnY/7YY4+N\n",
              "Dz74oBz1ffv2jR49enT1uAAAAIBd6HTML1myJC688MI48sgjI+LDX0G3aNGiOOmkk7p8cAAAAMDO\n",
              "Oh3zH129/qPfC79kyZK49tpr47nnnuvywQEAAAA76/TV7Lds2VIO+YiIk08+ObZu3dqlgwIAAAB2\n",
              "rdMx/9nPfjYee+yx8v3HH388evbs2aWDAgAAAHat0x+z/7u/+7u44IILylewb21tjYcffrjLBwYA\n",
              "AAC0r9Mxv3bt2vjVr34VGzZsiIiII444IpYuXdrlAwMAAADa1+mP2c+dOzc+97nPxYgRI2LEiBHR\n",
              "r1+/mDt3biXGBgAAALSj0zH/+6qqqqKlpaUrxgIAAAB0QKdj/tBDD40lS5aU7z/zzDNx6KGHdumg\n",
              "AAAAgF3r9Hfmv/vd78b5558fw4YNi4iIV199Nf7t3/6tywcGAAAAtK/TMX/SSSfFb37zm3j22Wcj\n",
              "4sPfM9+nT5+uHhcAAACwC52O+YiIvn37xtlnn93VYwEAAAA6YK8vgAcAAADsW2IeAAAAkhHzAAAA\n",
              "kIyYBwAAgGTEPAAAACQj5gEAACAZMQ8AAADJiHkAAABIRswDAABAMmIeAAAAkhHzAAAAkIyYBwAA\n",
              "gGTEPAAAACQj5gEAACAZMQ8AAADJiHkAAABIRswDAABAMmIeAAAAkhHzAAAAkIyYBwAAgGTEPAAA\n",
              "ACQj5gEAACAZMQ8AAADJiHkAAABIRswDAABAMmIeAAAAkhHzAAAAkIyYBwAAgGTEPAAAACQj5gEA\n",
              "ACAZMQ8AAADJiHkAAABIRswDAABAMmIeAAAAkhHzAAAAkIyYBwAAgGTEPAAAACQj5gEAACAZMQ8A\n",
              "AADJiHkAAABIRswDAABAMmIeAAAAkhHzAAAAkIyYBwAAgGTEPAAAACQj5gEAACAZMQ8AAADJiHkA\n",
              "AABIRswDAABAMmIeAAAAkhHzAAAAkIyYBwAAgGTEPAAAACQj5gEAACAZMQ8AAADJiHkAAABIRswD\n",
              "AABAMmIeAAAAkhHzAAAAkIyYBwAAgGTEPAAAACQj5gEAACCZfRLzCxYsiKqqqvjZz37W7vpbb701\n",
              "RowYEcOHD4/zzz8/Nm3atC+GBQAAAClVPObr6+vjrrvuirFjx7a7/tFHH40FCxbEs88+G6+88kqM\n",
              "Hj06rr/++koPCwAAANKqaMy3trbG1KlT44477oiampp2t1mxYkWccsopceihh0ZExNlnnx3//M//\n",
              "vMvnbG5ujsbGxja3lpaWiowfAAAAPokqGvPz58+PcePGxejRo3e5zejRo+Oxxx6L9evXR1EU8S//\n",
              "8i+xefPm+L//+792t583b1707t27zW3p0qWVegsAAADwiVOxmH/ppZdi0aJFMWfOnN1uN2HChLju\n",
              "uuvinHPOibFjx8bnPve5iIjo1q1bu9vPnj07Ghoa2tzq6uq6fPwAAADwSdV+MXeBxYsXR319fQwe\n",
              "PDgiItavXx9XXHFFrFu3LqZNm9Zm2+nTp8f06dMjIuK5556L/v37R69evdp93pqamp0+sl9dXV2B\n",
              "dwAAAACfTBU7Mz9t2rRYt25d1NfXR319fYwdOzbuvPPOnUI+ImLdunUREfHBBx/EDTfcELNmzarU\n",
              "sAAAACC9ip2Z350bbrghjj766LjyyisjIuLMM8+M1tbW2LZtW3z5y1+Oq666an8MCwAAAFKoKoqi\n",
              "2N+D2FszZ86M+fPn7+9hAAAAwD5R8d8zDwAAAHQtMQ8AAADJiHkAAABIRswDAABAMmIeAAAAkhHz\n",
              "AAAAkIyYBwAAgGTEPAAAACQj5gEAACAZMQ8AAADJiHkAAABIRswDAABAMmIeAAAAkhHzAAAAkIyY\n",
              "BwAAgGTEPAAAACQj5gEAACAZMQ8AAADJiHkAAABIRswDAABAMmIeAAAAkhHzAAAAkIyYBwAAgGTE\n",
              "PAAAACQj5gEAACAZMQ8AAADJiHkAAABIRswDAABAMmIeAAAAkhHzAAAAkIyYBwAAgGTEPAAAACQj\n",
              "5gEAACAZMQ8AAADJiHkAAABIRswDAABAMmIeAAAAkhHzAAAAkIyYBwAAgGTEPAAAACQj5gEAACAZ\n",
              "MQ8AAADJiHkAAABIRswDAABAMmIeAAAAkhHzAAAAkIyYBwAAgGTEPAAAACQj5gEAACAZMQ8AAADJ\n",
              "iHkAAABIRswDAABAMmIeAAAAkhHzAAAAkIyYBwAAgGTEPAAAACQj5gEAACAZMQ8AAADJiHkAAABI\n",
              "RswDAABAMmIeAAAAkhHzAAAAkIyYBwAAgGTEPAAAACQj5gEAACAZMQ8AAADJiHkAAABIRswDAABA\n",
              "MmIeAAAAkhHzAAAAkIyYBwAAgGTEPAAAACQj5gEAACAZMQ8AAADJiHkAAABIRswDAABAMmIeAAAA\n",
              "khHzAAAAkMw+ifkFCxZEVVVV/OxnP2t3/S233BLDhw+PUqkUY8eOjaVLl+6LYQEAAEBK3Sr9AvX1\n",
              "9XHXXXfF2LFj212/fPny+OEPfxgvv/xyfPazn437778/rrrqKkEPAAAAu1DRM/Otra0xderUuOOO\n",
              "O6KmpqbdbaqqqmL79u3R1NQUERGbNm2K/v377/I5m5ubo7Gxsc2tpaWlIuMHAACAT6KKnpmfP39+\n",
              "jBs3LkaPHr3LbUaNGhXXXnttfP7zn4/DDjssampq4umnn97l9vPmzYtvfetbbZbt6qw/AAAAHIgq\n",
              "dmb+pZdeikWLFsWcOXN2u90bb7wRDz/8cLz22mvx1ltvxbXXXhuTJ0/e5fazZ8+OhoaGNre6urqu\n",
              "Hj4AAAB8YlXszPzixYujvr4+Bg8eHBER69evjyuuuCLWrVsX06ZNK2+3aNGiqK2tjaOPPjoiIr7y\n",
              "la/EX/7lX8a2bdviM5/5zE7PW1NTs9NH9qurqyv1NgAAAOATp2Jn5qdNmxbr1q2L+vr6qK+vj7Fj\n",
              "x8add97ZJuQjIgYNGhTPPPNMvP/++xER8cgjj8SQIUPaDXkAAABgH1zNvj033HBDHH300XHllVfG\n",
              "+eefH88//3yMGTMmampqomfPnvGTn/xkfwwLAAAAUqgqiqLY34PYWzNnzoz58+fv72EAAADAPlHR\n",
              "X00HAAAAdD0xDwAAAMmIeQAAAEhGzAMAAEAyYh4AAACSEfMAAACQjJgHAACAZMQ8AAAAJCPmAQAA\n",
              "IBkxDwAAAMmIeQAAAEhGzAMAAEAyYh4AAACSEfMAAACQjJgHAACAZMQ8AAAAJCPmAQAAIBkxDwAA\n",
              "AMmIeQAAAEhGzAMAAEAyYh4AAACSEfMAAACQjJgHAACAZMQ8AAAAJCPmAQAAIBkxDwAAAMmIeQAA\n",
              "AEhGzAMAAEAyYh4AAACSEfMAAACQjJgHAACAZMQ8AAAAJCPmAQAAIBkxDwAAAMmIeQAAAEhGzAMA\n",
              "AEAyYh4AAACSEfMAAACQjJgHAACAZMQ8AAAAJCPmAQAAIBkxDwAAAMmIeQAAAEhGzAMAAEAyYh4A\n",
              "AACSEfMAAACQjJgHAACAZMQ8AAAAJCPmAQAAIBkxDwAAAMmIeQAAAEhGzAMAAEAyYh4AAACSEfMA\n",
              "AACQjJgHAACAZMQ8AAAAJCPmAQAAIBkxDwAAAMmIeQAAAEhGzAMAAEAyVUVRFPt7EHvrggsuiIED\n",
              "B+7vYXyslpaWWLp0adTV1UV1dfX+Hg4dYM5yMV+5mK9czFc+5iwX85WL+col43wde+yxcfXVV+92\n",
              "mwMi5rNobGyM3r17R0NDQ/Tq1Wt/D4cOMGe5mK9czFcu5isfc5aL+crFfOVyoM6Xj9kDAABAMmIe\n",
              "AAAAkhHzAAAAkIyY34dqamrim9/8ZtTU1OzvodBB5iwX85WL+crFfOVjznIxX7mYr1wO1PlyATwA\n",
              "AABIxpl5AAAASEbMAwAAQDJiHgAAAJIR853w6quvxsknnxxDhgyJE088MV5++eWdtqmvr4/TTjst\n",
              "evfuHaVSqc261tbWuO6662LEiBExbNiwmDJlSmzbtq28/pFHHolhw4bF4MGD44ILLojGxsYOraN9\n",
              "lZyvlStXxh//8R/HsGHDYsSIEXH55ZfHli1byo+tqqqK2traKJVKUSqVYvHixRV9rweCSs5XfX19\n",
              "VFdXl+ejVCrF66+/Xn6s/avzKjlf//mf/9lmro4++ug44YQTyo+1f+2ZjszZL3/5y6irq4vhw4fH\n",
              "cccdF7NmzYrW1tby+j09TtnHOq+S8+UY1vUqOV+OYV2vkvPlGFYZeztn77//fpx11lnRr1+/6NOn\n",
              "z06PTXsMK+iwCRMmFAsWLCiKoij+9V//tRgzZsxO27z33nvF4sWLi0ceeaQYNWpUm3V33nlnMWHC\n",
              "hKK5ublobW0tpk6dWnz3u98tiqIoNm/eXBx++OHFb37zm6IoimLGjBnFdddd97Hr2LVKztf//M//\n",
              "FCtWrCiKoih27NhR/Pmf/3nxzW9+s/zYiCg2btxYibd1wKrkfL3xxhtF7969231d+9eeqeR8/b4/\n",
              "/dM/LW677bbyffvXnunInC1btqx4/fXXi6Ioii1bthTjxo0rP2ZPj1P2sT1TyflyDOt6lZwvx7Cu\n",
              "V8n5+n2OYV1jb+ds69atxeOPP1688MILO+1PmY9hYr6DNmzYUBx66KHF9u3bi6IoitbW1uKII44o\n",
              "Xn311Xa3f+KJJ3b6j9cZM2YUf/M3f1O+v2jRoqK2trYoiqJ48MEHi7POOqu87uWXXy6OOeaYj11H\n",
              "+yo9X7/v1ltvLS699NLyfX9Rd06l52t3/yFk/+q8fbl/vf3228XBBx9cbNiwobzM/tV5nZ2zj8yY\n",
              "MaMceXt6nLKPdV6l5+v3OYbtnUrPl2NY19qX+5djWNfoijn7SHv7U+ZjmI/Zd9Cbb74ZRx11VHTr\n",
              "1i0iPvyIzIABA2LNmjUdfo7Ro0fHL37xi2hsbIzt27fHgw8+GPX19RERsWbNmjj22GPL2w4cODDW\n",
              "rVsXO3bs2O062lfp+fpdTU1Ncffdd8e5557bZvnpp58eo0aNipkzZ0ZTU9NevZ8D3b6Yr6ampjjx\n",
              "xBPjhBNOiG9/+9vR0tISEbvf92jfvty/7r333jj77LPj8MMPb7Pc/tU5ezJn69evj4ceeijOOeec\n",
              "iNjz45R9rPMqPV+/yzFs7+2L+XIM6zr7cv9yDOsaXTFnu5P5GCbm96HLLrssJk6cGOPHj4/x48fH\n",
              "kCFDyv+n5JOnI/O1bdu2mDx5cpx55plx/vnnl5evXr06fv3rX8eSJUvi3Xffja9//ev7evifOrub\n",
              "r6OOOirefvvteP755+Oxxx6LxYsXx/e+9739POJPt47sX0VRxD333BNTpkxps9z+VXmNjY3xxS9+\n",
              "MWbNmhVjxozZ38PhY+zpfDmG7R+dnS/HsP1rT/cvx7D959N0DBPzHfQHf/AHbf4VpiiKWLNmTQwY\n",
              "MKDDz1FVVRU33nhjvPDCC7FkyZLyxRkiIgYMGBCrV68ub1tfX1/+F6jdraN9lZ6viIjt27fH5MmT\n",
              "46ijjorbb7+9zWM/ep2ePXvG9OnTXdzkY1R6vmpqasr/Kn7YYYfF5ZdfXp4T+1fn7Yv9KyLiqaee\n",
              "iq1bt8ZZZ53VZrn9q/M6M2ebN2+OiRMnxrnnnhszZ84sL9/T45R9rPMqPV8RjmFdqdLz5RjWtfbF\n",
              "/hXhGNaVumLOdifzMUzMd9Dhhx8eJ5xwQtx///0REbFo0aLo379//OEf/mGHn2Pr1q2xcePGiIj4\n",
              "7W9/G3/7t38bs2bNioiIiRMnxrJly2LVqlUREfHDH/4wLrrooo9dR/sqPV87duyIiy66KA477LC4\n",
              "8847o6qqqvy4jRs3xgcffBARH16xe+HChXH88cd31Vs7IFV6vt55553Yvn17REQ0NzfHww8/XJ4T\n",
              "+1fnVXq+PvLjH/84Lrvssqiuri4vs3/tmY7O2fvvvx8TJ06MiRMnxpw5c9qs29PjlH2s8yo9X45h\n",
              "XavS8+UY1rUqPV8fcQzrOl0xZ7uT+hi2n76rn9KqVauKsWPHFoMHDy5Gjx5dvPjii0VRFMWUKVOK\n",
              "n//850VRFEVTU1NxzDHHFP369Su6d+9eHHPMMcU3vvGNoiiKYv369cWwYcOK4cOHF8OGDSv+4R/+\n",
              "oc3z//znPy+GDh1afOELXyjOPffcYtOmTR1aR/sqOV/3339/ERHFyJEji1GjRhWjRo0qpk+fXhRF\n",
              "USxZsqSora0tRo4cWQwfPry4+OKLi/fee28fv/t8KjlfixYtKo477rjynFx11VXF1q1by+vtX51X\n",
              "6b8PN23aVPTo0aN8VdqP2L/2XEfm7Kabbiq6detW/ntt1KhRxU033VR+jj09TtnHOq+S8+UY1vUq\n",
              "OV+OYV2v0n8fOoZ1va6Ys9ra2uLII48sqqqqimOOOaa4+OKLy+uyHsOqiqIo9vc/KAAAAAAd52P2\n",
              "AAAAkIyYBwAAgGTEPAAAACQj5gEgmYEDB8bQoUOjVCrF8OHD4+///u93u/29995bvhLvx7nxxhvj\n",
              "mmuu2Wn5U0891ebKwdu2bYsePXrEjTfeWF7205/+NE499dSIiCiVSrF58+Z2X2PMmDHx5JNPtju2\n",
              "e++9N84777wOjRUAPs0+Gb8gDwDolIULF0apVIrVq1fHyJEj49RTT42RI0e2u+29994bffr0iWHD\n",
              "hu3x640dOzbefvvteOutt6J///7xX//1XzFy5MhylEdEPPHEE/Enf/InERGxfPnyDj1vV4wNAD6N\n",
              "nJkHgMSOPfbYGDp0aKxYsSK++tWvRl1dXYwcOTKuuOKK2LZtW9x9993xq1/9Kq699toolUrxH//x\n",
              "H7Fy5co45ZRT4oQTTojhw4fHTTfd9LGvU1NTEyeffHI53p988sm47LLLYu3atbF169bysgkTJkRE\n",
              "RFVVVWzatCkiIpYsWRKlUilGjBgRX/nKV2LHjh0REe2OLeLD3xX8pS99KWpra2PMmDHxv//7v138\n",
              "pwYA+Yl5AEhs5cqVsWrVqrjnnnvi1FNPjaVLl8aKFSuitbU1br/99pg6dWqMGTMmvv/978fy5cvj\n",
              "7LPPjoEDB8bjjz8ey5Yti1//+texaNGieO655z72tSZMmBBPPPFERHx4Fv60006LP/qjP4pnn302\n",
              "1q5dG2+++WacdNJJbR6zbdu2mDx5ctx2223x0ksvxZe+9KVYsWJFRES7Y4uIeP755+Pmm2+OlStX\n",
              "xhlnnBG33HJLF/+pAUB+PmYPAAlNnjw5DjnkkOjRo0fcc889MX369Lj11ltj/vz5ERGxZcuWqK6u\n",
              "bvexW7ZsienTp8fy5cvjoIMOijfffDOWL18eY8eO3e1rTpgwIRYsWBDNzc1RX18fw4YNi/Hjx8eT\n",
              "Tz4Z69ati5NOOilqamraPGbVqlXRrVu3OOOMMyIi4swzz4xBgwbt9nVOOumk+PznP1/++Y477ujQ\n",
              "nwkAfJqIeQBI6KPvzH9k2rRpsWjRohgyZMjHPvav//qvo1+/fvHCCy9Et27d4oILLih/VH536urq\n",
              "YsOGDfHggw9GXV1dRESMHz8+pkyZEmvXri1/X/7jVFVV7Xb9wQcfXP65urq6/LF8AOD/8zF7ADgA\n",
              "nHfeeXHLLbeUw3fjxo3x2muvRUREr169oqGhobztxo0bo3///tGtW7f47//+73j00Uc79Brdu3eP\n",
              "cePGxXe+85047bTTIiJi8ODB8eabb8ajjz5a/r787xo2bFjs2LGj/PH8xx57LF5//fXy+t8fGwDQ\n",
              "MWIeAA4A3//+9+OQQw6JUqkUI0eOjNNPPz3q6+sjIuKKK66Im2++uXyRuTlz5sSCBQti5MiR8Y1v\n",
              "fGOXZ9TXrl3b5ux/xIcftX/11VfLMR/x4ZXu33vvvfLZ+t/1mc98JhYuXBjXXntt1NbWxk9+8pMY\n",
              "NWpUef3vjw0A6JiqoiiK/T0IAAAAoOOcmQcAAIBkxDwAAAAkI+YBAAAgGTEPAAAAyYh5AAAASEbM\n",
              "AwAAQDJiHgAAAJIR8wAAAJCMmAcAAIBkxDwAAAAk8/8AmhnLYwbbnSoAAAAASUVORK5CYII=\n",
              "\">\n",
              "      </div>\n",
              "      <script type=\"text/javascript\">\n",
              "        (() => {\n",
              "          const chartElement = document.getElementById(\"chart-c40d4f48-d1a6-470a-8084-caf7e2475bac\");\n",
              "          async function getCodeForChartHandler(event) {\n",
              "            const chartCodeResponse =  await google.colab.kernel.invokeFunction(\n",
              "                'getCodeForChart', [\"chart-c40d4f48-d1a6-470a-8084-caf7e2475bac\"], {});\n",
              "            const responseJson = chartCodeResponse.data['application/json'];\n",
              "            await google.colab.notebook.addCell(responseJson.code, 'code');\n",
              "          }\n",
              "          chartElement.onclick = getCodeForChartHandler;\n",
              "        })();\n",
              "      </script>\n",
              "      <style>\n",
              "        .colab-quickchart-chart-with-code  {\n",
              "            display: block;\n",
              "            float: left;\n",
              "            border: 1px solid transparent;\n",
              "        }\n",
              "\n",
              "        .colab-quickchart-chart-with-code:hover {\n",
              "            cursor: pointer;\n",
              "            border: 1px solid #aaa;\n",
              "        }\n",
              "      </style>"
            ]
          },
          "metadata": {}
        },
        {
          "output_type": "display_data",
          "data": {
            "text/plain": [
              "<google.colab._quickchart_helpers.SectionTitle at 0x7f0f6115dc60>"
            ],
            "text/html": [
              "<h4 class=\"colab-quickchart-section-title\">Values</h4>\n",
              "<style>\n",
              "  .colab-quickchart-section-title {\n",
              "      clear: both;\n",
              "  }\n",
              "</style>"
            ]
          },
          "metadata": {}
        },
        {
          "output_type": "display_data",
          "data": {
            "text/plain": [
              "from matplotlib import pyplot as plt\n",
              "_df_9['Sepal.Length'].plot(kind='line', figsize=(8, 4), title='Sepal.Length')\n",
              "plt.gca().spines[['top', 'right']].set_visible(False)"
            ],
            "text/html": [
              "      <div class=\"colab-quickchart-chart-with-code\" id=\"chart-6bca17b8-244e-4f64-9f24-33aae42e8bbd\">\n",
              "        <img style=\"width: 180px;\" src=\"data:image/png;base64,iVBORw0KGgoAAAANSUhEUgAAApsAAAFuCAYAAADOJdNTAAAAOXRFWHRTb2Z0d2FyZQBNYXRwbG90\n",
              "bGliIHZlcnNpb24zLjcuMSwgaHR0cHM6Ly9tYXRwbG90bGliLm9yZy/bCgiHAAAACXBIWXMAAA9h\n",
              "AAAPYQGoP6dpAABQhUlEQVR4nO3deViVZeL/8fc5h02RRRBEWcQVNxRFEZX23dRccisbp3RSU2fa\n",
              "vjVWVtriNDPZlJq2mm1m5m45ZWUqbrjvuyKggCiyyA7n+f1R42+csESB58D5vK7rXFdwbs/5cPt0\n",
              "/HCf+zyPxTAMAxERERGRKmA1O4CIiIiI1F4qmyIiIiJSZVQ2RURERKTKqGyKiIiISJVR2RQRERGR\n",
              "KqOyKSIiIiJVRmVTRERERKqMyqaIiIiIVBmVTRERERGpMiqbIiLX6KeffsJisVBaWmp2lAp58cUX\n",
              "iYuLMzuGiNRyKpsiUuOdOHGCYcOG0bhxY+rVq0fjxo3p1asXqampZkcDHKOMhoeH8/7775v2/CLi\n",
              "vFQ2RaTG69WrF15eXuzdu5cLFy6wY8cOhgwZgsViMTuaiIjTU9kUkRrt3LlzHDx4kDFjxuDn5wdA\n",
              "w4YNGTFiBEFBQQBs3ryZG2+8EX9/f5o0acKkSZMuWWW0WCxMmzaNrl27Uq9ePWJiYti6devF+3/6\n",
              "6Sd69OiBv78/9evX5+abb2bnzp2V9jMcPHiQ3r1707BhQ4KDg3nkkUfIy8u7eH94eDhTpky5WKqb\n",
              "N2/O4sWLL95vGAZ/+9vfCAsLw9fXl1GjRjF48GD++Mc/AnDXXXeRlJTE+PHjqVevHu3atbvk+SdP\n",
              "nkyjRo3w8/Nj9OjRNW47gIg4NpVNEanR/P39iYyMZPTo0cyZM4fdu3djt9sv3n/o0CFuueUWxowZ\n",
              "Q3p6OmvXrmXZsmW89tprlzzO22+/zdy5czl37hy9evXirrvuIjs7GwBXV1f++c9/kpqaSlJSEi1a\n",
              "tOCee+6huLj4mvOfPXuW6667jltuuYWkpCR27drF4cOHefTRRy8Z9/777/Pyyy+TnZ3NuHHjGDFi\n",
              "BDk5OQB88skn/OMf/2DBggWcPXuW7t27X1JGV65cSVhYGDNmzODChQvs27fv4n2bN2/G09OTkydP\n",
              "smnTJhYsWMAnn3xyzT+XiMh/qGyKSI23evVq7rrrLmbNmkVMTAwNGjTgySefpKioiJkzZ9KnTx+G\n",
              "Dh2Ki4sLTZo04amnnmLOnDmXPMZf/vIX2rZti7u7O88//zwuLi4sW7YMgJ49e9KjRw/c3Nzw8vLi\n",
              "tddeIykpiUOHDl1z9o8//pgWLVrw2GOP4e7uToMGDZg8eTIff/wxZWVlF8eNGjWKzp07Y7VaGT16\n",
              "NLm5uRw4cODiY4wcOZJu3brh4uLCyJEj6dix4xU9f2hoKE8++SRubm60atWKW265hYSEhGv+uURE\n",
              "/sPF7AAiItfK39+fKVOmMGXKFIqKili5ciUjRoygXr16HDlyhNWrV+Pr63txvN1uv2T1E6Bp06YX\n",
              "/9tqtdKkSROSk5MB2L17N88++yzbt28nNzcXq/Xn39PPnDlzzdmPHDnCtm3bLslnGAYWi4W0tDSC\n",
              "g4MBaNy48cX7PT09AcjNzQXg1KlT9O/f/5LHDQ8Pv6Ln/+/H/c9j/+dxRUQqg1Y2RaRWcXd3p1+/\n",
              "ftx6661s376doKAg7rvvPrKysi7ecnJyuHDhwiV/LjEx8eJ/2+12kpKSCAkJAWDQoEE0b96cvXv3\n",
              "kpOTw4kTJ4CfS+G1CgoKIi4u7pJ82dnZFBYWXiyavyc4OJiTJ09e8r3//fo/BVlEpLrp1UdEarTz\n",
              "58/z17/+ld27d1NUVERZWRk//PADq1ev5vrrr+eRRx7hq6++YsGCBRQXF1NWVsbRo0f597//fcnj\n",
              "vPnmmxw4cIDi4mJeeeUViouL6du3LwDZ2dl4e3vj4+NDZmYmTzzxxFVlLSoqorCw8OKtuLiYBx98\n",
              "kB07dvD222+Tn5+PYRgkJyezZMmSK37cBx54gA8//JAtW7ZQWlrKnDlzfvUBpqCgoEp5219EpKJU\n",
              "NkWkRnNzc+Ps2bMMGjSIBg0a4O/vz1/+8heefvppnnjiCbp27cqqVat47733CA4Oxt/fn3vvvfdX\n",
              "K39jx47lgQcewM/Pj2XLlvHNN99cfGv7ww8/ZMGCBXh5eREbG8tdd931m5k+++wz6tWr96vv16tX\n",
              "jzp16ly83XzzzYSFhbFx40ZWrVpF8+bN8fX15Y477mDPnj1XPAd/+MMfeOyxxxgwYAANGjQgPj6e\n",
              "3r174+HhcXHM888/z9KlS/H19aVDhw5X/NgiItfKYlTG+0AiIjWYxWJh1apV3HrrrWZHqTRRUVEM\n",
              "GTKEiRMnmh1FRJycVjZFRGqB+fPnU1BQQGFhIW+88Qb79+9n0KBBZscSEVHZFBGpDd577z2CgoII\n",
              "CAjg008/ZenSpbRo0cLsWCIiehtdRERERKqOVjZFREREpMqobIqIiIhIlVHZFBEREZEqo7IpIiIi\n",
              "IlXGYcvmm2++aXYEEREREblGDls2//fqHiIiIiJS8zhs2RQRERGRmk9lU0RERESqjMqmiIiIiFQZ\n",
              "lU0RERERqTIqmyIiIiJSZVQ2RURERKTKqGyKiIiISJVR2RQRERGRKlPhshkeHk5ERARRUVFERUUx\n",
              "f/78X41JTEzkxhtvxMfHh6ioqMrIKSIiIiI1kMvV/KH58+f/Zon09vbm5ZdfJjs7m2efffZqs4mI\n",
              "iIhIDVclb6P7+fkRFxeHp6dnVTx8pSsoLjM7goiIiEitdFVl8w9/+AORkZGMHDmSjIyMaw5RVFRE\n",
              "Tk7OJbeysuopgFn5xdz55lqm/3AEu92olucUERERcRYVLptr165l9+7dbN++nQYNGjBixIhrDjF1\n",
              "6lR8fHwuuSUkJFzz416J5btOc/JcPq+vOsyYT7eRW1hSLc8rIiIi4gwqXDbDwsIAcHV15dFHH2Xd\n",
              "unXXHGLixIlkZ2dfcouJibnmx70SD3QP528DInGzWflufzr9Zq7n6JkL1fLcIiIiIrVdhcpmXl4e\n",
              "WVlZF7+eN28enTp1uuYQ7u7ueHt7X3Kz2WzX/LhXamhMGPNHxxLk7cGxjDz6zVzPd/vSqu35RURE\n",
              "RGqrCpXN9PR0brrpJjp06EBkZCRr1qzh448/BmDUqFEsW7YMgPz8fEJCQhg0aBD79+8nJCSEiRMn\n",
              "Vn76StQprD7LJ8QRE+7HhaJSHv5kG9O+O6R9nCIiIiLXwGIYhkO2qccff5xp06ZV+/OWlNl55esD\n",
              "fLQhEYCbIgL419BO+NRxrfYsIiIiIjWdriD0P1xtVl7s245pgzvi7mJl9aEM7pkRz6G0XLOjiYiI\n",
              "iNQ4KpuXMaBzCAvH9iDYtw6J5/Lp//Z6vt6danYsERERkRpFZfM3tA/2YfmEOHq28Ce/uIxxn29n\n",
              "6soDlJbZzY4mIiIiUiOobP4OP0835j4Yw+jrmwHwzprj/HHOFs7nFZucTERERMTxqWxeAReblYm9\n",
              "2jB9WCfquNqIP3qWPjPi2Xsq2+xoIiIiIg5NZbMC+nRszOJxPQjzq0vK+QIGztrA4h0pZscSERER\n",
              "cVgqmxXUOsib5ePjuDEigKJSO4/N38Xk5fso0T5OERERkV9R2bwKPnVd+WBEV8bf1AKAOesTGf7+\n",
              "Zs5eKDI5mYiIiIhjUdm8SjarhSfviGD28Gg83WxsPpFJn+nx7ErOMjuaiIiIiMNQ2bxGd7YPYun4\n",
              "njQL8CQ1u5BB72zkyy3JZscSERERcQgqm5WgRaAXS8b15NY2DSkutfPUwt08t2QPxaXaxykiIiLO\n",
              "TWWzknh7uPLuA9E8flsrLBb4dFMSw97bxJmcQrOjiYiIiJhGZbMSWa0W/nxLSz4Y0QUvDxe2nTxP\n",
              "7+nxbDuZaXY0EREREVOobFaBm1s3ZNn4OFoG1uNMbhFD393Ep5tOYhiG2dFEREREqpXKZhVp2sCT\n",
              "JeN60isyiJIyg+eW7OXphbspLCkzO5qIiIhItVHZrEKe7i7MvK8zf72rNVYLfLk1hSHvbOR0VoHZ\n",
              "0URERESqhcpmFbNYLIy5oTlzH4rBt64ru1Ky6TM9nk3Hz5kdTURERKTKqWxWk+taBrB8fBxtGnlz\n",
              "Lq+Y+9/fzIfxJ7SPU0RERGo1lc1qFOpXl0Vje9AvqjFldoMpK/bz2PydFBRrH6eIiIjUTiqb1ayO\n",
              "m403hkQxqXdbbFYLS3aeZuCsDSRn5psdTURERKTSqWyawGKxMDKuKZ+O7Ia/pxv7U3PoMyOedUcy\n",
              "zI4mIiIiUqlUNk3Uvbk/yyfE0SHEh6z8EkZ8mMDsNce0j1NERERqDZVNkzX2rcOXo7szKDoEuwF/\n",
              "W3mQ8fN2kFdUanY0ERERkWumsukAPFxt/P3eDrzUrz0uVgtf705lwNsbSDybZ3Y0ERERkWuisukg\n",
              "LBYLD8Q2Yd7DsQR4uXMoPZe+M+JZffCM2dFERERErprKpoPpGu7HiglxdA7zJaewlIfmbmH6D0ew\n",
              "27WPU0RERGoelU0H1NDbg3kPx3JftzAMA15fdZgxn24jt7DE7GgiIiIiFaKy6aDcXWy82j+Svw2I\n",
              "xM1m5bv96fSbuZ6jZy6YHU1ERETkiqlsOrihMWHMHx1LkLcHxzLy6DdzPd/tSzM7loiIiMgVUdms\n",
              "ATqF1Wf5hDhimvpxoaiUhz/ZxuvfHaJM+zhFRETEwals1hABXu58NqobD/YMB2D6j0cZOXcL2fna\n",
              "xykiIiKOS2WzBnG1WXmhTzveGNIRdxcrPx3KoO/MeA6l5ZodTURERKRcKps1UP9OISwc24Ng3zqc\n",
              "PJdPv5nrWbH7tNmxRERERH5FZbOGah/sw/IJcfRs4U9BSRnjP9/B1JUHKC2zmx1NRERE5CKVzRrM\n",
              "z9ONuQ/GMPr6ZgC8s+Y4f5yzhfN5xSYnExEREfmZymYN52KzMrFXG6YP60QdVxvxR8/SZ0Y8e09l\n",
              "mx1NRERERGWztujTsTGLx/UgzK8uKecLGDhrA4t3pJgdS0RERJycymYt0jrIm+Xj47gxIoCiUjuP\n",
              "zd/F5OX7KNE+ThERETGJymYt41PXlQ9GdGX8TS0AmLM+keHvb+bshSKTk4mIiIgzUtmshWxWC0/e\n",
              "EcHs4dF4utnYfCKTPtPj2ZWcZXY0ERERcTIqm7XYne2DWDq+J80CPEnNLmTQOxv5ckuy2bFERETE\n",
              "iahs1nItAr1YMq4nt7ZpSHGpnacW7ua5JXsoLtU+ThEREal6KptOwNvDlXcfiObx21phscCnm5IY\n",
              "9t4mzuQUmh1NREREajmVTSdhtVr48y0t+WBEF7w8XNh28jy9p8ez7WSm2dFERESkFlPZdDI3t27I\n",
              "svFxtGpYjzO5RQx9dxOfbDqJYRhmRxMREZFaSGXTCTVt4MniR3rSKzKIkjKDSUv28vTC3RSWlJkd\n",
              "TURERGoZlU0n5enuwsz7OvPXu1pjtcCXW1MY8s5GTmcVmB1NREREapEKl83w8HAiIiKIiooiKiqK\n",
              "+fPnlzvugw8+oGXLljRv3pw//elPlJSUXHNYqVwWi4UxNzRn7kMx+NZ1ZVdKNn2mx7Pp+Dmzo4mI\n",
              "iEgtcVUrm/Pnz2fnzp3s3LmTIUOG/Or+EydOMGnSJNatW8fRo0dJT0/n3XffveawUjWuaxnA8vFx\n",
              "tGnkzbm8Yu5/fzMfxp/QPk4RERG5ZlXyNvpXX31F3759CQoK+nn1bMwY5s2bVxVPJZUk1K8ui8b2\n",
              "oF9UY8rsBlNW7Oex+TspKNY+ThEREUdnGIbDfvbiqsrmH/7wByIjIxk5ciQZGRm/uj8pKYkmTZpc\n",
              "/Do8PJykpKTLPl5RURE5OTmX3MrKHHPCarM6bjbeGBLFpN5tsVktLNl5moGzNpCcmW92NBEREfkN\n",
              "K/emcdsba1h7+Ne9zGwVLptr165l9+7dbN++nQYNGjBixIhrDjF16lR8fHwuuSUkJFzz40rFWSwW\n",
              "RsY15dOR3fD3dGN/ag59ZsSz7ojjHbwiIiICOYUlvLhsH8mZBWw9ed7sOL9S4bIZFhYGgKurK48+\n",
              "+ijr1q0rd8zJkycvfp2YmHjxz5Vn4sSJZGdnX3KLiYmpaDSpRN2b+7N8QhwdQnzIyi9hxIcJzF5z\n",
              "TPs4RUREHMzf/32QM7lFNGvgySM3Njc7zq9UqGzm5eWRlZV18et58+bRqVOnX40bOHAgy5YtIy0t\n",
              "DcMwmD17NkOHDr3s47q7u+Pt7X3JzWazVSSaVIHGvnX4cnR3BkWHYDfgbysPMn7eDvKKSs2OJiIi\n",
              "IsC2k+f5bPPPWxVf6R+Jh6vj9acKlc309HRuuukmOnToQGRkJGvWrOHjjz8GYNSoUSxbtgyAZs2a\n",
              "MXnyZHr27EmLFi0ICAhg9OjRlZ9eqpyHq42/39uBl/q1x8Vq4evdqQx4ewOJZ/PMjiYiIuLUSsrs\n",
              "PLNoD4YBg6JD6N7c3+xI5bIYDvq+6OOPP860adPMjiH/ZWtiJmM/205GbhHeHi68ObQTN7UONDuW\n",
              "iIiIU5q5+ij/+PYQfp5u/PD4DdT3dDM7Url0BSG5Yl3C/VgxIY7OYb7kFJby0NwtTP/hCHa7Q/6+\n",
              "IiIiUmslns3jzR+OADCpdxuHLZqgsikV1NDbgy8e7s793cIwDHh91WFGf7qN3EJdIUpERKQ6GIbB\n",
              "s0v2UFxq57qWDegXFWx2pN+ksikV5uZi5ZX+kbw2MBI3m5VV+9O5Z+Z6jp65YHY0ERGRWm/xjlOs\n",
              "P3oOdxcrL/drj8ViMTvSb1LZlKs2pGsYX47pTpC3B8cz8ug3cz3f7kszO5aIiEitlZlXzMtfHwDg\n",
              "z7e0pIm/p8mJfp/KplyTqFBflk+II6apHxeKShn9yTZe/+4QZdrHKSIiUule/eYAmXnFRDT04uHr\n",
              "m5kd54qobMo1C/By57NR3XiwZzgA0388ysi5W8jO1z5OERGRyrLh2Fm+2paCxQKvDojE1VYzalzN\n",
              "SCkOz9Vm5YU+7XhjSEfcXaz8dCiDvjPjOZSWa3Y0ERGRGq+wpIxnF+8F4P5uYUQ3qW9yoiunsimV\n",
              "qn+nEBaO7UGwbx1Onsun38z1rNh92uxYIiIiNdrbq49y4mwegV7uPHVna7PjVIjKplS69sE+LJ8Q\n",
              "R88W/hSUlDH+8x1MXXmA0jK72dFERERqnCPpucxacwyAF/u2w9vD1eREFaOyKVXCz9ONuQ/GMPqX\n",
              "zcvvrDnOH+ds4XxescnJREREag673eCZxXsoKTO4pXUgd7UPMjtShalsSpVxsVmZ2KsN04d1oo6r\n",
              "jfijZ+kzI569p7LNjiYiIlIjzN+azJbE89R1szGlBpxTszwqm1Ll+nRszOJxPQjzq0vK+QIGztrA\n",
              "4h0pZscSERFxaGdyC5n6zc/n1Hz8tlYE+9YxOdHVUdmUatE6yJvl4+O4MSKAolI7j83fxeTl+yjR\n",
              "Pk4REZFyvbTiADmFpbQP9uaPPcLNjnPVVDal2vjUdeWDEV0Zf1MLAOasT2T4+5s5e6HI5GQiIiKO\n",
              "5adDZ1i+6zRWC/xtQAdcasg5NctTc5NLjWSzWnjyjgjeeSCaeu4ubD6RSZ/p8exKzjI7moiIiEPI\n",
              "Ly7luSU/n1PzwZ5NaR/sY3Kia6OyKaa4o10QS8b1oFmAJ6nZhQx6ZyNfbkk2O5aIiIjp3vz+CCnn\n",
              "Cwj2rcPjt7UyO841U9kU07QI9GLpuJ7c1rYhxaV2nlq4m2cX76G4VPs4RUTEOe07nc378ScAeKlf\n",
              "OzzdXUxOdO1UNsVUXh6uvDM8msdva4XFAp9tTmLYe5tIzyk0O5qIiEi1KrMbPLNoD2V2g7sjG3Fz\n",
              "64ZmR6oUKptiOqvVwp9vackHI7rg5eHCtpPn6T09nq2JmWZHExERqTafbExkV0o2Xh4uvNCnrdlx\n",
              "Ko3KpjiMm1s3ZNn4OFo1rEdGbhHD3tvEJ5tOYhiG2dFERESqVGp2Af/49hAAT9/ZmkBvD5MTVR6V\n",
              "TXEoTRt4sviRnvSKDKKkzGDSkr08vXA3hSVlZkcTERGpMi8s3UdecRnRTepzX0yY2XEqlcqmOBxP\n",
              "dxdm3teZv97VGqsFvtyawpB3NnI6q8DsaCIiIpXu231pfLc/HRerhVf7R2K11rxLUv4WlU1xSBaL\n",
              "hTE3NGfuQzH41nVlV0o2fabHs+n4ObOjiYiIVJrcwhJeWLoPgNE3NCMiyMvkRJVPZVMc2nUtA1g+\n",
              "Po42jbw5l1fM/e9v5sP4E9rHKSIitcLr3x0mLaeQcP+6TLi5pdlxqoTKpji8UL+6LBrbg35RjSmz\n",
              "G0xZsZ/H5u+koFj7OEVEpObakXSeuRsTAXilfyQerjZzA1URlU2pEeq42XhjSBSTerfFZrWwZOdp\n",
              "Bs7aQHJmvtnRREREKqykzM7ERXswDBjQKZieLRqYHanKqGxKjWGxWBgZ15RPR3bD39ON/ak59JkR\n",
              "z7ojGWZHExERqZAP4k9wMC2X+nVdefbuNmbHqVIqm1LjdG/uz/IJcXQI8SErv4QRHyYwe80x7eMU\n",
              "EZEaITkzn399fxiAZ3q1wb+eu8mJqpbKptRIjX3r8OXo7gyKDsFuwN9WHmT85zvIKyo1O5qIiMhl\n",
              "GYbBs0v2Ulhip3szf+6NDjE7UpVT2ZQay8PVxt/v7cBL/drjarPw9Z5U+r+9nsSzeWZHExERKdey\n",
              "XadZezgDNxcrr/Rvj8VSu86pWR6VTanRLBYLD8Q2Yd6fYgnwcudw+gX6zIjnx4PpZkcTERG5RFZ+\n",
              "MS+t2A/A+Jta0CygnsmJqofKptQKXcL9WDEhjs5hvuQWljJy7lbe+uEIdrv2cYqIiGP428qDnL1Q\n",
              "TIvAeoy5obnZcaqNyqbUGg29Pfji4e7c3y0Mw4Bpqw4z+tNt5BaWmB1NREScXMKJTL7YkgzA1AGR\n",
              "uLk4TwVznp9UnMLPe2AieW1gJG42K6v2p3PPzPUcPXPB7GgiIuKkikrLmLhoNwDDYkLpGu5ncqLq\n",
              "pbIptdKQrmF8OaY7Qd4eHM/Io9/M9Xy7L83sWCIi4oRm/3ScYxl5NKjnzl/vrN3n1CyPyqbUWlGh\n",
              "viyfEEdMUz8uFJUy+pNtvP7dIcq0j1NERKrJsYwLzFx9FIDn+7TFp66ryYmqn8qm1GoBXu58Nqob\n",
              "D/YMB2D6j0cZOXcL2fnaxykiIlXLMAyeXbyH4jI7N7QKoE+HRmZHMoXKptR6rjYrL/RpxxtDOuLu\n",
              "YuWnQxn0nRnPobRcs6OJiEgttmBbCpuOZ+LhauXlfs5xTs3yqGyK0+jfKYSFY3sQ7FuHk+fy6Tdz\n",
              "PSt2nzY7loiI1ELnLhTx6jcHAHjs1laE+tU1OZF5VDbFqbQP9mH5hDh6tvCnoKSM8Z/vYOrKA5SW\n",
              "2c2OJiIitcjLXx8gK7+ENo28eSiuqdlxTKWyKU7Hz9ONuQ/GMPr6ZgC8s+Y4f5yzhfN5xSYnExGR\n",
              "2mDdkQwW7ziFxfLzOTVdbc5dt5z7pxen5WKzMrFXG2bc14k6rjbij56lz4x49p7KNjuaiIjUYIUl\n",
              "ZTy3ZC8AI7qHExXqa24gB6CyKU6td4fGLB7Xgyb+dUk5X8DAWRtYvCPF7FgiIlJDvfXDEU6ey6eR\n",
              "jwdP3hFhdhyHoLIpTq91kDfLxsVxY0QARaV2Hpu/ixeX7aNE+zhFRKQCDqbl8O7a4wBM7tuOeu4u\n",
              "JidyDCqbIoBPXVc+GNGVCTe3AOCjDYnc//5mMnKLTE4mIiI1gd1u8MyiPZTaDe5o15Db2wWZHclh\n",
              "qGyK/MJmtfDE7RG880A09dxdSDiRSZ/p8exMzjI7moiIOLjPEpLYnpRFPXcXJvdtb3Ych6KyKfI/\n",
              "7mgXxJJxPWgW4ElaTiGDZ29k/pYks2OJiIiDSs8p5O8rDwLwf3dEEOTjYXIix3LVZXPOnDlYLBaW\n",
              "LFlS7v3/+Mc/aN++PW3btqV///5kZWVd7VOJVLsWgV4sHdeT29o2pLjMztML9/x8ybFS7eMUEZFL\n",
              "TV6+j9yiUqJCfRke28TsOA7nqspmYmIi7733HrGxseXev2rVKubMmcPGjRvZv38/0dHRPPvss9cU\n",
              "VKS6eXm48s7waB6/rRUWC3y2OYlh720iPafQ7GgiIuIgvt+fzjd70rBZLUwdEInN6pyXpPwtFS6b\n",
              "drudUaNGMX36dNzd3csds2vXLuLi4vDy8gKgV69efPLJJ9eWVMQEVquFP9/Skg9GdMHLw4VtJ8/T\n",
              "e3o8WxMzzY4mIiImyysq5fmlP59Tc9R1TWnTyNvkRI6pwmVz2rRp9OzZk+jo6MuOiY6O5vvvvyct\n",
              "LQ3DMPjss8/Izc0lM7P8f6CLiorIycm55FZWVlbRaCJV5ubWDVk2Po5WDeuRkVvEsPc28cmmkxiG\n",
              "YXY0ERExyevfHeZ0diGhfnV49JZWZsdxWBUqm3v37mXhwoU899xzvznupptu4sknn6R3797ExsYS\n",
              "EBAAgItL+eebmjp1Kj4+PpfcEhISKhJNpMo1beDJ4kd60isyiJIyg0lL9vL0wt0UlugXIxERZ7Mn\n",
              "JZuPNpwA4OV+kdRxs5mcyHFZjAoszcyaNYspU6ZcfPs8LS0Nb29vJk+ezNixYy/75zZt2sSgQYNI\n",
              "Tk4u9/6ioiKKii49n+GkSZN48803rzSaSLUxDIPZa47zj28PYjegY4gPs4ZH09i3jtnRRESkGpSW\n",
              "2bln5nr2nc6hb8fGvDWsk9mRHFqFVjbHjh1LamoqiYmJJCYmEhsby7vvvltu0UxNTQUgPz+f559/\n",
              "nqeeeuqyj+vu7o63t/clN5tNvyGIY7JYLIy9sTlzH4rBt64ru1Ky6TM9nk3Hz5kdTUREqsFHGxLZ\n",
              "dzoHbw8XJvVua3Ych1dp59l8/vnnmT179sWvb7/9dtq1a0fHjh2Ji4tj/PjxlfVUIg7hupYBLB8f\n",
              "R9tG3pzLK+b+9zfzYfwJ7eMUEanFUs7n8/p3hwF4plcbArzK/7C0/H8Vehu9Oj3++ONMmzbN7Bgi\n",
              "v6uguIyJi3azZOdpAPpFNWbqgA7avyMiUssYhsHIuVv58eAZYsL9+OLhWKw61dHv0hWERK5RHTcb\n",
              "bwyJ4vnebbFZLSzZeZqBszaQnJlvdjQREalE3+xJ48eDZ3C1WXh1QHsVzSuksilSCSwWCw/FNeXT\n",
              "kd3w93Rjf2oOfWbEs+5IhtnRRESkEmQXlPDi8n0AjL2xBS0CvUxOVHOobIpUou7N/Vk+IY4OIT5k\n",
              "5Zcw4sMEZq85pn2cIiI13N//fZCM3CKaNfDkkRubmx2nRlHZFKlkjX3r8OXo7gyKDsFuwN9WHmT8\n",
              "5zvIKyo1O5qIiFyFbScz+WxzEgCv9I/Ew1V78itCZVOkCni42vj7vR14qV97XG0Wvt6TSv+315N4\n",
              "Ns/saCIiUgHFpXYmLtoDwKDoELo39zc5Uc2jsilSRSwWCw/ENmHen2IJ8HLncPoF+syI58eD6WZH\n",
              "ExGRK/TeuuMcTr+An6cbz/RqY3acGkllU6SKdQn3Y8WEODqH+ZJbWMrIuVt564cj2O3axyki4sgS\n",
              "z+bx5g9HAJjUuw31Pd1MTlQzqWyKVIOG3h588XB37u8WhmHAtFWHGf3pNnILS8yOJiIi5TAMg2eX\n",
              "7KG41M51LRvQLyrY7Eg1lsqmSDVxc7HySv9IXhsYiZvNyqr96dwzcz1Hz1wwO5qIiPyPxTtOsf7o\n",
              "OdxdrLzcrz0Wi86pebVUNkWq2ZCuYXw5pjtB3h4cz8ij38z1fLsvzexYIiLyi8y8Yl7++gAAf76l\n",
              "JU38PU1OVLOpbIqYICrUl+UT4ohp6seFolJGf7KN1787RJn2cYqImO7Vbw6QmVdMREMvHr6+mdlx\n",
              "ajyVTRGTBHi589mobjzYMxyA6T8eZeTcLWTnax+niIhZNhw7y1fbUrBYYOrASFxtqkrXSjMoYiJX\n",
              "m5UX+rTjjSEdcXex8tOhDPrOjOdQWq7Z0UREnE5hSRnPLt4LwPBuTegcVt/kRLWDyqaIA+jfKYSF\n",
              "Y3sQ7FuHk+fy6TdzPSt2nzY7loiIU3l79VFOnM0j0Mud/7szwuw4tYbKpoiDaB/sw/IJccS1aEBB\n",
              "SRnjP9/B1G8OUFpmNzuaiEitdyQ9l1lrjgEwuW87vD1cTU5Ue6hsijgQP083PnqwK6Nv+HlD+jtr\n",
              "jzNiTgKZecUmJxMRqb3sdoNnFu+hpMzg1jaB3Nk+yOxItYrKpoiDcbFZmXhXG2bc14k6rjbWHz1H\n",
              "n+nx7D2VbXY0EZFaaf7WZLYknqeum43J9+icmpVNZVPEQfXu0JjF43rQxL8up7IKGDhrA4u2p5gd\n",
              "S0SkVjmTW8jUb34+p+YTt0cQ7FvH5ES1j8qmiANrHeTNsnFx3BgRQFGpnce/3MWLy/ZRon2cIiKV\n",
              "Ysry/eQUlhIZ7MMfe4SbHadWUtkUcXA+dV35YERXJtzcAoCPNiRy//ubycgtMjmZiEjNtvrQGVbs\n",
              "TsVqgakDIrFZ9fZ5VVDZFKkBbFYLT9wewTsPRFPP3YWEE5n0mR7PzuQss6OJiNRI+cWlPPfLOTUf\n",
              "6tmU9sE+JieqvVQ2RWqQO9oFsWRcD5oFeJKWU8jg2RuZvyXJ7FgiIjXOv74/wqmsAoJ96/DYba3M\n",
              "jlOrqWyK1DAtAr1YOq4nt7VtSHGZnacX7uHZxXsoLtU+ThGRK7HvdDYfxJ8A4KV+7fB0dzE5Ue2m\n",
              "silSA3l5uPLO8GieuK0VFgt8tjmJYe9tIj2n0OxoIiIOrcxuMHHRHsrsBndHNuLm1g3NjlTrqWyK\n",
              "1FBWq4UJt7TkwxFd8fJwYdvJ8/SeHs/WxEyzo4mIOKyPNyayOyUbLw8XXujT1uw4TkFlU6SGu6l1\n",
              "IMvHxxHR0IuM3CKGvbeJTzadxDAMs6OJiDiU01kF/PPbQwA8fWdrAr09TE7kHFQ2RWqB8AaeLHqk\n",
              "B3dHNqKkzGDSkr08vXA3hSVlZkcTEXEYLyzbR15xGdFN6nNfTJjZcZyGyqZILeHp7sKM+zox8a7W\n",
              "WC3w5dYUhryzkdNZBWZHExEx3b/3prFqfzouVguv9o/EqnNqVhuVTZFaxGKxMPqG5sx9KAbfuq7s\n",
              "Ssmmz/R4Nh47Z3Y0ERHT5BaW8OKyfQCMvqEZEUFeJidyLiqbIrXQdS0DWD4+jraNvDmXV8zwDzbz\n",
              "QfwJ7eMUEaf0z28PkZZTSLh/XSbc3NLsOE5HZVOklgr1q8vCsT3oF9WYMrvBSyv28+j8nRQUax+n\n",
              "iDiPHUnn+XjTSQBe6R+Jh6vN5ETOR2VTpBar42bjjSFRPN+7LTarhaU7TzNw1gaSM/PNjiYiUuVK\n",
              "yuxMXLQHw4ABnYLp2aKB2ZGcksqmSC1nsVh4KK4pn47shr+nG/tTc+gzI551RzLMjiYiUqU+iD/B\n",
              "wbRc6td15dm725gdx2mpbIo4ie7N/Vk+IY4OIT5k5Zcw4sMEZq85pn2cIlIrJWfm86/vDwPwTK82\n",
              "+NdzNzmR81LZFHEijX3r8OXo7gyKDsFuwN9WHmT85zvIKyo1O5qISKUxDINnl+ylsMRO92b+3Bsd\n",
              "YnYkp6ayKeJkPFxt/P3eDrzUrz2uNgtf70ml/9vrSTybZ3Y0EZFKsWzXadYezsDNxcor/dtjseic\n",
              "mmZS2RRxQhaLhQdim/DFw7EEeLlzOP0CfWbE8+PBdLOjiYhck6z8Yl5asR+ACTe1oFlAPZMTicqm\n",
              "iBOLbuLH1xPiiG5Sn9zCUkbO3cpbPxzBbtc+ThGpmf628iBnLxTTMrAeo29obnYcQWVTxOkFensw\n",
              "70+xDI8NwzBg2qrDjP50G7mFJWZHExGpkIQTmXyxJRmAVwdE4uaimuMI9LcgIri5WHm5XyR/H9gB\n",
              "N5uVVfvTuWfmeo6euWB2NBGRK1JUWsbERbsBGBYTRtdwP5MTyX+obIrIRYO7hvLlmO408vHgeEYe\n",
              "/Wau59t9aWbHEhH5XbN/Os6xjDwa1HPnr3e2NjuO/BeVTRG5RFSoL8snxNGtqR8XikoZ/ck2/vnt\n",
              "Icq0j1NEHNSxjAvMXH0UgBf6tMWnrqvJieS/qWyKyK80qOfOp6O68WDPcABmrD7KyLlbyM7XPk4R\n",
              "cSyGYfDMoj0Ul9m5MSKA3h0amR1J/ofKpoiUy9Vm5YU+7XhjSEfcXaz8dCiDvjPjOZiWY3Y0EZGL\n",
              "FmxNYfOJTOq42njpHp1T0xGpbIrIb+rfKYSFY3sQ7FuHk+fy6T9zAyt2nzY7logIZy8U8co3BwB4\n",
              "7LaWhPrVNTmRlEdlU0R+V/tgH5ZPiCOuRQMKSsoY//kOpn5zgNIyu9nRRMSJvbxiP9kFJbRt5M1D\n",
              "PZuaHUcuQ2VTRK6In6cbHz3YldE3NAPgnbXHGTEngcy8YpOTiYgzWnckgyU7T2O1wNQBkbjYVGkc\n",
              "1VX/zcyZMweLxcKSJUvKvf+1116jbdu2REVFERsbS0JCwtU+lYg4CBeblYl3tWHGfZ2o42pj/dFz\n",
              "9Jkez95T2WZHExEnUlBcxrOL9wLwh+7hdAz1NTeQ/KarKpuJiYm89957xMbGlnv/zp07efvtt0lI\n",
              "SGDnzp2MHz+e8ePHX1NQEXEcvTs0Zsm4njTxr8uprAIGztrAou0pZscSESfx1o9HSMrMp5GPB0/e\n",
              "EWF2HPkdFS6bdrudUaNGMX36dNzd3csdY7FYKCkpIS8vD4CsrCxCQkKuLamIOJSIIC+WjYvjpogA\n",
              "ikrtPP7lLl5cto8S7eMUkSp0MC2H99YeB2By33bUc3cxOZH8ngr/DU2bNo2ePXsSHR192TEdO3bk\n",
              "scceo2nTpvj5+eHu7s7atWsvO76oqIiioqJLvldWVlbRaCJSzXzquvLBiK786/vDvPXjUT7akMj+\n",
              "1Bxm3teZAK/yfxkVEbladrvBxEV7KLUb3NGuIbe3CzI7klyBCq1s7t27l4ULF/Lcc8/95rgTJ06w\n",
              "aNEijh49SkpKCo899hhDhgy57PipU6fi4+NzyU17PEVqBqvVwuO3R/DOA9HUc3ch4UQmfabHszM5\n",
              "y+xoIlLLfLb5JDuSsqjn7sLkvu3NjiNXqEJlc926dSQmJtKyZUvCw8PZtGkTDz/8MLNmzbpk3MKF\n",
              "C4mMjKRx48YAPPjgg6xfv57i4vI/tTpx4kSys7MvucXExFzljyQiZrijXRBLxvWkWYAnaTmFDJ69\n",
              "kflbksyOJSK1RHpOIX//9yEA/u+OCIJ8PExOJFeqQmVz7NixpKamkpiYSGJiIrGxsbz77ruMHTv2\n",
              "knHNmjVj/fr1XLhwAYAVK1bQqlUr3Nzcyn1cd3d3vL29L7nZbLar/JFExCwtAuuxdFxPbm/bkOIy\n",
              "O08v3MOzi/dQXKp9nCJybV5cto/colKiQn0ZHtvE7DhSAZW2q/b555+ncePGjBkzhv79+7Nlyxa6\n",
              "dOmCu7s7np6efP7555X1VCLiwLw8XJk9PJqZq48y7fvDfLY5iQOpOcwaHk1Db61EiEjFfb8/nZV7\n",
              "07BZLUwdEInNqktS1iQWwzAMs0OU5/HHH2fatGlmxxCRa7D64Bn+/MUOcgtLCfByZ9b9nekS7md2\n",
              "LBGpQfKKSrlt2hpOZxcy+oZmTLyrjdmRpIJ0un0RqTI3tQ5k+fg4Ihp6kZFbxNB3N/HJxkQc9Hdc\n",
              "EXFAr393mNPZhYT61eHRW1qZHUeugsqmiFSp8AaeLHqkB3dHNqLUbjBp6T6e+mo3hSU6vZmI/LY9\n",
              "Kdl8tOEEAC/3i6SOmz7PUROpbIpIlfN0d2HGfZ2YeFdrrBZYsC2Fwe9s5HRWgdnRRMRBlZbZ+eui\n",
              "3dgN6NuxMTe0CjA7klwllU0RqRYWi4XRNzRn7kMx+NZ1ZXdKNn2mx7Px2Dmzo4mIA/poQyL7Tufg\n",
              "7eHCpN5tzY4j10BlU0Sq1XUtA1g+Po62jbw5l1fM8A8280H8Ce3jFJGLUs7n8/p3hwF4plcbXZGs\n",
              "hlPZFJFqF+pXl4Vje9C/UzBldoOXVuzn0fk7KSjWPk4RZ2cYBs8v3UdBSRkxTf0Y3CXU7EhyjVQ2\n",
              "RcQUddxsTBvckRf6tMVmtbB052kGztpAcma+2dFExETf7Enjx4NncLNZebV/JFadU7PGU9kUEdNY\n",
              "LBYe7NmUz0Z1w9/Tjf2pOfSZEc+6IxlmRxMRE2QXlPDi8n0AjL2xOS0C65mcSCqDyqaImC62mT/L\n",
              "J8TRMcSHrPwSRnyYwOw1x7SPU8TJ/P3fB8nILaJZgCeP3NTc7DhSSVQ2RcQhNPatw/zR3RncJQS7\n",
              "AX9beZDxn+8gr6jU7GgiUg22nczks81JALzaPxJ3F51Ts7ZQ2RQRh+HhauO1gR14uV97XG0Wvt6T\n",
              "Sv+315N4Ns/saCJShYpL7UxctAeAwV1CiG3mb3IiqUwqmyLiUCwWC8Njm/DFw7EEeLlzOP0CfWbE\n",
              "8+PBdLOjiUgVeXftMQ6nX8Df041neuna57WNyqaIOKToJn58PSGO6Cb1yS0sZeTcrbz1wxHsdu3j\n",
              "FKlNTpzN460fjwIwqXdbfOu6mZxIKpvKpog4rEBvD+b9KZbhsWEYBkxbdZiHP9lGTmGJ2dFEpBIY\n",
              "hsGzi/dQXGrnupYNuCeqsdmRpAqobIqIQ3NzsfJyv0j+PrADbjYr3x9Ip9/M9Rw9k2t2NBG5Rou2\n",
              "n2LDsXO4u1h5uV97LBadU7M2UtkUkRphcNdQvhzTnUY+HhzPyOOeGev59940s2OJyFXKzCvm5a/3\n",
              "A/CXW1vSxN/T5ERSVVQ2RaTGiAr1ZfmEOLo19SOvuIwxn27jn98eokz7OEVqnFe+PsD5/BJaB3nx\n",
              "p+uamR1HqpDKpojUKA3qufPpqG481LMpADNWH2Xk3C1k52sfp0hNseHoWRZuT8FigVcHROJqUx2p\n",
              "zfS3KyI1jqvNyvN92vKvIVF4uFr56VAGfWfGczAtx+xoIvI7CkvKeHbJXgCGd2tC57D6JieSqqay\n",
              "KSI1Vr9OwSwc24OQ+nU4eS6f/jM3sGL3abNjichvmLn6KCfO5hHo5c7/3RlhdhypBiqbIlKjtWvs\n",
              "w/LxccS1aEBBSRnjP9/B1G8OUFpmNzuaiPyPI+m5zF5zDIDJfdvh7eFqciKpDiqbIlLj1fd0Y+5D\n",
              "MYy5oTkA76w9zog5CWTmFZucTET+w243mLhoDyVlBre2CeTO9kFmR5JqorIpIrWCzWrhr3e1ZsZ9\n",
              "najrZmP90XP0mR7P3lPZZkcTEeCLLclsPXmeum42Jt+jc2o6E5VNEalVendozOJHetLEvy6nsgoY\n",
              "OGsDi7anmB1LxKmdyS1k6soDADxxewTBvnVMTiTVSWVTRGqdiCAvlo2L46aIAIpK7Tz+5S5eXLaP\n",
              "Eu3jFDHFlOX7yS0sJTLYhz/2CDc7jlQzlU0RqZV86rrywYiu/PnmFgB8tCGR+9/fTEZukcnJRJzL\n",
              "6kNnWLE7FasFpg6IxGbV2+fORmVTRGotq9XC47dH8M4D0dRzdyHhRCZ9psezMznL7GgiTiG/uJTn\n",
              "Fv98Ts2HejalfbCPyYnEDCqbIlLr3dEuiCXjetIswJO0nEIGz97I/C1JZscSqfX+9f0RTmUVEOxb\n",
              "h8dua2V2HDGJyqaIOIUWgfVYOq4nt7dtSHGZnacX7uGZxXsoKi0zO5pIrbTvdDYfxJ8A4KV+7fB0\n",
              "dzE5kZhFZVNEnIaXhyuzh0fzxG2tsFjg881JDHt3E+k5hWZHE6lVyn45p2aZ3eDuyEbc3Lqh2ZHE\n",
              "RCqbIuJUrFYLE25pyYd/7Iq3hwvbk7LoPT2erYmZZkcTqTU+3pjI7pRsvDxceKFPW7PjiMlUNkXE\n",
              "Kd0UEciy8XFENPQiI7eIoe9u4pONiRiGYXY0kRrtdFYB//z2EAB/vas1gd4eJicSs6lsiojTCm/g\n",
              "yaJHenB3h0aU2g0mLd3HU1/tprBE+zhFrtYLy/aRV1xGlyb1GdY1zOw44gBUNkXEqXm6uzBjWCcm\n",
              "3tUaqwUWbEth8DsbOZ1VYHY0kRrn33vTWLU/HVebhVcHRGLVOTUFlU0RESwWC6NvaM7HD3XDt64r\n",
              "u1Oy6TM9no3HzpkdTaTGyC0s4YVlP59Tc/T1zWnV0MvkROIoVDZFRH4R17IBy8fH0baRN+fyihn+\n",
              "wWY+iD+hfZwiV+Af3x4iPaeIcP+6jP/lyl0ioLIpInKJUL+6LBzbg/6dgimzG7y0Yj+Pzt9JQbH2\n",
              "cYpczvak83yy6SQAr/SPxMPVZnIicSQqmyIi/6OOm41pgzvyQp+22KwWlu48zcBZG0jOzDc7mojD\n",
              "KSmz88yiPRgGDOgcTM8WDcyOJA5GZVNEpBwWi4UHezbls1Hd8Pd0Y39qDn1mxLPuSIbZ0UQcyvvr\n",
              "TnAwLZf6dV157m6dU1N+TWVTROQ3xDbzZ/mEODqG+JCVX8KIDxOY9dMx7eMUAZLO5fPmD4cBePbu\n",
              "tvh5upmcSByRyqaIyO9o7FuH+aO7M7hLCHYDXvv3QcZ9vp28olKzo4mYxjAMnl2yh8ISOz2a+zOw\n",
              "c7DZkcRBqWyKiFwBD1cbrw3swMv92uNqs/DNnjT6v72eE2fzzI4mYoplu06z7shZ3FysvNI/EotF\n",
              "59SU8qlsiohcIYvFwvDYJnzxcHcCvdw5nH6BvjPi+fFgutnRRKpVVn4xU5bvB2DCTS1o2sDT5ETi\n",
              "yFQ2RUQqKLpJfVZMiCO6SX1yC0sZOXcrb35/BLtd+zjFOUz95iDn8oppGViP0Tc0NzuOODiVTRGR\n",
              "qxDo7cG8P8XyQGwTDAPe+P4wD3+yjZzCErOjiVSpzcfPMX9rMgCvDojEzUVVQn6bjhARkavk5mLl\n",
              "pX7t+fu9HXBzsfL9gXT6zVzP0TO5ZkcTqRJFpWVMXLwHgGExYXQN9zM5kdQEKpsiItdocJdQFozu\n",
              "TiMfD45n5HHPjPX8e2+a2bFEKt2sn45xPCOPBvXc+eudrc2OIzXEVZfNOXPmYLFYWLJkya/u+/bb\n",
              "b4mKirp4a9y4MZ07d76WnCIiDq1jqC/LJ8TRrakfecVljPl0G//89hBl2scptcTRMxd4e/UxAF7o\n",
              "0xafuq4mJ5Ka4qrKZmJiIu+99x6xsbHl3n/HHXewc+fOi7fOnTtz//33X1NQERFH16CeO5+O6sZD\n",
              "PZsCMGP1UUbO3UJ2vvZxSs1mGAbPLt5DcZmdGyMC6N2hkdmRpAapcNm02+2MGjWK6dOn4+7u/rvj\n",
              "T58+zQ8//MADDzxwVQFFRGoSV5uV5/u05V9DovBwtfLToQz6zoznYFqO2dFErtqCrSlsPpFJHVcb\n",
              "L93TXufUlAqpcNmcNm0aPXv2JDo6+orGf/TRR/Tq1YvAwMDLjikqKiInJ+eSW1lZWUWjiYg4jH6d\n",
              "glk4tgch9etw8lw+/Wdu4K0fjpCWXWh2NJEKOXuhiFe+OQDAY7e1JNSvrsmJpKapUNncu3cvCxcu\n",
              "5Lnnnrui8YZh8OGHHzJy5MjfHDd16lR8fHwuuSUkJFQkmoiIw2nX2Ifl4+OIa9GAgpIypq06TM/X\n",
              "fmTU3K38eDBd+zmlRnh5xX6yC0po28j74hYRkYqwGIZxxa92s2bNYsqUKRffPk9LS8Pb25vJkycz\n",
              "duzYX43/6aefGD58OCdPnsRms132cYuKiigqKrrke5MmTeLNN9+80mgiIg6rzG6wbNcp5m1OJiEx\n",
              "8+L3G/t4MKhLKEO6htLYt46JCUXKt+5IBg98kIDVAosf6UnHUF+zI0kNVKGy+b9uvPFGHn30Ufr1\n",
              "61fu/Q888ABNmjTh5ZdfrvBjP/7440ybNu1qo4mIOKSjZ3KZl5DMwu0pZP3ywSGrBW6MCGRo11Bu\n",
              "bh2Ii01npRPzFRSXcce/1pKUmc8fe4TzYt92ZkeSGsqlsh7o+eefp3HjxowZMwaA7OxsFi1axJ49\n",
              "eyrrKUREarwWgV5M6t2W/7sjgm/3pTEvIYlNxzP58eAZfjx4hobe7gzuEsrgLqHaGyemeuvHIyRl\n",
              "5tPIx4Mn74gwO47UYNe0slmVtLIpIs7ieMYF5m9JZsG2FDLzigGwWOD6lgEMiwnlljYNcdVqp1Sj\n",
              "g2k59H4rnlK7wbsPRHN7uyCzI0kNVmkrmyIicnWaBdRjYq82PHF7BKv2pzMvIYn4o2dZcziDNYcz\n",
              "aFDPncFdQhjaNYwwf612StWy2w0mLtpDqd3gznZBKppyzVQ2RUQchJuLlbs7NOLuDo04eS6PL7Yk\n",
              "s2BrCmcvFPH2T8d4+6djxLVowLCYMG5r2xA3F612SuX7bPNJdiRlUc/dRfs0pVKobIqIOKAm/p48\n",
              "fWdrHr+tFT8cSOfzhGTWHckg/uhZ4o+exd/TjXujQxgaE0bTBp5mx5VaIj2nkL//+xAAT90ZQZCP\n",
              "h8mJpDZQ2RQRcWCuNit3tm/Ene0bkZyZz/wtyXy5NZkzuUW8s/Y476w9Tvdm/gzrFsYd7Rri7nL5\n",
              "08yJ/J4Xl+0jt6iUqFBf7u/WxOw4UkuobIqI1BChfnV58o4IHr21JT8ePMO8hCR+OpzBxuPn2Hj8\n",
              "HPXrujKw88+rnS0C65kdV2qYVfvTWbk3DRerhakDIrFZdUlKqRwqmyIiNYyLzcrtv3xw41RWAV/+\n",
              "stqZml3I+/EneD/+BDFN/RgWE8pd7Rvh4arVTvltF4pKeX7pXgBGXdeMNo28TU4ktYlOfSQiUguU\n",
              "ltlZcziDeQnJ/Hgwnf9cCdOnjisDOgczLCaMVg29zA0pDmvy8n3MWZ9IqF8dvnv0Buq46RcUqTxa\n",
              "2RQRqQVcbFZuadOQW9o0JDW7gAVbU5i/JZlTWQXMWZ/InPWJRDepz7CYMO6ObKQyIRftTsli7oZE\n",
              "AF7pF6ljQyqdyqaISC3TyKcOf76lJeNuasG6IxnMS0ji+wNn2HbyPNtOnmfy8n307/TzaqfeLnVu\n",
              "pWV2/rpwD3YD7olqzPWtAsyOJLWQyqaISC1ls1q4MSKQGyMCOZNTyIJtKXyxJYnkzAI+3niSjzee\n",
              "JCrUl/tiwujdsRF13fRPgrOZsz6R/ak5+NRxZVLvtmbHkVpKrywiIk4g0NuDcTe1YOwNzVl/7Czz\n",
              "EpL4bl86O5Oz2JmcxZQV+7knqjHDYsJoH+xjdlypBsmZ+UxbdRiAZ3q1pkE9d5MTSW2lsiki4kSs\n",
              "VgvXtQzgupYBZOQWsXB7Cl8kJJF4Lp/PNifx2eYkOoT4MLRrGH2jGlPPXf9M1EaGYfD80r0UlJQR\n",
              "09SPwV1CzY4ktZheRUREnFSAlztjbmjOw9c1Y9Pxc8zbksy/96ayOyWb3Sl7ePnr/7/aGRnsg8Wi\n",
              "8y7WFl/vSWX1oQzcbFZe7R+pv1upUiqbIiJOzmq10KNFA3q0aMC5C21ZtP0U8xKSOH42j3kJycxL\n",
              "SKZtI2+GdQvjnqjGeHu4mh1ZrkF2QQmTl+8HYOyNzXUBAKlyOs+miIj8imEYJJzIZF5CEt/sTaO4\n",
              "1A5AHVcbvTs0Yli3MDqF+mpFrAZ6ZvEePt+cRLMAT1b+5Tpd4lSqnFY2RUTkVywWC92a+dOtmT8v\n",
              "5BWzaMfPq51Hz1xgwbYUFmxLoXWQF8NiwujXKRifOlrtrAm2Jmby+eYkAF7tH6miKdVCK5siInJF\n",
              "DMNg28nzfJ6QxNe7Uyn6ZbXT3cXK3R0acV9MGNFN6mu100EVl9q5+611HDlzgcFdQvj7vR3NjiRO\n",
              "QiubIiJyRSwWC13C/egS7scLvduxZOfPq50H03JZtP0Ui7afomVgPYbGhDGwczC+dd3Mjiz/5d21\n",
              "xzhy5gL+nm4806uN2XHEiWhlU0RErpphGOxIzuKLhCSW70qloKQMADcXK73aBzEsJoyYpn5a7TTZ\n",
              "ibN53PGvtRSX2vnXkCj6dQo2O5I4Ea1siojIVbNYLHQOq0/nsPo817stS3eeZt7mJPan5rBk52mW\n",
              "7DxNswBPhnUNY2B0CH6eWu2sboZh8OziPRSX2rmuZQPuiWpsdiRxMlrZFBGRSmUYBntOZTMvIYml\n",
              "O0+TX/zLaqfNyu3tGnJfTBixzfyxWrXaWR0WbkvhiQW7cHex8t1j19PE39PsSOJktLIpIiKVymKx\n",
              "0CHElw4hvjx7d1uW7TzNvIQk9pzKZsXuVFbsTiXcvy5DY8K4NzpEl0msQpl5xbz89c/n1PzLrS1V\n",
              "NMUUKpsiIlJl6rm7cF+3MO7rFsbe/1rtTDyXz99WHuSf3x7i9nYNGRYTRs/mDbTaWcle+foA5/NL\n",
              "aB3kxZ+ua2Z2HHFSKpsiIlIt2gf78Er/SJ7p1YYVu08zLyGZnclZfLMnjW/2pBHqV4ehXcMYFB1C\n",
              "oLeH2XFrvA1Hz7JwewoWC7w6IBJXm9XsSOKkVDZFRKRaebq7MKRrGEO6hrH/dA5fbEli8Y5TJGcW\n",
              "8I9vDzFt1WFubRPI0Jgwrm8ZgE2rnRVWWFLGs0v2AjC8WxM6h9U3OZE4M5VNERExTdvG3ky5pz0T\n",
              "72rD13tSmZeQxLaT5/l2Xzrf7ksn2LcOQ7qGMrhLKEE+Wu28UjNXH+XE2Twaervzf3dGmB1HnJzK\n",
              "poiImK6Om417o0O4NzqEw+m5zEtIYtH2U5zKKmDaqsP86/vD3Nw6kGExYdwYEajVzt9wJD2X2WuO\n",
              "ATC5bzu8PXQpUTGXyqaIiDiUVg29eKFPO56+szUr96Yyb3MyCYmZfH/gDN8fOEMjHw8GdwllcNdQ\n",
              "gn3rmB3XodjtBhMX7aGkzODWNg25o12Q2ZFEVDZFRMQxebja6N8phP6dQjh6JpcvEpJZuD2F1OxC\n",
              "3vzhCNN/PMINrQIYFhPGza0DcdEHYPhiSzJbT57H083GlHva6cpN4hBUNkVExOG1CPTiud5tefKO\n",
              "CL7dl8YXCclsPH6O1YcyWH0og4be7j+vdnYJJdSvrtlxTXEmp5CpKw8A8MTtETTWqq84CJVNERGp\n",
              "MTxcbdwTFcw9UcEcz7jA/C3JfLUthfScIqb/eJQZq49yXcsA7osJ5ZY2DZ3qdD+TV+wnt7CUDiE+\n",
              "jOgRbnYckYtUNkVEpEZqFlCPib3a8MTtEazan868hCTij55l7eEM1h7OoEE9dwZ1CWFo19Baf+Wc\n",
              "1QfP8PXuVGxWC6/2j9QHqMShqGyKiEiN5uZi5e4Ojbi7QyNOnstj/pZkvtyawtkLRcz66RizfjpG\n",
              "XIsGDI0J5fa2Qbi51K7VzvziUp775ZyaD/UMp32wj8mJRC6lsikiIrVGE39PnrqzNY/d1oofDqTz\n",
              "eUIy645kEH/0LPFHz+Lv6ca90SEM6RpKs4B6ZsetFG+sOsyprAKCfevw2G2tzI4j8isqmyIiUuu4\n",
              "2qzc2b4Rd7ZvRHJmPl9uTWb+lmTO5BbxztrjvLP2OLHN/BgWE8ad7YNwd7GZHfmq7D2VzYfrEwF4\n",
              "uV976rrpn3VxPDoqRUSkVgv1q8sTt0fwl1ta8uPBM3yxJZnVh86w6Xgmm45nUr+uKwM6hzAsJpQW\n",
              "gV5mx71iZXaDZxbvocxucHeHRtzUOtDsSCLlUtkUERGn4GKzcnu7IG5vF8SprAK+3JLMl1uTSc0u\n",
              "5IP4E3wQf4KYcD+GdQvlrvaN8HB17NXOuRsS2Z2SjZeHCy/0aWt2HJHLshiGYZgdojyPP/4406ZN\n",
              "MzuGiIjUYmV2gzWHz/D55mR+PJiO/Zd/Eb09XH5Z7QwjIsjxVjtPZxVw27Q15BWX8Ur/9tzfrYnZ\n",
              "kUQuSyubIiLitGxWCze3bsjNrRuSll3Igq3JfLElmVNZBXy0IZGPNiQS3aQ+Q7uG0rtDY+q4mb/a\n",
              "aRgGzy/dR15xGV2a1GdY1zCzI4n8Jq1sioiI/Jcyu8G6IxnMS0ji+wNnKPtludPLw4X+nYIZ2jWM\n",
              "to29Tcv3772pjPl0O642C1//+TpaNXS8lVeR/6aVTRERkf9is1q4MSKQGyMCOZNTyIJtKXyxJYnk\n",
              "zAI+3niSjzeepGOoL/fF/Lza6eleff+U5hSW8MKyfQCMvr65iqbUCCqbIiIilxHo7cG4m1ow9obm\n",
              "rD92lnkJSXy3L51dyVnsSs7ipRUH6BvVmPtiwqrlZOr//PYQ6TlFhPvXZfzNLar8+UQqg8qmiIjI\n",
              "77BaLVzXMoDrWgaQkVvEwu0pfJGQROK5fD7fnMTnm5OIDPZhWEwYfaMaU68KVju3J53nk00nAXil\n",
              "f6TDf1pe5D+0Z1NEROQq2O0Gm06cY15CMt/uTaO4zA5AXTcbfTs2ZlhMGB1CfLBYrv065SVldvpM\n",
              "j+dgWi4DOgczbXDUNT+mSHXRyqaIiMhVsFot9GjegB7NG3DuQhGLtp9i3pYkjmfk8cWWnz/V3raR\n",
              "N8NiQrmnUzDeHq5X/VzvrzvBwbRc6td15bm7dU5NqVm0sikiIlJJDMMg4UQm8xKS+GZvGsWlP692\n",
              "1nG10btDI4Z1C6NTqG+FVjuTzuVz+7/WUFhi55+DOnJvdEhVxRepElrZFBERqSQWi4Vuzfzp1syf\n",
              "F/OLf17tTEjiyJkLLNiWwoJtKUQ09GJYTCj9O4XgU/e3VzsNw+DZJXsoLLHTo7k/AzsHV9NPIlJ5\n",
              "rFf7B+fMmYPFYmHJkiXl3p+UlESfPn2IiIigbdu2TJ8+/WqfSkREpMbxrevGQ3FN+e6x6/lqTHcG\n",
              "dA7G3cXKofRcXly+n5hXv+fx+TvZkpjJ5d5kXLbrNOuOnMXNxcor/SMrZf+nSHW7qpXNxMRE3nvv\n",
              "PWJjY8u93zAM+vfvz1//+lcGDRoEQHp6+tWnFBERqaEsFgtdwv3oEu7HC73bsWTnz6udB9NyWbTj\n",
              "FIt2nKJFYD2GxYQxoFMw9T3dAMjKL2bK8v0ATLipBU0beJr5Y4hctQqvbNrtdkaNGsX06dNxd3cv\n",
              "d8wPP/yAu7v7xaIJ0LBhw6tPKSIiUgv41HVlRI9wVv7lOhY90oPBXUKo42rj6JkLvLRiP92m/sBf\n",
              "vtjBpuPnePWbA5zLK6ZlYD1G39Dc7OgiV63CK5vTpk2jZ8+eREdHX3bM/v37CQgIYOjQoRw6dIjw\n",
              "8HBef/11mjVrVu74oqIiioqKLvleWVlZRaOJiIjUCBaLhc5h9ekcVp/nerdl6c7TzNucxP7UHJbu\n",
              "PM3Snacvjp06IBI3l6ve9SZiugqVzb1797Jw4ULWrl37m+NKS0v58ccf2bRpE+3atWP27NkMHjyY\n",
              "rVu3ljt+6tSpTJ48+ZLvXe4tehERkdrE28OVB2KbMLxbGHtOZTMvIYmlO0+TX1zG8NgwuoT7mR1R\n",
              "5JpU6NRHs2bNYsqUKRffPk9LS8Pb25vJkyczduzYi+O++uor3nrrrYulNC8vDy8vL4qKinB1/fUn\n",
              "78pb2Zw0aRJvvvnmVf1QIiIiNdmFolL2nsqma7gfNqs+FCQ1W4XW5ceOHUtqaiqJiYkkJiYSGxvL\n",
              "u+++e0nRBLjrrrtISUnh1KlTAHzzzTe0adOm3KIJ4O7ujre39yU3m02X4RIREedUz92F2Gb+KppS\n",
              "K1TaeTaff/55GjduzJgxY/D09GT27NncfffdGIaBj48PX3zxRWU9lYiIiIjUELqCkIiIiIhUGX28\n",
              "TURERESqjMqmiIiIiFQZlU0RERERqTIqmyIiIiJSZVQ2RURERKTKqGyKiIiISJVR2RQRERGRKqOy\n",
              "KSIiIiJVRmVTRERERKqMw15BaMCAAYSHh1fLc5WVlZGQkEBMTIyuyf5fNC+Xp7kpn+bl8jQ35dO8\n",
              "XJ7mpnyal/KZNS9NmjThL3/5y2+OcdiyWZ1ycnLw8fEhOzsbb29vs+M4DM3L5Wluyqd5uTzNTfk0\n",
              "L5enuSmf5qV8jjwvehtdRERERKqMyqaIiIiIVBmVTRERERGpMiqbgLu7Oy+88ALu7u5mR3EompfL\n",
              "09yUT/NyeZqb8mleLk9zUz7NS/kceV70ASERERERqTJa2RQRERGRKqOyKSIiIiJVRmVTRERERKqM\n",
              "U5XNI0eO0KNHD1q1akXXrl3Zt29fueM++OADWrZsSfPmzfnTn/5ESUlJNSetXlcyLz/99BN16tQh\n",
              "Kirq4q2goMCEtNXnz3/+M+Hh4VgsFnbu3HnZcc52vMCVzY0zHjOFhYX069ePVq1a0bFjR2677TaO\n",
              "Hj1a7tgVK1bQunVrWrZsyYABA8jJyanmtNXnSuclMTERm812yTFz7NgxExJXr9tvv50OHToQFRXF\n",
              "ddddx44dO8od52yvNVcyL874OvMfc+bMwWKxsGTJknLvd6jXGMOJ3HTTTcacOXMMwzCMBQsWGF26\n",
              "dPnVmOPHjxuNGjUyUlNTDbvdbvTp08eYMWNGNSetXlcyL6tXrzY6duxYvcFMtmbNGiM5Odlo0qSJ\n",
              "sWPHjnLHOOPxYhhXNjfOeMwUFBQYX3/9tWG32w3DMIzp06cbN9xww6/G5ebmGoGBgcaBAwcMwzCM\n",
              "cePGGU8++WR1Rq1WVzovJ06cMHx8fKo3nAM4f/78xf9etGiR0aFDh1+NccbXmiuZF2d8nTGMn/9f\n",
              "6d69uxEbG2ssXrz4V/c72muM06xsnjlzhq1btzJ8+HAABg4cSHJy8q9+u/7qq6/o27cvQUFBWCwW\n",
              "xowZw7x588yIXC2udF6c0fXXX09ISMhvjnG24+U/rmRunJGHhwe9evXCYrEAEBsbS2Ji4q/GrVy5\n",
              "kk6dOtG6dWsAHnnkkVp93FzpvDgrX1/fi/+dnZ19cZ7+mzO+1lzJvDgju93OqFGjmD59+mVPc+Ro\n",
              "rzFOUzaTk5Np1KgRLi4uAFgsFsLCwkhKSrpkXFJSEk2aNLn4dXh4+K/G1CZXOi8Ax44do3PnznTt\n",
              "2pW33367uqM6JGc7XirK2Y+ZN998k3vuuedX3y/vuElNTaW0tLQ645nmcvMCkJeXR9euXencuTNT\n",
              "pkyhrKysmtOZ4w9/+AOhoaFMmjSJTz755Ff3O+trze/NCzjf68y0adPo2bMn0dHRlx3jaK8xLqY8\n",
              "q9Q4nTt3JiUlBR8fH1JSUujVqxcNGjRg8ODBZkcTB+Xsx8yrr77K0aNH+eGHH8yO4lB+a14aNWrE\n",
              "qVOnCAwMJDMzkyFDhvD666/z1FNPmZC0en388ccAzJ07l6effppvvvnG5ESO4ffmxdleZ/bu3cvC\n",
              "hQtZu3at2VEqxGlWNkNDQy9p9YZhkJSURFhY2CXjwsLCOHny5MWvExMTfzWmNrnSefH29sbHxweA\n",
              "kJAQhg0bxrp166o9r6NxtuOlIpz5mPnnP//JokWLWLlyJXXr1v3V/eUdN//9DkNt9Xvz4u7uTmBg\n",
              "IAB+fn489NBDTnPM/MeIESNYvXo1586du+T7zv5ac7l5cbbXmXXr1pGYmEjLli0JDw9n06ZNPPzw\n",
              "w8yaNeuScY72GuM0ZTMwMJDOnTvz6aefArBw4UJCQkJo0aLFJeMGDhzIsmXLSEtLwzAMZs+ezdCh\n",
              "Q82IXC2udF5SU1Ox2+0A5ObmsmLFCjp16lTteR2Nsx0vFeGsx8y0adOYN28eq1atumTP2X+78847\n",
              "2b59OwcPHgTg7bffrvXHzZXMy5kzZy5+wrqoqIhFixbV+mMmKyuL06dPX/x6yZIl+Pv74+fnd8k4\n",
              "Z3utudJ5cbbXmbFjx5KamkpiYiKJiYnExsby7rvvMnbs2EvGOdxrjGkfTTLBwYMHjdjYWKNly5ZG\n",
              "dHS0sXv3bsMwDGPkyJHG0qVLL4579913jWbNmhnNmjUzHnroIaO4uNisyNXiSuZl+vTpRtu2bY0O\n",
              "HToYbdu2NV544YWLnyytrR5++GEjODjYsNlsRmBgoNG8eXPDMHS8GMaVzY0zHjPJyckGYDRr1szo\n",
              "2LGj0bFjRyMmJsYwDMOYNGmSMWvWrItjly5dakRERBjNmzc37rnnHiMrK8us2FXuSudl4cKFRrt2\n",
              "7S4eM+PHjzcKCwvNjF7lEhMTja5duxrt27c3OnToYNxyyy0Xz/DgzK81Vzovzvg6899uuOGGi59G\n",
              "d+TXGF0bXURERESqjNO8jS4iIiIi1U9lU0RERESqjMqmiIiIiFQZlU0RERERqTIqmyIiIiJSZVQ2\n",
              "RURERKTKqGyKiIiISJVR2RQRERGRKqOyKSIiIiJVRmVTRERERKqMyqaIiIiIVJn/B2b6qF4jKPx7\n",
              "AAAAAElFTkSuQmCC\n",
              "\">\n",
              "      </div>\n",
              "      <script type=\"text/javascript\">\n",
              "        (() => {\n",
              "          const chartElement = document.getElementById(\"chart-6bca17b8-244e-4f64-9f24-33aae42e8bbd\");\n",
              "          async function getCodeForChartHandler(event) {\n",
              "            const chartCodeResponse =  await google.colab.kernel.invokeFunction(\n",
              "                'getCodeForChart', [\"chart-6bca17b8-244e-4f64-9f24-33aae42e8bbd\"], {});\n",
              "            const responseJson = chartCodeResponse.data['application/json'];\n",
              "            await google.colab.notebook.addCell(responseJson.code, 'code');\n",
              "          }\n",
              "          chartElement.onclick = getCodeForChartHandler;\n",
              "        })();\n",
              "      </script>\n",
              "      <style>\n",
              "        .colab-quickchart-chart-with-code  {\n",
              "            display: block;\n",
              "            float: left;\n",
              "            border: 1px solid transparent;\n",
              "        }\n",
              "\n",
              "        .colab-quickchart-chart-with-code:hover {\n",
              "            cursor: pointer;\n",
              "            border: 1px solid #aaa;\n",
              "        }\n",
              "      </style>"
            ]
          },
          "metadata": {}
        },
        {
          "output_type": "display_data",
          "data": {
            "text/plain": [
              "from matplotlib import pyplot as plt\n",
              "_df_10['Sepal.Width'].plot(kind='line', figsize=(8, 4), title='Sepal.Width')\n",
              "plt.gca().spines[['top', 'right']].set_visible(False)"
            ],
            "text/html": [
              "      <div class=\"colab-quickchart-chart-with-code\" id=\"chart-1f537897-8fcc-4cdf-9c03-54e9a96849ab\">\n",
              "        <img style=\"width: 180px;\" src=\"data:image/png;base64,iVBORw0KGgoAAAANSUhEUgAAApsAAAFuCAYAAADOJdNTAAAAOXRFWHRTb2Z0d2FyZQBNYXRwbG90\n",
              "bGliIHZlcnNpb24zLjcuMSwgaHR0cHM6Ly9tYXRwbG90bGliLm9yZy/bCgiHAAAACXBIWXMAAA9h\n",
              "AAAPYQGoP6dpAABTEklEQVR4nO3deVhU9f4H8PfMAMMOsiMIiKLI7pob7qKigj/Lbt1KrWzvtlhp\n",
              "3sS9a6tleW27XW/e7q3MFBExc8ElzS1RZFNAEJBNQIZ9YGbO7w+M5IrJNpxZ3q/n4Xlk5jC8OU3D\n",
              "m++czzkSQRAEEBERERFpgVTsAERERERkuFg2iYiIiEhrWDaJiIiISGtYNomIiIhIa1g2iYiIiEhr\n",
              "WDaJiIiISGtYNomIiIhIa1g2iYiIiEhrWDaJiIiISGtYNomIutHhw4chkUigUqm67TGPHTsGa2tr\n",
              "qNXqO24zduxYrFq16g8fZ+HChXj44Ye7LRcRUXuwbBKRQcnJycGDDz6I3r17w9raGr1790ZkZCSK\n",
              "iorEjgZBEODs7IzNmze3un3cuHGwtLSEUqlsuS05ORkSiQSZmZkIDw9HTU0NZDJZu7+XRCLBgQMH\n",
              "ui07EVFnsWwSkUGJjIyEjY0NUlJSUFNTg6SkJPzpT3+CRCIROxokEgkmT57cqgTW1NTg7Nmz8Pb2\n",
              "xvHjx1tu379/P3x8fODn5ydGVCKibsOySUQGo7y8HBkZGXj66afh4OAAAHB1dcWCBQvg5uYGADh1\n",
              "6hQmTJgAR0dHeHt7IyYmptVb3hKJBBs2bMDw4cNhbW2NESNG4OzZsy33Hz58GKNHj4ajoyN69eqF\n",
              "SZMm4fz58+3OGBERgcTExJa3xA8fPoywsDBER0dj//79Ldvt378fU6dObdnm1rfmVSoVlixZAjc3\n",
              "Nzg7O2PZsmWtvkdgYCAAYPbs2bC2tsaMGTNa7lOpVHj++efh6OgIV1dXxMTEtDs7EVFnsGwSkcFw\n",
              "dHREcHAwnnrqKWzZsgXJycnQaDQt91+6dAmTJ0/G008/jZKSEhw9ehRxcXF4++23Wz3O5s2b8dVX\n",
              "X6G8vByRkZGYMWMGFAoFAMDU1BTvvfceioqKkJeXh/79+yM6OhqNjY3tyhgREYHKykqcOXMGQHOp\n",
              "nDJlCqZMmdJSNpVKJY4ePdpSNv/XO++8g23btuHQoUMoKCiAiYkJTp061XJ/amoqAGD37t2oqanB\n",
              "3r17W+7buXMnxo4di9LSUsTGxuKtt95CYmJiu7ITEXUGyyYRGZTExETMmDEDn3zyCUaMGAEnJye8\n",
              "+uqrUCqV+Pvf/47Zs2fjgQcegImJCby9vbFkyRJs2bKl1WO8+OKLCAgIgFwux4oVK2BiYoK4uDgA\n",
              "wJgxYzB69GiYmZnBxsYGb7/9NvLy8nDp0qV25fP09MSgQYNaiuVvZXPs2LFIT09HeXk5jh8/DqVS\n",
              "icmTJ7f5GFu2bMErr7zSknHVqlXo1atXu77/mDFj8MADD0Amk2HUqFEICwvD6dOn2/W1RESdYSJ2\n",
              "ACKi7uTo6Ig1a9ZgzZo1UCqV2Lt3LxYsWABra2tkZmYiMTER9vb2LdtrNJpWq58A0Ldv35Z/S6VS\n",
              "eHt7Iz8/H0Dz4M4bb7yBc+fOobq6GlJp89/spaWl7c44depU7N+/H4899hjy8/MxatQomJqaYuTI\n",
              "kTh48CCSkpIwdOjQlkMB/ldBQUGrjDKZDF5eXu363r179271uZWVFaqrq9udnYioo7iySUQGSy6X\n",
              "Y86cOZgyZQrOnTsHNzc3/PnPf0ZlZWXLR1VVFWpqalp9XW5ubsu/NRoN8vLy4OnpCQCYN28e+vXr\n",
              "h5SUFFRVVSEnJwdA86R5e0VERODkyZPYsWMHwsPDYWpqCgAtb6XferxmWzw9PVtlVKvVLWX4N7ow\n",
              "EEVEBLBsEpEBuXHjBl5//XUkJydDqVRCrVbj4MGDSExMxLhx4/Dss89i+/bt+P7779HY2Ai1Wo2s\n",
              "rCz8+OOPrR5n48aNSE9PR2NjI9588000NjYiKioKAKBQKGBraws7OztUVFTglVde6XDOCRMmQCKR\n",
              "YP369ZgyZUrL7ZMnT8bu3buRlJSEiIiIO379ggUL8P777yMjIwNKpRJr1qxBRUVFq23c3Nza/dY+\n",
              "EZE2sWwSkcEwMzNDWVkZ5s2bBycnJzg6OuLFF1/E0qVL8corr2D48OHYv38/vvjiC3h4eMDR0RH3\n",
              "3Xcfrl692upxnnnmGTzyyCNwcHBAXFwcEhISWt56/+c//4nvv/8eNjY2GDlyZKtJ77b85z//gbW1\n",
              "davbrKysMHr0aBQVFbUqm8OGDYNSqYSFhQVGjRp1x8dcunQp5s6di/Hjx8PT0xONjY245557Wm2z\n",
              "fv16vP3227C3t8esWbPas/uIiLRCInTkvR8iIgMnkUhahnaIiKjruLJJRERERFrDsklEREREWsNT\n",
              "HxER3YJHFhERdS+ubBIRERGR1rBsEhEREZHWsGwSERERkdawbBIRERGR1uhk2dy4caPYEYiIiIio\n",
              "G+hk2fzfq3kQERERkX7SybJJRERERIaBZZOIiIiItIZlk4iIiIi0hmWTiIiIiLSGZZOIiIiItIZl\n",
              "k4iIiIi0hmWTiIiIiLSGZZOIiIiItKbDZTMiIgIhISEICwtDeHg4kpKS2tzu4sWLmDBhAgYNGoRB\n",
              "gwZhx44dXQ5LRERERPrFpKNfsG3bNtjb2wMAdu7ciYULF+LChQuttqmrq0N0dDS2bt2KsWPHQq1W\n",
              "o6KiolsCExEREZH+6PDK5m9FEwAUCgUkEslt2/z3v//FyJEjMXbsWACATCaDs7Nz51MSERER0R2p\n",
              "1BqoNYLYMdrU4ZVNAJg/fz4SExMBAAkJCbfdn5aWBrlcjlmzZqGgoAAhISF4//332yycSqUSSqWy\n",
              "1W1qtbozsYiIiIiM0j9+zsHuC4V48/+CEdbHXuw4rXRqQGjr1q3Iz8/HunXrsHTp0tvuV6lUOHDg\n",
              "AD777DMkJSXBw8MDzzzzTJuPtX79etjZ2bX6OH36dGdiERERERmdwsp6fHQwE6mFVcgqrRE7zm26\n",
              "NI2+YMECJCYmory8vNXtXl5emDhxIjw8PCCRSPDwww/j5MmTbT7GsmXLoFAoWn2MGDGiK7GIiIiI\n",
              "jMa6PWmoa1RjuE8v3DvEQ+w4t+lQ2aysrERhYWHL57GxsXB0dISDg0Or7e6//36cOXMGVVVVAJrf\n",
              "ag8NDW3zMeVyOWxtbVt9yGSyjv4cREREREbn6OXrSLhYDJlUgjXRQW3O0oitQ8dsKhQKzJs3D/X1\n",
              "9ZBKpXB2dkZ8fDwkEgkWLVqEqKgoREVFwcvLC3/9618xevRoSKVSeHh44PPPP9fWz0BERERkdJQq\n",
              "NVbGpQIAFozywSB3W5ETtU0iCILOjS4tXrwYGzZsEDsGERERkc7adCgT7/10Gc42chx8ZTxszU3F\n",
              "jtQmXkGIiIiISM/kV9RhU2IWAGD5zEE6WzQBlk0iIiIivbMmPg0NTRqM9HVAVGhvseP8IZZNIiIi\n",
              "Ij1yKKME+9NKYCKVYK2ODgXdimWTiIiISE80NKmxKi4NAPD42L7wc7UROdHdsWwSERER6YlPDmcj\n",
              "r6IObrbmeGGyn9hx2oVlk4iIiEgPXC2vxSdHsgEAMbMCYCXv1FXHexzLJhEREZGOEwQBq+JS0ajS\n",
              "INzPCZHBbmJHajeWTSIiIiIdtz+tBImXrsNUJsGqqECdHwq6FcsmERERkQ6rb1Rj9e7moaAnx/mi\n",
              "n7O1yIk6hmWTiIiISIdtSszEtcp6eNhb4LmJ/cWO02Esm0REREQ66sr1Gnx+9AoAYMXsAFia6cdQ\n",
              "0K1YNomIiIh0kCAIWBmXiia1gIkDnRER4Cp2pE5h2SQiIiLSQXtTinEsswxmJlK9Gwq6FcsmERER\n",
              "kY6pVaqw5uZQ0DPj+8Hb0UrkRJ3HsklERESkYz46mIniqgb0cbDAMxP6iR2nS1g2iYiIiHRIZkk1\n",
              "vvw5BwCwOioQ5qYykRN1DcsmERERkY4QBAExu1Kg0giYGuCKSf76ORR0K5ZNIiIiIh0Rd6EQJ69U\n",
              "wNxUihWzAsSO0y1YNomIiIh0QHVDE97ckw4AeH5if/RxsBQ5Ufdg2SQiIiLSAR/sz0RptRJ9nazw\n",
              "xDhfseN0G5ZNIiIiIpGlF1Xhq19yAQCrogIhN9HvoaBbsWwSERERiUgQBKzYlQK1RsCMIDeMH+As\n",
              "dqRuxbJJREREJKId567hTO4NWJrJEGMgQ0G3YtkkIiIiEomivgnr9zYPBb0w2Q+97S1ETtT9WDaJ\n",
              "iIiIRPL+T5dQVtOI/i7WeGxMX7HjaAXLJhEREZEIUq4p8PXJqwCANVGBMDMxzFpmmD8VERERkQ7T\n",
              "aAQsj02BRgBmh/bG6P5OYkfSGpZNIiIioh72/a/5OJ9fCWu5CZbPHCR2HK1i2SQiIiLqQTdqG/HW\n",
              "3gwAwEtT/OBqay5yIu1i2SQiIiLqQe/su4QbdU0Y6GqDBaN9xI6jdSybRERERD3kfH4lvj2TBwBY\n",
              "OycIpjLDr2KG/xMSERER6QC1RkBMbAoEAZg72AMj+jqIHalHsGwSERER9YBvTufh4jUFbMxNsCzS\n",
              "sIeCbsWySURERKRl5TVKvLvvEgDg1YiBcLaRi5yo57BsEhEREWnZW3szoKhvQoC7LR66x0vsOD2K\n",
              "ZZOIiIhIi369WoHvfy0A0DwUZGIEQ0G3Mq6floiIiKgHqdQaLI9NBQDcP8wTQ717iZyo57FsEhER\n",
              "EWnJ1yevIr2oCnYWplg63V/sOKLocNmMiIhASEgIwsLCEB4ejqSkpNu2OXz4MCwsLBAWFtbyUV9f\n",
              "3y2BiYiIiPRBaXUD3v/pMgBgyfSBcLQ2nqGgW5l09Au2bdsGe3t7AMDOnTuxcOFCXLhw4bbtBg4c\n",
              "iPPnz3c1HxEREZFeWp+QgWqlCiGednhguHENBd2qwyubvxVNAFAoFJBIJN2ZRxQp1xS4Udsodgwi\n",
              "IiIyEKeulGNn0jVIJMDa6CDIpPrflzqrwyubADB//nwkJiYCABISEtrcJjs7G0OGDIFMJsOjjz6K\n",
              "Z599ts3tlEollEplq9vUanVnYnXK50ezsX5vBh4Y3gfr54b02PclIiIiw9Sk1iBmVwoA4MERXgjt\n",
              "Yy9uIJF1akBo69atyM/Px7p167B06dLb7h8yZAgKCgpw7tw57Ny5E59++im2bdvW5mOtX78ednZ2\n",
              "rT5Onz7dmVidMtirFwQB+PZMPpLybvTY9yUiIiLD9NWJXFwuqYGDlRmWTBsodhzRdWkafcGCBUhM\n",
              "TER5eXmr221tbWFnZwcA8PT0xIMPPohjx461+RjLli2DQqFo9TFixIiuxOqQ4T4OuHeIJwQBiNmV\n",
              "ArVG6LHvTURERIalWNGAD/Y3DwW9Pt0f9pZmIicSX4fKZmVlJQoLC1s+j42NhaOjIxwcWl9Ivqio\n",
              "CBqNBgBQXV2N+Ph4DB48uM3HlMvlsLW1bfUhk8k6+nN0yesz/GFjboKUa1X476mrPfq9iYiIyHCs\n",
              "25OG2kY1hnjZ476hnmLH0QkdKpsKhQJz5sxBcHAwQkNDsWnTJsTHx0MikWDRokWIi4sDAPzwww8t\n",
              "24wcORJTp07Fo48+qpUfoDs428jx2s1l7nf3XUJZjfIuX0FERETU2vGsMsQnF0EqAdZEB0FqxENB\n",
              "t5IIgqBz7xsvXrwYGzZs6NHvqdYIiNr0M1ILq3DfUE+8Ny+0R78/ERER6a9GlQYzNh5F9vVaLBjl\n",
              "jdXRQWJH0hm8gtBNMqkEa+c0PzG2/1qAs7kVIiciIiIiffHlzznIvl4LJ2s5FkdwKOhWLJu3GOLV\n",
              "C38a1gcAsDw2BSq1RuREREREpOuuVdbjo4OZAIC/RvrDzsJU5ES6hWXzfyyd4Q97S1NkFFdj6y8c\n",
              "FiIiIqI/tnZ3Guqb1Bjh44D/G+whdhydw7L5P5rPieUPAPhg/2WUVjWInIiIiIh01eFLpfgxtRgy\n",
              "qQRr5gQaxJUVuxvLZhv+NLwPQj3tUK1U4W8J6WLHISIiIh3U0KTGqrhUAMDC0T7wd7MVOZFuYtls\n",
              "w2/DQhIJEHu+EL9kl9/9i4iIiMiofHH0CnLL6+BiI8dLU/zEjqOzWDbvIMTTHn8e4QUAWLErBU0c\n",
              "FiIiIqKb8ivqsCkxCwCwfFYAbMw5FHQnLJt/4LVpA+FgZYbM0hpsOZ4jdhwiIiLSEat3p0Kp0mCU\n",
              "ryNmh7iLHUensWz+AXtLM7w+o3lY6MMDmShS1IuciIiIiMR2IK0EB9JLYSKVYC2Hgu6KZfMu7hvi\n",
              "iSFe9qhrVGPdHg4LERERGbOGJjVWxzcPBT0e3hf9XWxETqT7WDbvQnpzWEgqAfYkF+HnzDKxIxER\n",
              "EZFINh/ORn5FPdztzPHCJA4FtQfLZjsE9rbD/FE+AJqHhZQqtbiBiIiIqMflltXi0yPZAIAVswJg\n",
              "JTcROZF+YNlsp8URA+BkLceVslr84xiHhYiIiIyJIAhYGZeKRpUG4X5OmB7kJnYkvcGy2U625qZ4\n",
              "Y2bzsNDHhzJxrZLDQkRERMZiX2oJjly+DjOZFGuigzgU1AEsmx0wJ8wDI/o6oKFJgzW7U8WOQ0RE\n",
              "RD2grlHV8nv/yXG+6OtkJXIi/cKy2QESiQRro4Mgk0qwL7UEiZdKxY5EREREWrbpUBYKFQ3wsLfA\n",
              "cxP7ix1H77BsdtBANxs8OtoHALAqLhUNTRwWIiIiMlRZpTX44tgVAMCqqEBYmMlETqR/WDY74aWp\n",
              "A+BqK8fV8jp8duSK2HGIiIhIC5qHglLQpBYwyd8FUwa5iB1JL7FsdoK13ATLZwYAADYfzkJeeZ3I\n",
              "iYiIiKi77blYhONZ5TAzkWLVbF4pqLNYNjtpVog7RvdzhFKlwWoOCxERERmUGqUKa+PTAADPTugH\n",
              "L0dLkRPpL5bNTpJIJFgTHQRTmQQHM0qxP61E7EhERETUTT46mImSKiW8HS3x9Ph+YsfRayybXdDf\n",
              "xRqPj/UF0DwsVN/IYSEiIiJ9d7mkGv/8ufkCLquiAmFuyqGgrmDZ7KIXJvdHbztzXKusx+bDWWLH\n",
              "ISIioi4QBAHLY1Og0giICHDFxIEcCuoqls0usjQzwYrZzcNCnx25gpyyWpETERERUWftOl+I0zkV\n",
              "MDeVtvx+p65h2ewG0wLdMG6AMxrVGqyMS4UgCGJHIiIiog6qamjCuj3pAIC/TPKDZy8OBXUHls1u\n",
              "IJFIsDoqEGYyKY5evo4fU4rFjkREREQd9MH+yyirUcLXyQqLwvuKHcdgsGx2k75OVnhqfPOw0Jr4\n",
              "NNQ1qkRORERERO2VVliFr07kAgBWRwdCbsKhoO7CstmNnp3QH569LFCkaMBHBzksREREpA80GgEx\n",
              "u1KgEYCZwe4I93MWO5JBYdnsRhZmMqyaHQgA+MexK8gqrRY5EREREd3ND+cK8OvVG7A0k2H5rEFi\n",
              "xzE4LJvdbEqAKyb7u0ClEbBiF4eFiIiIdJmirglv7c0AALw42Q/udhYiJzI8LJtasCoqEHITKU5k\n",
              "l2N3cpHYcYiIiOgO3vvpEsprG+HnYo3HxnIoSBtYNrWgj4Mlnp3QHwCwLj4NNUoOCxEREemaiwUK\n",
              "fH3qKgDcvAQ1a5E2cK9qyVPjfeHtaInSaiU+3H9Z7DhERER0C41GwPJdKRAEIDqsN0b1cxQ7ksFi\n",
              "2dQSc1MZVkc1DwttOZGLS8UcFiIiItIV353Nx4X8SljLTfBGJIeCtIllU4smDHTBtEBXqG+eUoHD\n",
              "QkREROKrqG3E2z82DwW9PHUAXGzNRU5k2Fg2tWzF7ECYm0pxOqcCO5OuiR2HiIjI6L27LwOVdU3w\n",
              "d7PBglHeYscxeCybWuZhb4G/TPIDAPwtIR2K+iaRExERERmvpLwb+PZMPgBg7ZwgmHAoSOu4h3vA\n",
              "E+G+8HW2QllNIz7gsBAREZEofj+sDbh3iCeG+ziIHckodLhsRkREICQkBGFhYQgPD0dSUtIdtxUE\n",
              "AZMmTYK9vX1XMuo9MxMp1kQFAQC2/pKL1EKFyImIiIiMz39PXUXKtSrYmJtgWaS/2HGMRofL5rZt\n",
              "25CcnIzz589j8eLFWLhw4R23/eCDD9CvX7+u5DMYY/2cMDPEHRoBiIlNgUbDYSEiIqKeUlajxLv7\n",
              "LgEAXps2EE7WcpETGY8Ol81bVykVCgUkEkmb26WmpiI2Nhavv/56p8MZmpiZAbA0k+FcXiW2/1og\n",
              "dhwiIiKj8dbeDFQ1qBDY2xYP3cOhoJ5k0pkvmj9/PhITEwEACQkJt93f1NSEJ554Al9++SVkMtkf\n",
              "PpZSqYRSqWx1m1qt7kwsnedmZ46XpvjhbwkZeOvHDEQEusLe0kzsWERERAbtbG5FyyLP2jlBkEnb\n",
              "Xigj7ejUgNDWrVuRn5+PdevWYenSpbfdv3r1asydOxeDBt39JKnr16+HnZ1dq4/Tp093JpZeeHRM\n",
              "XwxwtUZFbWPLcj4RERFph0qtwfLYFADAA8P7YIhXL5ETGR+J0MUzjVtYWKCgoACOjr9f5ik8PBx5\n",
              "eXmQSCRQqVQoLCyEl5cXzpw5A2dn51Zf39bKZkxMDDZu3NiVWDrt5JVyPPD5SUgkwK7nxiDE017s\n",
              "SERERAbpnz/nYE18GuwtTXHolQlwsOI7ij2tQyublZWVKCwsbPk8NjYWjo6OcHBofeqAY8eO4erV\n",
              "q8jNzcXPP/8MW1tb5Obm3lY0AUAul8PW1rbVx93eetd3I30dMSesN4Sbw0JqDgsRERF1u9KqBmy4\n",
              "ecrBJdP8WTRF0qGyqVAoMGfOHAQHByM0NBSbNm1CfHw8JBIJFi1ahLi4OG3lNDh/nTkINnITXChQ\n",
              "4NszeWLHISIiMjh/S0hHjVKF0D72eGB4H7HjGK0uv42uDYsXL8aGDRvEjqF1vy3t21mYIvFVLu0T\n",
              "ERF1l1+yy/HgFzxkTRfwCkIimj/KG4PcbaGob8LbezPEjkNERGQQmtQarNjVPBT00D1eLJoiY9kU\n",
              "kYlMirXRgQCA787m41zeDZETERER6b8tx3OQWVoDByszvBbBKwWJjWVTZMN8HHDfUE8AHBYiIiLq\n",
              "qiJFPT48kAkAeH2GP+wsTUVORCybOuD1Gf6wNTdBamEVvj55Vew4REREemvdnnTUNaox1LsX7hvi\n",
              "KXYcAsumTnCyluO1aQMBAO/9dAnXq5V3+QoiIiL6Xz9nlmFPchGkEmBNdCCkvFKQTmDZ1BF/vscb\n",
              "wR52qG5QYf3edLHjEBER6RWlSt0yFDR/lA8Ce9uJnIh+w7KpI2RSCdbOCYJEAuw4dw2ncyrEjkRE\n",
              "RKQ3/nEsB1fKauFkLcfiiAFix6FbsGzqkLBbTjq7YlcKVGqNyImIiIh0X8GNOnx8qHko6I2Z/rA1\n",
              "51CQLmHZ1DFLpvnD3tIUGcXV+NeJXLHjEBER6by18WloaNJgRF8HzAnzEDsO/Q+WTR3Ty8oMS6c3\n",
              "nxPswwOZKKlqEDkRERGR7kq8VIp9qSXNh6NFB0Ei4VCQrmHZ1EF/GtYHYX3sUaNU4c09HBYiIiJq\n",
              "S0OTGqviUgEAj43xwUA3G5ETUVtYNnWQVCrBupvDQnEXCnEiu0zsSERERDrnsyNXcLW8Dq62crw4\n",
              "hUNBuoplU0cFedjh4Xu8AQArdqWiUcVhISIiot/klddh8+EsAMDymQGwlpuInIjuhGVTh70aMRCO\n",
              "VmbIKq3BP4/niB2HiIhIZ6zenQqlSoMx/R0xK8Rd7Dj0B1g2dZidpSlen9E8LPTRwUwUVtaLnIiI\n",
              "iEh8+9NKcDCjFKYyCVZHcShI17Fs6rh7h3himHcv1DWqsW5PmthxiIiIRFXf+PtQ0KJwX/R3sRY5\n",
              "Ed0Ny6aOk968spBMKkHCxWIcvXxd7EhERESi2Xw4C9cq69Hbzhx/mdRf7DjUDiybemCQuy3mj2oe\n",
              "FloZlwqlSi1yIiIiop6XU1aLz45cAQCsmB0ASzMOBekDlk098fLUAXC2kSOnrBZfHL0idhwiIqIe\n",
              "JQgCVuxKQaNag/EDnDEt0E3sSNROLJt6wtbcFG9EDgIAbErMQn5FnciJiIiIes6PKcU4llkGM5kU\n",
              "q6ICORSkR1g29Uh0WG+M9HVAQ5MGa+I5LERERMahVqlq+b339Hhf9HWyEjkRdQTLph6RSCRYEx0E\n",
              "E6kE+9NKcCijROxIREREWvfxoSwUKRrg2csCz07kUJC+YdnUMwNcbfDY2L4AgFVxaWho4rAQEREZ\n",
              "rqzSavzjWPOswqrZgTA3lYmciDqKZVMPvTDZD2625sirqMMnh7PFjkNERKQVzUNBqVBpBEwZ5IIp\n",
              "Aa5iR6JOYNnUQ9ZyEyyf1Tws9MmRbFwtrxU5ERERUffbnVyEE9nlkJtIsXJ2oNhxqJNYNvXUzGB3\n",
              "jO3vhEaVBqviUiEIgtiRiIiIuk11QxPW3RwKem5if/RxsBQ5EXUWy6aekkgkWB0dCFOZBImXrmN/\n",
              "GoeFiIjIcGw8kInSaiV8HC3x5DhfseNQF7Bs6rF+ztZ4Irz5f8DVu9NQ38hhISIi0n8ZxVXYciIX\n",
              "ALAqikNB+o5lU889P6k/POwtcK2yHpsSM8WOQ0RE1CWCIGBFbCrUGgHTA90wYaCL2JGoi1g29Zyl\n",
              "mQliZgUAAD4/egVXrteInIiIiKjzdiZdw+ncCliYyhAzO0DsONQNWDYNwLRAV0wY6IwmtYCVHBYi\n",
              "IiI9pahvwt8S0gEAf5nc/M4d6T+WTQMgkUiwOioQZiZSHMssw96UYrEjERERddgH+y+jrKYRvs5W\n",
              "WDSWQ0GGgmXTQHg7WuHp8f0AAGt2p6FWqRI5ERERUfulXFNg6y+5AIC10UEwM2FFMRT8L2lAnp3Q\n",
              "D30cLFBc1YCPDnJYiIiI9INGIyBmVwo0AjArxB1j+juJHYm6EcumATE3lWHVzSssfPlzDjJLqkVO\n",
              "REREdHfbfy1AUl4lrMxkWD6TQ0GGhmXTwEwe5Iopg1yhuvlXIoeFiIhIl1XWNeKtHzMAAC9NGQA3\n",
              "O3ORE1F3Y9k0QCtnB0BuIsXJKxWIu1AodhwiIqI7enffJVTUNmKAqzUWjvEROw5pQYfLZkREBEJC\n",
              "QhAWFobw8HAkJSXdts0vv/yCsLAwhIWFITAwEE899RSUSmW3BKa76+Ngiecn9gcAvLknHdUNTSIn\n",
              "IiIiut2F/Er893QeAGBNdBBMZVwDM0Qd/q+6bds2JCcn4/z581i8eDEWLlx42zahoaE4c+YMzp8/\n",
              "j4sXL6K0tBSbN2/ujrzUTk+O94WPoyVKq5X4YD+HhYiISLeoWw73Av5vsAdG+jqKHYm0pMNl097e\n",
              "vuXfCoUCEonktm0sLS1hamoKAGhsbER9fX2b25H2yE1kWB0dBAD46pdcpBdViZyIiIjod9+eyUNy\n",
              "gQI2chMsi/QXOw5pUafWq+fPn48+ffogJiYG//73v9vcJjc3F6GhoXBycoKdnR2effbZNrdTKpWo\n",
              "qqpq9aFWqzsTi/7H+AHOmBHkBrVGwAoOCxERkY4or1HinR8vAQAWRwyAiw2HggxZp8rm1q1bkZ+f\n",
              "j3Xr1mHp0qVtbuPj44MLFy6guLgYSqUSO3bsaHO79evXw87OrtXH6dOnOxOL2hAzKwAWpjKcyb2B\n",
              "HeeuiR2HiIgI7/x4CYr6Jgxyt8UjI73FjkNa1qUjcRcsWIDExESUl5ffcRtra2s88MAD+M9//tPm\n",
              "/cuWLYNCoWj1MWLEiK7Eolv0trfAC5P9AADr96ZDUc9hISIiEs+vV2/gu7P5AIB1cwJhwqEgg9eh\n",
              "/8KVlZUoLPz9VDqxsbFwdHSEg4NDq+2ysrLQ1NRcahobG7Fz506EhIS0+ZhyuRy2tratPmQyWUd/\n",
              "DvoDj4/ti37OViiracT7P10SOw4RERkplVqDmNgUAMC8oZ4Y6u1wl68gQ9ChsqlQKDBnzhwEBwcj\n",
              "NDQUmzZtQnx8PCQSCRYtWoS4uDgAwKFDhzB48GCEhoZi8ODBcHV1RUxMjFZ+ALo7MxMp1t4cFvr6\n",
              "5FWkXFOInIiIiIzRf07lIa2oCrbmJlg6g0NBxkIi6ODUyOLFi7FhwwaxYxicv3yThN0XChHWxx47\n",
              "nhkNqZRnCCAiop5xvVqJSe8fRnWDCmvnBPFYTSPCAyWMyPKZg2BlJsP5/Ep8/2u+2HGIiMiIrN+b\n",
              "juoGFYI97PDnEV5ix6EexLJpRFxtzfHy1AEAgLf2ZuBGbaPIiYiIyBiczqnAjnPXIJEAa+cEQcZ3\n",
              "1owKy6aRWTDaBwNdbXCjrgnv7OOwEBERaVfTLUNBDwz3Qlgfe3EDUY9j2TQypjIp1kQHAmi+esP5\n",
              "/EpxAxERkUH76kQuLpVUo5elKZZMGyh2HBIBy6YRusfXEXMHe0AQgJjYFKg1OjcjRkREBqCkqgEf\n",
              "HsgEACyd7o9eVmYiJyIxsGwaqWWRg2AjN8HFawp8czpP7DhERGSA3tyTjhqlCmF97HH/sD5ixyGR\n",
              "sGwaKWcbOV6JaB4WenffJZTXKEVOREREhuREVhniLhRCKgHWzQni6faMGMumEXt4pDcC3G2hqG/C\n",
              "W3szxI5DREQGolGlQcyu5qGgh0d6I8jDTuREJCaWTSNmIpNi7ZzmKwt9/2sBfr1aIXIiIiIyBP88\n",
              "noPs67VwtDLDK1M5FGTsWDaN3FDvXrh/mCcAYHlsKlRqjciJiIhInxVW1mPjzaGgZZGDYGdpKnIi\n",
              "EhvLJmHpdH/YWZgivagKX5+8KnYcIiLSY+v2pKG+SY1h3r0wd7CH2HFIB7BsEhyt5Xjt5rnP3v/p\n",
              "MkqrG0RORERE+ujo5etIuFgMmVSCtRwKoptYNgkA8OAIL4R42qFaqcL6BA4LERFRxyhVaqyMSwUA\n",
              "LBjlg0HutiInIl3BskkA0PxXaHQQJBJgZ9I1nLpSLnYkIiLSI18cvYKcslo428jx0lQ/seOQDmHZ\n",
              "pBahfezx4AgvAEDMrhQ0cViIiIjaIb+iDpsSswAAy2cOgq05h4Lodyyb1MqSaQPRy9IUl0tq8NWJ\n",
              "XLHjEBGRHlgTn4aGJg1G+jogKrS32HFIx7BsUiv2lmZ4fYY/AOCD/ZdRrOCwEBER3dmhjBLsTyuB\n",
              "ScvhWBwKotZYNuk284b2wWAve9Q2qrFuT5rYcYiISEc1NP0+FPT42L7wc7URORHpIpZNuo305l+n\n",
              "UgkQn1yE41llYkciIiId9MnhbORX1MPN1hwvTOZQELWNZZPaFORhh0dGegMAVuxKQaOKw0JERPS7\n",
              "q+W1+ORINgAgZlYArOQmIiciXcWySXe0OGIgnKzNkH29Fl/+nCN2HCIi0hGCIGBlXCoaVRqM7e+E\n",
              "yGA3sSORDmPZpDuyszDFshmDAAAfHczEtcp6kRMREZEu+CmtBIcvXYepTILV0YEcCqI/xLJJf2ju\n",
              "EA8M9+mF+iY11u7msBARkbGra1Rhzc3fB0+O80U/Z2uRE5GuY9mkPySRNF/fViaV4MfUYhy+VCp2\n",
              "JCIiEtHfE7NwrbIeHvYWeG5if7HjkB5g2aS78nezxcLRPgCAVXGpaGhSixuIiIhEkX29Bp8fvQIA\n",
              "WDE7AJZmHAqiu2PZpHZ5aYofXGzkyC2vwxc3X2iIiMh4CIKAVXGpaFILmDDQGREBrmJHIj3Bsknt\n",
              "YmNuijdmNg8LbUrMQn5FnciJiIioJyVcLMaxzDKYmUixOopDQdR+LJvUblGhvTHK1xFKlQard6eK\n",
              "HYeIiHpIjVKFtfHNQ0HPjO8Hb0crkRORPmHZpHaTSCRYEx0IE6kEB9JLcSCtROxIRETUAz4+mIni\n",
              "qgb0cbDAMxP6iR2H9AzLJnWIn6sNHg/vCwBYHc9hISIiQ3e5pLrlwh6rowJhbioTORHpG5ZN6rAX\n",
              "JvnB3c4c+RX12Hw4W+w4RESkJYIgYMWuFKg0AqYMcsUkfw4FUcexbFKHWclNEDMrAADw6ZFs5JbV\n",
              "ipyIiIi0Ie5CIU5eqYC5qRQrZweIHYf0FMsmdcqMIDeE+zmhUaXByrhUCIIgdiQiIupGVQ1NWLcn\n",
              "HQDw/MT+6ONgKXIi0lcsm9QpEokEq6MCYSaT4sjl69iXymEhIiJD8uH+TFyvVqKvkxWeGOcrdhzS\n",
              "Yyyb1Gm+ztZ48uYL0JrdqahrVImciIiIukN6URW++iUXALAqKhByEw4FUeexbFKXPDexPzzsLVCo\n",
              "aMCmQ1lixyEioi4SBAExsSlQawTMCHLD+AHOYkciPceySV1iYSZrOWj8i2NXkFVaI3IiIiLqih/O\n",
              "XcPZqzdgaSZrGQYl6gqWTeqyqQGumOTvgia1gJVxKRwWIiLSU4q6JqxPaB4KemGyH3rbW4iciAxB\n",
              "h8tmREQEQkJCEBYWhvDwcCQlJd22zaFDhzBixAgEBAQgMDAQS5YsgUaj6ZbApHskEglWzg6AmYkU\n",
              "x7PKsedikdiRiIioE97ffwnltY3o72KNx8b0FTsOGYgOl81t27YhOTkZ58+fx+LFi7Fw4cLbtunV\n",
              "qxe+/fZbpKWl4ddff8WJEyewdevW7shLOsrb0QrP3ryE2dr4NNQoOSxERKRPUq4p8PXJqwCANVGB\n",
              "MDPhm5/UPTr8TLK3t2/5t0KhgEQiuW2bwYMHw9e3eUrZ3NwcYWFhyM3N7XRI0g9Pj+8HLwdLlFQp\n",
              "8dHBTLHjEOkUtYaHl5Du0mgELI9NgUYAZof2xuj+TmJHIgNi0pkvmj9/PhITEwEACQkJf7htcXEx\n",
              "tm/fjvj4+DbvVyqVUCqVrW5Tq3m9bX1kbirD6qhAPPqvM/jnzzm4b6gnBrjaiB2LSFRlNUqsjEvF\n",
              "3otFGOBqg5nB7ogMcUc/Z2uxoxG12HY2H+fzK2EtN8HymYPEjkMGRiJ0YZrjq6++wnfffXfHwllV\n",
              "VYXJkyfjwQcfxOLFi9vcZtWqVVi9enWr20aOHIlffvmls7FIZE9uPYuf0kowoq8DvntyZJur30SG\n",
              "ThAExCcXYWVcKipqG2+739/NBpHB7ogMdkN/F/5RRuK5UduISe8fxo26JiyfOQiLwnkCd+peXSqb\n",
              "AGBhYYGCggI4Ojq2ur26uhrTpk1DZGQkli9ffsevb2tlMyYmBhs3buxKLBJRwY06TNlwBA1NGnz4\n",
              "pzDMGewhdiSiHlVa3YCY2JSWK2v5u9lgVVQg8srrsOdiEY5nlUF1y9vqA1ytERnsjpnB7vDjuwHU\n",
              "w5btuIhvTudhoKsN4l8YC1MZj9Wk7tWht9ErKytRV1eH3r17AwBiY2Ph6OgIBweHVtvV1NRg+vTp\n",
              "mD59+h8WTQCQy+WQy+WtbpPJeKUCfebZyxJ/meSHd/ddwro96Zg0yAW25qZixyLSOkEQsOt8IVbt\n",
              "TkVlXRNMpBI8N7E/npvYH2YmUoz0dcT9w/ugsq4RP6WVYO/FIvycVYbLJTW4XJKJDw9kor/L78Vz\n",
              "gKs13xkgrTqfX4lvz+QBANbOCWLRJK3oUNlUKBSYN28e6uvrIZVK4ezsjPj4eEgkEixatAhRUVGI\n",
              "iorCxo0bcfr0adTW1mLHjh0AgHnz5uGNN97Qyg9BumdReF/88GsBrpTV4oP9l7FydqDYkYi0qrSq\n",
              "AX/dmYID6c2rmQHutnh3XggCe9vdtq29pRnuH9YH9w/rA0VdE/anlyDhYhGOZV5HVmkNPjqYiY8O\n",
              "ZqKfsxVmBrtjRrA7/N1sWDypW6k1zVcKEgRg7mAPjOjrcPcvIuqELr+Nrg2LFy/Ghg0bxI5BXXQs\n",
              "8zoe+fI0pBIg/i/hCOhtK3Ykom4nCAJ2nLuG1btTUdWggqlMghcm+eHpCf06vEqkqG/CwZvF8+jl\n",
              "MjSqfz8/sa+T1c1jPN0xyJ3Fk7ru3yevIiY2BTZyExx6dQKcbeR3/yKiTmDZJK167j/nsOdiEYZ6\n",
              "98L3T42CVMpfkGQ4ihUN+OvOiziUUQoACPaww7vzQuDv1vU/rKoafiuexThy+ToaVb8Xz75OVpgR\n",
              "5IbIYHcE9rZl8aQOK6tRYtJ7h1HVoMKq2QFYyBO4kxZ16tRHRO21fNYgJF4qxa9Xb+CHcwWYN6yP\n",
              "2JGIukwQBHz/awHWxqehukEFM5kUL07xw1PjfGHSTce82Zqb4v8Ge+L/BnuiuqEJhzJKsSe5CIcv\n",
              "X0dOWS02H87G5sPZ8Ha0bF7xDHJHkAeLJ7XP23szUNWgQoC7LR4e6S12HDJwXNkkrfvsSDbW782A\n",
              "o5UZDr0yAXaWHBYi/VVYWY/Xd1zE0cvXAQChfezx7n0hPXZO2RqlCocySpGQXITES6VQ3rLi6eVg\n",
              "iRnBbpgZ7I5gDzsWT2rT2dwK3Pdp8+kFf3hmNIZ69xI5ERk6rmyS1j06pi++/7UAWaU1eO+nS1g7\n",
              "J0jsSEQdJggCvj2Tjzf3pKNGqYKZiRSLpw7AorF9u201sz2s5SaICu2NqNDeqL1ZPPemFOFQRiny\n",
              "Kurw2ZEr+OzIFXj2smg5xjPUk8WTmqnUGsTsSgUA3D/Mk0WTegRXNqlH/JJdjge/OAmJBIh7biyC\n",
              "PW+f0CXSVQU36rBsx0UcyywDAAz2sse794Wiv4vuXAWorlGFxIzrSLjYXDzrm36/EpuHvQUig90w\n",
              "I9gdg/vYs3gasS3Hc7B6dxrsLExx6JXxcLTmUBBpH8sm9ZgXv03CrvOFCO1jj53PjOawEOk8jUbA\n",
              "f0/nYX1COmob1ZCbSPHatIF4dExfyHT4+VvfqMbhS6XYc7N41jX+Xjx725ljxs0Vz8F97Pn/oREp\n",
              "rWrA5PePoFqpwro5QTxWk3oM30anHvNG5CAcTC/FhfxKfHc2Hw+O8BI7EtEd5VfUYekPyTiRXQ4A\n",
              "GObdC+/cFwJfPbimuYWZDDNunp+zvlGNI5dLkXCxGAfTS1CoaMCXP+fgy59z4G5njulBzcd4DvHq\n",
              "xeJp4NbvzUC1UoUQTzu+/lKP4som9agvf87B2vg02Fua4tArE+BgZSZ2JKJWNBoBX5+6irf2ZqCu\n",
              "UQ1zUymWTPPHgtE+Or2a2R4NTWocudz8VvvB9FLUKFUt97nZNhfPyGB3DPNm8TQ0J6+U44HPmw9l\n",
              "in12DEL72IsdiYwIVzapRy0Y5Y3vz+Yjo7ga7+7LwPq5IWJHImpxtbwWS7Yn41ROBQBgRF8HvHNv\n",
              "CHycrERO1j3MTWWYFuiGaYFuaGhS41hmGRIuFuFAWgmKqxrwrxO5+NeJXLjYyFvO4znMx0HvS7ax\n",
              "a1JrsGJXCgDgwRFeLJrU47iyST3uTG4F5n36CyQSYMczozHYi9OQJC6NRsC/TuTi3X2XUN+khoWp\n",
              "DK/P8McjI72NYoVPqVLj2OXm4rk/rQTVt6x4OtvIMT2wuXiO6MviqY++OHoFbyako5elKRJfnQB7\n",
              "S76jRD2LK5vU44b7OODeIZ744VwBYnalYNdzY/kLjESTU1aLJdsv4EzuDQDAKF9HvH1vCLwcLUVO\n",
              "1nPkJjJMCXDFlABXKFVqHM8qw57kYuxPK8b1aiX+ffIq/n3yKpys5Zge5NpcPH0cevSUT9Q5xYoG\n",
              "fHjgMgDg9Rn+LJokCpZNEsXrM/zxU1oxUq5V4b+nruKRUT5iRyIjo9YI2HI8B+/uuwSlSgMrMxmW\n",
              "RQ7Cn0d4GcVq5p3ITWSY5O+KSf6uaFQF43h2GRKSi/BTWgnKapT4+mQevj6ZB0crM0y7OVx0T18W\n",
              "T121bk8aahvVGOJlj3lDeQU3EgffRifRbP0lFyt2pcLW3ASHXp0AJ57vjXpI9vUavPb9BZzLqwQA\n",
              "jO3vhPVzg9HHwXhWMzuqUaXBiezmt9p/SitBZV1Ty30OVmaYFti84jnK15HFU0cczyrDQ/84BakE\n",
              "iHt+LII8eH5jEgdXNkk0D93jje/O5CO1sApv7c3Ae/NCxY5EBk6tEfCPY1fw/v7LaFRpYC03wRsz\n",
              "B+GB4X14ovO7MDORYsJAF0wY6II31Rr8kl2OhItF2JdajIraRnxzOh/fnM5HL0tTTLt5jOeofo4w\n",
              "ZfEURaNKg5ibQ0GPjPRm0SRRcWWTRHUu7wbmbj4BANj+9CgM83EQOREZqsySary6PRkX8isBAOMG\n",
              "OGP93GB42FuIG0zPNak1OHWlAntuKZ6/sbc0RURA84rnmP5OLJ49aPPhLLzz4yU4WZvh4CsTYGdh\n",
              "KnYkMmIsmyS6139Ixrdn8uHvZoP4v4zlW3DUrVRqDT47egUbD2SiUa2BjdwEMbMCMG+YJ1czu5lK\n",
              "rcGpnJvFM6UY5bcUTzsLU0wNcMXMm8XTzIT/n2vLtcp6THn/COqb1Hh/XijuHeopdiQycnwbnUS3\n",
              "ZLo/fkwtRkZxNbb+chWPje0rdiQyEJeKq/Ha9gtILlAAACYOdMbf5gbD3Y6rmdpgIpNiTH8njOnv\n",
              "hLXRQTiV0/xW+48pzcNF238twPZfC2BrboKpAW6YGeKGMf2dIDeRiR3doKzdnYb6JjVG+Dhg7hAP\n",
              "seMQcWWTdMN/T+XhrzsvwlpugkOvjIeLrbnYkUiPNak1+PRwNj46lIkmtQBbcxOsnB2IuUM8uJop\n",
              "ArVGwJncCiRcLMLelObTKf3GxtwEUwc1v9UePoDFs6sOXyrFwi1nIJNKsOeFsfB3sxU7EhHLJukG\n",
              "tUbA3M3HcaFAgTlhvfHhA4PFjkR6Kr2oCq9+fwGphVUAgCmDXPDm/wXDlX/A6AS1RsDZW4pn6a3F\n",
              "U26CKQGumBHkhnEDnGFuyuLZEQ1Nakz78Ciultfh8bF9ETMrQOxIRABYNkmHJBdUIvrvxyEIwDdP\n",
              "jMSofo5iRyI90qjSYPPhLGw6lAWVRoCdhSlWRwUiOqw3VzN1lEYj4Ne8G9iTXIS9KUUoqfq9eFrL\n",
              "TTB5kAsig90xnsWzXT46mIkN+y/DxUaOg6+Mh405h4JIN7Bskk5ZHnsRX5/Mg5+LNRJeDOf0KrVL\n",
              "yjUFXtuejPSi5tXMiABXrPu/ILjYcDVTX2g0As7l3UDCxWLsTSlCkaKh5T4rMxkmDXLFzGA3TBjo\n",
              "wuLZhvyKOkzZcARKlQYbHwhDdBiP1STdwQEh0imvRgxEwsViZJbWYMvxHDw5rp/YkUiHNao02HQo\n",
              "E5sPZ0OlEdDL0hSro4MwO8Sdq5l6RiqVYJiPA4b5OGD5zEFIyq9sfqv9YhEKFQ3YfaEQuy8UwtJM\n",
              "hkn+zSueEwe6wMKMxRMAVu9OhVKlwShfR0SF9hY7DlErXNkknbPtbD6WbE+GpZkMB18Zz8lhalNy\n",
              "QSVe+z4Zl0qqAQCRwW5YEx3EK1EZGEEQcP5m8Uy4WIxrlfUt91mY3lI8/Z1haWac6ycH0kqwaOtZ\n",
              "mEgl+PGlcPR3sRE7ElErxvl/Jum0+4Z44tvTeTiXV4l1e9Lx9z8PETsS6RClSo2NBzLx2dErUGsE\n",
              "OFqZYU10EGaGuIsdjbRAIpFgsFcvDPbqhb9GDsKFAgX2XizCnotFKLhRjz03/21uKsXEgc3Fc5K/\n",
              "C6zkxvHrraFJjVW7UwEAj4f3ZdEkncSVTdJJqYUKzP74Z2gE4OvH78FYPyexI5EOOJ9fide+v4DM\n",
              "0hoAwOzQ3lg1OwCOXM00OoIg4OI1BfZcLELCxSLkV/y+4ik3aS6eM4LdMHmQK6wNuHhu+OkSPjqU\n",
              "BXc7cxxYPN5oSjbpF5ZN0lmr4lLxrxO58HWywt6Xwnn+PSPW0KTGBwcu44ujV6ARACdrM6ybE4Tp\n",
              "QVzNpObimVpY1VI8r5bXtdwnN5Fi/ABnzAxpXvE0pAntnLJaTPvgKBrVGmx+aAgig/n/A+km/glE\n",
              "OmtxxADEJxfhSlkt/nEsB89N7C92JBLBr1dvYMn2C8i+XgsAmBPWGytnB6KXlZnIyUhXSCQSBHnY\n",
              "IcjDDkumDURqYRX2pjQf45lTVouf0krwU1oJzEykGOfnjJkhzSuetnpcPAVBwMq4VDSqNQj3c8KM\n",
              "IDexIxHdEcsm6Sxbc1O8MdMfL393AR8fykR0WG949rIUOxb1kIYmNd7/6RL+8XMOBAFwtpHjb/8X\n",
              "jKkBrmJHIx12a/F8NWIg0ouqbw4XNf/heiC9BAfSS2Amk2LcACfMCHLHlABX2FnoV/Hcl1qMo5ev\n",
              "w0wmxZroIJ59gXQayybptDlhHvjmdD5O51RgbXwaPntkmNiRqAecya3Aku3JyClrXs2cO8QDK2YF\n",
              "wN6Sq5nUfhKJBAG9bRHQ2xavRAzApZJqJCQ3DxRlX6/FgfRSHEgvhalMgnA/Z0QGu2OqHhTPukYV\n",
              "1uxOAwA8Oc4XfZ2sRE5E9MdYNkmnSSQSrI0OQuRHx7AvtQSJl0oxcaCL2LFIS+ob1Xh33yVsOdG8\n",
              "mulqK8f6ucGY5M/VTOoaiUQCfzdb+LvZ4uWpA3C5pKZlxTOztAaHMkpxKKO5eI7p74TIYHdEBLjq\n",
              "5B84Hx/KQqGiAR72Fjy8iPQCB4RIL7y5Jw1fHMuBt6Ml9r00jlcQMUCnrpRjyQ/JLcMd9w/zxBsz\n",
              "A3R+lYn0X2ZJdctw0eWSmpbbTaS/FU83RAS46cRxwlmlNZix8Sia1AI+f2QoIgJ5rCbpPpZN0gs1\n",
              "ShUmv38YJVVKvDxlAF6c4id2JOomtUoV3vkxA1/9chUA4G5njvVzgzGBK9gkgqzSaiRcLEbCxSJk\n",
              "FFe33C6TSjC6nyMig90xLdANDiIUT0EQ8PCXp3A8qxyT/F3w5YJhPFaT9ALLJumN3RcK8ZdvkiA3\n",
              "kWL/y+Ph5chhIX13IrsMS39IbjlH4oMj+mBZ5CC9nhImw5F9vebmCeSLkV5U1XK7TCrBKN/fiqdr\n",
              "j53n9bfXQDMTKQ7wNZD0CMsm6Q1BEPDQP07hRHY5Jvu74MuFw8WORJ1Uo1Thrb3p+PpkHgDAw94C\n",
              "b90bjHA/Z5GTEbXtyvUa7E0pxp7kIqTdUjylEmDkzeI5PchNa5dLvfXdnZem+OGlKQO08n2ItIFl\n",
              "k/TKrccrfTF/GE+Do4d+zmxezfztGtcP3eOFZZGDDPoqL2RYcstqkZDSfIxnyrXWxfOevo6IDHbD\n",
              "tCA3uNiYd9v3/O24dS8HS/z0Mo9bJ/3Cskl65+0fM/DJ4Wx42FvgwOLxsDDji64+qG5owt8SMvDN\n",
              "6ebVTM9eFnjn3hCM7s9LkZL+ulpei70pzcd4JhcoWm6XSIARPg6YGeKO6YFucLHtfPG8VFyNyI+O\n",
              "Qa0RsGXhcEz05/HMpF9YNknv1DWqMOX9IyhUNOAvk/rjlYiBYkeiuzhy+TqW/ZCMQkUDAGD+KG8s\n",
              "ne7P6ziTQcmvqGs5ndKF/ymew70dEBnshhnB7nDtQPEUBAF/+vwkTudUICLAFZ/P57mGSf+wbJJe\n",
              "+jGlCE9/fQ5mMin2vTyOJzXWUVUNTXgzPh3fnc0HAHg5WOLte0Mwqp+jyMmItKvgRh32XizGnotF\n",
              "OJ9f2XK7RAIM8+6FGUHuiAx2h5vdHxfPnUkFePm7CzA3leLA4vG8ihrppQ6XzYiICBQXF0MqlcLG\n",
              "xgYfffQRBg8e3Gqb3NxcLFy4EElJSejbty/Onz/foVAsm3Q3giBgwZYzOHr5OsL9nLD1sRE8BYiO\n",
              "ScwoxbIdF1Fc1QCJBFg42gevTRsISzOuZpJxuVZZj703VzzP5VW2um+ody9EBrtjRpAbettbtLqv\n",
              "qqEJk947grIaJV6bNpAncCe91eGyWVlZCXt7ewDAzp07sWrVKly4cKHVNhUVFUhLS4NCocAbb7zB\n",
              "sklakVNWi2kfHEWjWoNPHhqCGcHuYkciAIq6JqyJT8MP5woAAH2drPDOfSEY7uMgcjIi8RVW1rcc\n",
              "4/nr1Rut7hvsZY+Zwe6YEewOD3sLrIpLxb9O5MLXyQp7XwqH3ITHp5N+6vASw29FEwAUCkWbq0kO\n",
              "Dg4YO3YsDh8+3JVsRH+or5MVnh7vi48OZWFNfBrGDXDmMYAiO5BWgr/uvIjSaiUkEuDxMX3xSsRA\n",
              "DnER3dTb3gKPj+2Lx8f2RbGiAXtvTrWfvXoDSXmVSMqrxLo96Qj1tMPFa83Hfa6ODmTRJL3Wqd/M\n",
              "8+fPR2JiIgAgISGhSwGUSiWUSmWr29RqdZcek4zHMxP6Y0fSNRTcqMfHh7Lw+gx/sSMZpcq6Rqze\n",
              "nYadSdcAAL7OVnj3vhAM9eZqJtGduNmZ49ExffHomL4oqWq4+VZ7Mc5crWgZMJoZ7M7zz5Le69KA\n",
              "0FdffYXvvvvujoXz8OHDeOmll/7wbfRVq1Zh9erVrW4bOXIkfvnll87GIiNzIK0Ei7aehYlUgh9f\n",
              "Ckd/FxuxIxmVfanFeGNnCspqlJBKgCfCffHy1AE8DyBRJ5VWNeDH1GJcuV6LFyb7iXJpTKLu1OVp\n",
              "dAsLCxQUFMDR8fbp0vaUzbZWNmNiYrBx48auxCIj8/i/zuBgRilG93PEfxbdw2GhHlBR24hVcamI\n",
              "u1AIAOjvYo137wvBYK9eIicjIiJd0qG30SsrK1FXV4fevXsDAGJjY+Ho6AgHh86/VSaXyyGXt768\n",
              "l0zGFRHqmFVRgfg5qwwnssuxO7kIUaG9xY5k0BIuFmHFrhSU1TRCKgGeHt8PL0z242omERHdpkNl\n",
              "U6FQYN68eaivr4dUKoWzszPi4+MhkUiwaNEiREVFISoqCnV1dRgwYACUSiUUCgU8PT3xyCOPYP36\n",
              "9dr6OcjI9XGwxHMT+2PD/stYF5+GiQOdYWNuKnYsg1NWo8TKXanYc7EIADDQ1QbvzgtBiKe9uMGI\n",
              "iEhn8aTuZDAamtSY9uFRXC2vw6KxfbF8VoDYkQyGIAiITy7CyrhUVNQ2QiaV4NkJ/fD8pP6ckiUi\n",
              "oj8kFTsAUXcxN5VhdVQgAGDLiVxkFFeJnMgwXK9W4pmvz+Ev3yShorYR/m422PXcGLwSMZBFk4iI\n",
              "7oplkwzKhIEumBboCrVGwIrYVOjgwr3eEAQBu85fw9QPjuDH1GKYSCV4cbIf4p4fiyAPO7HjERGR\n",
              "nuAZsMngrJgdiKOXy3A6twI7k65h7hBPsSPpndKqBrwRm4L9aSUAgAB3W7w7LwSBvVkyiYioY7iy\n",
              "SQbHw94Cf5ncfA3hvyWkQ1HfJHIi/SEIAnacK8DUD45if1oJTGUSvDJ1AHY9P4ZFk4iIOoVlkwzS\n",
              "orG+8HW2QllNIz7Yf1nsOHqhWNGAx786i8XbLkBR34RgDzvs/stY/GWyH0xlfKkgIqLO4W8QMkhm\n",
              "JlKsiQoCAGz9JRcpN68xTLcTBAHbzuZj6gdHcCijFGYyKV6bNhA7nx0NfzdbseMREZGeY9kkgzXW\n",
              "zwkzQ9yhEYAVu1Kg0XBY6H8VVtZj4ZYzWLI9GdUNKoT2sUf8C2Px3MT+MOFqJhERdQP+NiGDFjMz\n",
              "AFZmMpzLq8T2XwvEjqMzBEHAt6fzMO2Dozhy+TrMTKR4fYY/fnh6FAa48tryRETUfVg2yaC52Znj\n",
              "pSkDAABv/ZiByrpGkROJ71plPeb/8zRe33ER1UoVBnvZI+GFcDw9vh9XM4mIqNvxNwsZvIVjfDDA\n",
              "1RoVtY14d98lseOIRhAE/OfUVURsOIJjmWWQm0ixfOYgbH96NPq7WIsdj4iIDBTLJhk8U5kUa6Kb\n",
              "h4X+ezoPF/IrxQ0kgvyKOjz0j1N4Y2cKahvVGObdC3tfDMeicF/IpBKx4xERkQFj2SSjMNLXEXPC\n",
              "ekMQgJhdKVAbybCQRiNg6y+5mPbhUZzILoe5qRQrZgXgu6dGwdeZq5lERKR9vIIQGY2/zhyEg+ml\n",
              "SC5Q4NszeXjoHm+xI2nV1fJaLNmejFM5FQCAEX0d8M69IfBxshI5GRERGROubJLRcLExx+KI5mGh\n",
              "d368hPIapciJtEOjEbDleA6mf3gMp3IqYGEqw+qoQHz7xEgWTSIi6nEsm2RUHhnpjUHutlDUN+Gd\n",
              "Hw1vWCinrBYPfH4Sq3enob5JjVG+jtj30jgsGO0DKY/NJCIiEbBsklExkUmxNjoQAPDd2Xz8evWG\n",
              "yIm6h1oj4B/HrmDGxqM4nVsBKzMZ1s0Jwn8W3QMvR0ux4xERkRFj2SSjM8zHAfcN9QQAxMTq/7BQ\n",
              "9vUazPv0BNbtSUdDkwZj+zvhx5fG4eGR3lzNJCIi0bFsklF6fYY/bM1NkFZUha9PXhU7TqeoNQI+\n",
              "O5KNyI3HcC6vEtZyE6yfG4x/Pz4CfRy4mklERLqBZZOMkpO1HK9N9wcAvPfTJVyv1q9hoazSatz7\n",
              "yQms35sBpUqDcQOcse/lcXhwhBckEq5mEhGR7mDZJKP15xFeCPawQ3WDCuv3posdp11Uag02H85C\n",
              "5Ec/43x+JWzkJnjn3hB89ehweNhbiB2PiIjoNiybZLRkUgnWzgmCRALsOHcNp2+ej1JXXSquxtxP\n",
              "TuCdHy+hUaXBxIHO+GnxONw/vA9XM4mISGexbJJRC+tjjweG9wHQPCzUpNaInOh2TWoNNh3KxKyP\n",
              "jyG5QAFbcxO8Py8U/1w4HO52XM0kIiLdxrJJRm/JNH/0sjTFpZJqfHUiV+w4raQXVWHO34/jvZ8u\n",
              "o0ktYMogF+xfPB73DvXkaiYREekFlk0yer2szLD05rDQhwcyUVLVIHIioFGlwYcHLiNq089ILayC\n",
              "nYUpPvxTGL6YPwyutuZixyMiImo3lk0iAPcP64OwPvaoUarw5h5xh4VSCxWI/vtxfHggE01qAREB\n",
              "rti/eBzmDPbgaiYREekdlk0iAFKpBOtuDgvFXSjEiayyHs/QqNJgw0+XEL3pONKLqtDL0hQfPTgY\n",
              "nz0yFC42XM0kIiL9xLJJdFOQhx0evscbALAiLhWNqp4bFrpYoEDUpp/x0aEsqDQCIoPd8NPL4xEV\n",
              "2purmUREpNdYNolu8WrEQDhamSGrtAb/PJ6j9e+nVKnx7r4MzNl8HBnF1XC0MsPf/zwEmx8aCmcb\n",
              "uda/PxERkbaxbBLdws7SFMsiBwEAPjqYicLKeq19rwv5lZj10c/4e2I21BoBs0N746eXx2FmiLvW\n",
              "vicREVFPY9kk+h9zB3tgmHcv1DWqsW5PWrc/fkOTGm/tzcD/bT6OzNIaOFmb4dOHh+DjBwfD0Zqr\n",
              "mUREZFhYNon+h/TmlYVkUgkSLhbj6OXr3fbY5/JuYOZHx/DpkWxoBGBOWG/sf3k8pgdxNZOIiAwT\n",
              "yyZRGwa522L+qOZhoZVxqVCq1F16vIYmNd7ck4b7PjmB7Ou1cLaR44v5w/DhA4PRy8qsOyITERHp\n",
              "JJZNojt4eeoAONvIkVNWiy+OXun045zNrUDkxmP44lgONAIwd4gH9r88DlMDXLsxLRERkW5i2SS6\n",
              "A1tzU7xxc1hoU2IW8ivqOvT19Y1qrNmdhnmf/YIrZbVwtZXjnwuHYcP9YbC35GomEREZB5ZNoj8Q\n",
              "HdYbI30d0NCkwZr49g8LnbpSjukbj+Kfx3MgCMD9wzzx08vjMcmfq5lERGRcWDaJ/oBEIsGa6CCY\n",
              "SCXYn1aCQxklf7h9XaMKq+JS8afPT+JqeR3c7czxr0eH4537QmFnYdpDqYmIiHQHyybRXQxwtcFj\n",
              "Y/sCaB4Wamhqe1joRHYZpn14FP86kQsAeHBEH+x7eRwmDHTpqahEREQ6p8NlMyIiAiEhIQgLC0N4\n",
              "eDiSkpLa3O7LL7+En58f+vXrhyeeeAJNTU1dDksklhcm+8HN1hz5FfX45HB2q/tqlSrExKbgz1+c\n",
              "Qn5FPTzsLfDvx0dg/dwQ2JpzNZOIiIxbh8vmtm3bkJycjPPnz2Px4sVYuHDhbdvk5OQgJiYGx44d\n",
              "Q1ZWFkpKSvD55593R14iUVjLTbB8VvOw0CdHsnG1vBYAcDyrDBEfHMW/T14FADx0jxf2vTwO4X7O\n",
              "omUlIiLSJR0um/b29i3/VigUkEgkt22zfft2REVFwc3NDRKJBE8//TS++eabLgUlEtvMYHeM7e+E\n",
              "RpUGy2NT8NedF/HQP07hWmU9PHtZ4L+L7sGb/xcMa7mJ2FGJiIh0Rqd+K86fPx+JiYkAgISEhNvu\n",
              "z8vLg7e3d8vnPj4+yMvLa/OxlEollEplq9vU6q6dQJtIGyQSCVZHB2L6h0dxLLOs5fb5o7yxdLo/\n",
              "rFgyiYiIbtOpAaGtW7ciPz8f69atw9KlS7sUYP369bCzs2v1cfr06S49JpG29HO2xjPj+wEAvBws\n",
              "8c0TI7EmOohFk4iI6A66NI2+YMECJCYmory8vNXtXl5euHr1asvnubm58PLyavMxli1bBoVC0epj\n",
              "xIgRXYlFpFUvTx2A2OfGYN9L4zCqn6PYcYiIiHRah8pmZWUlCgsLWz6PjY2Fo6MjHBwcWm137733\n",
              "Ii4uDsXFxRAEAZ9++ikeeOCBNh9TLpfD1ta21YdMJuvEj0LUMyQSCcL62MPCjM9TIiKiu+nQe38K\n",
              "hQLz5s1DfX09pFIpnJ2dER8fD4lEgkWLFiEqKgpRUVHw9fXF6tWrMWbMGADAhAkT8NRTT2nlByAi\n",
              "IiIi3SURBEEQO8T/Wrx4MTZs2CB2DCIiIiLqIl5BiIiIiIi0hmWTiIiIiLSGZZOIiIiItIZlk4iI\n",
              "iIi0hmWTiIiIiLSGZZOIiIiItIZlk4iIiIi0hmWTiIiIiLSGZZOIiIiItEYnryA0d+5c+Pj49Nj3\n",
              "U6vVOH36NEaMGMHrst+C++XOuG/axv3SNu6XO+O+aRv3y51x37RNjP3i7e2NF1988a7b6WTZ7GlV\n",
              "VVWws7ODQqGAra2t2HF0BvfLnXHftI37pW3cL3fGfdM27pc7475pmy7vF76NTkRERERaw7JJRERE\n",
              "RFrDsklEREREWsOyCUAul2PlypWQy+ViR9Ep3C93xn3TNu6XtnG/3Bn3Tdu4X+6M+6ZturxfOCBE\n",
              "RERERFrDlU0iIiIi0hqWTSIiIiLSGpZNIiIiItIaoyqbmZmZGD16NAYMGIDhw4cjNTW1ze2+/PJL\n",
              "+Pn5oV+/fnjiiSfQ1NTUw0l7Vnv2y+HDh2FhYYGwsLCWj/r6ehHS9pwXXngBPj4+kEgkOH/+/B23\n",
              "M7bnS3v2izE+XxoaGjBnzhwMGDAAoaGhmDp1KrKystrcNj4+Hv7+/vDz88PcuXNRVVXVw2l7Vnv3\n",
              "TW5uLmQyWavnTXZ2tgiJe05ERARCQkIQFhaG8PBwJCUltbmdsb3OAO3bN8b4WvObLVu2QCKRIDY2\n",
              "ts37dep1RjAiEydOFLZs2SIIgiB8//33wrBhw27b5sqVK4K7u7tQVFQkaDQaYfbs2cKmTZt6OGnP\n",
              "as9+SUxMFEJDQ3s2mMiOHDki5OfnC97e3kJSUlKb2xjj86U9+8UYny/19fXCnj17BI1GIwiCIHz8\n",
              "8cfC+PHjb9uuurpacHFxEdLT0wVBEITnnntOePXVV3syao9r777JyckR7OzsejacyG7cuNHy7x07\n",
              "dgghISG3bWOMrzOC0L59Y4yvNYLQ/P/KqFGjhJEjRwo7d+687X5de50xmpXN0tJSnD17Fg8//DAA\n",
              "4N5770V+fv5tf11v374dUVFRcHNzg0QiwdNPP41vvvlGjMg9or37xRiNGzcOnp6ef7iNsT1fgPbt\n",
              "F2Nkbm6OyMhISCQSAMDIkSORm5t723Z79+7F4MGD4e/vDwB49tlnDf450959Y4zs7e1b/q1QKFr2\n",
              "0a2M8XUGaN++MUYajQaLFi3Cxx9/fMfTHOna64zRlM38/Hy4u7vDxMQEACCRSODl5YW8vLxW2+Xl\n",
              "5cHb27vlcx8fn9u2MSTt3S8AkJ2djSFDhmD48OHYvHlzT0fVScb2fOkIY3++bNy4EdHR0bfd3tZz\n",
              "pqioCCqVqifjiepO+wYAamtrMXz4cAwZMgRr1qyBWq3u4XQ9b/78+ejTpw9iYmLw73//+7b7jfl1\n",
              "5m77BjC+15oNGzZgzJgxGDp06B230bXXGRNRvivpnSFDhqCgoAB2dnYoKChAZGQknJyccP/994sd\n",
              "jXSQsT9f/va3vyErKwsHDx4UO4rO+aN94+7ujmvXrsHFxQUVFRX405/+hPfffx9LliwRIWnP2bp1\n",
              "KwDgq6++wtKlS5GQkCByIt1xt31jbK81KSkp+OGHH3D06FGxo3SI0axs9unTp1WrFwQBeXl58PLy\n",
              "arWdl5cXrl692vJ5bm7ubdsYkvbuF1tbW9jZ2QEAPD098eCDD+LYsWM9nlfXGNvzpb2M+fny3nvv\n",
              "YceOHdi7dy8sLS1vu7+t58yt7y4YsrvtG7lcDhcXFwCAg4MDHnvsMaN53gDAggULkJiYiPLy8la3\n",
              "83XmzvvG2F5rjh07htzcXPj5+cHHxwcnT57Ek08+iU8++aTVdrr2OmM0ZdPFxQVDhgzB119/DQD4\n",
              "4Ycf4Onpif79+7fa7t5770VcXByKi4shCAI+/fRTPPDAA2JE7hHt3S9FRUXQaDQAgOrqasTHx2Pw\n",
              "4ME9nlfXGNvzpb2M9fmyYcMGfPPNN9i/f3+r481uNX36dJw7dw4ZGRkAgM2bNxvFc6Y9+6a0tLRl\n",
              "ylqpVGLHjh0G/byprKxEYWFhy+exsbFwdHSEg4NDq+2M8XWmvfvG2F5rnnnmGRQVFSE3Nxe5ubkY\n",
              "OXIkPv/8czzzzDOtttO51xnRRpNEkJGRIYwcOVLw8/MThg4dKiQnJwuCIAiPP/64sGvXrpbtPv/8\n",
              "c8HX11fw9fUVHnvsMaGxsVGsyD2iPfvl448/FgICAoSQkBAhICBAWLlyZctkqaF68sknBQ8PD0Em\n",
              "kwkuLi5Cv379BEHg86U9+8UYny/5+fkCAMHX11cIDQ0VQkNDhREjRgiCIAgxMTHCJ5980rLtrl27\n",
              "hIEDBwr9+vUToqOjhcrKSrFi94j27psffvhBCAwMbHnePP/880JDQ4OY0bUqNzdXGD58uBAUFCSE\n",
              "hIQIkydPbjnDg7G/zrR33xjja82txo8f3zKNrsuvM7w2OhERERFpjdG8jU5EREREPY9lk4iIiIi0\n",
              "hmWTiIiIiLSGZZOIiIiItIZlk4iIiIi0hmWTiIiIiLSGZZOIiIiItIZlk4iIiIi0hmWTiIiIiLSG\n",
              "ZZOIiIiItIZlk4iIiIi05v8BpCkyF5u0XCYAAAAASUVORK5CYII=\n",
              "\">\n",
              "      </div>\n",
              "      <script type=\"text/javascript\">\n",
              "        (() => {\n",
              "          const chartElement = document.getElementById(\"chart-1f537897-8fcc-4cdf-9c03-54e9a96849ab\");\n",
              "          async function getCodeForChartHandler(event) {\n",
              "            const chartCodeResponse =  await google.colab.kernel.invokeFunction(\n",
              "                'getCodeForChart', [\"chart-1f537897-8fcc-4cdf-9c03-54e9a96849ab\"], {});\n",
              "            const responseJson = chartCodeResponse.data['application/json'];\n",
              "            await google.colab.notebook.addCell(responseJson.code, 'code');\n",
              "          }\n",
              "          chartElement.onclick = getCodeForChartHandler;\n",
              "        })();\n",
              "      </script>\n",
              "      <style>\n",
              "        .colab-quickchart-chart-with-code  {\n",
              "            display: block;\n",
              "            float: left;\n",
              "            border: 1px solid transparent;\n",
              "        }\n",
              "\n",
              "        .colab-quickchart-chart-with-code:hover {\n",
              "            cursor: pointer;\n",
              "            border: 1px solid #aaa;\n",
              "        }\n",
              "      </style>"
            ]
          },
          "metadata": {}
        },
        {
          "output_type": "display_data",
          "data": {
            "text/plain": [
              "from matplotlib import pyplot as plt\n",
              "_df_11['Petal.Length'].plot(kind='line', figsize=(8, 4), title='Petal.Length')\n",
              "plt.gca().spines[['top', 'right']].set_visible(False)"
            ],
            "text/html": [
              "      <div class=\"colab-quickchart-chart-with-code\" id=\"chart-6c435642-3a44-484c-b60b-d6e9b1565398\">\n",
              "        <img style=\"width: 180px;\" src=\"data:image/png;base64,iVBORw0KGgoAAAANSUhEUgAAAqkAAAFuCAYAAACiI4FWAAAAOXRFWHRTb2Z0d2FyZQBNYXRwbG90\n",
              "bGliIHZlcnNpb24zLjcuMSwgaHR0cHM6Ly9tYXRwbG90bGliLm9yZy/bCgiHAAAACXBIWXMAAA9h\n",
              "AAAPYQGoP6dpAABNa0lEQVR4nO3de1xUdf4/8NdhgOE+iICgI4xcFK9cFMQ0Ss20m5a6iZqWCmJW\n",
              "1tp28df63dXaddvdLLNYQ0nTTC1DI9tq8xqUCF4w8w46IAjijaswXOb8/hicmJSbDpy5vJ6Px3k8\n",
              "9JzPzHmf43B88Z7PmRFEURRBRERERGRCbKQugIiIiIjo9xhSiYiIiMjkMKQSERERkclhSCUiIiIi\n",
              "k8OQSkREREQmhyGViIiIiEwOQyoRERERmRyGVCIiIiIyOQypRERERGRyGFKJiDrRunXroFQqpS6j\n",
              "3Z555hk89dRTUpdBRFaEIZWIrNr9998Pe3t7uLi4wM3NDQMGDEBycnKbHisIAnbu3GnUekwhxHbE\n",
              "cRERtRdDKhFZvVdffRWVlZW4fv06Xn/9dcTFxWHv3r1Sl0VEZNUYUomIGslkMjz11FPo2rUrDh06\n",
              "hAMHDuD+++9H165d4e/vj8WLF6O+vh4A0L9/fwDAY489BhcXFzz00EMAgC+++AKDBw9Gly5d4Onp\n",
              "ifHjx+P8+fNGq7GlmgBdF3TlypUYPnw4XFxcMHDgQKSnp+u319XV4eWXX4aPjw+8vLywaNEijBgx\n",
              "An/9619bPC4AqK+vx/PPP4+uXbuiW7duWLx4sdGOi4jo9xhSiYga1dfXY8OGDbh27RqGDBmC0aNH\n",
              "Y968ebh06RJ+/PFHpKam4u233wYAHD9+HADw9ddfo7KyEt9++y0AwNXVFR9//DGuXLmCU6dOQRRF\n",
              "TJs2zSj1nT59usWablqzZg0++eQTlJaWYvTo0Zg+fbp+27Jly7B9+3bs27cPBQUFkMvlOHDggH57\n",
              "c8cFANu2bcOIESNQUlKC7du34x//+Af27NljlGMjIvo9hlQisnr//ve/4e7uDh8fH7z33ntYu3Yt\n",
              "vvzySzz22GOIjY2Fra0t/P398eqrr2Lt2rUtPte4ceMQGhoKmUwGT09PLF26FBkZGaioqLjrOj/8\n",
              "8MM21fTyyy8jKCgItra2iI+PR35+Pi5dugQAWL9+PV5++WX06dMHcrkcixcvhoeHR5v2P3z4cMTG\n",
              "xkImk2HYsGEICwtDZmbmXR8XEdHt2EpdABGR1P70pz/hrbfeMli3efNm7NmzB+7u7vp1Wq0WWq22\n",
              "xefat28fli5dihMnTqCqqkq/vqSkBK6urndV59mzZ9tUU/fu3fV/dnZ2BgBUVFSgW7duKCwshL+/\n",
              "v367TCZDz54927T/ps9787mNEb6JiG6HnVQiotvw8fHBtGnTUFpaql/Ky8tRWVmpHyMIgsFjamtr\n",
              "8eijj2LcuHE4c+YMysvLsW/fPgCAKIqdUlNrevTogby8PP3ftVotCgoKDMb8/riIiKTAkEpEdBvz\n",
              "58/H1q1b8cUXX6C2thYNDQ3IycnBd999px/j4+OD06dP6/9eW1uL6upqdOnSBa6urrh48SL+/Oc/\n",
              "39H+a2pqDJa6uro21dSaGTNm4N1338WZM2dQW1uLt956C1evXjUY8/vjIiKSAkMqEdFtREZG4ocf\n",
              "fsDq1avRo0cPdO3aFZMnTzboQi5btgxvv/023N3d8eijj8LFxQVr1qzBW2+9pb8z/g9/+EOL+/n7\n",
              "3/+uv6P+psLCQjg6Ohoss2bNalNNrVm0aBEeeeQR3HvvvejRoweqq6sRHh4OBweHZo+LiEgKgmiM\n",
              "96CIiMgs1dfXw9fXF++//z6mTp0qdTlERHrspBIRWZGKigp8/fXXqK2tRWVlJV577TVotVqDz0Ml\n",
              "IjIFDKlERFZEq9XizTffhKenJ3r06IHMzEz897//NfjEACIiU8C3+4mIiIjI5LCTSkREREQmhyGV\n",
              "iIiIiEwOQyoRERERmRyGVCIiIiIyORYXUlesWCF1CURERER0lywupLbnm1eIiIiIyDRZXEglIiIi\n",
              "IvPHkEpEREREJochlYiIiIhMDkMqEREREZkchlQiIiIiMjkMqURERERkchhSiYiIiMjkMKQSERER\n",
              "kclpV0hdsGABVCoVBEFAdnb2bcfs3bsXjo6OCAsL0y/V1dX67cnJyQgODkZgYCDi4+NRV1fXpm1E\n",
              "REREZD3aFVInT56M9PR0+Pv7tziuT58+yM7O1i+Ojo4AgPPnz2Px4sVIS0tDTk4OLl26hKSkpFa3\n",
              "EREREZF1aVdIjYmJgVKpvOOdbd26FePHj4ePjw8EQcC8efOwadOmVrcRERERkXXpkDmpubm5iIiI\n",
              "QGRkJBITE/Xr8/PzDbqwKpUK+fn5rW5rjkajQXl5ucHS0NBg5KMhIiIyDyculiN+/UFkqa9JXQrR\n",
              "XbM19hNGRESgoKAACoUCBQUFePjhh+Hp6Yknn3zS2LvCsmXLsGTJEoN10dHRRt8PERGRqRNFEW9s\n",
              "P4Yj+aVIP3sFyc8MwT2BnlKXRXTHjN5JdXNzg0KhAAAolUpMnToVaWlpAAA/Pz/k5eXpx6rVavj5\n",
              "+bW6rTmLFi1CWVmZwRIVFWXsQyIiIjJ5+85cxpH8UgBAdV0DZq/Lws85V6QtiuguGD2kFhUVQavV\n",
              "AgAqKiqwY8cOhIeHAwAmTZqE1NRUFBcXQxRFrFq1CrGxsa1ua45cLoebm5vBIpPJjH1IREREJk0U\n",
              "Rby78ywAYEa0P0b28UJNnRaz1mXhJwZVMlPtCqkJCQlQKpUoKCjA2LFjERQUBACIi4tDamoqAODL\n",
              "L7/EwIEDERoaiujoaIwZMwazZs0CAAQEBGDJkiUYPnw4goKC4OXlhYSEhFa3ERERUfP2nrmMoxdK\n",
              "4WBngwWjg7FqxmCMCvGGpl6L2euykH6WQZXMjyCKoih1Eca0cOFCLF++XOoyiIiIOoUoinj8w59w\n",
              "tKAM8ff2whuP9AMAaOob8NzGw9h5sgRyWxusnjkEMb29JK6WqO34jVNERERmbM/pEhwtKIODnQ3m\n",
              "xgTq18ttZfhwegQe6NsNmnot4tYfxL4zlyWslKh9GFKJiIjMlCiKeK9xLurMYSp4ucoNtsttZUic\n",
              "HoEx/bqhtl6L+PUHsfd0iRSlErUbQyoREZGZ2nWyBL8UlMHRToa5MQG3HWNva4MPp0VgbH9dUJ27\n",
              "/hD2nGJQJdPHkEpERGSGRFHEe7vOAABm3uMPTxd5s2PtbW3wwbQIjOvvg9oGLRI2HMLuU5c6q1Si\n",
              "O8KQSkREZIZ2nizBr4XlcLKXIaHJXNTm2MlssHJaOB4aoAuq8zYcxq6TDKpkuhhSiYiIzIxuLqqu\n",
              "i/r0PSp4ONu36XF2Mhu8PzUcjwz01QXVTw9h5wkGVTJNDKlERERm5n8nLuH4xXI428sQf+/t56I2\n",
              "x05mg/diw/DIIF/UNYh4duMh/MCgSiaIIZWIiMiMaLW/3dHfni5qU3YyG6yYEobHQrujrkHE/I2H\n",
              "8P3xYmOXSnRXGFKJiIjMyP9OFONkUTlc5Lbt7qI2ZSuzwbtPhmJ8Y1B9buNhfPcrgyqZDoZUIiIi\n",
              "M9G0i/rMPSp0uYMualO2MhssfzIUE8K6o14r4vnPDuO7X4uMUSrRXWNIJSIiMhPfHy/GqeIKuMpt\n",
              "EXdvL6M8py6ohuGJ8B6o14p47rMj+O8xBlWSnq3UBRAREVHrmnZRZw1Xwd3p7rqoTclsBPz7D6EQ\n",
              "AKQcKcQLm45AFIFHBvkabR9E7cWQSkREZAa+/bUYpy/puqhzRtz5XNTmyGwE/OsPoYAApBwuxILN\n",
              "RyBCxKODuht9X0Rtwbf7iYiITJxWK2JF47dLzRrRCwonuw7Zj8xGwL8mh2LyYCUatCJe3JyN1KMX\n",
              "O2RfRK1hJ5WIiMjEfXOsCGcuVcLVwRZzRhhnLmpzZDYC/jlpEAQAXxwqwEubj0AURUwI69Gh+yX6\n",
              "PXZSiYiITFiDVsSKXbq5qHNG9ILCsWO6qE3Z2Ah4e9IgTBnSE1oR+OOWbHyVXdjh+yVqiiGViIjI\n",
              "hH1zrAg5JZVwc7DF7A7uojZlYyNg2cSBiI38LahuO1LQafsnYkglIiIyUQ1aESt26uaixt0bADeH\n",
              "ju+iNmVjI+DvTwzE1Cg/aEVg4edHkXKYQZU6B0MqERGRidrxy0XkXq6Cm4MtnhmukqQGGxsBf3t8\n",
              "AKYN9YMoAi9/cRRbDzGoUsdjSCUiIjJBTeeixkvQRW3KxkbAWxMG4KloXVB9ZetRfHHwgmT1kHVg\n",
              "SCUiIjJBqUcLce5yFdyd7CTrojZlYyPgzQkDMCPaH6IIvPrlL/g8i0GVOg5DKhERkYmpb9Di/V05\n",
              "AHRdVFcJu6hNCYKApRP64+lhuqD6Wsov2JKVL3VZZKEYUomIiExM6tGLOH+lCl2c7PD0PSqpyzEg\n",
              "CAL+Or4/nrlHpQuqXx7DpkwGVTI+hlQiIiITouuiNs5FjQmAi9z0vndHEAT85bF+mNU4DWFRyjF8\n",
              "doBBlYyLIZWIiMiEbM++CPXVG+jiZIeZw1RSl9MsQRDwf4/2w+zhus9u/X/bjmHjgTyJqyJLwpBK\n",
              "RERkIuobtFi5W9dFnRsTaJJd1KYEQcDiR/sirvFLBt7Y9is2ZDCoknG0K6QuWLAAKpUKgiAgOzu7\n",
              "xbGiKGLUqFFwd3fXr/v+++8RFhamX7p3746IiAj9dkEQMHDgQP32tLS0dh0MERGROUs5Uoi8qzfg\n",
              "4WyPmcP8pS6nTQRBwBuP9MXcmAAAwOLtv2L9frW0RZFFaNevaJMnT8arr76KESNGtDr23XffRWBg\n",
              "IA4fPqxfN3bsWIwdO1b/90cffRQjR440eFxaWppBsCUiIrIGdU26qAkxAXA28S5qU4IgYNFDIRAA\n",
              "fPTjOfzfV8chijC5m77IvLSrkxoTEwOlUtnquOPHj2P79u14/fXXmx1z8eJF7Nq1CzNmzGhPCURE\n",
              "RBZp2+FCXLhWDU8Xe8wwky5qU4Ig4PWHQjDvvkAAwF9Sj2PtT+clrorMmdF/Taurq0N8fDySk5Mh\n",
              "k8maHbdu3To8/PDD8Pb2Nlg/evRo1NfXY/To0XjzzTfh7Ozc7HNoNBpoNBqDdQ0NDXd3AERERJ2s\n",
              "rkGLlXtudlED4WRvPl3UpgRBwGvj+sBGABL35mLJ1ycgisDsxjmrRO1h9BunlixZgokTJ6Jv377N\n",
              "jhFFER9//DHmzJljsD4vLw+HDh3Czz//jMuXL+OVV15pcV/Lli2DQqEwWDIzM41yHERERJ3ly0MF\n",
              "+i7q9Gg/qcu5K4Ig4JWxffDcSF1HdemOE1iTdk7iqsgcGT2k7tu3DytXroRKpcKIESNQXl4OlUqF\n",
              "y5cvG4ypqakxmJ8KAH5+uh9MZ2dnzJ8/v9UbpxYtWoSysjKDJSoqytiHRERE1GFq67VYuVv37VLz\n",
              "7jPfLmpTgiDgTw/2wQujggAAb31zkkGV2s3oPwlNg6VarUZYWBjUarXBmOTkZDzzzDMG0wGuX78O\n",
              "uVwOJycnaLVabNmyBeHh4S3uSy6XQy6XG6xraYoBERGRqdl6qACFpdXwdJFj+lDzm4vaHEEQsHBM\n",
              "bwiCgPd3ncVb35yEVhQxNyZQ6tLITLSrk5qQkAClUomCggKMHTsWQUG635Di4uKQmprapucoKytD\n",
              "SkoKZs+ebbD+1KlTiI6ORmhoKAYOHIirV6/ivffea095REREZqW2XosP9+i6qM/eHwhHe8tqtNwM\n",
              "qi+ODgYA/P2/p/DRvlyJqyJzIYiiKEpdhDEtXLgQy5cvl7oMIiKiVm08kIc3tv0Kb1c5fnx1JBzs\n",
              "LCukNvXezjN4b6fu5rDXxoXg2fvZUaWW8RuniIiIJKCpb8CHu3/rolpyQAWAlx7ojYVjegMA3v7u\n",
              "FBL35khcEZk6hlQiIiIJfH6wABfLauDtKsfUKPO+o7+tFowOxsuNQfWf353WT3Uguh2GVCIiok6m\n",
              "qW9AYmNAm28FXdSmXhgdjFfG9gEA/Ov701i566zEFZGpYkglIiLqZFuyLqCorAY+bg6ItZIualPP\n",
              "jQzCq+N0QfWdH87gfQZVug2GVCIiok5UU9eAxD26O9znj7SuLmpT8+8PwmvjQgAAy384g/d2npG4\n",
              "IjI1DKlERESdaEvWBRSX18BX4YApkT2lLkdSz94fiEUP6YLqezvP4t0fGFTpNwypREREnaSmrkF/\n",
              "V/v8kUGQ21pnF7WphPsC8cbDuq9SX7HrLJb/cAYW9umYdIcYUomIiDrJpsx8XCrXoLvCAU8OUUpd\n",
              "jsmIjwnAnx/RBdX3GVSpEUMqERFRJ9B1UW/ORWUX9ffi7v0tqK7cnYN//+80g6qVY0glIiLqBBsP\n",
              "5ONyhQY93B3x5BDrnovanLh7A/B/j/YDAHy4Jxf/+p5B1ZoxpBIREXWwmroGrGr8zvrnRgbB3pb/\n",
              "/TZn9ohe+OtjuqCauDcXb3/HoGqt+FNCRETUwT7NyNN3UScP5lzU1jwzvBeWjO8PAFi1Lxf/+PYU\n",
              "g6oVYkglIiLqQNW1DVi17xwA4IVR7KK21dP3qLB0gi6ofvTjOSxjULU6/EkhIiLqQJ9m5OFKpQbK\n",
              "Lo6YxC5qu8wcpsKbjw8AACT9eA5/++Ykg6oVYUglIiLqIDdq6/VzUV8YFQQ7Gf/bba8Z0f742xO6\n",
              "oLom/Tze3MGgai3400JERNRBNuzPw9WqWvh5OGFiBLuod2r6UH/8/YmBAICPfzqPpTtOMKhaAYZU\n",
              "IiKiDnCjth4f/aibi/o8u6h3bdpQP/xjoi6orv1JjSVfM6haOv7EEBERdYD1+/NwraoW/l2dMDG8\n",
              "h9TlWITYKD+8PWkgBAFY97Maf009zqBqwRhSiYiIjKxKU4+kH2/e0R8MW3ZRjWZKpB/enjgIggB8\n",
              "sj8P//cVg6ql4k8NERGRkX2yX41rVbVQdXXC42HdpS7H4jwZ2RP/nKQLqhsy8rD4q1+h1TKoWhqG\n",
              "VCIiIiOqZBe1U/xhSE/8a3IoBAH4NCMff2ZQtTj8ySEiIjKiT35Wo/RGHXp5OmMCu6gdavJgJd75\n",
              "gy6ofnYgH29sZ1C1JAypRERERlJRU4fVabou6oLRQeyidoKJEUosfzIUNgKwKTMf/2/bMQZVC8Gf\n",
              "HiIiIiO52UUN8HLG+FDe0d9ZnghX4t0pYbARgM1ZF7AohUHVEjCkEhERGUF5TR1Wp50HALw4Ohgy\n",
              "G0HiiqzLhLAe+qC65eAFvPblLwyqZs5W6gKIiIgswbqf1CirrkOglzMeHcS5qFKYENYDNoKAl7Zk\n",
              "44tDBRABvD1pEH9hMFPt6qQuWLAAKpUKgiAgOzu7xbGiKGLUqFFwd3fXr1Or1ZDJZAgLC9Mvubm5\n",
              "+u07duxASEgIgoODMXHiRJSXl7frYIiIiKRQVl2HNfq5qOyiSumx0O5YERsGmY2ArYcK8MrWo2hg\n",
              "R9UstSukTp48Genp6fD392917LvvvovAwMBb1ru6uiI7O1u/3BxTWVmJOXPmYPv27Th79iy6d++O\n",
              "N998sz3lERERSWLtT+dRXlOPIG8XdlFNwKODuuP92HDIbASkHC7EK18wqJqjdoXUmJgYKJXKVscd\n",
              "P34c27dvx+uvv97m5/72228RHh6OkJAQAMD8+fOxadOm9pRHRETU6cqq65CczrmopuaRQb74YGo4\n",
              "bG0EpBwpxJ8YVM2O0W+cqqurQ3x8PD766CPIZLJbtldVVSEyMhIRERFYunQpGhoaAAD5+fkGHVqV\n",
              "SoWioiLU19c3uy+NRoPy8nKD5ebzERERdYaP08+joqYevbu54JGBvlKXQ008NNAXH0zTBdVtRwqx\n",
              "8PNs1DdopS6L2sjoIXXJkiWYOHEi+vbte8s2X19fFBYWIisrCzt37kRaWhreeeedO97XsmXLoFAo\n",
              "DJbMzMy7KZ+IiKjNym7U4WN9F7U3bNhFNTnjBvjig2kRsLUR8FX2RSz8/CiDqpkwekjdt28fVq5c\n",
              "CZVKhREjRqC8vBwqlQqXL1+GXC6Ht7c3AMDDwwOzZ89GWloaAMDPzw95eXn651Gr1fD19YWtbfMf\n",
              "QLBo0SKUlZUZLFFRUcY+JCIiottKTj+HCk09+nRzxUMDfKQuh5oxboAPEqdHwE4mIPXoRfyRQdUs\n",
              "GD2kpqWlIS8vD2q1Gunp6XBzc4NarYaXlxdKSkpQV1cHQPdWfUpKCsLDwwEA48aNw+HDh3Hq1CkA\n",
              "QGJiImJjY1vcl1wuh5ubm8FyuykGRERExlZ6oxYf/6QGALz4QDC7qCbuwf4+SJw+GHYyAV8fvYgX\n",
              "t/Ctf1PXrpCakJAApVKJgoICjB07FkFBQQCAuLg4pKamtvr49PR0hIeHIzQ0FBEREfDx8cEbb7wB\n",
              "QHfX/5o1a/D4448jKCgIBQUFWLx48R0cEhERUcdLTj+PSk09QnxcMa4/u6jmYEy/bvhPY1D95pci\n",
              "vLg5G3UMqiZLEEXRom51W7hwIZYvXy51GUREZMFKb9RixNt7UKmpx6qnIjBuAG+YMie7Tl7Cs58e\n",
              "Rm2DFg8N8MH7U8NhJ+OXcJoa/osQERG10+q0c6jU1KOvrxse7McuqrkZ3bcbPpoxGPYyG3z7azFe\n",
              "+OwIO6omiCGViIioHa5V1WJd41zUlzgX1WyNDPHGRzMHw97WBt8dL8bznx1GbT2DqilhSCUiImqH\n",
              "1WnnUFXbgH6+bniwXzepy6G7MLKPN5Jm6ILq98cv4TkGVZPCkEpERNRGVys1+ORnNQBdF1UQ2EU1\n",
              "d/f38cbqmUNgb2uDH05cwvyNDKqmgiGViIiojVannceN2gYM6OGGMeyiWoz7enthzcwhkNvaYOfJ\n",
              "S5i/8RA09fwGS6kxpBIREbXB1UoN1u9XAwBeGt2bXVQLE9PbC8lPRzYG1RI8++lhBlWJMaQSERG1\n",
              "QdKP53CjtgGDlAqM7ustdTnUAUYEe+LjZyLhYGeD3adKMG/DIdTUMahKhSGViIioFVcqNVi/X/fV\n",
              "3ZyLatmGB3ni46d1QXXP6cuY9ymDqlQYUomIiFrx0b5cVNc1IFSpwMg+7KJaunuCPLH2mSg42smw\n",
              "9/RlJLCjKgmGVCIiohaUVNRgQ8bNLirnolqLYYFdsXZWJBztZNh35jLi1x9kUO1kDKlEREQtSNp3\n",
              "DjV1WoT1dMf9fbykLoc6UXRAV6ybFQknexnSzl5hUO1kDKlERETNKKmowacHOBfVmg0N6Ip1s6L0\n",
              "QTXuk4OormVQ7QwMqURERM1YtVfXRQ33c8d9vdlFtVZRvTzwyewoONvLkJ5zBXHrsxhUOwFDKhER\n",
              "0W2UlNdgY2MX9Y+ci2r1IlW/BdWfcq5i9ros3Kitl7osi8aQSkREdBuJe3Ohqdciws8d9wZ7Sl0O\n",
              "mYAhKg+snxMFF7kt9p9jUO1oDKlERES/U1xWg88y8wEAfxzDLir9ZrC/rqPqIrdFxrlrmLWWQbWj\n",
              "MKQSERH9zqp9uait12KIfxeMCGIXlQwN9u+C9XOi4Cq3xYHz1/DM2ixUaRhUjY0hlYiIqAl2Uakt\n",
              "Ivy6YEPcULg62CLzvK6jyqBqXAypRERETSTuzUFtvRZRKg/cE9hV6nLIhIX1dMencxqDqvoanlmb\n",
              "iUoGVaNhSCUiImp0sbQamzMvAABeGsPPRaXWhfZ0x8a4oXBzsEWW+jqe/jgTFTV1UpdlERhSiYiI\n",
              "GiXuzUFtgxZRvTwwLIBdVGqbQUp3bIyLhsLRDofyGFSNhSGViIgIQGFpNbZk6bqo/FxUaq+BSgU2\n",
              "xg2FwtEOh/NLMfPjTJQzqN4VhlQiIiIAiXtyUNcgIjrAA8M4F5XuwIAeuqDq7mSHI/mlmJnMoHo3\n",
              "GFKJiMjqFVy/gc8P/tZFJbpTTYNq9oVSzEjORFk1g+qdYEglIiKr9+GeXNQ1iLgnsCuGci4q3aX+\n",
              "3RX4LC4aXZzscPRCKWYmH2BQvQMMqUREZNUuXLuBLxq7qC+xi0pG0q+7Gz6Lj4aHsz2OFpRhRvIB\n",
              "lN1gUG2PdoXUBQsWQKVSQRAEZGdntzhWFEWMGjUK7u7u+nXHjh1DTEwMQkJCMGDAAMyePRvV1dX6\n",
              "7YIgYODAgQgLC0NYWBjS0tLadTBERETt9eGeHNRrRQwP6oqoXh5Sl0MWpK+vGz6LHwoPZ3v8UlCG\n",
              "pxhU26VdIXXy5MlIT0+Hv79/q2PfffddBAYGGqxzcHDABx98gFOnTuHo0aOoqqrC22+/bTAmLS0N\n",
              "2dnZyM7Oxr333tue8oiIiNrlwrUb2HqoAADnolLHCPFxw6b4aHR1tsexwjJMT85A6Y1aqcsyC+0K\n",
              "qTExMVAqla2OO378OLZv347XX3/dYH1wcDAGDRoEAJDJZIiMjIRarW5PCUREREbzwW5dF/XeYE8M\n",
              "UbGLSh2jj48rNs2NhqeLPX4tLMf0NQcYVNvA6HNS6+rqEB8fj48++ggymazZcVVVVVizZg0mTJhg\n",
              "sH706NEIDQ3FwoULUVVV1eK+NBoNysvLDZaGhgajHAcREVm2/Ks3sPWwrovKuajU0Xp3c8WmeF1Q\n",
              "PX6xHNNWH8D1KgbVlhg9pC5ZsgQTJ05E3759mx1TW1uLKVOm4MEHH8QTTzyhX5+Xl4dDhw7h559/\n",
              "xuXLl/HKK6+0uK9ly5ZBoVAYLJmZmUY7FiIislwrd59Fg1ZETG8vDPbvInU5ZAWC9UFVjhNF5Zi2\n",
              "5gCuMag2y+ghdd++fVi5ciVUKhVGjBiB8vJyqFQqXL58GYCu0zplyhT4+vpixYoVBo/18/MDADg7\n",
              "O2P+/Pmt3ji1aNEilJWVGSxRUVHGPiQiIrIw6itVSDlSCAB46YFgiashaxLczRWb50bDy1WOk0Xl\n",
              "mLY6g0G1GUYPqWlpacjLy4NarUZ6ejrc3NygVqvh5eWF+vp6xMbGwsPDA0lJSQZfOXf9+nXcuHED\n",
              "AKDVarFlyxaEh4e3uC+5XA43NzeDpaUpBkRERACwcncOGrQi7uvthQg/dlGpcwV5u2BTvC6oniqu\n",
              "wLTVGbhaqZG6LJPTrpCakJAApVKJgoICjB07FkFBQQCAuLg4pKamtvr4LVu2ICUlBQcPHkR4eDjC\n",
              "wsLw3HPPAQBOnTqF6OhohIaGYuDAgbh69Sree++99h8RERFRC9RXqrA9W9dF/eMYzkUlaQR5u2Dz\n",
              "3Gh464PqAVxhUDUgiKIoSl2EMS1cuBDLly+XugwiIjJRCz/PRsrhQozs44W1szhFjKR17nIlpq7O\n",
              "wKVyDXp3c8FnjXNWid84RUREVuTc5Ups189FZReVpBfg5YLNc4fBx80BZy5VYmpSBi5XsKMKMKQS\n",
              "EZEVWbk7B1oRGB3ijdCe7lKXQwQA6OXpjM1zo+GrcMDZEl1ntaSiRuqyJMeQSkREViH3ciW+ymYX\n",
              "lUyTqjGodlc4IKdE11EtKbfuoMqQSkREVuH9XWehFYEH+npjoFIhdTlEt/Dv6ozNc4ehu8IBuZer\n",
              "ELvauoMqQyoREVm8nJJKpB69CIBdVDJtfl2dsHnuMPRwd8S5y1WITcrAJSsNqgypRERk8d7fdRai\n",
              "CIzp1w0DerCLSqZNF1SjdUH1ii6oFpdZX1BlSCUiIot29lIFvv7lZheV3y5F5qGnhy6oKrs44vyV\n",
              "KsQm7UdRWbXUZXUqhlQiIrJoKxq7qGP7d0P/7uyikvloGlTVV28gNikDF0utJ6gypBIRkcU6c6kC\n",
              "3xwrAgC8OJpzUcn8KLs4YUvCMPT0cESelQVVhlQiIrJYK3bquqjj+vugX3c3qcshuiM93B2xZe4w\n",
              "+Hk4If+aLqgWWkFQZUglIiKLdLq4SReVc1HJzHV3d8TmudHw73ozqO5HwfUbUpfVoRhSiYjIIq3Y\n",
              "dQYA8PBAH/T1ZReVzN/NoKrq6oQL16oRm5SBC9csN6gypBIRkcU5WVSO/x4rhiBwLipZFl+FIzbP\n",
              "HYZens4ouG7ZQZUhlYiILM6KnWcBAA8P9EUfH1eJqyEyLh+FAzbFRyPA0xmFpZYbVBlSiYjIohy/\n",
              "WIbvjt/sonIuKlkmH4UDNs2NRoCXLqhO+Wg/8q9aVlBlSCUiIotys4v6yEBf9O7GLipZrm5uDtgc\n",
              "H41AL2dcLKtBbNJ+5F2tkroso2FIJSIii/FrYRn+d+ISu6hkNbzddB3V34JqBtRXLCOoMqQSEZHF\n",
              "WLFL10V9bFB3BLOLSlbC29UBm+cOQ7C3C4oag+p5CwiqDKlERGQRfi0sww8nLsFGABawi0pWxstV\n",
              "js/ioxHs7YLict1b/+YeVBlSiYjIIry3U/e5qONDuyPI20Xiaog6n5erHJvmRqN3NxdcKtdgykf7\n",
              "ce5ypdRl3TGGVCIiMnu/FJRi58kS2AjAC+yikhXzdJFjU3w0QnxcUVKhQWxSBnLNNKgypBIRkdl7\n",
              "r/GO/glhPRDoxS4qWbeuLnJsjBtqEFRzSswvqDKkEhGRWTt6oRS7TzV2UUcFSV0OkUno6qKboxri\n",
              "44rL+qBaIXVZ7cKQSkREZu3mXNTHw3sggF1UIj0PZ3tsio9GP183XKnUIDbpAM5eMp+gypBKRERm\n",
              "60j+dew5fRkyGwELRnEuKtHvdXG2x8a4oejfXRdUp67OwBkzCaoMqUREZLZuzkV9IrwHVJ7OEldD\n",
              "ZJoMg2otpiZl4HSx6QfVdoXUBQsWQKVSQRAEZGdntzhWFEWMGjUK7u7uBut37NiBkJAQBAcHY+LE\n",
              "iSgvL2/TNiIioqYO5V3HvjO6LirnohK1zN1JF1QH9lDgalUtpq3OwKli085Z7QqpkydPRnp6Ovz9\n",
              "/Vsd++677yIwMNBgXWVlJebMmYPt27fj7Nmz6N69O958881WtxEREf3ezbmoE8N7wL8ru6hErXF3\n",
              "ssenc4ZikPJmUD2Ak0WmG1TbFVJjYmKgVCpbHXf8+HFs374dr7/+usH6b7/9FuHh4QgJCQEAzJ8/\n",
              "H5s2bWp1GxERUVOH8q4h7ewV2NoIeIFzUYnaTOFkhw1zhiJUqcC1xo7qiYumGVRtjf2EdXV1iI+P\n",
              "R3JyMmQymcG2/Px8gy6sSqVCUVER6uvrW9xma3v7MjUaDTQajcG6hoYGIx5N834pKMXSr090yr7I\n",
              "ctjKBEwf6o/HQrtLXQqRWbs5F3VShBJ+XZ0krobIvCgc7bB+zlDM/DgTRy+UYvqaDHwaNxT9uyuk\n",
              "Ls2A0UPqkiVLMHHiRPTt2xdqtdrYT29g2bJlWLJkicG66OjoDt3nTRU19TiYd71T9kWWJePcNVTU\n",
              "1GPaUD+pSyEySwfVv3VRn+dcVKI7onC0w4Y5UZiZnInsC6X47EA+/vbEQKnLMmD0kLpv3z7k5+fj\n",
              "gw8+QH19PcrLy6FSqZCVlQU/Pz/88MMP+rFqtRq+vr6wtbVtcVtzFi1ahIULFxqsW7x4sbEP6bb6\n",
              "+Lhi1VMRnbIvshw/nr2Czw7k4/9tOwYRIqYPbX1+NxEZerdxLuofhijR04NdVKI75eZgh/VzovBx\n",
              "+nk8P9L0fuEzekhNS0vT/1mtViMsLEzfUR03bhyee+45nDp1CiEhIUhMTERsbGyr25ojl8shl8sN\n",
              "1v1+ikFH8XSRY9wA307ZF1mOsf194GgnQ3L6ebyx7VdoRWBGNIMqUVtlnr+Gn3KuwtZGwHMm+J8q\n",
              "kblxc7DDSw/0lrqM22rXjVMJCQlQKpUoKCjA2LFjERSku0DExcUhNTW11ce7urpizZo1ePzxxxEU\n",
              "FISCggJ957OlbUSWQhAE/PmRvogb0QsAsHj7r9iwXy1tUURm5N0fbnZRe0LZhV1UIksmiKIoSl2E\n",
              "MS1cuBDLly+XugyiFomiiGXfnkLSj+cAAEvG98fT96ikLYrIxGWcu4rYpAzYyQTsfWUkerg7Sl0S\n",
              "EXUgfuMUkQQEQcCih0KQcF8AAOAvqcex7qfzEldFZNpufi7qk0N6MqASWQGGVCKJCIKA18eFYN59\n",
              "ui+9+OvXJ/BxOoMq0e3sz72KjHPXYC+z4VxUIivBkEokIUEQ8Nq4Pph/vy6oLt1xAmvSzklcFZFp\n",
              "EUVRf0f/lMie6M4uKpFVYEglkpggCHhlbB/9x3+89c1JBlWiJvbnXkXmeV0Xdf7IwNYfQEQWgSGV\n",
              "yAQIgoCXH+yNF0b9FlRX/8igSiSKov7bpWKjesJXwS4qkbVgSCUyEYIgYOGY3lgwWvc95H/770l8\n",
              "tC9X4qqIpPVz7lVkqq/B3tYG8+/nXFQia8KQSmRCbgbVFxuD6rJvT+E/exlUyTqJoqj/XNRpUX7w\n",
              "UThIXBERdSaGVCIT9McxvfHSA7qg+vZ3p5C4N0fiiog6X3rOFRzMuw65rQ2evZ9zUYmsDUMqkYl6\n",
              "6YHeWDhG91V1//zuND7cw6BK1sOgizrUD93c2EUlsjYMqUQmbMHoYPzpQV1Q/df3p7Fy11mJKyLq\n",
              "HD+evYLD+aW6Lup97KISWSOGVCIT9/yoYLwytg8A4J0fzuB9BlWycLo7+nVd1OlD/eHNLiqRVWJI\n",
              "JTIDz40MwqvjdEF1+Q9n9P+BE1mifWcu40h+KRzsbDDv/gCpyyEiiTCkEpmJ+fcH4fWHQgAA7+08\n",
              "q5+vR2RJdN8upXu34Kmh/vB2ZReVyFrZSl0AEbXdvPsCIUD30VQrdp2FCOCPDwRDEASpSyMyir2n\n",
              "L+PoBV0XNYFzUYmsGjupRGYm4b5AvPFwXwDA+7vOYvkPZyCKosRVEd09XRdV9w7BzGEqeLnKJa6I\n",
              "iKTEkEpkhuJjAvDnR3RBdeXuHPz7f6cZVMns7T5Vgl8KyuBoJ8PcGM5FJbJ2DKlEZiru3gAsfrQf\n",
              "AODDPbn41/cMqmS+dHf06+aizhzmD08XdlGJrB1DKpEZmzOiF/7ymC6oJu7NxdvfMaiSedp1sgTH\n",
              "CsvgZM8uKhHpMKQSmblZw3vhr41BddW+XPzju1MMqmRWRFHEe7t+m4valV1UIgJDKpFFeGZ4Lyyd\n",
              "0B8A8NG+c1j2LYMqmY8fTlzCr4XlcGYXlYiaYEglshAzh6nwZmNQTfrxHP72zUkGVTJ5TeeiPn2P\n",
              "Ch7O9hJXRESmgiGVyILMGKbCW48PAACsST+PtxhUycR9f/wSThTpuqjx97KLSkS/YUglsjBPRfvj\n",
              "b0/ogmpy+nks3XGCQZVMklYrYsUuXRf1meEqdGEXlYiaYEglskDTh/pj2cSBAIC1P6mx5GsGVTI9\n",
              "/ztRjJNF5XCR27KLSkS3YEglslBTo/zwj8aguu5nNf6aepxBlUyGVvvbXNRZw1Vwd2IXlYgMMaQS\n",
              "WbDYKD/8c9IgCALwyf48/N9XDKpkGr47XoxTxRVwldsibgS7qER0q3aF1AULFkClUkEQBGRnZ992\n",
              "zP79+xEWFoawsDD0798fCQkJ0Gg0AIC1a9fqt4WFhcHT0xMTJ04EAKjVashkMoPtubm5d3d0RIQn\n",
              "I3vi7caguiEjD4u/+hVaLYMqSUerFbHiZhd1RC8onOwkroiITFG7QurkyZORnp4Of3//ZseEhoYi\n",
              "KysL2dnZOHbsGEpKSpCYmAgAmDVrFrKzs/WLj48Ppk+frn+sq6urwfbAwMA7PCwiaurJIT3xr8mh\n",
              "EATg04x8BlWS1H9/LcLpSxVwdbDFnOG9pC6HiEyUbXsGx8TEtDrGyclJ/+fa2lpUV1dDEIRbxh04\n",
              "cAAlJSUYP358e0ogojs0ebASAoA/bT2KjQfyoRWBvz0+ADY2t/58EnWUpl3U2cPZRSWi5nXInFS1\n",
              "Wo3Q0FB4enpCoVBg/vz5t4xJTk7GjBkzYGf32wWqqqoKkZGRiIiIwNKlS9HQ0NDifjQaDcrLyw2W\n",
              "1h5DZM0mDVZi+ZOhsBGATZn5+H/bjrGjSp3qm2NFOFtSCVcHW8wewS4qETWvQ0KqSqXC0aNHUVxc\n",
              "DI1Gg5SUFIPtVVVV2Lx5M+bMmaNf5+vri8LCQmRlZWHnzp1IS0vDO++80+J+li1bBoVCYbBkZmZ2\n",
              "xCERWYwnwpVY/mQYbARgc9YFLEphUKXO0dDkc1HjRgRA4cguKhE1r0Pv7ndxcUFsbCw2btxosP6L\n",
              "L75A//790a9fP/06uVwOb29vAICHhwdmz56NtLS0Fp9/0aJFKCsrM1iioqKMfyBEFubx8B54d4ou\n",
              "qG45eAGvffkLgyp1uB2/XEROSSXcHGwxa4RK6nKIyMS1a05qW+Tk5MDf3x92dnaora3Ftm3bMGjQ\n",
              "IIMxycnJBl1UACgpKUGXLl1gZ2en776Gh4e3uC+5XA65XG6wTiaTGedAiCzchLAeEAQBL20+gi8O\n",
              "FUAE8PakQZBxjip1gAatiPcbu6jx9wbAzYFdVCJqWbs6qQkJCVAqlSgoKMDYsWMRFBQEAIiLi0Nq\n",
              "aioAYPfu3QgPD0doaCjCw8PRrVs3LF68WP8cp0+fRnZ2NqZMmWLw3Onp6frHRUREwMfHB2+88cbd\n",
              "Hh8RtWB8aHesiA2HzEbA1kMFeHXrL2hgR5U6wNdHLyL3chUUjnZ4ZrhK6nKIyAwIooV9svfChQux\n",
              "fPlyqcsgMis7frmIFzdno0ErYmJ4D/zrD6HsqJLRNGhFjFm+D+euVOFPD/bG86OCpS6JiMyA0d/u\n",
              "JyLz8+ig7rARBLyw6QhSjhRCBPBvBlUyktSjhTh3pQruTnZ4+h6V1OUQkZlgSCUiAMDDA30hAHhh\n",
              "0xFsO1IIrSjinT+EwlbGb0+mO1ffoMX7u3IA6OaiunIuKhG1Ef/3ISK9hwb64oNp4bC1EfBV9kUs\n",
              "/Pwo6hu0UpdFZuyr7Is4f6UKXdhFJaJ2YkglIgPjBvjiw+kRsLURkHr0Iv7IoEp3qL5Bi5W7dXf0\n",
              "z40JhIucb94RUdsxpBLRLcb290Hi9AjYyQR8ffQiXtySzaBK7bY9+yLUV2/Aw9keM4f5S10OEZkZ\n",
              "hlQiuq0H+/sgcfpg2MkEfPNLEV7cnI06BlVqI8MuagCc2UUlonZiSCWiZo3p1w2rnhoMe5kNvjlW\n",
              "hAWbjjCoUpukHClE3tUb6MouKhHdIYZUImrR6L7dsGpGBOxlNvj212K88BmDKrWsrkkXNeG+ADjZ\n",
              "s4tKRO3HkEpErRoV0g0fzdB1VL87XoznPzuM2noGVbq9lMMFuHCtGp4u9ngqml1UIrozDKlE1CYj\n",
              "Q7yRNHMw7G1t8P3xS3iOQZVuo7Zei5W7dZ+LOu++QHZRieiOMaQSUZvd38cbq2cOgb2tDX44cQnz\n",
              "NzKokqGUwwUouF4NTxc5pg9lF5WI7hxDKhG1y329vbBm5hDIbW2w8+QlzN94CJr6BqnLIhNg2EUN\n",
              "gKO9TOKKiMicMaQSUbvF9PbCmqdvBtUSPPvpYQZVwtZDBSgsrYaXq5xzUYnorjGkEtEduTfYC8lP\n",
              "R0Jua4Pdp0owb8Mh1NQxqFqr2notPtyj66I+e18gHOzYRSWiu8OQSkR3bESwJz5+JhIOdjbYc/oy\n",
              "5n3KoGqtPj94AYWl1fB2lWPaUD+pyyEiC8CQSkR3ZXjQb0F17+nLSGBH1epo6hv0XdT597OLSkTG\n",
              "wZBKRHftnkBPrH0mCo52Muw7cxnx6w8yqFqRzw8WoKisBt3c5IiNYheViIyDIZWIjGJYYFesnRUJ\n",
              "RzsZ0s5eYVC1Epr6BiTqu6hB7KISkdEwpBKR0UQHdMW6WZFwstcF1bhPDqK6lkHVkm3JuoCishr4\n",
              "uDlgSmRPqcshIgvCkEpERjU0oCvWzYqCk70M6TlXELc+i0HVQtXU/TYX9bmRnItKRMbFkEpERhfV\n",
              "ywOfzI6Cs70MP+Vcxex1WbhRWy91WWRkmzPzcalcg+4KBzzJLioRGRlDKhF1iEiVB9bPiYKL3Bb7\n",
              "zzGoWpqaugYk7s0FAMwfGQS5LbuoRGRcDKlE1GEG++s6qi5yW2Scu4ZZaxlULcWmzHyUVOi6qH8Y\n",
              "opS6HCKyQAypRNShBvt3wfo5UXCV2+LA+Wt4Zm0WqjQMquasaRf1uVHsohJRx2BIJaIOF+H3W1DN\n",
              "PK/rqDKomq+NB/JxuUKDHu6O+MNgzkUloo7BkEpEnSLcrws2xA2Fq4MtMtXX8MzaTFQyqJqd6toG\n",
              "/Kexi/r8qCDY2/K/ESLqGO26uixYsAAqlQqCICA7O/u2Y/bv34+wsDCEhYWhf//+SEhIgEajAQDs\n",
              "3bsXjo6O+u1hYWGorq7WPzY5ORnBwcEIDAxEfHw86urq7vzIiMjkhPV0x6dzdEE1S30dT3+ciYoa\n",
              "/pybk40H8nClUgNlF0dMHsy5qETUcdoVUidPnoz09HT4+/s3OyY0NBRZWVnIzs7GsWPHUFJSgsTE\n",
              "RP32Pn36IDs7W784OjoCAM6fP4/FixcjLS0NOTk5uHTpEpKSku7wsIjIVIX2dMfGuKFwc7DFoTwG\n",
              "VXNyo7Yeq/bpuqgvjAqCnYxdVCLqOO26wsTExECpbPk3ZycnJ9jZ2QEAamtrUV1dDUEQWn3urVu3\n",
              "Yvz48fDx8YEgCJg3bx42bdrUnvKIyEwMUrpjY1w0FI52OJxfipkfZ6KcQdXkbczIx5XKWvT0cMTE\n",
              "CHZRiahjdcivwWq1GqGhofD09IRCocD8+fP123JzcxEREYHIyEiDDmt+fr5Bh1alUiE/P7/F/Wg0\n",
              "GpSXlxssDQ38ZhsiczBQqcDGuKFQONrhSH4pZiYzqJoygy7qyGB2UYmow3XIVUalUuHo0aMoLi6G\n",
              "RqNBSkoKACAiIgIFBQU4fPgwtm3bhlWrVuHzzz+/4/0sW7YMCoXCYMnMzDTWYRBRBxvQQxdU3Z3s\n",
              "kH2hFDOSM1FWzaBqijbsz8PVqlr4eTjhiYgeUpdDRFagQ38VdnFxQWxsLDZu3AgAcHNzg0KhAAAo\n",
              "lUpMnToVaWlpAAA/Pz/k5eXpH6tWq+Hn59fi8y9atAhlZWUGS1RUVAcdDRF1hKZB9eiFUsxMPsCg\n",
              "amKqNPX46MdzADgXlYg6j9GvNDk5Ofq78mtra7Ft2zYMGjQIAFBUVAStVgsAqKiowI4dOxAeHg4A\n",
              "mDRpElJTU1FcXAxRFLFq1SrExsa2uC+5XA43NzeDRSbjh0oTmZv+3RX4LC4aXZzscLSgDDOSD6Ds\n",
              "BoOqqVi/Pw/Xqmqh6uqEJ8LZRSWiztGukJqQkAClUomCggKMHTsWQUFBAIC4uDikpqYCAHbv3o3w\n",
              "8HCEhoYiPDwc3bp1w+LFiwEAX375JQYOHIjQ0FBER0djzJgxmDVrFgAgICAAS5YswfDhwxEUFAQv\n",
              "Ly8kJCQY81iJyIT16+6Gz+Kj4eFsj18KyvAUg6pJqNTUI+nHm3f0B8OWXVQi6iSCKIqi1EUY08KF\n",
              "C7F8+XKpyyCiO3SquBzTVh/AtapaDOjhhk/nDIW7k73UZVmtxL05+Od3p9HL0xk//DGGIZWIOg2v\n",
              "NkRkUkJ83LApPhpdne3xa6EusF6vqpW6LKuk66L+NheVAZWIOhOvOERkcvr4uGLT3Gh4utjjRFE5\n",
              "pq9hUJXCJz+rUXqjDgGezhgf2l3qcojIyjCkEpFJ6t3NFZvio+HpIseJonJMW6ObAkCdo6KmTt9F\n",
              "XTCac1GJqPPxqkNEJiu4mys2zx0KTxc5ThaVY9rqDFyt1EhdllVY95MaZdV1CPRyxmPsohKRBBhS\n",
              "icikBXm7YvPcaHi5ynGquALT1xxgUO1g5TV1WJN+HoCuiyqzaf2rrYmIjI0hlYhMXpC3CzbPjYZ3\n",
              "Y1CdtvoArjCodpibXdQgbxc8OohdVCKSBkMqEZmFQC9dUO3mJsfpSxWYmpSByxUMqsZWVl2HNWm/\n",
              "zUVlF5WIpMKQSkRmI8DLBZvnDoOPmwPOllRi2moGVWNb+9N5lNfUI9jbBY8M9JW6HCKyYgypRGRW\n",
              "enk6Y/PcaH1Qnbo6AyUVNVKXZRHKquuQ3DgX9cUH2EUlImkxpBKR2VE1BlVfhQNySioxNSkDJeUM\n",
              "qncrOf08Kmrq0aebKx4ewC4qEUmLIZWIzNLNoNpd4YDcy1WIXc2gejfKbtRhbZMuqg27qEQkMYZU\n",
              "IjJb/l2dsXnuMPRwd8S5y1WITcrAJQbVO5Kcfg4VmnqE+LhiXH8fqcshImJIJSLz5tfVCZvnRuuC\n",
              "6hVdUC0uY1Btj9Ibtfj4JzUA4MXR7KISkWlgSCUis9fT47egev5KFWKT9qOorFrqsszGmrTzqGzs\n",
              "oo5lF5WITARDKhFZhJ4eTtiSEA1lF0eor95AbFIGLpYyqLbmelUt1v6km4v60gO92UUlIpPBkEpE\n",
              "FkPZRddR7enhiLzGoFrIoNqi1WnnUFXbgH6+bhjbv5vU5RAR6TGkEpFF0QXVYfDzcEL+tRuITdrP\n",
              "oNqMa1W1+ORnNQDgpQeCIQjsohKR6WBIJSKL08PdEZvnRsO/qxMuXKtGbNJ+FFy/IXVZJudmF7V/\n",
              "dzeM6ccuKhGZFoZUIrJI3W8Jqhm4cI1B9aarlZomXdTe7KISkclhSCUii+WrcMSWucPQy9MZBdcZ\n",
              "VJtKSjuHG7UNGNhDgQf6ektdDhHRLRhSicii+SgcsCk+Gr08nVFYyqAKAFcqNVj/cx4AzkUlItPF\n",
              "kEpEFs9H4YDNc6MR0BhUp3y0H/lXrTeoJv14DtV1DQhVKjAqhF1UIjJNDKlEZBW6uTUGVS9nXCyr\n",
              "QWzSfuRdrZK6rE53pVKD9fvVADgXlYhMG0MqEVkN78agGqgPqhlQX7GuoPrRvlzU1GkR2tMd9/fx\n",
              "krocIqJmMaQSkVXxdnXAprnRCPJ2QVFjUD1vJUG1pKIGGzI4F5WIzANDKhFZHW9X3c1Uwd4uKC7X\n",
              "vfVvDUH1o33nUFOnRVhPd9zfm11UIjJt7QqpCxYsgEqlgiAIyM7Ovu2Y/fv3IywsDGFhYejfvz8S\n",
              "EhKg0WgAALt370ZUVBT69euH/v3749VXX4VWqwUAqNVqyGQy/WPDwsKQm5t7d0dHRNQML1c5Ns2N\n",
              "Ru9uLrhUrsGUj/Yj93Kl1GV1mJLyGnza2EX94xjORSUi09eukDp58mSkp6fD39+/2TGhoaHIyspC\n",
              "dnY2jh07hpKSEiQmJgIAunTpgs2bN+PEiRM4dOgQfv75Z6xfv17/WFdXV2RnZ+uXwMDAOzwsIqLW\n",
              "ebrI8Vl8NPp0c0VJhQZTkzIsNqj+Z18uNPVaRPi5IybYU+pyiIha1a6QGhMTA6VS2eIYJycn2NnZ\n",
              "AQBqa2tRXV2t/409PDwcAQEBAAAHBweEhYVBrVbfQdlERMahC6pDEeKjC6qxSRnIKbGsoFpSXoPP\n",
              "DuQDYBeViMxHh8xJVavVCA0NhaenJxQKBebPn3/LmOLiYmzduhWPPvqofl1VVRUiIyMRERGBpUuX\n",
              "oqGhocX9aDQalJeXGyytPYaI6Pe6NnZUQ3xccVkfVCukLstoEvfquqiD/btgRBC7qERkHjokpKpU\n",
              "Khw9ehTFxcXQaDRISUkx2F5eXo7HHnsMr776KoYMGQIA8PX1RWFhIbKysrBz506kpaXhnXfeaXE/\n",
              "y5Ytg0KhMFgyMzM74pCIyMJ5ONvjs/ho9PV1w5VKXVA9e8n8g2pxWQ0+y2zsovJzUYnIjHTo3f0u\n",
              "Li6IjY3Fxo0b9esqKiowbtw4TJgwAQsXLtSvl8vl8PbWffOJh4cHZs+ejbS0tBaff9GiRSgrKzNY\n",
              "oqKiOuZgiMjieTjb47O4oejn64YrlbWYujoDZ8w8qP5nbw5q67WIVHXB8KCuUpdDRNRmRg+pOTk5\n",
              "qKurA6Cbk7pt2zYMGjQIAFBZWYlx48Zh3Lhx+POf/2zwuJKSEv3jbnZfw8PDW9yXXC6Hm5ubwSKT\n",
              "yYx9SERkRbo42+Oz+KHo370xqCZl4HSxeQbVorJqbMq8AIBdVCIyP+0KqQkJCVAqlSgoKMDYsWMR\n",
              "FBQEAIiLi0NqaioA3cdMhYeHIzQ0FOHh4ejWrRsWL14MAFixYgUyMzORkpKi/5ipv/3tbwCA9PR0\n",
              "/eMiIiLg4+ODN954w5jHSkTUJu5O9tgYNxQDerjhapWuo3qquFzqstotcU8uahu0iOrlgWGB7KIS\n",
              "kXkRRFEUpS7CmBYuXIjly5dLXQYRWYCyG3V4KvkAjhWWwcNZF1z7+rpJXVabXCytxv3/2ovaBi02\n",
              "xUczpBKR2eE3ThERNUPhZIdP44ZikFKBa1W1mLY6AycumkdHNXFvDmobtBjKLioRmSmGVCKiFigc\n",
              "7bBhzlCEKhW4fqMO09Zk4PjFMqnLalFhaTW2ZDXORR3TW+JqiIjuDEMqEVErFI522BA3FGE93VF6\n",
              "ow7T1xzAr4WmG1Q/3JODugYRwwK6IjqAXVQiMk8MqUREbeDmYIf1c6IQ7mfaQbXg+g18cZBdVCIy\n",
              "fwypRERt5OZgh/WzoxDh546y6jpMW52BYwWmFVRvdlGHB3VFVC8PqcshIrpjDKlERO3g6mCHT2ZH\n",
              "YbB/F5TX1GP6mgz8UlAqdVkAgAvXbuCLgwUAgJceYBeViMwbQyoRUTvdDKpD9EH1AI5eKJW6LHy4\n",
              "Jwf1WhEjgjwRqWIXlYjMG0MqEdEdcJHbYt3sKESquqCiph5PrTmAbAmD6oVrN7D1kK6L+scxwZLV\n",
              "QURkLAypRER3yEVui3WzohCl8kCFph4z1hzAkfzrktSycvdZ1GtF3BvsicH+7KISkfljSCUiugvO\n",
              "clusnRWJqF6NQTU5E4fyOjeo5l2twpeHCwHwjn4ishwMqUREd8lZbot1syIRHeCBSk09nv44E4fy\n",
              "rnXa/j/YnYMGrYj7enshwq9Lp+2XiKgjMaQSERmBk70tPn4mEsMCuqJSU4+ZyZk4qO74oKq+UoWU\n",
              "I7ou6ksPcC4qEVkOhlQiIiO5GVTvCeyKqtoGPP1xJrI6OKiubOyi3t/HC+HsohKRBWFIJSIyIkd7\n",
              "GZKfjsTwoN+Caub5jgmq569UYdsRfi4qEVkmhlQiIiO7GVTvDfbEjdoGPLM2EwfOXTX6flbuOgut\n",
              "CIwK8UZYT3ejPz8RkZQYUomIOoCDnQyrZw5pElSzkGHEoJp7uRLbszkXlYgsF0MqEVEHuRlUY3p7\n",
              "obquAbPWZmF/rnGC6ge7c6AVgQf6emOQ0t0oz0lEZEoYUomIOpCDnQxJMwbjvptBdV0mfs65clfP\n",
              "mXu5El/pu6ici0pElokhlYiogznYyfDRjMEY2ccLNXVazP4kCz/dRVB9v3Eu6gN9u2FAD4URKyUi\n",
              "Mh0MqUREncDBToZVMwZjVIi3Lqiuy0L62fYH1ZySCqQevQiAc1GJyLIxpBIRdRK5rQz/eSoCo0O8\n",
              "oanXYs4nWUg7e7ldz7FiVw5EEXiwH7uoRGTZGFKJiDqR3FaGxKci8EDfm0H1IPadaVtQPXOpAjt+\n",
              "udlF5VxUIrJsDKlERJ1MbitD4vTBGNOvG2rrtYhffxB7T5e0+rj3d52FKALj+vugX3e3TqiUiEg6\n",
              "DKlERBKwt7XBh9Mi8GBjUJ274RD2tBBUz1yqwDfHigAAL3IuKhFZAYZUIiKJ2Nva4MPpERjbXxdU\n",
              "E9Yfwp5Ttw+qK3bquqgPDfBBX192UYnI8jGkEhFJyE5mgw+mReChAT6obdAiYcMh7Dp5yWDMqeJy\n",
              "dlGJyOq0K6QuWLAAKpUKgiAgOzv7tmP279+PsLAwhIWFoX///khISIBGo9FvT05ORnBwMAIDAxEf\n",
              "H4+6uro2bSMislR2Mhu8PzUcDw/UBdV5nx7CzhO/BdUVO88CAB4Z6IsQH3ZRicg6tCukTp48Genp\n",
              "6fD39292TGhoKLKyspCdnY1jx46hpKQEiYmJAIDz589j8eLFSEtLQ05ODi5duoSkpKRWtxERWTo7\n",
              "mQ1WxIbjkYG+qGsQ8ezGQ/jhxCWcuFiOb38thiCwi0pE1qVdITUmJgZKpbLFMU5OTrCzswMA1NbW\n",
              "orq6GoIgAAC2bt2K8ePHw8fHB4IgYN68edi0aVOr24iIrIEuqIbh0UG6oDp/4yEs/DwbgK6L2rub\n",
              "q7QFEhF1og6Zk6pWqxEaGgpPT08oFArMnz8fAJCfn2/QhVWpVMjPz291W3M0Gg3Ky8sNloaGhg44\n",
              "IiKizmErs8F7U8LwWGh31DWIOFVcoeuijmYXlYisS4eEVJVKhaNHj6K4uBgajQYpKSkdsRssW7YM\n",
              "CoXCYMnMzOyQfRERdRZbmQ3efTIUE8K6AwAeD+uBYHZRicjKdOjd/S4uLoiNjcXGjRsBAH5+fsjL\n",
              "y9NvV6vV8PPza3VbcxYtWoSysjKDJSoqqgOOhIioc+mCahi+mDcMf39ioNTlEBF1OqOH1JycHP1d\n",
              "+bW1tdi2bRsGDRoEAJg0aRJSU1NRXFwMURSxatUqxMbGtrqtOXK5HG5ubgaLTCYz9iEREUnCxkZA\n",
              "pMoDjva8rhGR9WlXSE1ISIBSqURBQQHGjh2LoKAgAEBcXBxSU1MBALt370Z4eDhCQ0MRHh6Obt26\n",
              "YfHixQCAgIAALFmyBMOHD0dQUBC8vLyQkJDQ6jYiIiIisi6CKIqi1EUY08KFC7F8+XKpyyAiIiKi\n",
              "u8BvnCIiIiIik8OQSkREREQmhyGViIiIiEwOQyoRERERmRyGVCIiIiIyOQypRERERGRyGFKJiIiI\n",
              "yOQwpBIRERGRyWFIJSIiIiKTY3HfODVx4kSoVKpO2VdDQwMyMzMRFRUFmYzfrX0Tz0vzeG5uj+el\n",
              "eTw3t8fz0jyem9vjebk9qc6Lv78/XnzxxRbHWFxI7Uzl5eVQKBQoKyuDm5ub1OWYDJ6X5vHc3B7P\n",
              "S/N4bm6P56V5PDe3x/Nye6Z8Xvh2PxERERGZHIZUIiIiIjI5DKlEREREZHIYUu+CXC7HX/7yF8jl\n",
              "cqlLMSk8L83jubk9npfm8dzcHs9L83hubo/n5fZM+bzwxikiIiIiMjnspBIRERGRyWFIJSIiIiKT\n",
              "w5BKRERERCaHIbUNzp49i3vuuQe9e/dGZGQkjh8/fttxycnJCA4ORmBgIOLj41FXV9fJlXautpyX\n",
              "vXv3wtHREWFhYfqlurpagmo7z4IFC6BSqSAIArKzs5sdZ22vF6Bt58YaXzM1NTV4/PHH0bt3b4SG\n",
              "hmLMmDHIycm57dgdO3YgJCQEwcHBmDhxIsrLyzu52s7T1vOiVqshk8kMXjO5ubkSVNy5HnzwQQwa\n",
              "NAhhYWG49957ceTIkduOs7ZrTVvOizVeZ25au3YtBEHA9u3bb7vdpK4xIrVq5MiR4tq1a0VRFMUv\n",
              "vvhCHDJkyC1jzp07J/r6+opFRUWiVqsVH3vsMfGDDz7o5Eo7V1vOy549e8TQ0NDOLUxi+/btEy9c\n",
              "uCD6+/uLR44cue0Ya3y9iGLbzo01vmaqq6vFb775RtRqtaIoiuLKlSvF++6775ZxFRUVore3t3jy\n",
              "5ElRFEXxueeeE//0pz91Zqmdqq3n5fz586JCoejc4kzA9evX9X9OSUkRBw0adMsYa7zWtOW8WON1\n",
              "RhR1PyvDhg0To6OjxW3btt2y3dSuMeyktqKkpAQHDx7EU089BQCYNGkSLly4cMtv81u3bsX48ePh\n",
              "4+MDQRAwb948bNq0SYqSO0Vbz4s1iomJgVKpbHGMtb1ebmrLubFGDg4OePjhhyEIAgAgOjoaarX6\n",
              "lnHffvstwsPDERISAgCYP3++Rb9u2nperJW7u7v+z2VlZfrz1JQ1Xmvacl6skVarRVxcHFauXNns\n",
              "x02Z2jWGIbUVFy5cgK+vL2xtbQEAgiDAz88P+fn5BuPy8/Ph7++v/7tKpbpljCVp63kBgNzcXERE\n",
              "RCAyMhKJiYmdXapJsrbXS3tZ+2tmxYoVmDBhwi3rb/e6KSoqQn19fWeWJ5nmzgsAVFVVITIyEhER\n",
              "EVi6dCkaGho6uTppzJw5Ez179sTixYuxYcOGW7Zb67WmtfMCWN91Zvny5Rg+fDgGDx7c7BhTu8bY\n",
              "SrJXshoREREoKCiAQqFAQUEBHn74YXh6euLJJ5+UujQyUdb+mvn73/+OnJwc7Nq1S+pSTEpL58XX\n",
              "1xeFhYXw9vbGtWvXMGXKFLzzzjt49dVXJai0c61fvx4A8Mknn+C1117Df//7X4krMg2tnRdru878\n",
              "+uuv+PLLL/Hjjz9KXUq7sJPaip49exr8FiGKIvLz8+Hn52cwzs/PD3l5efq/q9XqW8ZYkraeFzc3\n",
              "NygUCgCAUqnE1KlTkZaW1un1mhpre720hzW/Zv79738jJSUF3377LZycnG7ZfrvXTdN3NCxVa+dF\n",
              "LpfD29sbAODh4YHZs2dbzWvmpqeffhp79uzB1atXDdZb+7WmufNibdeZtLQ0qNVqBAcHQ6VSISMj\n",
              "A3PnzsV//vMfg3Gmdo1hSG2Ft7c3IiIi8OmnnwIAvvzySyiVSgQFBRmMmzRpElJTU1FcXAxRFLFq\n",
              "1SrExsZKUXKnaOt5KSoqglarBQBUVFRgx44dCA8P7/R6TY21vV7aw1pfM8uXL8emTZvwww8/GMyp\n",
              "a2rcuHE4fPgwTp06BQBITEy0+NdNW85LSUmJ/o51jUaDlJQUi3/NlJaW4uLFi/q/b9++HV27doWH\n",
              "h4fBOGu71rT1vFjbdebZZ59FUVER1Go11Go1oqOjkZSUhGeffdZgnMldYyS7ZcuMnDp1SoyOjhaD\n",
              "g4PFwYMHi7/88osoiqI4Z84c8auvvtKPS0pKEgMCAsSAgABx9uzZYm1trVQld4q2nJeVK1eK/fr1\n",
              "EwcNGiT269dP/Mtf/qK/U9dSzZ07V+zRo4cok8lEb29vMTAwUBRFvl5EsW3nxhpfMxcuXBABiAEB\n",
              "AWJoaKgYGhoqRkVFiaIoiosXLxb/85//6Md+9dVXYp8+fcTAwEBxwoQJYmlpqVRld7i2npcvv/xS\n",
              "7N+/v/418/zzz4s1NTVSlt7h1Gq1GBkZKQ4YMEAcNGiQOHr0aP0nZljztaat58UarzNN3Xffffq7\n",
              "+035GiOIoihKF5GJiIiIiG7Ft/uJiIiIyOQwpBIRERGRyWFIJSIiIiKTw5BKRERERCaHIZWIiIiI\n",
              "TA5DKhERERGZHIZUIiIiIjI5DKlEREREZHIYUomIiIjI5DCkEhEREZHJYUglIiIiIpPz/wE9clpG\n",
              "m/dntwAAAABJRU5ErkJggg==\n",
              "\">\n",
              "      </div>\n",
              "      <script type=\"text/javascript\">\n",
              "        (() => {\n",
              "          const chartElement = document.getElementById(\"chart-6c435642-3a44-484c-b60b-d6e9b1565398\");\n",
              "          async function getCodeForChartHandler(event) {\n",
              "            const chartCodeResponse =  await google.colab.kernel.invokeFunction(\n",
              "                'getCodeForChart', [\"chart-6c435642-3a44-484c-b60b-d6e9b1565398\"], {});\n",
              "            const responseJson = chartCodeResponse.data['application/json'];\n",
              "            await google.colab.notebook.addCell(responseJson.code, 'code');\n",
              "          }\n",
              "          chartElement.onclick = getCodeForChartHandler;\n",
              "        })();\n",
              "      </script>\n",
              "      <style>\n",
              "        .colab-quickchart-chart-with-code  {\n",
              "            display: block;\n",
              "            float: left;\n",
              "            border: 1px solid transparent;\n",
              "        }\n",
              "\n",
              "        .colab-quickchart-chart-with-code:hover {\n",
              "            cursor: pointer;\n",
              "            border: 1px solid #aaa;\n",
              "        }\n",
              "      </style>"
            ]
          },
          "metadata": {}
        }
      ],
      "source": [
        "iris.head()"
      ]
    },
    {
      "cell_type": "markdown",
      "metadata": {
        "id": "gSvKU-jb2kOl"
      },
      "source": [
        "<div class=\"alert alert-success\">\n",
        "\n",
        "<b>EXERCISE 4.1</b>: **Calculate the basic statistics for the dataset**\n",
        "</div>\n"
      ]
    },
    {
      "cell_type": "code",
      "execution_count": 40,
      "metadata": {
        "id": "ji6Ihj8-2kOl",
        "jupyter": {
          "outputs_hidden": false
        },
        "outputId": "6c09f608-38cf-48af-f832-df233a707827",
        "colab": {
          "base_uri": "https://localhost:8080/",
          "height": 300
        }
      },
      "outputs": [
        {
          "output_type": "execute_result",
          "data": {
            "text/plain": [
              "       Sepal.Length  Sepal.Width  Petal.Length  Petal.Width\n",
              "count    150.000000   150.000000    150.000000   150.000000\n",
              "mean       5.843333     3.057333      3.758000     1.199333\n",
              "std        0.828066     0.435866      1.765298     0.762238\n",
              "min        4.300000     2.000000      1.000000     0.100000\n",
              "25%        5.100000     2.800000      1.600000     0.300000\n",
              "50%        5.800000     3.000000      4.350000     1.300000\n",
              "75%        6.400000     3.300000      5.100000     1.800000\n",
              "max        7.900000     4.400000      6.900000     2.500000"
            ],
            "text/html": [
              "\n",
              "  <div id=\"df-f800e6d6-385c-40be-b7d2-06b5cd7d2cfb\" class=\"colab-df-container\">\n",
              "    <div>\n",
              "<style scoped>\n",
              "    .dataframe tbody tr th:only-of-type {\n",
              "        vertical-align: middle;\n",
              "    }\n",
              "\n",
              "    .dataframe tbody tr th {\n",
              "        vertical-align: top;\n",
              "    }\n",
              "\n",
              "    .dataframe thead th {\n",
              "        text-align: right;\n",
              "    }\n",
              "</style>\n",
              "<table border=\"1\" class=\"dataframe\">\n",
              "  <thead>\n",
              "    <tr style=\"text-align: right;\">\n",
              "      <th></th>\n",
              "      <th>Sepal.Length</th>\n",
              "      <th>Sepal.Width</th>\n",
              "      <th>Petal.Length</th>\n",
              "      <th>Petal.Width</th>\n",
              "    </tr>\n",
              "  </thead>\n",
              "  <tbody>\n",
              "    <tr>\n",
              "      <th>count</th>\n",
              "      <td>150.000000</td>\n",
              "      <td>150.000000</td>\n",
              "      <td>150.000000</td>\n",
              "      <td>150.000000</td>\n",
              "    </tr>\n",
              "    <tr>\n",
              "      <th>mean</th>\n",
              "      <td>5.843333</td>\n",
              "      <td>3.057333</td>\n",
              "      <td>3.758000</td>\n",
              "      <td>1.199333</td>\n",
              "    </tr>\n",
              "    <tr>\n",
              "      <th>std</th>\n",
              "      <td>0.828066</td>\n",
              "      <td>0.435866</td>\n",
              "      <td>1.765298</td>\n",
              "      <td>0.762238</td>\n",
              "    </tr>\n",
              "    <tr>\n",
              "      <th>min</th>\n",
              "      <td>4.300000</td>\n",
              "      <td>2.000000</td>\n",
              "      <td>1.000000</td>\n",
              "      <td>0.100000</td>\n",
              "    </tr>\n",
              "    <tr>\n",
              "      <th>25%</th>\n",
              "      <td>5.100000</td>\n",
              "      <td>2.800000</td>\n",
              "      <td>1.600000</td>\n",
              "      <td>0.300000</td>\n",
              "    </tr>\n",
              "    <tr>\n",
              "      <th>50%</th>\n",
              "      <td>5.800000</td>\n",
              "      <td>3.000000</td>\n",
              "      <td>4.350000</td>\n",
              "      <td>1.300000</td>\n",
              "    </tr>\n",
              "    <tr>\n",
              "      <th>75%</th>\n",
              "      <td>6.400000</td>\n",
              "      <td>3.300000</td>\n",
              "      <td>5.100000</td>\n",
              "      <td>1.800000</td>\n",
              "    </tr>\n",
              "    <tr>\n",
              "      <th>max</th>\n",
              "      <td>7.900000</td>\n",
              "      <td>4.400000</td>\n",
              "      <td>6.900000</td>\n",
              "      <td>2.500000</td>\n",
              "    </tr>\n",
              "  </tbody>\n",
              "</table>\n",
              "</div>\n",
              "    <div class=\"colab-df-buttons\">\n",
              "\n",
              "  <div class=\"colab-df-container\">\n",
              "    <button class=\"colab-df-convert\" onclick=\"convertToInteractive('df-f800e6d6-385c-40be-b7d2-06b5cd7d2cfb')\"\n",
              "            title=\"Convert this dataframe to an interactive table.\"\n",
              "            style=\"display:none;\">\n",
              "\n",
              "  <svg xmlns=\"http://www.w3.org/2000/svg\" height=\"24px\" viewBox=\"0 -960 960 960\">\n",
              "    <path d=\"M120-120v-720h720v720H120Zm60-500h600v-160H180v160Zm220 220h160v-160H400v160Zm0 220h160v-160H400v160ZM180-400h160v-160H180v160Zm440 0h160v-160H620v160ZM180-180h160v-160H180v160Zm440 0h160v-160H620v160Z\"/>\n",
              "  </svg>\n",
              "    </button>\n",
              "\n",
              "  <style>\n",
              "    .colab-df-container {\n",
              "      display:flex;\n",
              "      gap: 12px;\n",
              "    }\n",
              "\n",
              "    .colab-df-convert {\n",
              "      background-color: #E8F0FE;\n",
              "      border: none;\n",
              "      border-radius: 50%;\n",
              "      cursor: pointer;\n",
              "      display: none;\n",
              "      fill: #1967D2;\n",
              "      height: 32px;\n",
              "      padding: 0 0 0 0;\n",
              "      width: 32px;\n",
              "    }\n",
              "\n",
              "    .colab-df-convert:hover {\n",
              "      background-color: #E2EBFA;\n",
              "      box-shadow: 0px 1px 2px rgba(60, 64, 67, 0.3), 0px 1px 3px 1px rgba(60, 64, 67, 0.15);\n",
              "      fill: #174EA6;\n",
              "    }\n",
              "\n",
              "    .colab-df-buttons div {\n",
              "      margin-bottom: 4px;\n",
              "    }\n",
              "\n",
              "    [theme=dark] .colab-df-convert {\n",
              "      background-color: #3B4455;\n",
              "      fill: #D2E3FC;\n",
              "    }\n",
              "\n",
              "    [theme=dark] .colab-df-convert:hover {\n",
              "      background-color: #434B5C;\n",
              "      box-shadow: 0px 1px 3px 1px rgba(0, 0, 0, 0.15);\n",
              "      filter: drop-shadow(0px 1px 2px rgba(0, 0, 0, 0.3));\n",
              "      fill: #FFFFFF;\n",
              "    }\n",
              "  </style>\n",
              "\n",
              "    <script>\n",
              "      const buttonEl =\n",
              "        document.querySelector('#df-f800e6d6-385c-40be-b7d2-06b5cd7d2cfb button.colab-df-convert');\n",
              "      buttonEl.style.display =\n",
              "        google.colab.kernel.accessAllowed ? 'block' : 'none';\n",
              "\n",
              "      async function convertToInteractive(key) {\n",
              "        const element = document.querySelector('#df-f800e6d6-385c-40be-b7d2-06b5cd7d2cfb');\n",
              "        const dataTable =\n",
              "          await google.colab.kernel.invokeFunction('convertToInteractive',\n",
              "                                                    [key], {});\n",
              "        if (!dataTable) return;\n",
              "\n",
              "        const docLinkHtml = 'Like what you see? Visit the ' +\n",
              "          '<a target=\"_blank\" href=https://colab.research.google.com/notebooks/data_table.ipynb>data table notebook</a>'\n",
              "          + ' to learn more about interactive tables.';\n",
              "        element.innerHTML = '';\n",
              "        dataTable['output_type'] = 'display_data';\n",
              "        await google.colab.output.renderOutput(dataTable, element);\n",
              "        const docLink = document.createElement('div');\n",
              "        docLink.innerHTML = docLinkHtml;\n",
              "        element.appendChild(docLink);\n",
              "      }\n",
              "    </script>\n",
              "  </div>\n",
              "\n",
              "\n",
              "<div id=\"df-efb57dc2-3663-4fec-9020-9962f35b40b0\">\n",
              "  <button class=\"colab-df-quickchart\" onclick=\"quickchart('df-efb57dc2-3663-4fec-9020-9962f35b40b0')\"\n",
              "            title=\"Suggest charts\"\n",
              "            style=\"display:none;\">\n",
              "\n",
              "<svg xmlns=\"http://www.w3.org/2000/svg\" height=\"24px\"viewBox=\"0 0 24 24\"\n",
              "     width=\"24px\">\n",
              "    <g>\n",
              "        <path d=\"M19 3H5c-1.1 0-2 .9-2 2v14c0 1.1.9 2 2 2h14c1.1 0 2-.9 2-2V5c0-1.1-.9-2-2-2zM9 17H7v-7h2v7zm4 0h-2V7h2v10zm4 0h-2v-4h2v4z\"/>\n",
              "    </g>\n",
              "</svg>\n",
              "  </button>\n",
              "\n",
              "<style>\n",
              "  .colab-df-quickchart {\n",
              "      --bg-color: #E8F0FE;\n",
              "      --fill-color: #1967D2;\n",
              "      --hover-bg-color: #E2EBFA;\n",
              "      --hover-fill-color: #174EA6;\n",
              "      --disabled-fill-color: #AAA;\n",
              "      --disabled-bg-color: #DDD;\n",
              "  }\n",
              "\n",
              "  [theme=dark] .colab-df-quickchart {\n",
              "      --bg-color: #3B4455;\n",
              "      --fill-color: #D2E3FC;\n",
              "      --hover-bg-color: #434B5C;\n",
              "      --hover-fill-color: #FFFFFF;\n",
              "      --disabled-bg-color: #3B4455;\n",
              "      --disabled-fill-color: #666;\n",
              "  }\n",
              "\n",
              "  .colab-df-quickchart {\n",
              "    background-color: var(--bg-color);\n",
              "    border: none;\n",
              "    border-radius: 50%;\n",
              "    cursor: pointer;\n",
              "    display: none;\n",
              "    fill: var(--fill-color);\n",
              "    height: 32px;\n",
              "    padding: 0;\n",
              "    width: 32px;\n",
              "  }\n",
              "\n",
              "  .colab-df-quickchart:hover {\n",
              "    background-color: var(--hover-bg-color);\n",
              "    box-shadow: 0 1px 2px rgba(60, 64, 67, 0.3), 0 1px 3px 1px rgba(60, 64, 67, 0.15);\n",
              "    fill: var(--button-hover-fill-color);\n",
              "  }\n",
              "\n",
              "  .colab-df-quickchart-complete:disabled,\n",
              "  .colab-df-quickchart-complete:disabled:hover {\n",
              "    background-color: var(--disabled-bg-color);\n",
              "    fill: var(--disabled-fill-color);\n",
              "    box-shadow: none;\n",
              "  }\n",
              "\n",
              "  .colab-df-spinner {\n",
              "    border: 2px solid var(--fill-color);\n",
              "    border-color: transparent;\n",
              "    border-bottom-color: var(--fill-color);\n",
              "    animation:\n",
              "      spin 1s steps(1) infinite;\n",
              "  }\n",
              "\n",
              "  @keyframes spin {\n",
              "    0% {\n",
              "      border-color: transparent;\n",
              "      border-bottom-color: var(--fill-color);\n",
              "      border-left-color: var(--fill-color);\n",
              "    }\n",
              "    20% {\n",
              "      border-color: transparent;\n",
              "      border-left-color: var(--fill-color);\n",
              "      border-top-color: var(--fill-color);\n",
              "    }\n",
              "    30% {\n",
              "      border-color: transparent;\n",
              "      border-left-color: var(--fill-color);\n",
              "      border-top-color: var(--fill-color);\n",
              "      border-right-color: var(--fill-color);\n",
              "    }\n",
              "    40% {\n",
              "      border-color: transparent;\n",
              "      border-right-color: var(--fill-color);\n",
              "      border-top-color: var(--fill-color);\n",
              "    }\n",
              "    60% {\n",
              "      border-color: transparent;\n",
              "      border-right-color: var(--fill-color);\n",
              "    }\n",
              "    80% {\n",
              "      border-color: transparent;\n",
              "      border-right-color: var(--fill-color);\n",
              "      border-bottom-color: var(--fill-color);\n",
              "    }\n",
              "    90% {\n",
              "      border-color: transparent;\n",
              "      border-bottom-color: var(--fill-color);\n",
              "    }\n",
              "  }\n",
              "</style>\n",
              "\n",
              "  <script>\n",
              "    async function quickchart(key) {\n",
              "      const quickchartButtonEl =\n",
              "        document.querySelector('#' + key + ' button');\n",
              "      quickchartButtonEl.disabled = true;  // To prevent multiple clicks.\n",
              "      quickchartButtonEl.classList.add('colab-df-spinner');\n",
              "      try {\n",
              "        const charts = await google.colab.kernel.invokeFunction(\n",
              "            'suggestCharts', [key], {});\n",
              "      } catch (error) {\n",
              "        console.error('Error during call to suggestCharts:', error);\n",
              "      }\n",
              "      quickchartButtonEl.classList.remove('colab-df-spinner');\n",
              "      quickchartButtonEl.classList.add('colab-df-quickchart-complete');\n",
              "    }\n",
              "    (() => {\n",
              "      let quickchartButtonEl =\n",
              "        document.querySelector('#df-efb57dc2-3663-4fec-9020-9962f35b40b0 button');\n",
              "      quickchartButtonEl.style.display =\n",
              "        google.colab.kernel.accessAllowed ? 'block' : 'none';\n",
              "    })();\n",
              "  </script>\n",
              "</div>\n",
              "\n",
              "    </div>\n",
              "  </div>\n"
            ]
          },
          "metadata": {},
          "execution_count": 40
        }
      ],
      "source": [
        "iris.describe()"
      ]
    },
    {
      "cell_type": "markdown",
      "metadata": {
        "id": "3N1KJm6M2kOl"
      },
      "source": [
        "<div class=\"alert alert-success\">\n",
        "\n",
        "<b>EXERCISE 4.2</b>: **Create a scatter plot of the “sepal length” versus the “sepal width”.**\n",
        "</div>  "
      ]
    },
    {
      "cell_type": "code",
      "execution_count": 41,
      "metadata": {
        "id": "gi7b97m22kOl",
        "jupyter": {
          "outputs_hidden": false
        },
        "outputId": "a8f805df-b951-4e74-c2e4-716fec6cb131",
        "colab": {
          "base_uri": "https://localhost:8080/",
          "height": 469
        }
      },
      "outputs": [
        {
          "output_type": "execute_result",
          "data": {
            "text/plain": [
              "<Axes: xlabel='Sepal.Length', ylabel='Sepal.Width'>"
            ]
          },
          "metadata": {},
          "execution_count": 41
        },
        {
          "output_type": "display_data",
          "data": {
            "text/plain": [
              "<Figure size 640x480 with 1 Axes>"
            ],
            "image/png": "[encoded data removed]"
          },
          "metadata": {}
        }
      ],
      "source": [
        "iris.plot.scatter(\"Sepal.Length\",\"Sepal.Width\")"
      ]
    },
    {
      "cell_type": "markdown",
      "metadata": {
        "id": "pHkKF9Vx2kOl"
      },
      "source": [
        "<div class=\"alert alert-success\">\n",
        "\n",
        "<b>EXERCISE 4.3</b>: **Create a frequency histogram of the variable “sepal length”.**\n",
        "</div>      "
      ]
    },
    {
      "cell_type": "code",
      "execution_count": 50,
      "metadata": {
        "id": "4Qa_Dydz2kOm",
        "jupyter": {
          "outputs_hidden": false
        },
        "outputId": "a589fe24-b1b3-41dd-db69-6695480e089f",
        "colab": {
          "base_uri": "https://localhost:8080/",
          "height": 447
        }
      },
      "outputs": [
        {
          "output_type": "execute_result",
          "data": {
            "text/plain": [
              "<Axes: ylabel='Frequency'>"
            ]
          },
          "metadata": {},
          "execution_count": 50
        },
        {
          "output_type": "display_data",
          "data": {
            "text/plain": [
              "<Figure size 640x480 with 1 Axes>"
            ],
            "image/png": "[encoded data removed]"
          },
          "metadata": {}
        }
      ],
      "source": [
        "iris['Sepal.Length'].plot(kind=\"hist\")"
      ]
    },
    {
      "cell_type": "markdown",
      "metadata": {
        "id": "v0IYlvFg2kOm"
      },
      "source": [
        "<div class=\"alert alert-success\">\n",
        "\n",
        "<b>EXERCISE 4.4</b>: **Create a scatter plot of the \"petal length\" versus the \"petal width\" incorporating the species information as well.**     \n",
        "Hint! You can use 'replace' functions or 'cat.codes', see docs, to transform categorical data to numeric values\n",
        "</div>  \n",
        "\n"
      ]
    },
    {
      "cell_type": "code",
      "execution_count": 53,
      "metadata": {
        "id": "zh-Pa4h12kOm",
        "jupyter": {
          "outputs_hidden": false
        },
        "outputId": "23edf5ff-0bec-4979-82f8-b5ebb4367be1",
        "colab": {
          "base_uri": "https://localhost:8080/",
          "height": 860
        }
      },
      "outputs": [
        {
          "output_type": "error",
          "ename": "ValueError",
          "evalue": "'c' argument must be a color, a sequence of colors, or a sequence of numbers, not {'pig': 'pink', 'horse': '#742802'}",
          "traceback": [
            "\u001b[0;31m---------------------------------------------------------------------------\u001b[0m",
            "\u001b[0;31mValueError\u001b[0m                                Traceback (most recent call last)",
            "\u001b[0;32m/usr/local/lib/python3.10/dist-packages/matplotlib/axes/_axes.py\u001b[0m in \u001b[0;36m_parse_scatter_color_args\u001b[0;34m(c, edgecolors, kwargs, xsize, get_next_color_func)\u001b[0m\n\u001b[1;32m   4438\u001b[0m             \u001b[0;32mtry\u001b[0m\u001b[0;34m:\u001b[0m  \u001b[0;31m# Is 'c' acceptable as PathCollection facecolors?\u001b[0m\u001b[0;34m\u001b[0m\u001b[0;34m\u001b[0m\u001b[0m\n\u001b[0;32m-> 4439\u001b[0;31m                 \u001b[0mcolors\u001b[0m \u001b[0;34m=\u001b[0m \u001b[0mmcolors\u001b[0m\u001b[0;34m.\u001b[0m\u001b[0mto_rgba_array\u001b[0m\u001b[0;34m(\u001b[0m\u001b[0mc\u001b[0m\u001b[0;34m)\u001b[0m\u001b[0;34m\u001b[0m\u001b[0;34m\u001b[0m\u001b[0m\n\u001b[0m\u001b[1;32m   4440\u001b[0m             \u001b[0;32mexcept\u001b[0m \u001b[0;34m(\u001b[0m\u001b[0mTypeError\u001b[0m\u001b[0;34m,\u001b[0m \u001b[0mValueError\u001b[0m\u001b[0;34m)\u001b[0m \u001b[0;32mas\u001b[0m \u001b[0merr\u001b[0m\u001b[0;34m:\u001b[0m\u001b[0;34m\u001b[0m\u001b[0;34m\u001b[0m\u001b[0m\n",
            "\u001b[0;32m/usr/local/lib/python3.10/dist-packages/matplotlib/colors.py\u001b[0m in \u001b[0;36mto_rgba_array\u001b[0;34m(c, alpha)\u001b[0m\n\u001b[1;32m    486\u001b[0m     \u001b[0;32melse\u001b[0m\u001b[0;34m:\u001b[0m\u001b[0;34m\u001b[0m\u001b[0;34m\u001b[0m\u001b[0m\n\u001b[0;32m--> 487\u001b[0;31m         \u001b[0mrgba\u001b[0m \u001b[0;34m=\u001b[0m \u001b[0mnp\u001b[0m\u001b[0;34m.\u001b[0m\u001b[0marray\u001b[0m\u001b[0;34m(\u001b[0m\u001b[0;34m[\u001b[0m\u001b[0mto_rgba\u001b[0m\u001b[0;34m(\u001b[0m\u001b[0mcc\u001b[0m\u001b[0;34m)\u001b[0m \u001b[0;32mfor\u001b[0m \u001b[0mcc\u001b[0m \u001b[0;32min\u001b[0m \u001b[0mc\u001b[0m\u001b[0;34m]\u001b[0m\u001b[0;34m)\u001b[0m\u001b[0;34m\u001b[0m\u001b[0;34m\u001b[0m\u001b[0m\n\u001b[0m\u001b[1;32m    488\u001b[0m \u001b[0;34m\u001b[0m\u001b[0m\n",
            "\u001b[0;32m/usr/local/lib/python3.10/dist-packages/matplotlib/colors.py\u001b[0m in \u001b[0;36m<listcomp>\u001b[0;34m(.0)\u001b[0m\n\u001b[1;32m    486\u001b[0m     \u001b[0;32melse\u001b[0m\u001b[0;34m:\u001b[0m\u001b[0;34m\u001b[0m\u001b[0;34m\u001b[0m\u001b[0m\n\u001b[0;32m--> 487\u001b[0;31m         \u001b[0mrgba\u001b[0m \u001b[0;34m=\u001b[0m \u001b[0mnp\u001b[0m\u001b[0;34m.\u001b[0m\u001b[0marray\u001b[0m\u001b[0;34m(\u001b[0m\u001b[0;34m[\u001b[0m\u001b[0mto_rgba\u001b[0m\u001b[0;34m(\u001b[0m\u001b[0mcc\u001b[0m\u001b[0;34m)\u001b[0m \u001b[0;32mfor\u001b[0m \u001b[0mcc\u001b[0m \u001b[0;32min\u001b[0m \u001b[0mc\u001b[0m\u001b[0;34m]\u001b[0m\u001b[0;34m)\u001b[0m\u001b[0;34m\u001b[0m\u001b[0;34m\u001b[0m\u001b[0m\n\u001b[0m\u001b[1;32m    488\u001b[0m \u001b[0;34m\u001b[0m\u001b[0m\n",
            "\u001b[0;32m/usr/local/lib/python3.10/dist-packages/matplotlib/colors.py\u001b[0m in \u001b[0;36mto_rgba\u001b[0;34m(c, alpha)\u001b[0m\n\u001b[1;32m    298\u001b[0m     \u001b[0;32mif\u001b[0m \u001b[0mrgba\u001b[0m \u001b[0;32mis\u001b[0m \u001b[0;32mNone\u001b[0m\u001b[0;34m:\u001b[0m  \u001b[0;31m# Suppress exception chaining of cache lookup failure.\u001b[0m\u001b[0;34m\u001b[0m\u001b[0;34m\u001b[0m\u001b[0m\n\u001b[0;32m--> 299\u001b[0;31m         \u001b[0mrgba\u001b[0m \u001b[0;34m=\u001b[0m \u001b[0m_to_rgba_no_colorcycle\u001b[0m\u001b[0;34m(\u001b[0m\u001b[0mc\u001b[0m\u001b[0;34m,\u001b[0m \u001b[0malpha\u001b[0m\u001b[0;34m)\u001b[0m\u001b[0;34m\u001b[0m\u001b[0;34m\u001b[0m\u001b[0m\n\u001b[0m\u001b[1;32m    300\u001b[0m         \u001b[0;32mtry\u001b[0m\u001b[0;34m:\u001b[0m\u001b[0;34m\u001b[0m\u001b[0;34m\u001b[0m\u001b[0m\n",
            "\u001b[0;32m/usr/local/lib/python3.10/dist-packages/matplotlib/colors.py\u001b[0m in \u001b[0;36m_to_rgba_no_colorcycle\u001b[0;34m(c, alpha)\u001b[0m\n\u001b[1;32m    373\u001b[0m             \u001b[0;32mreturn\u001b[0m \u001b[0mc\u001b[0m\u001b[0;34m,\u001b[0m \u001b[0mc\u001b[0m\u001b[0;34m,\u001b[0m \u001b[0mc\u001b[0m\u001b[0;34m,\u001b[0m \u001b[0malpha\u001b[0m \u001b[0;32mif\u001b[0m \u001b[0malpha\u001b[0m \u001b[0;32mis\u001b[0m \u001b[0;32mnot\u001b[0m \u001b[0;32mNone\u001b[0m \u001b[0;32melse\u001b[0m \u001b[0;36m1.\u001b[0m\u001b[0;34m\u001b[0m\u001b[0;34m\u001b[0m\u001b[0m\n\u001b[0;32m--> 374\u001b[0;31m         \u001b[0;32mraise\u001b[0m \u001b[0mValueError\u001b[0m\u001b[0;34m(\u001b[0m\u001b[0;34mf\"Invalid RGBA argument: {orig_c!r}\"\u001b[0m\u001b[0;34m)\u001b[0m\u001b[0;34m\u001b[0m\u001b[0;34m\u001b[0m\u001b[0m\n\u001b[0m\u001b[1;32m    375\u001b[0m     \u001b[0;31m# turn 2-D array into 1-D array\u001b[0m\u001b[0;34m\u001b[0m\u001b[0;34m\u001b[0m\u001b[0m\n",
            "\u001b[0;31mValueError\u001b[0m: Invalid RGBA argument: 'pig'",
            "\nThe above exception was the direct cause of the following exception:\n",
            "\u001b[0;31mValueError\u001b[0m                                Traceback (most recent call last)",
            "\u001b[0;32m<ipython-input-53-bf96ca3b35bb>\u001b[0m in \u001b[0;36m<cell line: 5>\u001b[0;34m()\u001b[0m\n\u001b[1;32m      3\u001b[0m \u001b[0miris\u001b[0m\u001b[0;34m[\u001b[0m\u001b[0;34m\"Species\"\u001b[0m\u001b[0;34m]\u001b[0m \u001b[0;34m=\u001b[0m \u001b[0miris\u001b[0m\u001b[0;34m[\u001b[0m\u001b[0;34m\"Species\"\u001b[0m\u001b[0;34m]\u001b[0m\u001b[0;34m.\u001b[0m\u001b[0mastype\u001b[0m\u001b[0;34m(\u001b[0m\u001b[0;34m'category'\u001b[0m\u001b[0;34m)\u001b[0m\u001b[0;34m\u001b[0m\u001b[0;34m\u001b[0m\u001b[0m\n\u001b[1;32m      4\u001b[0m \u001b[0miris\u001b[0m\u001b[0;34m[\u001b[0m\u001b[0;34m\"Species\"\u001b[0m\u001b[0;34m]\u001b[0m \u001b[0;34m=\u001b[0m \u001b[0miris\u001b[0m\u001b[0;34m[\u001b[0m\u001b[0;34m\"Species\"\u001b[0m\u001b[0;34m]\u001b[0m\u001b[0;34m.\u001b[0m\u001b[0mcat\u001b[0m\u001b[0;34m.\u001b[0m\u001b[0mcodes\u001b[0m\u001b[0;34m\u001b[0m\u001b[0;34m\u001b[0m\u001b[0m\n\u001b[0;32m----> 5\u001b[0;31m \u001b[0miris\u001b[0m\u001b[0;34m.\u001b[0m\u001b[0mplot\u001b[0m\u001b[0;34m.\u001b[0m\u001b[0mscatter\u001b[0m\u001b[0;34m(\u001b[0m\u001b[0;34m\"Sepal.Length\"\u001b[0m\u001b[0;34m,\u001b[0m\u001b[0;34m\"Sepal.Width\"\u001b[0m\u001b[0;34m,\u001b[0m\u001b[0mcolor\u001b[0m\u001b[0;34m=\u001b[0m\u001b[0;34m{\u001b[0m\u001b[0;34m\"pig\"\u001b[0m\u001b[0;34m:\u001b[0m \u001b[0;34m\"pink\"\u001b[0m\u001b[0;34m,\u001b[0m \u001b[0;34m\"horse\"\u001b[0m\u001b[0;34m:\u001b[0m \u001b[0;34m\"#742802\"\u001b[0m\u001b[0;34m}\u001b[0m\u001b[0;34m)\u001b[0m\u001b[0;34m\u001b[0m\u001b[0;34m\u001b[0m\u001b[0m\n\u001b[0m",
            "\u001b[0;32m/usr/local/lib/python3.10/dist-packages/pandas/plotting/_core.py\u001b[0m in \u001b[0;36mscatter\u001b[0;34m(self, x, y, s, c, **kwargs)\u001b[0m\n\u001b[1;32m   1695\u001b[0m             ...                       colormap='viridis')\n\u001b[1;32m   1696\u001b[0m         \"\"\"\n\u001b[0;32m-> 1697\u001b[0;31m         \u001b[0;32mreturn\u001b[0m \u001b[0mself\u001b[0m\u001b[0;34m(\u001b[0m\u001b[0mkind\u001b[0m\u001b[0;34m=\u001b[0m\u001b[0;34m\"scatter\"\u001b[0m\u001b[0;34m,\u001b[0m \u001b[0mx\u001b[0m\u001b[0;34m=\u001b[0m\u001b[0mx\u001b[0m\u001b[0;34m,\u001b[0m \u001b[0my\u001b[0m\u001b[0;34m=\u001b[0m\u001b[0my\u001b[0m\u001b[0;34m,\u001b[0m \u001b[0ms\u001b[0m\u001b[0;34m=\u001b[0m\u001b[0ms\u001b[0m\u001b[0;34m,\u001b[0m \u001b[0mc\u001b[0m\u001b[0;34m=\u001b[0m\u001b[0mc\u001b[0m\u001b[0;34m,\u001b[0m \u001b[0;34m**\u001b[0m\u001b[0mkwargs\u001b[0m\u001b[0;34m)\u001b[0m\u001b[0;34m\u001b[0m\u001b[0;34m\u001b[0m\u001b[0m\n\u001b[0m\u001b[1;32m   1698\u001b[0m \u001b[0;34m\u001b[0m\u001b[0m\n\u001b[1;32m   1699\u001b[0m     def hexbin(\n",
            "\u001b[0;32m/usr/local/lib/python3.10/dist-packages/pandas/plotting/_core.py\u001b[0m in \u001b[0;36m__call__\u001b[0;34m(self, *args, **kwargs)\u001b[0m\n\u001b[1;32m    943\u001b[0m         \u001b[0;32mif\u001b[0m \u001b[0mkind\u001b[0m \u001b[0;32min\u001b[0m \u001b[0mself\u001b[0m\u001b[0;34m.\u001b[0m\u001b[0m_dataframe_kinds\u001b[0m\u001b[0;34m:\u001b[0m\u001b[0;34m\u001b[0m\u001b[0;34m\u001b[0m\u001b[0m\n\u001b[1;32m    944\u001b[0m             \u001b[0;32mif\u001b[0m \u001b[0misinstance\u001b[0m\u001b[0;34m(\u001b[0m\u001b[0mdata\u001b[0m\u001b[0;34m,\u001b[0m \u001b[0mABCDataFrame\u001b[0m\u001b[0;34m)\u001b[0m\u001b[0;34m:\u001b[0m\u001b[0;34m\u001b[0m\u001b[0;34m\u001b[0m\u001b[0m\n\u001b[0;32m--> 945\u001b[0;31m                 \u001b[0;32mreturn\u001b[0m \u001b[0mplot_backend\u001b[0m\u001b[0;34m.\u001b[0m\u001b[0mplot\u001b[0m\u001b[0;34m(\u001b[0m\u001b[0mdata\u001b[0m\u001b[0;34m,\u001b[0m \u001b[0mx\u001b[0m\u001b[0;34m=\u001b[0m\u001b[0mx\u001b[0m\u001b[0;34m,\u001b[0m \u001b[0my\u001b[0m\u001b[0;34m=\u001b[0m\u001b[0my\u001b[0m\u001b[0;34m,\u001b[0m \u001b[0mkind\u001b[0m\u001b[0;34m=\u001b[0m\u001b[0mkind\u001b[0m\u001b[0;34m,\u001b[0m \u001b[0;34m**\u001b[0m\u001b[0mkwargs\u001b[0m\u001b[0;34m)\u001b[0m\u001b[0;34m\u001b[0m\u001b[0;34m\u001b[0m\u001b[0m\n\u001b[0m\u001b[1;32m    946\u001b[0m             \u001b[0;32melse\u001b[0m\u001b[0;34m:\u001b[0m\u001b[0;34m\u001b[0m\u001b[0;34m\u001b[0m\u001b[0m\n\u001b[1;32m    947\u001b[0m                 \u001b[0;32mraise\u001b[0m \u001b[0mValueError\u001b[0m\u001b[0;34m(\u001b[0m\u001b[0;34mf\"plot kind {kind} can only be used for data frames\"\u001b[0m\u001b[0;34m)\u001b[0m\u001b[0;34m\u001b[0m\u001b[0;34m\u001b[0m\u001b[0m\n",
            "\u001b[0;32m/usr/local/lib/python3.10/dist-packages/pandas/plotting/_matplotlib/__init__.py\u001b[0m in \u001b[0;36mplot\u001b[0;34m(data, kind, **kwargs)\u001b[0m\n\u001b[1;32m     69\u001b[0m             \u001b[0mkwargs\u001b[0m\u001b[0;34m[\u001b[0m\u001b[0;34m\"ax\"\u001b[0m\u001b[0;34m]\u001b[0m \u001b[0;34m=\u001b[0m \u001b[0mgetattr\u001b[0m\u001b[0;34m(\u001b[0m\u001b[0max\u001b[0m\u001b[0;34m,\u001b[0m \u001b[0;34m\"left_ax\"\u001b[0m\u001b[0;34m,\u001b[0m \u001b[0max\u001b[0m\u001b[0;34m)\u001b[0m\u001b[0;34m\u001b[0m\u001b[0;34m\u001b[0m\u001b[0m\n\u001b[1;32m     70\u001b[0m     \u001b[0mplot_obj\u001b[0m \u001b[0;34m=\u001b[0m \u001b[0mPLOT_CLASSES\u001b[0m\u001b[0;34m[\u001b[0m\u001b[0mkind\u001b[0m\u001b[0;34m]\u001b[0m\u001b[0;34m(\u001b[0m\u001b[0mdata\u001b[0m\u001b[0;34m,\u001b[0m \u001b[0;34m**\u001b[0m\u001b[0mkwargs\u001b[0m\u001b[0;34m)\u001b[0m\u001b[0;34m\u001b[0m\u001b[0;34m\u001b[0m\u001b[0m\n\u001b[0;32m---> 71\u001b[0;31m     \u001b[0mplot_obj\u001b[0m\u001b[0;34m.\u001b[0m\u001b[0mgenerate\u001b[0m\u001b[0;34m(\u001b[0m\u001b[0;34m)\u001b[0m\u001b[0;34m\u001b[0m\u001b[0;34m\u001b[0m\u001b[0m\n\u001b[0m\u001b[1;32m     72\u001b[0m     \u001b[0mplot_obj\u001b[0m\u001b[0;34m.\u001b[0m\u001b[0mdraw\u001b[0m\u001b[0;34m(\u001b[0m\u001b[0;34m)\u001b[0m\u001b[0;34m\u001b[0m\u001b[0;34m\u001b[0m\u001b[0m\n\u001b[1;32m     73\u001b[0m     \u001b[0;32mreturn\u001b[0m \u001b[0mplot_obj\u001b[0m\u001b[0;34m.\u001b[0m\u001b[0mresult\u001b[0m\u001b[0;34m\u001b[0m\u001b[0;34m\u001b[0m\u001b[0m\n",
            "\u001b[0;32m/usr/local/lib/python3.10/dist-packages/pandas/plotting/_matplotlib/core.py\u001b[0m in \u001b[0;36mgenerate\u001b[0;34m(self)\u001b[0m\n\u001b[1;32m    450\u001b[0m         \u001b[0mself\u001b[0m\u001b[0;34m.\u001b[0m\u001b[0m_compute_plot_data\u001b[0m\u001b[0;34m(\u001b[0m\u001b[0;34m)\u001b[0m\u001b[0;34m\u001b[0m\u001b[0;34m\u001b[0m\u001b[0m\n\u001b[1;32m    451\u001b[0m         \u001b[0mself\u001b[0m\u001b[0;34m.\u001b[0m\u001b[0m_setup_subplots\u001b[0m\u001b[0;34m(\u001b[0m\u001b[0;34m)\u001b[0m\u001b[0;34m\u001b[0m\u001b[0;34m\u001b[0m\u001b[0m\n\u001b[0;32m--> 452\u001b[0;31m         \u001b[0mself\u001b[0m\u001b[0;34m.\u001b[0m\u001b[0m_make_plot\u001b[0m\u001b[0;34m(\u001b[0m\u001b[0;34m)\u001b[0m\u001b[0;34m\u001b[0m\u001b[0;34m\u001b[0m\u001b[0m\n\u001b[0m\u001b[1;32m    453\u001b[0m         \u001b[0mself\u001b[0m\u001b[0;34m.\u001b[0m\u001b[0m_add_table\u001b[0m\u001b[0;34m(\u001b[0m\u001b[0;34m)\u001b[0m\u001b[0;34m\u001b[0m\u001b[0;34m\u001b[0m\u001b[0m\n\u001b[1;32m    454\u001b[0m         \u001b[0mself\u001b[0m\u001b[0;34m.\u001b[0m\u001b[0m_make_legend\u001b[0m\u001b[0;34m(\u001b[0m\u001b[0;34m)\u001b[0m\u001b[0;34m\u001b[0m\u001b[0;34m\u001b[0m\u001b[0m\n",
            "\u001b[0;32m/usr/local/lib/python3.10/dist-packages/pandas/plotting/_matplotlib/core.py\u001b[0m in \u001b[0;36m_make_plot\u001b[0;34m(self)\u001b[0m\n\u001b[1;32m   1257\u001b[0m         \u001b[0;32melse\u001b[0m\u001b[0;34m:\u001b[0m\u001b[0;34m\u001b[0m\u001b[0;34m\u001b[0m\u001b[0m\n\u001b[1;32m   1258\u001b[0m             \u001b[0mlabel\u001b[0m \u001b[0;34m=\u001b[0m \u001b[0;32mNone\u001b[0m\u001b[0;34m\u001b[0m\u001b[0;34m\u001b[0m\u001b[0m\n\u001b[0;32m-> 1259\u001b[0;31m         scatter = ax.scatter(\n\u001b[0m\u001b[1;32m   1260\u001b[0m             \u001b[0mdata\u001b[0m\u001b[0;34m[\u001b[0m\u001b[0mx\u001b[0m\u001b[0;34m]\u001b[0m\u001b[0;34m.\u001b[0m\u001b[0mvalues\u001b[0m\u001b[0;34m,\u001b[0m\u001b[0;34m\u001b[0m\u001b[0;34m\u001b[0m\u001b[0m\n\u001b[1;32m   1261\u001b[0m             \u001b[0mdata\u001b[0m\u001b[0;34m[\u001b[0m\u001b[0my\u001b[0m\u001b[0;34m]\u001b[0m\u001b[0;34m.\u001b[0m\u001b[0mvalues\u001b[0m\u001b[0;34m,\u001b[0m\u001b[0;34m\u001b[0m\u001b[0;34m\u001b[0m\u001b[0m\n",
            "\u001b[0;32m/usr/local/lib/python3.10/dist-packages/matplotlib/__init__.py\u001b[0m in \u001b[0;36minner\u001b[0;34m(ax, data, *args, **kwargs)\u001b[0m\n\u001b[1;32m   1440\u001b[0m     \u001b[0;32mdef\u001b[0m \u001b[0minner\u001b[0m\u001b[0;34m(\u001b[0m\u001b[0max\u001b[0m\u001b[0;34m,\u001b[0m \u001b[0;34m*\u001b[0m\u001b[0margs\u001b[0m\u001b[0;34m,\u001b[0m \u001b[0mdata\u001b[0m\u001b[0;34m=\u001b[0m\u001b[0;32mNone\u001b[0m\u001b[0;34m,\u001b[0m \u001b[0;34m**\u001b[0m\u001b[0mkwargs\u001b[0m\u001b[0;34m)\u001b[0m\u001b[0;34m:\u001b[0m\u001b[0;34m\u001b[0m\u001b[0;34m\u001b[0m\u001b[0m\n\u001b[1;32m   1441\u001b[0m         \u001b[0;32mif\u001b[0m \u001b[0mdata\u001b[0m \u001b[0;32mis\u001b[0m \u001b[0;32mNone\u001b[0m\u001b[0;34m:\u001b[0m\u001b[0;34m\u001b[0m\u001b[0;34m\u001b[0m\u001b[0m\n\u001b[0;32m-> 1442\u001b[0;31m             \u001b[0;32mreturn\u001b[0m \u001b[0mfunc\u001b[0m\u001b[0;34m(\u001b[0m\u001b[0max\u001b[0m\u001b[0;34m,\u001b[0m \u001b[0;34m*\u001b[0m\u001b[0mmap\u001b[0m\u001b[0;34m(\u001b[0m\u001b[0msanitize_sequence\u001b[0m\u001b[0;34m,\u001b[0m \u001b[0margs\u001b[0m\u001b[0;34m)\u001b[0m\u001b[0;34m,\u001b[0m \u001b[0;34m**\u001b[0m\u001b[0mkwargs\u001b[0m\u001b[0;34m)\u001b[0m\u001b[0;34m\u001b[0m\u001b[0;34m\u001b[0m\u001b[0m\n\u001b[0m\u001b[1;32m   1443\u001b[0m \u001b[0;34m\u001b[0m\u001b[0m\n\u001b[1;32m   1444\u001b[0m         \u001b[0mbound\u001b[0m \u001b[0;34m=\u001b[0m \u001b[0mnew_sig\u001b[0m\u001b[0;34m.\u001b[0m\u001b[0mbind\u001b[0m\u001b[0;34m(\u001b[0m\u001b[0max\u001b[0m\u001b[0;34m,\u001b[0m \u001b[0;34m*\u001b[0m\u001b[0margs\u001b[0m\u001b[0;34m,\u001b[0m \u001b[0;34m**\u001b[0m\u001b[0mkwargs\u001b[0m\u001b[0;34m)\u001b[0m\u001b[0;34m\u001b[0m\u001b[0;34m\u001b[0m\u001b[0m\n",
            "\u001b[0;32m/usr/local/lib/python3.10/dist-packages/matplotlib/axes/_axes.py\u001b[0m in \u001b[0;36mscatter\u001b[0;34m(self, x, y, s, c, marker, cmap, norm, vmin, vmax, alpha, linewidths, edgecolors, plotnonfinite, **kwargs)\u001b[0m\n\u001b[1;32m   4600\u001b[0m             \u001b[0morig_edgecolor\u001b[0m \u001b[0;34m=\u001b[0m \u001b[0mkwargs\u001b[0m\u001b[0;34m.\u001b[0m\u001b[0mget\u001b[0m\u001b[0;34m(\u001b[0m\u001b[0;34m'edgecolor'\u001b[0m\u001b[0;34m,\u001b[0m \u001b[0;32mNone\u001b[0m\u001b[0;34m)\u001b[0m\u001b[0;34m\u001b[0m\u001b[0;34m\u001b[0m\u001b[0m\n\u001b[1;32m   4601\u001b[0m         \u001b[0mc\u001b[0m\u001b[0;34m,\u001b[0m \u001b[0mcolors\u001b[0m\u001b[0;34m,\u001b[0m \u001b[0medgecolors\u001b[0m \u001b[0;34m=\u001b[0m\u001b[0;31m \u001b[0m\u001b[0;31m\\\u001b[0m\u001b[0;34m\u001b[0m\u001b[0;34m\u001b[0m\u001b[0m\n\u001b[0;32m-> 4602\u001b[0;31m             self._parse_scatter_color_args(\n\u001b[0m\u001b[1;32m   4603\u001b[0m                 \u001b[0mc\u001b[0m\u001b[0;34m,\u001b[0m \u001b[0medgecolors\u001b[0m\u001b[0;34m,\u001b[0m \u001b[0mkwargs\u001b[0m\u001b[0;34m,\u001b[0m \u001b[0mx\u001b[0m\u001b[0;34m.\u001b[0m\u001b[0msize\u001b[0m\u001b[0;34m,\u001b[0m\u001b[0;34m\u001b[0m\u001b[0;34m\u001b[0m\u001b[0m\n\u001b[1;32m   4604\u001b[0m                 get_next_color_func=self._get_patches_for_fill.get_next_color)\n",
            "\u001b[0;32m/usr/local/lib/python3.10/dist-packages/matplotlib/axes/_axes.py\u001b[0m in \u001b[0;36m_parse_scatter_color_args\u001b[0;34m(c, edgecolors, kwargs, xsize, get_next_color_func)\u001b[0m\n\u001b[1;32m   4446\u001b[0m                     \u001b[0;31m# Both the mapping *and* the RGBA conversion failed: pretty\u001b[0m\u001b[0;34m\u001b[0m\u001b[0;34m\u001b[0m\u001b[0m\n\u001b[1;32m   4447\u001b[0m                     \u001b[0;31m# severe failure => one may appreciate a verbose feedback.\u001b[0m\u001b[0;34m\u001b[0m\u001b[0;34m\u001b[0m\u001b[0m\n\u001b[0;32m-> 4448\u001b[0;31m                     raise ValueError(\n\u001b[0m\u001b[1;32m   4449\u001b[0m                         \u001b[0;34mf\"'c' argument must be a color, a sequence of colors, \"\u001b[0m\u001b[0;34m\u001b[0m\u001b[0;34m\u001b[0m\u001b[0m\n\u001b[1;32m   4450\u001b[0m                         f\"or a sequence of numbers, not {c!r}\") from err\n",
            "\u001b[0;31mValueError\u001b[0m: 'c' argument must be a color, a sequence of colors, or a sequence of numbers, not {'pig': 'pink', 'horse': '#742802'}"
          ]
        },
        {
          "output_type": "display_data",
          "data": {
            "text/plain": [
              "<Figure size 640x480 with 1 Axes>"
            ],
            "image/png": "[encoded data removed]"
          },
          "metadata": {}
        }
      ],
      "source": [
        "import matplotlib.pyplot as plt\n",
        "\n",
        "iris[\"Species\"] = iris[\"Species\"].astype('category')\n",
        "iris[\"Species\"] = iris[\"Species\"].cat.codes\n",
        "iris.plot.scatter(\"Sepal.Length\",\"Sepal.Width\",color=plt.)\n"
      ]
    },
    {
      "cell_type": "markdown",
      "metadata": {
        "id": "joRAg_MyjiDl"
      },
      "source": [
        "## 5. EXTRA: Python classes\n",
        "Python is an object-oriented programming language. With this philosophy, creating and using classes and instances becomes really easy."
      ]
    },
    {
      "cell_type": "markdown",
      "metadata": {
        "id": "LOtOtHqIkXV7"
      },
      "source": [
        "### Create a class\n",
        "Classes work like a blueprint for the creation of objects."
      ]
    },
    {
      "cell_type": "code",
      "execution_count": 1,
      "metadata": {
        "id": "YtYnP9vrkW14"
      },
      "outputs": [],
      "source": [
        "class Student:\n",
        "    pass"
      ]
    },
    {
      "cell_type": "markdown",
      "metadata": {
        "id": "LuR99IM6lHyE"
      },
      "source": [
        "### Define what happens when a user creates an instance of the class\n",
        "This is done by defining a method called .__init__(). For every new Student object we create, .__init__() sets the initial state of the instance's attributes."
      ]
    },
    {
      "cell_type": "code",
      "execution_count": 2,
      "metadata": {
        "id": "2pDOVgnflHHJ"
      },
      "outputs": [],
      "source": [
        "class Student:\n",
        "    def __init__(self, name, surname, age, gender, courses):\n",
        "        self.name = name\n",
        "        self.surname = surname\n",
        "        self.age = age\n",
        "        self.gender = gender\n",
        "        self.courses = courses"
      ]
    },
    {
      "cell_type": "markdown",
      "metadata": {
        "id": "W8QJ_uH6nR4v"
      },
      "source": [
        "\n",
        "### Instantiate an Object\n"
      ]
    },
    {
      "cell_type": "code",
      "execution_count": 5,
      "metadata": {
        "id": "M5dyqO7mnaCD",
        "outputId": "98fa7e01-588f-4ed3-90fb-ba264cb11e77",
        "colab": {
          "base_uri": "https://localhost:8080/"
        }
      },
      "outputs": [
        {
          "output_type": "execute_result",
          "data": {
            "text/plain": [
              "<__main__.Student at 0x7fe0220f8610>"
            ]
          },
          "metadata": {},
          "execution_count": 5
        }
      ],
      "source": [
        "Student('name', 'surname', 'age', 'gender', 'courses')"
      ]
    },
    {
      "cell_type": "code",
      "execution_count": 6,
      "metadata": {
        "id": "a_xCXDZ5ndSQ"
      },
      "outputs": [],
      "source": [
        "std1 = Student(\"John\", \"Doe\", 20, \"M\", [\"Biology\", \"Linear Algebra\", \"Predictive Modeling\"])"
      ]
    },
    {
      "cell_type": "markdown",
      "metadata": {
        "id": "hxUISjlqoO41"
      },
      "source": [
        "### Accessing the instance's attributes\n",
        "This can be easily done using dot notation."
      ]
    },
    {
      "cell_type": "code",
      "execution_count": 7,
      "metadata": {
        "id": "txAwGw6Zoqwj",
        "outputId": "645dd410-f12b-41be-b4ca-5de4662202f0",
        "colab": {
          "base_uri": "https://localhost:8080/"
        }
      },
      "outputs": [
        {
          "output_type": "execute_result",
          "data": {
            "text/plain": [
              "<__main__.Student at 0x7fe0220f91e0>"
            ]
          },
          "metadata": {},
          "execution_count": 7
        }
      ],
      "source": [
        "std1"
      ]
    },
    {
      "cell_type": "code",
      "execution_count": 8,
      "metadata": {
        "id": "zYD3Gj7RoAbD",
        "outputId": "47ff8554-8eb7-48b5-841a-55fcca5dd89f",
        "colab": {
          "base_uri": "https://localhost:8080/"
        }
      },
      "outputs": [
        {
          "output_type": "execute_result",
          "data": {
            "text/plain": [
              "20"
            ]
          },
          "metadata": {},
          "execution_count": 8
        }
      ],
      "source": [
        "std1.age"
      ]
    },
    {
      "cell_type": "markdown",
      "metadata": {
        "id": "ziSqZyc6pH4w"
      },
      "source": [
        "### Modifying the attribute of an instance\n",
        "You can change the .age attribute of the Student object really easily.\n",
        "\n",
        "Custom objects are mutable. An object is mutable if it can be dynamically updated. Objects like lists and dictionaries are mutable, but strings and tuples are not."
      ]
    },
    {
      "cell_type": "code",
      "execution_count": null,
      "metadata": {
        "id": "xQv0mK6oooiY"
      },
      "outputs": [],
      "source": [
        "std1.age = 21"
      ]
    },
    {
      "cell_type": "code",
      "execution_count": null,
      "metadata": {
        "id": "3UANuAmOp675"
      },
      "outputs": [],
      "source": [
        "std1.age"
      ]
    },
    {
      "cell_type": "markdown",
      "metadata": {
        "id": "Mln2m42JqEdy"
      },
      "source": [
        "### Instance Methods\n",
        "Instance methods are functions defined in a class and can only be called from an instance of that class."
      ]
    },
    {
      "cell_type": "code",
      "execution_count": null,
      "metadata": {
        "id": "ksDU7KY2p-fu"
      },
      "outputs": [],
      "source": [
        "class Student:\n",
        "    def __init__(self, name, surname, age, gender, courses):\n",
        "        self.name = name\n",
        "        self.surname = surname\n",
        "        self.age = age\n",
        "        self.gender = gender\n",
        "        self.courses = courses\n",
        "\n",
        "    # Instance method\n",
        "    def get_num_courses(self):\n",
        "        return len(self.courses)\n",
        "\n",
        "    # Another instance method\n",
        "    def get_full_name(self):\n",
        "        return self.name +' '+self.surname"
      ]
    },
    {
      "cell_type": "code",
      "execution_count": null,
      "metadata": {
        "id": "9hDa4TI8stFo"
      },
      "outputs": [],
      "source": [
        "std1 = Student(\"John\", \"Doe\", 20, \"M\", [\"Biology\", \"Linear Algebra\", \"Predictive Modeling\"])"
      ]
    },
    {
      "cell_type": "code",
      "execution_count": null,
      "metadata": {
        "id": "oN_-UzF-stwQ"
      },
      "outputs": [],
      "source": [
        "std1.get_full_name()"
      ]
    },
    {
      "cell_type": "markdown",
      "metadata": {
        "id": "01tz3Xav7B6n"
      },
      "source": [
        "## Addendum: working locally with Jupyter Notebooks"
      ]
    },
    {
      "cell_type": "markdown",
      "metadata": {
        "id": "b4xKMe_07B6n"
      },
      "source": [
        "A diverse array of tools that empowers developers to tailor their Python development experience according to their specific requirements and preferences exists:\n",
        "\n",
        " * VS Code: Visual Studio Code, also commonly referred to as VS Code, is a source-code editor developed by Microsoft for Windows, Linux and macOS. Features include support for debugging, syntax highlighting, intelligent code completion, snippets, code refactoring, and embedded Git. VS Code supports a wide range of programming languages and offers a plethora of extensions that enhance its functionality, making it suitable for diverse development environments. **This tool is highly recommended in tandem with the Jupyter extension. The Jupyter extension can be downloaded in VS Code.**\n",
        " * an IPython console: Execute python commands one-by-one\n",
        " * Spyder: IDE  - python environment, similar to eclipse or matlab\n",
        " * Jupyter Notebook: The Jupyter Notebook is an open-source web application that allows you to create and share documents that contain live code, equations, visualizations and narrative text.\n",
        "\n",
        "### Getting started with Python, Visual Studio Code and Jupyter Notebooks\n",
        "\n",
        "#### 1. Install Python by means of Anaconda:\n",
        "\n",
        "Go to the website of [Anaconda](https://www.anaconda.com/download) and download the latest version (Anaconda 2023.09 with Python 3.11). **Anaconda** is a distribution of the Python and R programming languages for scientific computing, that aims to simplify package management and deployment. The distribution includes data-science packages suitable for Windows, Linux, and macOS.\n",
        "\n",
        "In Anaconda you can create different isolated environments in which you can work. Environments are \"directories\", each containing a collection of Python packages that you have installed. For instance, you can create environments for specific projects, requiring a different version of Python or\n",
        "collection of packages.\n",
        "\n",
        "For this course, you can create an environment, with name *mlmust*, by using the command line:\n",
        "\n",
        "```conda create --name mlmust```\n",
        "\n",
        "We then activate the environment by running:\n",
        "\n",
        "```conda activate mlmust```\n",
        "\n",
        "After finishing your work, or if you would like to change environment,\n",
        "simply run:\n",
        "\n",
        "```conda deactivate```\n",
        "\n",
        "You can easily install a package using the command line:\n",
        "\n",
        "```conda install package```\n",
        "\n",
        "You can check the available packages by typing:\n",
        "\n",
        "```conda list```\n",
        "\n",
        "#### 2. Install Visual Studio Code:\n",
        "\n",
        "- Download and install Visual Studio Code from the [official VS Code website](https://code.visualstudio.com/).\n",
        "- Follow the installation instructions for your operating system.\n",
        "\n",
        "#### 3. Open Visual Studio Code:\n",
        "\n",
        "- Launch VS Code after installation.\n",
        "\n",
        "#### 4. Install the Jupyter Extension:\n",
        "\n",
        "- In VS Code, go to the Extensions view by clicking on the Extensions icon in the Activity Bar on the side of the window or press `Ctrl+Shift+X/Shift+CMD+X`.\n",
        "- Search for \"Jupyter\" in the Extensions view search box.\n",
        "- Find the \"Jupyter\" extension published by Microsoft and click \"Install.\"\n",
        "\n",
        "#### 5. Confirm Jupyter Installation:\n",
        "\n",
        "- After installation, confirm that the Jupyter extension is enabled. You should see a Jupyter icon in the Activity Bar.\n",
        "- Restart VS Code if required.\n",
        "\n",
        "#### 6. Open a Jupyter Notebook:\n",
        "\n",
        "- Create a new file with the extension \".ipynb\" to start a Jupyter Notebook.\n",
        "- Use the Jupyter icon in the Activity Bar to manage your notebooks.\n",
        "\n",
        "Now you're set up to start working with Jupyter Notebooks in Visual Studio Code. Happy coding!"
      ]
    }
  ],
  "metadata": {
    "colab": {
      "collapsed_sections": [
        "pPSaD-uH2kOX"
      ],
      "provenance": [],
      "toc_visible": true,
      "include_colab_link": true
    },
    "kernelspec": {
      "display_name": "Python 3",
      "language": "python",
      "name": "python3"
    },
    "language_info": {
      "codemirror_mode": {
        "name": "ipython",
        "version": 3
      },
      "file_extension": ".py",
      "mimetype": "text/x-python",
      "name": "python",
      "nbconvert_exporter": "python",
      "pygments_lexer": "ipython3",
      "version": "3.8.5"
    },
    "toc-autonumbering": false
  },
  "nbformat": 4,
  "nbformat_minor": 0
}