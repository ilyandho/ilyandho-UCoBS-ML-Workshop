{
  "cells": [
    {
      "cell_type": "markdown",
      "metadata": {
        "id": "view-in-github",
        "colab_type": "text"
      },
      "source": [
        "<a href=\"https://colab.research.google.com/github/ilyandho/ilyandho-UCoBS-ML-Workshop/blob/main/Lab2_KNN.ipynb\" target=\"_parent\"><img src=\"https://colab.research.google.com/assets/colab-badge.svg\" alt=\"Open In Colab\"/></a>"
      ]
    },
    {
      "cell_type": "markdown",
      "metadata": {
        "id": "48YeyfmcXxcJ"
      },
      "source": [
        "# PC Lab 2: Data Preprocessing and Nearest Neighbors\n",
        "---"
      ]
    },
    {
      "cell_type": "markdown",
      "metadata": {
        "id": "GyHNCDt3XxcN"
      },
      "source": [
        "## 1. Nearest neighbor algorithm for classification\n",
        "\n",
        "### Introduction\n",
        "\n",
        "<img src=\"https://www.postnetwork.co/wp-content/uploads/2022/11/irishflowerrs.png\" width=600>\n",
        "\n",
        "### Classification problem\n",
        "\n",
        "In the previous lab session, the iris flower data set was explored. Imagine now the case that for a\n",
        "new iris flower, we know its respective characteristics (length and width for sepal and petal),\n",
        "but do not know its species. A natural task would be to assign the flower to one of the three possible species, based on its characteristics (features). This task (or problem) is called a\n",
        "<strong> classification problem. </strong> In this practical session, an algorithm is considered by looking at the closest training examples in the (labeled) dataset, called nearest neighbour classification.\n",
        "\n",
        "### Dataset\n",
        "In the iris flower dataset (iris120.csv), each instance (i.e. flower) is described by 5 attributes:\\\n",
        "sepal length, sepal width, petal length, petal width and species.\n",
        "For the matter of simplicity, we will only use the species, sepal length and sepal width. \\\n",
        "\\\n",
        "These properties can be seen as _variables_, and for a given flower, each of these variables takes a specific\n",
        "value. In a classification setting, the aim is to predict the value of one of the variables (here the species), based on the value of the other variables (here sepal width and length). The variable of which the values have to be predicted is called the _output variable_ and the variables used to make this prediction are called the _input variables_ or _features_. \\\n",
        "\\\n",
        "A dataset $\\mathcal{D}$ consists of a set of $n$ observations of input-output couples $(\\boldsymbol{x_i}, y_i)$, where $i \\in \\{1, \\dots, n \\}$. Here, $\\boldsymbol{x_i} = (x_{i1}, \\dots, x_{ip}))^T \\in \\mathbb{R}^p$\n",
        "are the observed values for the features (with $p$ the number of features), and $y_i$ are the observed output values, such that a training dataset $\\mathcal{D}_{train}$ with $n$ instances can be written as\n",
        "$$\\mathcal{D}_{train} = \\{ (\\boldsymbol{x_1}, y_1), \\dots, (\\boldsymbol{x_n}, y_n) \\}. $$\n",
        "\n",
        "### Model and problem setup\n",
        "Using the dataset, the goal is to build a _model_ $f$ that is able to predict the value of the output variable, given the value of the input variables. \\\n",
        "In our iris classification problem, both input variables take real values ($x_i \\in \\mathbb{R}^2$ for $i \\in \\{1, \\dots, n \\}$), whereas the output variable is nominal, taking values from the finite set $\\{setosa, versicolor, virginica\\}$. Hence, the model $f$ we are looking for is a mapping $$f: \\mathbb{R}^2 \\rightarrow \\{setosa, versicolor, virginica\\}.$$\n",
        "\n",
        "### Nearest neighbour classification\n",
        "\n",
        "A very simple technique to derive a classifier model from a given training dataset is the _nearest neighbour algorithm_. It departs from the assumption that instances whose features are highly similar are more likely to have the same label than those with very different features.\\\n",
        "In particular, the _k-nearest neighbors algorithm_ for classification classifies an instance by a plurality vote of its $k$ closest neighbours. If $k=1$, the model applies this idea in its most extreme form: the label is predicted as the label of the closest instance in the training dataset.\\\n",
        "\\\n",
        "In order to select the 'closest' instances in the training set, a suitable measure of distance $d(x_i, x_j)$ between two instances $x_i$ and $x_j$ is used. In our case, we will simply use the Euclidean distance:\n",
        "$$ d_E (x_i, x_j) = \\sqrt{\\sum_{k=1}^p (x_{i,k} - x_{j,k})^2}.$$\n",
        "\n",
        "Using this distance measure, the ($1$-) nearest neighbor algorithm consists of the following steps:\n",
        "1. For an instance with unknown label and known feature vector $\\boldsymbol{x}$, calculate the distance to each instance in the dataset: $d_E(\\boldsymbol{x}, \\boldsymbol{x_i})$ where $i = 1, ... ,n.$\n",
        "2. Select the closest instance and take its label as the prediction for the unknown label.\n",
        "\n"
      ]
    },
    {
      "cell_type": "markdown",
      "metadata": {
        "id": "H8ySx8AlXxcO"
      },
      "source": [
        "The following code snippet downloads all necessary files for this pc-lab:"
      ]
    },
    {
      "cell_type": "code",
      "execution_count": 10,
      "metadata": {
        "id": "wh84ju82XxcP",
        "outputId": "c9b67101-8b64-47a9-cd36-1f185367f8dd",
        "colab": {
          "base_uri": "https://localhost:8080/"
        }
      },
      "outputs": [
        {
          "output_type": "stream",
          "name": "stdout",
          "text": [
            "--2024-01-30 06:06:18--  https://raw.githubusercontent.com/tfmortie/mlmust/main/02_knn/abalone.csv\n",
            "Resolving raw.githubusercontent.com (raw.githubusercontent.com)... 185.199.108.133, 185.199.109.133, 185.199.110.133, ...\n",
            "Connecting to raw.githubusercontent.com (raw.githubusercontent.com)|185.199.108.133|:443... connected.\n",
            "HTTP request sent, awaiting response... 200 OK\n",
            "Length: 32955 (32K) [text/plain]\n",
            "Saving to: ‘abalone.csv’\n",
            "\n",
            "\rabalone.csv           0%[                    ]       0  --.-KB/s               \rabalone.csv         100%[===================>]  32.18K  --.-KB/s    in 0.001s  \n",
            "\n",
            "2024-01-30 06:06:18 (21.2 MB/s) - ‘abalone.csv’ saved [32955/32955]\n",
            "\n",
            "--2024-01-30 06:06:18--  https://raw.githubusercontent.com/tfmortie/mlmust/main/02_knn/iris120.csv\n",
            "Resolving raw.githubusercontent.com (raw.githubusercontent.com)... 185.199.108.133, 185.199.109.133, 185.199.110.133, ...\n",
            "Connecting to raw.githubusercontent.com (raw.githubusercontent.com)|185.199.108.133|:443... connected.\n",
            "HTTP request sent, awaiting response... 200 OK\n",
            "Length: 3359 (3.3K) [text/plain]\n",
            "Saving to: ‘iris120.csv’\n",
            "\n",
            "iris120.csv         100%[===================>]   3.28K  --.-KB/s    in 0s      \n",
            "\n",
            "2024-01-30 06:06:18 (59.9 MB/s) - ‘iris120.csv’ saved [3359/3359]\n",
            "\n",
            "--2024-01-30 06:06:19--  https://raw.githubusercontent.com/tfmortie/mlmust/main/02_knn/irisNA.csv\n",
            "Resolving raw.githubusercontent.com (raw.githubusercontent.com)... 185.199.108.133, 185.199.109.133, 185.199.110.133, ...\n",
            "Connecting to raw.githubusercontent.com (raw.githubusercontent.com)|185.199.108.133|:443... connected.\n",
            "HTTP request sent, awaiting response... 200 OK\n",
            "Length: 623 [text/plain]\n",
            "Saving to: ‘irisNA.csv’\n",
            "\n",
            "irisNA.csv          100%[===================>]     623  --.-KB/s    in 0s      \n",
            "\n",
            "2024-01-30 06:06:19 (57.6 MB/s) - ‘irisNA.csv’ saved [623/623]\n",
            "\n"
          ]
        }
      ],
      "source": [
        "!wget https://raw.githubusercontent.com/tfmortie/mlmust/main/02_knn/abalone.csv\n",
        "!wget https://raw.githubusercontent.com/tfmortie/mlmust/main/02_knn/iris120.csv\n",
        "!wget https://raw.githubusercontent.com/tfmortie/mlmust/main/02_knn/irisNA.csv"
      ]
    },
    {
      "cell_type": "markdown",
      "metadata": {
        "id": "2pYwK0oRXxcQ"
      },
      "source": [
        "<div class=\"alert alert-success\">\n",
        "\n",
        "<b>EXERCISE 1.1</b>: **Load the dataset iris120.csv in to the memory and select the columns 'Sepal.Length', 'Sepal.Width', and 'Species'. Additionally, load the set of unclassified\n",
        "instances (irisNA.csv) and select the same columns. Both datasets should be loaded as Pandas dataframes.**\n",
        "</div>\n",
        "\n",
        "Hint: In the following, always replace `\"...\"` with the respective code."
      ]
    },
    {
      "cell_type": "code",
      "execution_count": 11,
      "metadata": {
        "id": "g1MjTDKAXxcR"
      },
      "outputs": [],
      "source": [
        "import numpy as np\n",
        "import pandas as pd\n",
        "\n",
        "cols = ['Sepal.Length', 'Sepal.Width', 'Species']\n",
        "# load the two datasets and select the respective columns\n",
        "\n",
        "# iris120 as the training set\n",
        "iris120 = pd.read_csv('iris120.csv')# TODO: load csv file in dataset iris120\n",
        "iris120Cols = iris120.loc[:,cols]# TODO: select the columns\n",
        "\n",
        "\n",
        "# irisNA as the test set\n",
        "irisNA = pd.read_csv('irisNA.csv') # TODO: load csv file in dataset irisNA\n",
        "irisNACols = irisNA.loc[:,cols] # TODO: select the columns\n"
      ]
    },
    {
      "cell_type": "code",
      "execution_count": null,
      "metadata": {
        "id": "0mgMdjL8XxcR",
        "outputId": "aac8bc23-f808-4e17-9abd-4933bcb58d33",
        "colab": {
          "base_uri": "https://localhost:8080/",
          "height": 206
        }
      },
      "outputs": [
        {
          "output_type": "execute_result",
          "data": {
            "text/plain": [
              "   Sepal.Length  Sepal.Width  Petal.Length  Petal.Width Species\n",
              "0           5.1          3.5           1.4          0.2  setosa\n",
              "1           4.9          3.0           1.4          0.2  setosa\n",
              "2           4.7          3.2           1.3          0.2  setosa\n",
              "3           4.6          3.1           1.5          0.2  setosa\n",
              "4           5.0          3.6           1.4          0.2  setosa"
            ],
            "text/html": [
              "\n",
              "  <div id=\"df-7e49f5c9-c0c5-4081-9379-f348dbabd7f9\" class=\"colab-df-container\">\n",
              "    <div>\n",
              "<style scoped>\n",
              "    .dataframe tbody tr th:only-of-type {\n",
              "        vertical-align: middle;\n",
              "    }\n",
              "\n",
              "    .dataframe tbody tr th {\n",
              "        vertical-align: top;\n",
              "    }\n",
              "\n",
              "    .dataframe thead th {\n",
              "        text-align: right;\n",
              "    }\n",
              "</style>\n",
              "<table border=\"1\" class=\"dataframe\">\n",
              "  <thead>\n",
              "    <tr style=\"text-align: right;\">\n",
              "      <th></th>\n",
              "      <th>Sepal.Length</th>\n",
              "      <th>Sepal.Width</th>\n",
              "      <th>Petal.Length</th>\n",
              "      <th>Petal.Width</th>\n",
              "      <th>Species</th>\n",
              "    </tr>\n",
              "  </thead>\n",
              "  <tbody>\n",
              "    <tr>\n",
              "      <th>0</th>\n",
              "      <td>5.1</td>\n",
              "      <td>3.5</td>\n",
              "      <td>1.4</td>\n",
              "      <td>0.2</td>\n",
              "      <td>setosa</td>\n",
              "    </tr>\n",
              "    <tr>\n",
              "      <th>1</th>\n",
              "      <td>4.9</td>\n",
              "      <td>3.0</td>\n",
              "      <td>1.4</td>\n",
              "      <td>0.2</td>\n",
              "      <td>setosa</td>\n",
              "    </tr>\n",
              "    <tr>\n",
              "      <th>2</th>\n",
              "      <td>4.7</td>\n",
              "      <td>3.2</td>\n",
              "      <td>1.3</td>\n",
              "      <td>0.2</td>\n",
              "      <td>setosa</td>\n",
              "    </tr>\n",
              "    <tr>\n",
              "      <th>3</th>\n",
              "      <td>4.6</td>\n",
              "      <td>3.1</td>\n",
              "      <td>1.5</td>\n",
              "      <td>0.2</td>\n",
              "      <td>setosa</td>\n",
              "    </tr>\n",
              "    <tr>\n",
              "      <th>4</th>\n",
              "      <td>5.0</td>\n",
              "      <td>3.6</td>\n",
              "      <td>1.4</td>\n",
              "      <td>0.2</td>\n",
              "      <td>setosa</td>\n",
              "    </tr>\n",
              "  </tbody>\n",
              "</table>\n",
              "</div>\n",
              "    <div class=\"colab-df-buttons\">\n",
              "\n",
              "  <div class=\"colab-df-container\">\n",
              "    <button class=\"colab-df-convert\" onclick=\"convertToInteractive('df-7e49f5c9-c0c5-4081-9379-f348dbabd7f9')\"\n",
              "            title=\"Convert this dataframe to an interactive table.\"\n",
              "            style=\"display:none;\">\n",
              "\n",
              "  <svg xmlns=\"http://www.w3.org/2000/svg\" height=\"24px\" viewBox=\"0 -960 960 960\">\n",
              "    <path d=\"M120-120v-720h720v720H120Zm60-500h600v-160H180v160Zm220 220h160v-160H400v160Zm0 220h160v-160H400v160ZM180-400h160v-160H180v160Zm440 0h160v-160H620v160ZM180-180h160v-160H180v160Zm440 0h160v-160H620v160Z\"/>\n",
              "  </svg>\n",
              "    </button>\n",
              "\n",
              "  <style>\n",
              "    .colab-df-container {\n",
              "      display:flex;\n",
              "      gap: 12px;\n",
              "    }\n",
              "\n",
              "    .colab-df-convert {\n",
              "      background-color: #E8F0FE;\n",
              "      border: none;\n",
              "      border-radius: 50%;\n",
              "      cursor: pointer;\n",
              "      display: none;\n",
              "      fill: #1967D2;\n",
              "      height: 32px;\n",
              "      padding: 0 0 0 0;\n",
              "      width: 32px;\n",
              "    }\n",
              "\n",
              "    .colab-df-convert:hover {\n",
              "      background-color: #E2EBFA;\n",
              "      box-shadow: 0px 1px 2px rgba(60, 64, 67, 0.3), 0px 1px 3px 1px rgba(60, 64, 67, 0.15);\n",
              "      fill: #174EA6;\n",
              "    }\n",
              "\n",
              "    .colab-df-buttons div {\n",
              "      margin-bottom: 4px;\n",
              "    }\n",
              "\n",
              "    [theme=dark] .colab-df-convert {\n",
              "      background-color: #3B4455;\n",
              "      fill: #D2E3FC;\n",
              "    }\n",
              "\n",
              "    [theme=dark] .colab-df-convert:hover {\n",
              "      background-color: #434B5C;\n",
              "      box-shadow: 0px 1px 3px 1px rgba(0, 0, 0, 0.15);\n",
              "      filter: drop-shadow(0px 1px 2px rgba(0, 0, 0, 0.3));\n",
              "      fill: #FFFFFF;\n",
              "    }\n",
              "  </style>\n",
              "\n",
              "    <script>\n",
              "      const buttonEl =\n",
              "        document.querySelector('#df-7e49f5c9-c0c5-4081-9379-f348dbabd7f9 button.colab-df-convert');\n",
              "      buttonEl.style.display =\n",
              "        google.colab.kernel.accessAllowed ? 'block' : 'none';\n",
              "\n",
              "      async function convertToInteractive(key) {\n",
              "        const element = document.querySelector('#df-7e49f5c9-c0c5-4081-9379-f348dbabd7f9');\n",
              "        const dataTable =\n",
              "          await google.colab.kernel.invokeFunction('convertToInteractive',\n",
              "                                                    [key], {});\n",
              "        if (!dataTable) return;\n",
              "\n",
              "        const docLinkHtml = 'Like what you see? Visit the ' +\n",
              "          '<a target=\"_blank\" href=https://colab.research.google.com/notebooks/data_table.ipynb>data table notebook</a>'\n",
              "          + ' to learn more about interactive tables.';\n",
              "        element.innerHTML = '';\n",
              "        dataTable['output_type'] = 'display_data';\n",
              "        await google.colab.output.renderOutput(dataTable, element);\n",
              "        const docLink = document.createElement('div');\n",
              "        docLink.innerHTML = docLinkHtml;\n",
              "        element.appendChild(docLink);\n",
              "      }\n",
              "    </script>\n",
              "  </div>\n",
              "\n",
              "\n",
              "<div id=\"df-3c0547ff-f299-4fbe-9bf9-e69b47af0d0a\">\n",
              "  <button class=\"colab-df-quickchart\" onclick=\"quickchart('df-3c0547ff-f299-4fbe-9bf9-e69b47af0d0a')\"\n",
              "            title=\"Suggest charts\"\n",
              "            style=\"display:none;\">\n",
              "\n",
              "<svg xmlns=\"http://www.w3.org/2000/svg\" height=\"24px\"viewBox=\"0 0 24 24\"\n",
              "     width=\"24px\">\n",
              "    <g>\n",
              "        <path d=\"M19 3H5c-1.1 0-2 .9-2 2v14c0 1.1.9 2 2 2h14c1.1 0 2-.9 2-2V5c0-1.1-.9-2-2-2zM9 17H7v-7h2v7zm4 0h-2V7h2v10zm4 0h-2v-4h2v4z\"/>\n",
              "    </g>\n",
              "</svg>\n",
              "  </button>\n",
              "\n",
              "<style>\n",
              "  .colab-df-quickchart {\n",
              "      --bg-color: #E8F0FE;\n",
              "      --fill-color: #1967D2;\n",
              "      --hover-bg-color: #E2EBFA;\n",
              "      --hover-fill-color: #174EA6;\n",
              "      --disabled-fill-color: #AAA;\n",
              "      --disabled-bg-color: #DDD;\n",
              "  }\n",
              "\n",
              "  [theme=dark] .colab-df-quickchart {\n",
              "      --bg-color: #3B4455;\n",
              "      --fill-color: #D2E3FC;\n",
              "      --hover-bg-color: #434B5C;\n",
              "      --hover-fill-color: #FFFFFF;\n",
              "      --disabled-bg-color: #3B4455;\n",
              "      --disabled-fill-color: #666;\n",
              "  }\n",
              "\n",
              "  .colab-df-quickchart {\n",
              "    background-color: var(--bg-color);\n",
              "    border: none;\n",
              "    border-radius: 50%;\n",
              "    cursor: pointer;\n",
              "    display: none;\n",
              "    fill: var(--fill-color);\n",
              "    height: 32px;\n",
              "    padding: 0;\n",
              "    width: 32px;\n",
              "  }\n",
              "\n",
              "  .colab-df-quickchart:hover {\n",
              "    background-color: var(--hover-bg-color);\n",
              "    box-shadow: 0 1px 2px rgba(60, 64, 67, 0.3), 0 1px 3px 1px rgba(60, 64, 67, 0.15);\n",
              "    fill: var(--button-hover-fill-color);\n",
              "  }\n",
              "\n",
              "  .colab-df-quickchart-complete:disabled,\n",
              "  .colab-df-quickchart-complete:disabled:hover {\n",
              "    background-color: var(--disabled-bg-color);\n",
              "    fill: var(--disabled-fill-color);\n",
              "    box-shadow: none;\n",
              "  }\n",
              "\n",
              "  .colab-df-spinner {\n",
              "    border: 2px solid var(--fill-color);\n",
              "    border-color: transparent;\n",
              "    border-bottom-color: var(--fill-color);\n",
              "    animation:\n",
              "      spin 1s steps(1) infinite;\n",
              "  }\n",
              "\n",
              "  @keyframes spin {\n",
              "    0% {\n",
              "      border-color: transparent;\n",
              "      border-bottom-color: var(--fill-color);\n",
              "      border-left-color: var(--fill-color);\n",
              "    }\n",
              "    20% {\n",
              "      border-color: transparent;\n",
              "      border-left-color: var(--fill-color);\n",
              "      border-top-color: var(--fill-color);\n",
              "    }\n",
              "    30% {\n",
              "      border-color: transparent;\n",
              "      border-left-color: var(--fill-color);\n",
              "      border-top-color: var(--fill-color);\n",
              "      border-right-color: var(--fill-color);\n",
              "    }\n",
              "    40% {\n",
              "      border-color: transparent;\n",
              "      border-right-color: var(--fill-color);\n",
              "      border-top-color: var(--fill-color);\n",
              "    }\n",
              "    60% {\n",
              "      border-color: transparent;\n",
              "      border-right-color: var(--fill-color);\n",
              "    }\n",
              "    80% {\n",
              "      border-color: transparent;\n",
              "      border-right-color: var(--fill-color);\n",
              "      border-bottom-color: var(--fill-color);\n",
              "    }\n",
              "    90% {\n",
              "      border-color: transparent;\n",
              "      border-bottom-color: var(--fill-color);\n",
              "    }\n",
              "  }\n",
              "</style>\n",
              "\n",
              "  <script>\n",
              "    async function quickchart(key) {\n",
              "      const quickchartButtonEl =\n",
              "        document.querySelector('#' + key + ' button');\n",
              "      quickchartButtonEl.disabled = true;  // To prevent multiple clicks.\n",
              "      quickchartButtonEl.classList.add('colab-df-spinner');\n",
              "      try {\n",
              "        const charts = await google.colab.kernel.invokeFunction(\n",
              "            'suggestCharts', [key], {});\n",
              "      } catch (error) {\n",
              "        console.error('Error during call to suggestCharts:', error);\n",
              "      }\n",
              "      quickchartButtonEl.classList.remove('colab-df-spinner');\n",
              "      quickchartButtonEl.classList.add('colab-df-quickchart-complete');\n",
              "    }\n",
              "    (() => {\n",
              "      let quickchartButtonEl =\n",
              "        document.querySelector('#df-3c0547ff-f299-4fbe-9bf9-e69b47af0d0a button');\n",
              "      quickchartButtonEl.style.display =\n",
              "        google.colab.kernel.accessAllowed ? 'block' : 'none';\n",
              "    })();\n",
              "  </script>\n",
              "</div>\n",
              "\n",
              "    </div>\n",
              "  </div>\n"
            ]
          },
          "metadata": {},
          "execution_count": 21
        }
      ],
      "source": [
        "iris120.head()"
      ]
    },
    {
      "cell_type": "code",
      "execution_count": null,
      "metadata": {
        "id": "on7sOen0XxcR",
        "outputId": "25d2d75d-7702-4643-a0be-1717eaa7c20a",
        "colab": {
          "base_uri": "https://localhost:8080/",
          "height": 206
        }
      },
      "outputs": [
        {
          "output_type": "execute_result",
          "data": {
            "text/plain": [
              "   Sepal.Length  Sepal.Width  Petal.Length  Petal.Width  Species\n",
              "0           5.4          3.9           1.7          0.4      NaN\n",
              "1           5.0          3.4           1.5          0.2      NaN\n",
              "2           5.8          4.0           1.2          0.2      NaN\n",
              "3           5.4          3.9           1.3          0.4      NaN\n",
              "4           4.4          3.0           1.3          0.2      NaN"
            ],
            "text/html": [
              "\n",
              "  <div id=\"df-fa209cd5-2b6a-4bd7-9641-d4c874d7074f\" class=\"colab-df-container\">\n",
              "    <div>\n",
              "<style scoped>\n",
              "    .dataframe tbody tr th:only-of-type {\n",
              "        vertical-align: middle;\n",
              "    }\n",
              "\n",
              "    .dataframe tbody tr th {\n",
              "        vertical-align: top;\n",
              "    }\n",
              "\n",
              "    .dataframe thead th {\n",
              "        text-align: right;\n",
              "    }\n",
              "</style>\n",
              "<table border=\"1\" class=\"dataframe\">\n",
              "  <thead>\n",
              "    <tr style=\"text-align: right;\">\n",
              "      <th></th>\n",
              "      <th>Sepal.Length</th>\n",
              "      <th>Sepal.Width</th>\n",
              "      <th>Petal.Length</th>\n",
              "      <th>Petal.Width</th>\n",
              "      <th>Species</th>\n",
              "    </tr>\n",
              "  </thead>\n",
              "  <tbody>\n",
              "    <tr>\n",
              "      <th>0</th>\n",
              "      <td>5.4</td>\n",
              "      <td>3.9</td>\n",
              "      <td>1.7</td>\n",
              "      <td>0.4</td>\n",
              "      <td>NaN</td>\n",
              "    </tr>\n",
              "    <tr>\n",
              "      <th>1</th>\n",
              "      <td>5.0</td>\n",
              "      <td>3.4</td>\n",
              "      <td>1.5</td>\n",
              "      <td>0.2</td>\n",
              "      <td>NaN</td>\n",
              "    </tr>\n",
              "    <tr>\n",
              "      <th>2</th>\n",
              "      <td>5.8</td>\n",
              "      <td>4.0</td>\n",
              "      <td>1.2</td>\n",
              "      <td>0.2</td>\n",
              "      <td>NaN</td>\n",
              "    </tr>\n",
              "    <tr>\n",
              "      <th>3</th>\n",
              "      <td>5.4</td>\n",
              "      <td>3.9</td>\n",
              "      <td>1.3</td>\n",
              "      <td>0.4</td>\n",
              "      <td>NaN</td>\n",
              "    </tr>\n",
              "    <tr>\n",
              "      <th>4</th>\n",
              "      <td>4.4</td>\n",
              "      <td>3.0</td>\n",
              "      <td>1.3</td>\n",
              "      <td>0.2</td>\n",
              "      <td>NaN</td>\n",
              "    </tr>\n",
              "  </tbody>\n",
              "</table>\n",
              "</div>\n",
              "    <div class=\"colab-df-buttons\">\n",
              "\n",
              "  <div class=\"colab-df-container\">\n",
              "    <button class=\"colab-df-convert\" onclick=\"convertToInteractive('df-fa209cd5-2b6a-4bd7-9641-d4c874d7074f')\"\n",
              "            title=\"Convert this dataframe to an interactive table.\"\n",
              "            style=\"display:none;\">\n",
              "\n",
              "  <svg xmlns=\"http://www.w3.org/2000/svg\" height=\"24px\" viewBox=\"0 -960 960 960\">\n",
              "    <path d=\"M120-120v-720h720v720H120Zm60-500h600v-160H180v160Zm220 220h160v-160H400v160Zm0 220h160v-160H400v160ZM180-400h160v-160H180v160Zm440 0h160v-160H620v160ZM180-180h160v-160H180v160Zm440 0h160v-160H620v160Z\"/>\n",
              "  </svg>\n",
              "    </button>\n",
              "\n",
              "  <style>\n",
              "    .colab-df-container {\n",
              "      display:flex;\n",
              "      gap: 12px;\n",
              "    }\n",
              "\n",
              "    .colab-df-convert {\n",
              "      background-color: #E8F0FE;\n",
              "      border: none;\n",
              "      border-radius: 50%;\n",
              "      cursor: pointer;\n",
              "      display: none;\n",
              "      fill: #1967D2;\n",
              "      height: 32px;\n",
              "      padding: 0 0 0 0;\n",
              "      width: 32px;\n",
              "    }\n",
              "\n",
              "    .colab-df-convert:hover {\n",
              "      background-color: #E2EBFA;\n",
              "      box-shadow: 0px 1px 2px rgba(60, 64, 67, 0.3), 0px 1px 3px 1px rgba(60, 64, 67, 0.15);\n",
              "      fill: #174EA6;\n",
              "    }\n",
              "\n",
              "    .colab-df-buttons div {\n",
              "      margin-bottom: 4px;\n",
              "    }\n",
              "\n",
              "    [theme=dark] .colab-df-convert {\n",
              "      background-color: #3B4455;\n",
              "      fill: #D2E3FC;\n",
              "    }\n",
              "\n",
              "    [theme=dark] .colab-df-convert:hover {\n",
              "      background-color: #434B5C;\n",
              "      box-shadow: 0px 1px 3px 1px rgba(0, 0, 0, 0.15);\n",
              "      filter: drop-shadow(0px 1px 2px rgba(0, 0, 0, 0.3));\n",
              "      fill: #FFFFFF;\n",
              "    }\n",
              "  </style>\n",
              "\n",
              "    <script>\n",
              "      const buttonEl =\n",
              "        document.querySelector('#df-fa209cd5-2b6a-4bd7-9641-d4c874d7074f button.colab-df-convert');\n",
              "      buttonEl.style.display =\n",
              "        google.colab.kernel.accessAllowed ? 'block' : 'none';\n",
              "\n",
              "      async function convertToInteractive(key) {\n",
              "        const element = document.querySelector('#df-fa209cd5-2b6a-4bd7-9641-d4c874d7074f');\n",
              "        const dataTable =\n",
              "          await google.colab.kernel.invokeFunction('convertToInteractive',\n",
              "                                                    [key], {});\n",
              "        if (!dataTable) return;\n",
              "\n",
              "        const docLinkHtml = 'Like what you see? Visit the ' +\n",
              "          '<a target=\"_blank\" href=https://colab.research.google.com/notebooks/data_table.ipynb>data table notebook</a>'\n",
              "          + ' to learn more about interactive tables.';\n",
              "        element.innerHTML = '';\n",
              "        dataTable['output_type'] = 'display_data';\n",
              "        await google.colab.output.renderOutput(dataTable, element);\n",
              "        const docLink = document.createElement('div');\n",
              "        docLink.innerHTML = docLinkHtml;\n",
              "        element.appendChild(docLink);\n",
              "      }\n",
              "    </script>\n",
              "  </div>\n",
              "\n",
              "\n",
              "<div id=\"df-2049178c-e380-4412-a521-c5bc6c82595a\">\n",
              "  <button class=\"colab-df-quickchart\" onclick=\"quickchart('df-2049178c-e380-4412-a521-c5bc6c82595a')\"\n",
              "            title=\"Suggest charts\"\n",
              "            style=\"display:none;\">\n",
              "\n",
              "<svg xmlns=\"http://www.w3.org/2000/svg\" height=\"24px\"viewBox=\"0 0 24 24\"\n",
              "     width=\"24px\">\n",
              "    <g>\n",
              "        <path d=\"M19 3H5c-1.1 0-2 .9-2 2v14c0 1.1.9 2 2 2h14c1.1 0 2-.9 2-2V5c0-1.1-.9-2-2-2zM9 17H7v-7h2v7zm4 0h-2V7h2v10zm4 0h-2v-4h2v4z\"/>\n",
              "    </g>\n",
              "</svg>\n",
              "  </button>\n",
              "\n",
              "<style>\n",
              "  .colab-df-quickchart {\n",
              "      --bg-color: #E8F0FE;\n",
              "      --fill-color: #1967D2;\n",
              "      --hover-bg-color: #E2EBFA;\n",
              "      --hover-fill-color: #174EA6;\n",
              "      --disabled-fill-color: #AAA;\n",
              "      --disabled-bg-color: #DDD;\n",
              "  }\n",
              "\n",
              "  [theme=dark] .colab-df-quickchart {\n",
              "      --bg-color: #3B4455;\n",
              "      --fill-color: #D2E3FC;\n",
              "      --hover-bg-color: #434B5C;\n",
              "      --hover-fill-color: #FFFFFF;\n",
              "      --disabled-bg-color: #3B4455;\n",
              "      --disabled-fill-color: #666;\n",
              "  }\n",
              "\n",
              "  .colab-df-quickchart {\n",
              "    background-color: var(--bg-color);\n",
              "    border: none;\n",
              "    border-radius: 50%;\n",
              "    cursor: pointer;\n",
              "    display: none;\n",
              "    fill: var(--fill-color);\n",
              "    height: 32px;\n",
              "    padding: 0;\n",
              "    width: 32px;\n",
              "  }\n",
              "\n",
              "  .colab-df-quickchart:hover {\n",
              "    background-color: var(--hover-bg-color);\n",
              "    box-shadow: 0 1px 2px rgba(60, 64, 67, 0.3), 0 1px 3px 1px rgba(60, 64, 67, 0.15);\n",
              "    fill: var(--button-hover-fill-color);\n",
              "  }\n",
              "\n",
              "  .colab-df-quickchart-complete:disabled,\n",
              "  .colab-df-quickchart-complete:disabled:hover {\n",
              "    background-color: var(--disabled-bg-color);\n",
              "    fill: var(--disabled-fill-color);\n",
              "    box-shadow: none;\n",
              "  }\n",
              "\n",
              "  .colab-df-spinner {\n",
              "    border: 2px solid var(--fill-color);\n",
              "    border-color: transparent;\n",
              "    border-bottom-color: var(--fill-color);\n",
              "    animation:\n",
              "      spin 1s steps(1) infinite;\n",
              "  }\n",
              "\n",
              "  @keyframes spin {\n",
              "    0% {\n",
              "      border-color: transparent;\n",
              "      border-bottom-color: var(--fill-color);\n",
              "      border-left-color: var(--fill-color);\n",
              "    }\n",
              "    20% {\n",
              "      border-color: transparent;\n",
              "      border-left-color: var(--fill-color);\n",
              "      border-top-color: var(--fill-color);\n",
              "    }\n",
              "    30% {\n",
              "      border-color: transparent;\n",
              "      border-left-color: var(--fill-color);\n",
              "      border-top-color: var(--fill-color);\n",
              "      border-right-color: var(--fill-color);\n",
              "    }\n",
              "    40% {\n",
              "      border-color: transparent;\n",
              "      border-right-color: var(--fill-color);\n",
              "      border-top-color: var(--fill-color);\n",
              "    }\n",
              "    60% {\n",
              "      border-color: transparent;\n",
              "      border-right-color: var(--fill-color);\n",
              "    }\n",
              "    80% {\n",
              "      border-color: transparent;\n",
              "      border-right-color: var(--fill-color);\n",
              "      border-bottom-color: var(--fill-color);\n",
              "    }\n",
              "    90% {\n",
              "      border-color: transparent;\n",
              "      border-bottom-color: var(--fill-color);\n",
              "    }\n",
              "  }\n",
              "</style>\n",
              "\n",
              "  <script>\n",
              "    async function quickchart(key) {\n",
              "      const quickchartButtonEl =\n",
              "        document.querySelector('#' + key + ' button');\n",
              "      quickchartButtonEl.disabled = true;  // To prevent multiple clicks.\n",
              "      quickchartButtonEl.classList.add('colab-df-spinner');\n",
              "      try {\n",
              "        const charts = await google.colab.kernel.invokeFunction(\n",
              "            'suggestCharts', [key], {});\n",
              "      } catch (error) {\n",
              "        console.error('Error during call to suggestCharts:', error);\n",
              "      }\n",
              "      quickchartButtonEl.classList.remove('colab-df-spinner');\n",
              "      quickchartButtonEl.classList.add('colab-df-quickchart-complete');\n",
              "    }\n",
              "    (() => {\n",
              "      let quickchartButtonEl =\n",
              "        document.querySelector('#df-2049178c-e380-4412-a521-c5bc6c82595a button');\n",
              "      quickchartButtonEl.style.display =\n",
              "        google.colab.kernel.accessAllowed ? 'block' : 'none';\n",
              "    })();\n",
              "  </script>\n",
              "</div>\n",
              "\n",
              "    </div>\n",
              "  </div>\n"
            ]
          },
          "metadata": {},
          "execution_count": 22
        }
      ],
      "source": [
        "irisNA.head()"
      ]
    },
    {
      "cell_type": "markdown",
      "metadata": {
        "id": "YoS-TiW7XxcS"
      },
      "source": [
        "<div class=\"alert alert-success\">\n",
        "\n",
        "<b>EXERCISE 1.2</b>: **Implement the nearest neighbour algorithm (as explained above) for the iris problem in a function called nn_iris_predict.\n",
        "Use this function to predict the species of unknown flowers in the dataset irisNA.csv. Make sure\n",
        "your function has the structure given below. \\\n",
        "(Here, _new_obs_features_ is an array or dataframe containing the two features for one specific new instance, and _train_dataset_ is the dataframe containing the features and labels (i.e. _iris120_ as initialized above)).**\n",
        "</div>"
      ]
    },
    {
      "cell_type": "code",
      "execution_count": 12,
      "metadata": {
        "id": "6orXulhUXxcS"
      },
      "outputs": [],
      "source": [
        "def nn_iris_predict(new_obs_features, train_dataset):\n",
        "\n",
        "    # extract features (i.e. first two columns) from training dataset to calculate the distances\n",
        "    train_features = train_dataset.iloc[:, :2] # TODO: select the first two columns of the training dataset\n",
        "\n",
        "    # extract species (labels) of training dataset in a separate variable\n",
        "    train_labels = train_dataset.iloc[:, -1:] # TODO: select the last column of the training dataset\n",
        "\n",
        "    # create a variable 'dist_euc' which is an array containing the euclidean distance of\n",
        "    # the new instance to all instances (rows) in the training data set\n",
        "    dist_euc = ((train_features-new_obs_features)**2).sum(axis=1)**0.5  # TODO: calculate the euclidean distance between the new instance\n",
        "    #(new_obs_features) and all instances in the training dataset (train_features)\n",
        "    # extract index of nearest neighbor (i.e. the index of the smallest value in the array 'dist_euc')\n",
        "    nn_ind = np.argmin(dist_euc) # TODO: select the index of the smallest value in the array 'dist_euc'\n",
        "\n",
        "    # extract species label on the respective index\n",
        "    nn_label = train_labels.iloc[nn_ind] # TODO\n",
        "\n",
        "    return nn_label\n"
      ]
    },
    {
      "cell_type": "markdown",
      "metadata": {
        "id": "gjQwRy_qXxcS"
      },
      "source": [
        "Now test the algorithm to predict the species of the first instance of the unknown flowers dataset irisNA.csv."
      ]
    },
    {
      "cell_type": "code",
      "execution_count": 13,
      "metadata": {
        "id": "uOjEbSs5XxcT",
        "outputId": "fcf61df1-73fb-4f60-fc5a-7591de868ae0",
        "colab": {
          "base_uri": "https://localhost:8080/"
        }
      },
      "outputs": [
        {
          "output_type": "execute_result",
          "data": {
            "text/plain": [
              "Species    setosa\n",
              "Name: 8, dtype: object"
            ]
          },
          "metadata": {},
          "execution_count": 13
        }
      ],
      "source": [
        "new_obs_features = irisNA.iloc[0, :2]\n",
        "\n",
        "# predict the species of the first instance in the test set\n",
        "nn_iris_predict(new_obs_features, iris120)"
      ]
    },
    {
      "cell_type": "markdown",
      "metadata": {
        "id": "YOYPMo93XxcT"
      },
      "source": [
        "## 2. Nearest neighbor algorithm for regression\n",
        "In the previous section, the output $y$ was a nominal variable (i.e. one specific class from a discrete set of possible classes). When the output is real-valued ($y \\in \\mathbb{R}$), the prediction problem is called a _regression problem_.\n",
        "\n",
        "As with nominal outputs, the nearest neighbor algorithm can also be applied in this case. It is identical to the one used in the classification task, where the predicted label now is the real-valued label of the instance closest in the training dataset.\n",
        "\n",
        "### Data preprocessing\n",
        "For solving the next task, some more elementary data preprocessing steps need to be introduced.\n",
        "\n",
        "#### Dummy encoding of nominal variables\n",
        "Often, the features in a dataset are not numerical, but nominal or ordinal. In this case, to be still able to use algorithms relying on numerical values such as the nearest neighbor algorithm, we can use _dummy encodings_ for each nominal variable.\n",
        "\n",
        "In dummy encodings, a variable (feature) $x^i$ that can take $k$ possible (nominal) values is replaced by $k$ new binary variables (features). As an example, consider a dataset where one feature (i.e. $x^1$) displays the weather status, taking the $3$ possible values $\\{Sunny, Overcast, Rainy\\}$. Each of these values can be represented by a dummy variable: $x^{1a}$, $x^{1b}$ and $x^{1c}$, with values\n",
        "\n",
        "$$\\begin{equation*}\n",
        "x^{1a} = \\begin{cases} 1,\\quad if \\quad x^1 = \"Sunny\" \\\\\n",
        "                     0, \\quad otherwise \\end{cases}\n",
        "\\end{equation*}$$\n",
        "\n",
        "$$\\begin{equation*}\n",
        "x^{1b} = \\begin{cases} 1,\\quad if \\quad x^1 = \"Overcast\" \\\\\n",
        "                     0, \\quad otherwise \\end{cases}\n",
        "\\end{equation*}$$\n",
        "\n",
        "$$\\begin{equation*}\n",
        "x^{1c} = \\begin{cases} 1,\\quad if \\quad x^1 = \"Rainy\" \\\\\n",
        "                     0, \\quad otherwise \\end{cases}\n",
        "\\end{equation*}$$"
      ]
    },
    {
      "cell_type": "markdown",
      "metadata": {
        "id": "mx5wYRKoXxcV"
      },
      "source": [
        "For this exercise, we will look at the task of predicting the age of abalone, a type of marine snail.\n",
        "\n",
        "<img src=\"https://upload.wikimedia.org/wikipedia/commons/thumb/3/33/LivingAbalone.JPG/2560px-LivingAbalone.JPG\" width=500>\n",
        "\n",
        "The dataset _abalone.csv_ contains measurements of physical properties of several abalone specimen. By using these physical properties, the aim is to build a predictive model for the age of these animals (more information concerning this dataset can be found in [abalone.info](https://archive.ics.uci.edu/ml/datasets/Abalone)). In the following example, we replace the nominal variable 'sex' by three dummy variables (i.e. as many as the values it takes). This can be done by using one of several functions that are provided in Python, such as the [get_dummies()](https://pandas.pydata.org/pandas-docs/stable/generated/pandas.get_dummies.html) function from Pandas, or the [OneHotEncoder()](https://scikit-learn.org/stable/modules/generated/sklearn.preprocessing.OneHotEncoder.html) function from Scikit-learn. First, we create the dummy variables, then we concatenate them with the original dataset and finally we remove the original variable form the dataset."
      ]
    },
    {
      "cell_type": "code",
      "execution_count": 14,
      "metadata": {
        "id": "7UsjwcVjXxcV",
        "outputId": "764ffa67-4cb9-49ed-9aba-28fe615e9340",
        "colab": {
          "base_uri": "https://localhost:8080/"
        }
      },
      "outputs": [
        {
          "output_type": "stream",
          "name": "stdout",
          "text": [
            "  sex  length  diameter  height  wholeWeight  shuckedWeight  visceraWeight  \\\n",
            "0   I   0.665     0.500   0.170       1.2975         0.6035         0.2910   \n",
            "1   F   0.460     0.365   0.115       0.4485         0.1650         0.0830   \n",
            "2   F   0.560     0.445   0.180       0.9030         0.3575         0.2045   \n",
            "3   I   0.395     0.300   0.090       0.2790         0.1340         0.0490   \n",
            "4   I   0.530     0.400   0.145       0.5550         0.1935         0.1305   \n",
            "\n",
            "   shellWeight  age  \n",
            "0       0.3595    9  \n",
            "1       0.1700   14  \n",
            "2       0.2950    9  \n",
            "3       0.0750    8  \n",
            "4       0.1950    9  \n"
          ]
        }
      ],
      "source": [
        "# read abalone dataset as pandas dataframe\n",
        "abalone = pd.read_csv(\"abalone.csv\")\n",
        "print(abalone.head())"
      ]
    },
    {
      "cell_type": "code",
      "execution_count": 15,
      "metadata": {
        "id": "5Aqh8xnTXxcW",
        "outputId": "a4366cc9-2ae4-493f-a0aa-9a8d3a84b26a",
        "colab": {
          "base_uri": "https://localhost:8080/"
        }
      },
      "outputs": [
        {
          "output_type": "stream",
          "name": "stdout",
          "text": [
            "   F  I  M\n",
            "0  0  1  0\n",
            "1  1  0  0\n",
            "2  1  0  0\n",
            "3  0  1  0\n",
            "4  0  1  0\n"
          ]
        }
      ],
      "source": [
        "# create dummy variables for the \"sex\" feature\n",
        "dummies = pd.get_dummies(abalone.sex)\n",
        "print(dummies.head())"
      ]
    },
    {
      "cell_type": "code",
      "execution_count": 16,
      "metadata": {
        "id": "BhK4RfxlXxcW",
        "outputId": "7b92a4b7-3781-427b-af20-4201b790f5c8",
        "colab": {
          "base_uri": "https://localhost:8080/"
        }
      },
      "outputs": [
        {
          "output_type": "stream",
          "name": "stdout",
          "text": [
            "   length  diameter  height  wholeWeight  shuckedWeight  visceraWeight  \\\n",
            "0   0.665     0.500   0.170       1.2975         0.6035         0.2910   \n",
            "1   0.460     0.365   0.115       0.4485         0.1650         0.0830   \n",
            "2   0.560     0.445   0.180       0.9030         0.3575         0.2045   \n",
            "3   0.395     0.300   0.090       0.2790         0.1340         0.0490   \n",
            "4   0.530     0.400   0.145       0.5550         0.1935         0.1305   \n",
            "\n",
            "   shellWeight  age  F  I  M  \n",
            "0       0.3595    9  0  1  0  \n",
            "1       0.1700   14  1  0  0  \n",
            "2       0.2950    9  1  0  0  \n",
            "3       0.0750    8  0  1  0  \n",
            "4       0.1950    9  0  1  0  \n"
          ]
        }
      ],
      "source": [
        "# concatenate the dummy variables to the original dataframe\n",
        "abalone_dummy_encoded = pd.concat([abalone, dummies], axis=1)\n",
        "# remove the original 'sex' column\n",
        "abalone_dummy_encoded = abalone_dummy_encoded.drop(['sex'], axis=1)\n",
        "print(abalone_dummy_encoded.head())"
      ]
    },
    {
      "cell_type": "markdown",
      "metadata": {
        "id": "YfE_5CauXxcX"
      },
      "source": [
        "### Standardizing the data\n",
        "In realistic datasets, most features have different means and standard deviations. For the nearest\n",
        "neighbour algorithm, it can easily be seen that features with a high standard deviation will be more\n",
        "influential than features with a lower standard deviation. In most cases, this is unwanted since it\n",
        "is not known in advance which features are most important. To overcome this problem, features\n",
        "are often _standardized_, a scaling method where the values are centered around the (sample) mean with a unit standard deviation.\\\n",
        "The standardized version of a feature $x^i$ can be obtained as   \n",
        "$$ x^{i'} = \\frac{x^i - \\mu_i}{\\sigma_i},$$    \n",
        "where $\\mu_i$ and $\\sigma_i$ represent the sample mean and standard deviation of $\\boldsymbol{x^i}$.\n",
        "The [Scaler()](http://scikit-learn.org/stable/modules/generated/sklearn.preprocessing.scale.html) function of Scikit-learn can be used to perform this standardization.\n",
        "\n",
        "Notice that what we're doing here (ie. scaling the training and test set together in one operation) is usually considered bad practice as it will leak data from test to train and hence bias model evaluation."
      ]
    },
    {
      "cell_type": "code",
      "execution_count": 17,
      "metadata": {
        "id": "EONuxl8ZXxcX"
      },
      "outputs": [],
      "source": [
        "from sklearn.preprocessing import scale\n",
        "\n",
        "# split abalone_dummy_encoded into features and labels\n",
        "y = abalone_dummy_encoded['age'].values # keep target variable\n",
        "X = abalone_dummy_encoded.drop(['age'], axis=1) # remove it from the features\n",
        "\n",
        "# scale the features: will return a numpy array\n",
        "X = scale(X)"
      ]
    },
    {
      "cell_type": "markdown",
      "metadata": {
        "id": "eZ9PIhUyXxcX"
      },
      "source": [
        "### Data splitting and prediction quality\n",
        "\n",
        "In order to test the performance of a nearest neighbor model, one can split a dataset in a training $\\mathcal{D}_{train}$ and test set $\\mathcal{D}_{test}$. The training set is used to train a model and the test set is used to evaluate its performance. For a regression problem, one typically uses the _mean squared error_ (MSE) to evaluate the quality of the model. For any dataset $\\mathcal{D}$, it is calculated as follows:\n",
        "$$ \\text{MSE} = \\frac{1}{|\\mathcal{D} |} \\sum_{\\boldsymbol{x_i} \\in \\mathcal{D}}(f(\\boldsymbol{x_i}) - y_i)^2$$\n",
        "The metric above can be computed for the training set and test set (if labels are available) for comparison.\n"
      ]
    },
    {
      "cell_type": "markdown",
      "metadata": {
        "id": "eARl8DjJXxcY"
      },
      "source": [
        "<div class=\"alert alert-success\">\n",
        "\n",
        "<b>EXERCISE 2.1</b>: **To prepare the dataset for the following exercise, split the dataset in a training set (80% of the data) and test set (20% of the data). See the documentation of the function [train_test_split()](https://scikit-learn.org/stable/modules/generated/sklearn.model_selection.train_test_split.html).**\n",
        "</div>"
      ]
    },
    {
      "cell_type": "code",
      "execution_count": 18,
      "metadata": {
        "id": "R_n6g6tNXxcY"
      },
      "outputs": [],
      "source": [
        "from sklearn.model_selection import train_test_split\n",
        "\n",
        "# name the variables for train/test features and labels X_train, y_train, X_test, y_test\n",
        "X_train, X_test, y_train, y_test =  train_test_split(X,y,test_size=0.2)# TODO: split the data into train and test set using test_size=0.2"
      ]
    },
    {
      "cell_type": "markdown",
      "metadata": {
        "id": "80bvYq4XXxcY"
      },
      "source": [
        "## 3. K-nearest neighbors for regression\n",
        "\n",
        "Classifying an instance only by the (one) nearest neighbor to it might not always be very accurate. Hence, a simple extension of the nearest neighbor algorithm consists of taking not only one, but multiple neighbors into account.\n",
        "\n",
        "To this end, let $N_k(\\boldsymbol{x}) \\subset \\mathcal{D}$ be the $k$ nearest neighbors of an instance with feature vector $\\boldsymbol{x}$.\n",
        "\n",
        "For __classification__:\n",
        "- set $f(\\boldsymbol{x})$ to be the _majority vote_ of its neighbors, i.e. the label that occurs most often in $N_k(\\boldsymbol{x})$\n",
        "\n",
        "For __regression__:\n",
        "- set $f(\\boldsymbol{x})$ to be the _average_ of $N_k(\\boldsymbol{x})$, i.e. $$ f(\\boldsymbol{x}) = \\frac{1}{k} \\sum_{x_i \\in N_k(x)} y_i.$$\n",
        "\n",
        "### K-nearest neighbors in Python\n",
        "\n",
        "As with the $1$-nearest neighbor algorithm, it is possible to implement a version of the k-nearest neighbors algorithm in Python from scratch. However, to simplify things, an alternative is to use a pre-implemented version of the algorithm. Here, we use the [Scikit-learn](http://scikit-learn.org/stable/) library again, which has an implementation of the $k$-nearest neighbor algorithm availbale. You can load and see more info about the usage of this function by going to the [documentation page](https://scikit-learn.org/stable/modules/generated/sklearn.neighbors.KNeighborsRegressor.html) or by running the following code:"
      ]
    },
    {
      "cell_type": "code",
      "execution_count": 19,
      "metadata": {
        "id": "au5_R8S8XxcY",
        "outputId": "b78405c1-b6bf-46e0-b04c-0e1611a1ee2a",
        "colab": {
          "base_uri": "https://localhost:8080/"
        }
      },
      "outputs": [
        {
          "output_type": "stream",
          "name": "stdout",
          "text": [
            "Help on class KNeighborsRegressor in module sklearn.neighbors._regression:\n",
            "\n",
            "class KNeighborsRegressor(sklearn.neighbors._base.KNeighborsMixin, sklearn.base.RegressorMixin, sklearn.neighbors._base.NeighborsBase)\n",
            " |  KNeighborsRegressor(n_neighbors=5, *, weights='uniform', algorithm='auto', leaf_size=30, p=2, metric='minkowski', metric_params=None, n_jobs=None)\n",
            " |  \n",
            " |  Regression based on k-nearest neighbors.\n",
            " |  \n",
            " |  The target is predicted by local interpolation of the targets\n",
            " |  associated of the nearest neighbors in the training set.\n",
            " |  \n",
            " |  Read more in the :ref:`User Guide <regression>`.\n",
            " |  \n",
            " |  .. versionadded:: 0.9\n",
            " |  \n",
            " |  Parameters\n",
            " |  ----------\n",
            " |  n_neighbors : int, default=5\n",
            " |      Number of neighbors to use by default for :meth:`kneighbors` queries.\n",
            " |  \n",
            " |  weights : {'uniform', 'distance'}, callable or None, default='uniform'\n",
            " |      Weight function used in prediction.  Possible values:\n",
            " |  \n",
            " |      - 'uniform' : uniform weights.  All points in each neighborhood\n",
            " |        are weighted equally.\n",
            " |      - 'distance' : weight points by the inverse of their distance.\n",
            " |        in this case, closer neighbors of a query point will have a\n",
            " |        greater influence than neighbors which are further away.\n",
            " |      - [callable] : a user-defined function which accepts an\n",
            " |        array of distances, and returns an array of the same shape\n",
            " |        containing the weights.\n",
            " |  \n",
            " |      Uniform weights are used by default.\n",
            " |  \n",
            " |  algorithm : {'auto', 'ball_tree', 'kd_tree', 'brute'}, default='auto'\n",
            " |      Algorithm used to compute the nearest neighbors:\n",
            " |  \n",
            " |      - 'ball_tree' will use :class:`BallTree`\n",
            " |      - 'kd_tree' will use :class:`KDTree`\n",
            " |      - 'brute' will use a brute-force search.\n",
            " |      - 'auto' will attempt to decide the most appropriate algorithm\n",
            " |        based on the values passed to :meth:`fit` method.\n",
            " |  \n",
            " |      Note: fitting on sparse input will override the setting of\n",
            " |      this parameter, using brute force.\n",
            " |  \n",
            " |  leaf_size : int, default=30\n",
            " |      Leaf size passed to BallTree or KDTree.  This can affect the\n",
            " |      speed of the construction and query, as well as the memory\n",
            " |      required to store the tree.  The optimal value depends on the\n",
            " |      nature of the problem.\n",
            " |  \n",
            " |  p : int, default=2\n",
            " |      Power parameter for the Minkowski metric. When p = 1, this is\n",
            " |      equivalent to using manhattan_distance (l1), and euclidean_distance\n",
            " |      (l2) for p = 2. For arbitrary p, minkowski_distance (l_p) is used.\n",
            " |  \n",
            " |  metric : str or callable, default='minkowski'\n",
            " |      Metric to use for distance computation. Default is \"minkowski\", which\n",
            " |      results in the standard Euclidean distance when p = 2. See the\n",
            " |      documentation of `scipy.spatial.distance\n",
            " |      <https://docs.scipy.org/doc/scipy/reference/spatial.distance.html>`_ and\n",
            " |      the metrics listed in\n",
            " |      :class:`~sklearn.metrics.pairwise.distance_metrics` for valid metric\n",
            " |      values.\n",
            " |  \n",
            " |      If metric is \"precomputed\", X is assumed to be a distance matrix and\n",
            " |      must be square during fit. X may be a :term:`sparse graph`, in which\n",
            " |      case only \"nonzero\" elements may be considered neighbors.\n",
            " |  \n",
            " |      If metric is a callable function, it takes two arrays representing 1D\n",
            " |      vectors as inputs and must return one value indicating the distance\n",
            " |      between those vectors. This works for Scipy's metrics, but is less\n",
            " |      efficient than passing the metric name as a string.\n",
            " |  \n",
            " |  metric_params : dict, default=None\n",
            " |      Additional keyword arguments for the metric function.\n",
            " |  \n",
            " |  n_jobs : int, default=None\n",
            " |      The number of parallel jobs to run for neighbors search.\n",
            " |      ``None`` means 1 unless in a :obj:`joblib.parallel_backend` context.\n",
            " |      ``-1`` means using all processors. See :term:`Glossary <n_jobs>`\n",
            " |      for more details.\n",
            " |      Doesn't affect :meth:`fit` method.\n",
            " |  \n",
            " |  Attributes\n",
            " |  ----------\n",
            " |  effective_metric_ : str or callable\n",
            " |      The distance metric to use. It will be same as the `metric` parameter\n",
            " |      or a synonym of it, e.g. 'euclidean' if the `metric` parameter set to\n",
            " |      'minkowski' and `p` parameter set to 2.\n",
            " |  \n",
            " |  effective_metric_params_ : dict\n",
            " |      Additional keyword arguments for the metric function. For most metrics\n",
            " |      will be same with `metric_params` parameter, but may also contain the\n",
            " |      `p` parameter value if the `effective_metric_` attribute is set to\n",
            " |      'minkowski'.\n",
            " |  \n",
            " |  n_features_in_ : int\n",
            " |      Number of features seen during :term:`fit`.\n",
            " |  \n",
            " |      .. versionadded:: 0.24\n",
            " |  \n",
            " |  feature_names_in_ : ndarray of shape (`n_features_in_`,)\n",
            " |      Names of features seen during :term:`fit`. Defined only when `X`\n",
            " |      has feature names that are all strings.\n",
            " |  \n",
            " |      .. versionadded:: 1.0\n",
            " |  \n",
            " |  n_samples_fit_ : int\n",
            " |      Number of samples in the fitted data.\n",
            " |  \n",
            " |  See Also\n",
            " |  --------\n",
            " |  NearestNeighbors : Unsupervised learner for implementing neighbor searches.\n",
            " |  RadiusNeighborsRegressor : Regression based on neighbors within a fixed radius.\n",
            " |  KNeighborsClassifier : Classifier implementing the k-nearest neighbors vote.\n",
            " |  RadiusNeighborsClassifier : Classifier implementing\n",
            " |      a vote among neighbors within a given radius.\n",
            " |  \n",
            " |  Notes\n",
            " |  -----\n",
            " |  See :ref:`Nearest Neighbors <neighbors>` in the online documentation\n",
            " |  for a discussion of the choice of ``algorithm`` and ``leaf_size``.\n",
            " |  \n",
            " |  .. warning::\n",
            " |  \n",
            " |     Regarding the Nearest Neighbors algorithms, if it is found that two\n",
            " |     neighbors, neighbor `k+1` and `k`, have identical distances but\n",
            " |     different labels, the results will depend on the ordering of the\n",
            " |     training data.\n",
            " |  \n",
            " |  https://en.wikipedia.org/wiki/K-nearest_neighbors_algorithm\n",
            " |  \n",
            " |  Examples\n",
            " |  --------\n",
            " |  >>> X = [[0], [1], [2], [3]]\n",
            " |  >>> y = [0, 0, 1, 1]\n",
            " |  >>> from sklearn.neighbors import KNeighborsRegressor\n",
            " |  >>> neigh = KNeighborsRegressor(n_neighbors=2)\n",
            " |  >>> neigh.fit(X, y)\n",
            " |  KNeighborsRegressor(...)\n",
            " |  >>> print(neigh.predict([[1.5]]))\n",
            " |  [0.5]\n",
            " |  \n",
            " |  Method resolution order:\n",
            " |      KNeighborsRegressor\n",
            " |      sklearn.neighbors._base.KNeighborsMixin\n",
            " |      sklearn.base.RegressorMixin\n",
            " |      sklearn.neighbors._base.NeighborsBase\n",
            " |      sklearn.base.MultiOutputMixin\n",
            " |      sklearn.base.BaseEstimator\n",
            " |      builtins.object\n",
            " |  \n",
            " |  Methods defined here:\n",
            " |  \n",
            " |  __init__(self, n_neighbors=5, *, weights='uniform', algorithm='auto', leaf_size=30, p=2, metric='minkowski', metric_params=None, n_jobs=None)\n",
            " |      Initialize self.  See help(type(self)) for accurate signature.\n",
            " |  \n",
            " |  fit(self, X, y)\n",
            " |      Fit the k-nearest neighbors regressor from the training dataset.\n",
            " |      \n",
            " |      Parameters\n",
            " |      ----------\n",
            " |      X : {array-like, sparse matrix} of shape (n_samples, n_features) or                 (n_samples, n_samples) if metric='precomputed'\n",
            " |          Training data.\n",
            " |      \n",
            " |      y : {array-like, sparse matrix} of shape (n_samples,) or                 (n_samples, n_outputs)\n",
            " |          Target values.\n",
            " |      \n",
            " |      Returns\n",
            " |      -------\n",
            " |      self : KNeighborsRegressor\n",
            " |          The fitted k-nearest neighbors regressor.\n",
            " |  \n",
            " |  predict(self, X)\n",
            " |      Predict the target for the provided data.\n",
            " |      \n",
            " |      Parameters\n",
            " |      ----------\n",
            " |      X : {array-like, sparse matrix} of shape (n_queries, n_features),                 or (n_queries, n_indexed) if metric == 'precomputed'\n",
            " |          Test samples.\n",
            " |      \n",
            " |      Returns\n",
            " |      -------\n",
            " |      y : ndarray of shape (n_queries,) or (n_queries, n_outputs), dtype=int\n",
            " |          Target values.\n",
            " |  \n",
            " |  ----------------------------------------------------------------------\n",
            " |  Data and other attributes defined here:\n",
            " |  \n",
            " |  __abstractmethods__ = frozenset()\n",
            " |  \n",
            " |  __annotations__ = {'_parameter_constraints': <class 'dict'>}\n",
            " |  \n",
            " |  ----------------------------------------------------------------------\n",
            " |  Methods inherited from sklearn.neighbors._base.KNeighborsMixin:\n",
            " |  \n",
            " |  kneighbors(self, X=None, n_neighbors=None, return_distance=True)\n",
            " |      Find the K-neighbors of a point.\n",
            " |      \n",
            " |      Returns indices of and distances to the neighbors of each point.\n",
            " |      \n",
            " |      Parameters\n",
            " |      ----------\n",
            " |      X : {array-like, sparse matrix}, shape (n_queries, n_features),             or (n_queries, n_indexed) if metric == 'precomputed', default=None\n",
            " |          The query point or points.\n",
            " |          If not provided, neighbors of each indexed point are returned.\n",
            " |          In this case, the query point is not considered its own neighbor.\n",
            " |      \n",
            " |      n_neighbors : int, default=None\n",
            " |          Number of neighbors required for each sample. The default is the\n",
            " |          value passed to the constructor.\n",
            " |      \n",
            " |      return_distance : bool, default=True\n",
            " |          Whether or not to return the distances.\n",
            " |      \n",
            " |      Returns\n",
            " |      -------\n",
            " |      neigh_dist : ndarray of shape (n_queries, n_neighbors)\n",
            " |          Array representing the lengths to points, only present if\n",
            " |          return_distance=True.\n",
            " |      \n",
            " |      neigh_ind : ndarray of shape (n_queries, n_neighbors)\n",
            " |          Indices of the nearest points in the population matrix.\n",
            " |      \n",
            " |      Examples\n",
            " |      --------\n",
            " |      In the following example, we construct a NearestNeighbors\n",
            " |      class from an array representing our data set and ask who's\n",
            " |      the closest point to [1,1,1]\n",
            " |      \n",
            " |      >>> samples = [[0., 0., 0.], [0., .5, 0.], [1., 1., .5]]\n",
            " |      >>> from sklearn.neighbors import NearestNeighbors\n",
            " |      >>> neigh = NearestNeighbors(n_neighbors=1)\n",
            " |      >>> neigh.fit(samples)\n",
            " |      NearestNeighbors(n_neighbors=1)\n",
            " |      >>> print(neigh.kneighbors([[1., 1., 1.]]))\n",
            " |      (array([[0.5]]), array([[2]]))\n",
            " |      \n",
            " |      As you can see, it returns [[0.5]], and [[2]], which means that the\n",
            " |      element is at distance 0.5 and is the third element of samples\n",
            " |      (indexes start at 0). You can also query for multiple points:\n",
            " |      \n",
            " |      >>> X = [[0., 1., 0.], [1., 0., 1.]]\n",
            " |      >>> neigh.kneighbors(X, return_distance=False)\n",
            " |      array([[1],\n",
            " |             [2]]...)\n",
            " |  \n",
            " |  kneighbors_graph(self, X=None, n_neighbors=None, mode='connectivity')\n",
            " |      Compute the (weighted) graph of k-Neighbors for points in X.\n",
            " |      \n",
            " |      Parameters\n",
            " |      ----------\n",
            " |      X : {array-like, sparse matrix} of shape (n_queries, n_features),             or (n_queries, n_indexed) if metric == 'precomputed', default=None\n",
            " |          The query point or points.\n",
            " |          If not provided, neighbors of each indexed point are returned.\n",
            " |          In this case, the query point is not considered its own neighbor.\n",
            " |          For ``metric='precomputed'`` the shape should be\n",
            " |          (n_queries, n_indexed). Otherwise the shape should be\n",
            " |          (n_queries, n_features).\n",
            " |      \n",
            " |      n_neighbors : int, default=None\n",
            " |          Number of neighbors for each sample. The default is the value\n",
            " |          passed to the constructor.\n",
            " |      \n",
            " |      mode : {'connectivity', 'distance'}, default='connectivity'\n",
            " |          Type of returned matrix: 'connectivity' will return the\n",
            " |          connectivity matrix with ones and zeros, in 'distance' the\n",
            " |          edges are distances between points, type of distance\n",
            " |          depends on the selected metric parameter in\n",
            " |          NearestNeighbors class.\n",
            " |      \n",
            " |      Returns\n",
            " |      -------\n",
            " |      A : sparse-matrix of shape (n_queries, n_samples_fit)\n",
            " |          `n_samples_fit` is the number of samples in the fitted data.\n",
            " |          `A[i, j]` gives the weight of the edge connecting `i` to `j`.\n",
            " |          The matrix is of CSR format.\n",
            " |      \n",
            " |      See Also\n",
            " |      --------\n",
            " |      NearestNeighbors.radius_neighbors_graph : Compute the (weighted) graph\n",
            " |          of Neighbors for points in X.\n",
            " |      \n",
            " |      Examples\n",
            " |      --------\n",
            " |      >>> X = [[0], [3], [1]]\n",
            " |      >>> from sklearn.neighbors import NearestNeighbors\n",
            " |      >>> neigh = NearestNeighbors(n_neighbors=2)\n",
            " |      >>> neigh.fit(X)\n",
            " |      NearestNeighbors(n_neighbors=2)\n",
            " |      >>> A = neigh.kneighbors_graph(X)\n",
            " |      >>> A.toarray()\n",
            " |      array([[1., 0., 1.],\n",
            " |             [0., 1., 1.],\n",
            " |             [1., 0., 1.]])\n",
            " |  \n",
            " |  ----------------------------------------------------------------------\n",
            " |  Data descriptors inherited from sklearn.neighbors._base.KNeighborsMixin:\n",
            " |  \n",
            " |  __dict__\n",
            " |      dictionary for instance variables (if defined)\n",
            " |  \n",
            " |  __weakref__\n",
            " |      list of weak references to the object (if defined)\n",
            " |  \n",
            " |  ----------------------------------------------------------------------\n",
            " |  Methods inherited from sklearn.base.RegressorMixin:\n",
            " |  \n",
            " |  score(self, X, y, sample_weight=None)\n",
            " |      Return the coefficient of determination of the prediction.\n",
            " |      \n",
            " |      The coefficient of determination :math:`R^2` is defined as\n",
            " |      :math:`(1 - \\frac{u}{v})`, where :math:`u` is the residual\n",
            " |      sum of squares ``((y_true - y_pred)** 2).sum()`` and :math:`v`\n",
            " |      is the total sum of squares ``((y_true - y_true.mean()) ** 2).sum()``.\n",
            " |      The best possible score is 1.0 and it can be negative (because the\n",
            " |      model can be arbitrarily worse). A constant model that always predicts\n",
            " |      the expected value of `y`, disregarding the input features, would get\n",
            " |      a :math:`R^2` score of 0.0.\n",
            " |      \n",
            " |      Parameters\n",
            " |      ----------\n",
            " |      X : array-like of shape (n_samples, n_features)\n",
            " |          Test samples. For some estimators this may be a precomputed\n",
            " |          kernel matrix or a list of generic objects instead with shape\n",
            " |          ``(n_samples, n_samples_fitted)``, where ``n_samples_fitted``\n",
            " |          is the number of samples used in the fitting for the estimator.\n",
            " |      \n",
            " |      y : array-like of shape (n_samples,) or (n_samples, n_outputs)\n",
            " |          True values for `X`.\n",
            " |      \n",
            " |      sample_weight : array-like of shape (n_samples,), default=None\n",
            " |          Sample weights.\n",
            " |      \n",
            " |      Returns\n",
            " |      -------\n",
            " |      score : float\n",
            " |          :math:`R^2` of ``self.predict(X)`` w.r.t. `y`.\n",
            " |      \n",
            " |      Notes\n",
            " |      -----\n",
            " |      The :math:`R^2` score used when calling ``score`` on a regressor uses\n",
            " |      ``multioutput='uniform_average'`` from version 0.23 to keep consistent\n",
            " |      with default value of :func:`~sklearn.metrics.r2_score`.\n",
            " |      This influences the ``score`` method of all the multioutput\n",
            " |      regressors (except for\n",
            " |      :class:`~sklearn.multioutput.MultiOutputRegressor`).\n",
            " |  \n",
            " |  ----------------------------------------------------------------------\n",
            " |  Methods inherited from sklearn.base.BaseEstimator:\n",
            " |  \n",
            " |  __getstate__(self)\n",
            " |  \n",
            " |  __repr__(self, N_CHAR_MAX=700)\n",
            " |      Return repr(self).\n",
            " |  \n",
            " |  __setstate__(self, state)\n",
            " |  \n",
            " |  get_params(self, deep=True)\n",
            " |      Get parameters for this estimator.\n",
            " |      \n",
            " |      Parameters\n",
            " |      ----------\n",
            " |      deep : bool, default=True\n",
            " |          If True, will return the parameters for this estimator and\n",
            " |          contained subobjects that are estimators.\n",
            " |      \n",
            " |      Returns\n",
            " |      -------\n",
            " |      params : dict\n",
            " |          Parameter names mapped to their values.\n",
            " |  \n",
            " |  set_params(self, **params)\n",
            " |      Set the parameters of this estimator.\n",
            " |      \n",
            " |      The method works on simple estimators as well as on nested objects\n",
            " |      (such as :class:`~sklearn.pipeline.Pipeline`). The latter have\n",
            " |      parameters of the form ``<component>__<parameter>`` so that it's\n",
            " |      possible to update each component of a nested object.\n",
            " |      \n",
            " |      Parameters\n",
            " |      ----------\n",
            " |      **params : dict\n",
            " |          Estimator parameters.\n",
            " |      \n",
            " |      Returns\n",
            " |      -------\n",
            " |      self : estimator instance\n",
            " |          Estimator instance.\n",
            "\n"
          ]
        }
      ],
      "source": [
        "from sklearn import neighbors\n",
        "help(neighbors.KNeighborsRegressor)"
      ]
    },
    {
      "cell_type": "markdown",
      "metadata": {
        "id": "vxC_5E4bXxcZ"
      },
      "source": [
        "As you can see in the help window, in Scikit-learn, an estimator for classification/regression is a _Python object_ that implements the methods _fit(X, y)_ and _predict(T)_.\n",
        "\n",
        "The constructor of an estimator takes as arguments the parameters of the model (in our case the basic parameters are the number of neighbours and the distance metric) and is used to instantiate an object. Here, we set the number of neighbors to $k=5$."
      ]
    },
    {
      "cell_type": "code",
      "execution_count": 20,
      "metadata": {
        "id": "zGqIXBxkXxcZ"
      },
      "outputs": [],
      "source": [
        "n_neighbors = 5\n",
        "knn = neighbors.KNeighborsRegressor(n_neighbors=n_neighbors, metric='euclidean')\n"
      ]
    },
    {
      "cell_type": "markdown",
      "metadata": {
        "id": "ysqngPJVXxcZ"
      },
      "source": [
        "We call our estimator instance `knn`. It now must be fitted to the data, that is, it must learn from the data. This is done by passing our training set to the fit method."
      ]
    },
    {
      "cell_type": "code",
      "execution_count": 21,
      "metadata": {
        "id": "VWz9nuS3XxcZ",
        "outputId": "68fd1186-4479-40eb-dbc2-8c0709900fda",
        "colab": {
          "base_uri": "https://localhost:8080/",
          "height": 75
        }
      },
      "outputs": [
        {
          "output_type": "execute_result",
          "data": {
            "text/plain": [
              "KNeighborsRegressor(metric='euclidean')"
            ],
            "text/html": [
              "<style>#sk-container-id-1 {color: black;background-color: white;}#sk-container-id-1 pre{padding: 0;}#sk-container-id-1 div.sk-toggleable {background-color: white;}#sk-container-id-1 label.sk-toggleable__label {cursor: pointer;display: block;width: 100%;margin-bottom: 0;padding: 0.3em;box-sizing: border-box;text-align: center;}#sk-container-id-1 label.sk-toggleable__label-arrow:before {content: \"▸\";float: left;margin-right: 0.25em;color: #696969;}#sk-container-id-1 label.sk-toggleable__label-arrow:hover:before {color: black;}#sk-container-id-1 div.sk-estimator:hover label.sk-toggleable__label-arrow:before {color: black;}#sk-container-id-1 div.sk-toggleable__content {max-height: 0;max-width: 0;overflow: hidden;text-align: left;background-color: #f0f8ff;}#sk-container-id-1 div.sk-toggleable__content pre {margin: 0.2em;color: black;border-radius: 0.25em;background-color: #f0f8ff;}#sk-container-id-1 input.sk-toggleable__control:checked~div.sk-toggleable__content {max-height: 200px;max-width: 100%;overflow: auto;}#sk-container-id-1 input.sk-toggleable__control:checked~label.sk-toggleable__label-arrow:before {content: \"▾\";}#sk-container-id-1 div.sk-estimator input.sk-toggleable__control:checked~label.sk-toggleable__label {background-color: #d4ebff;}#sk-container-id-1 div.sk-label input.sk-toggleable__control:checked~label.sk-toggleable__label {background-color: #d4ebff;}#sk-container-id-1 input.sk-hidden--visually {border: 0;clip: rect(1px 1px 1px 1px);clip: rect(1px, 1px, 1px, 1px);height: 1px;margin: -1px;overflow: hidden;padding: 0;position: absolute;width: 1px;}#sk-container-id-1 div.sk-estimator {font-family: monospace;background-color: #f0f8ff;border: 1px dotted black;border-radius: 0.25em;box-sizing: border-box;margin-bottom: 0.5em;}#sk-container-id-1 div.sk-estimator:hover {background-color: #d4ebff;}#sk-container-id-1 div.sk-parallel-item::after {content: \"\";width: 100%;border-bottom: 1px solid gray;flex-grow: 1;}#sk-container-id-1 div.sk-label:hover label.sk-toggleable__label {background-color: #d4ebff;}#sk-container-id-1 div.sk-serial::before {content: \"\";position: absolute;border-left: 1px solid gray;box-sizing: border-box;top: 0;bottom: 0;left: 50%;z-index: 0;}#sk-container-id-1 div.sk-serial {display: flex;flex-direction: column;align-items: center;background-color: white;padding-right: 0.2em;padding-left: 0.2em;position: relative;}#sk-container-id-1 div.sk-item {position: relative;z-index: 1;}#sk-container-id-1 div.sk-parallel {display: flex;align-items: stretch;justify-content: center;background-color: white;position: relative;}#sk-container-id-1 div.sk-item::before, #sk-container-id-1 div.sk-parallel-item::before {content: \"\";position: absolute;border-left: 1px solid gray;box-sizing: border-box;top: 0;bottom: 0;left: 50%;z-index: -1;}#sk-container-id-1 div.sk-parallel-item {display: flex;flex-direction: column;z-index: 1;position: relative;background-color: white;}#sk-container-id-1 div.sk-parallel-item:first-child::after {align-self: flex-end;width: 50%;}#sk-container-id-1 div.sk-parallel-item:last-child::after {align-self: flex-start;width: 50%;}#sk-container-id-1 div.sk-parallel-item:only-child::after {width: 0;}#sk-container-id-1 div.sk-dashed-wrapped {border: 1px dashed gray;margin: 0 0.4em 0.5em 0.4em;box-sizing: border-box;padding-bottom: 0.4em;background-color: white;}#sk-container-id-1 div.sk-label label {font-family: monospace;font-weight: bold;display: inline-block;line-height: 1.2em;}#sk-container-id-1 div.sk-label-container {text-align: center;}#sk-container-id-1 div.sk-container {/* jupyter's `normalize.less` sets `[hidden] { display: none; }` but bootstrap.min.css set `[hidden] { display: none !important; }` so we also need the `!important` here to be able to override the default hidden behavior on the sphinx rendered scikit-learn.org. See: https://github.com/scikit-learn/scikit-learn/issues/21755 */display: inline-block !important;position: relative;}#sk-container-id-1 div.sk-text-repr-fallback {display: none;}</style><div id=\"sk-container-id-1\" class=\"sk-top-container\"><div class=\"sk-text-repr-fallback\"><pre>KNeighborsRegressor(metric=&#x27;euclidean&#x27;)</pre><b>In a Jupyter environment, please rerun this cell to show the HTML representation or trust the notebook. <br />On GitHub, the HTML representation is unable to render, please try loading this page with nbviewer.org.</b></div><div class=\"sk-container\" hidden><div class=\"sk-item\"><div class=\"sk-estimator sk-toggleable\"><input class=\"sk-toggleable__control sk-hidden--visually\" id=\"sk-estimator-id-1\" type=\"checkbox\" checked><label for=\"sk-estimator-id-1\" class=\"sk-toggleable__label sk-toggleable__label-arrow\">KNeighborsRegressor</label><div class=\"sk-toggleable__content\"><pre>KNeighborsRegressor(metric=&#x27;euclidean&#x27;)</pre></div></div></div></div></div>"
            ]
          },
          "metadata": {},
          "execution_count": 21
        }
      ],
      "source": [
        "knn.fit(X_train, y_train)"
      ]
    },
    {
      "cell_type": "markdown",
      "metadata": {
        "id": "NdmSE2n8Xxca"
      },
      "source": [
        "After the estimator is fitted to the training data, the estimator can be used to predict the age of the first example in our test dataset. Remember, this is done by comparing the features of the first example to the features of all training samples, followed by determining the closest neighbors. The prediction is then obtained by averaging the age of the neighbors."
      ]
    },
    {
      "cell_type": "code",
      "execution_count": 33,
      "metadata": {
        "id": "_aBbmGo2Xxca",
        "outputId": "5e5d9001-3bf6-4f11-b0a8-56617c9bc121",
        "colab": {
          "base_uri": "https://localhost:8080/"
        }
      },
      "outputs": [
        {
          "output_type": "stream",
          "name": "stdout",
          "text": [
            "[-0.09114175 -0.00282045 -0.34421724 -0.23388438 -0.09664434 -0.19293067\n",
            " -0.38994439 -0.63466969 -0.71545723  1.29296393] [[-0.09114175 -0.00282045 -0.34421724 -0.23388438 -0.09664434 -0.19293067\n",
            "  -0.38994439 -0.63466969 -0.71545723  1.29296393]]\n"
          ]
        },
        {
          "output_type": "execute_result",
          "data": {
            "text/plain": [
              "array([9.8])"
            ]
          },
          "metadata": {},
          "execution_count": 33
        }
      ],
      "source": [
        "y_pred_1 = knn.predict(X_test[0].reshape(1,-1))\n",
        "print(X_test[0], X_test[0].reshape(1,-1))\n",
        "y_pred_1"
      ]
    },
    {
      "cell_type": "markdown",
      "metadata": {
        "id": "izE60UWSXxca"
      },
      "source": [
        "Next, we can calculate the mean squared error of the prediction by manual calculation or by using the [mean_squared_error()](http://scikit-learn.org/stable/modules/generated/sklearn.metrics.mean_squared_error.html) function in Scikit-learn."
      ]
    },
    {
      "cell_type": "code",
      "execution_count": 34,
      "metadata": {
        "id": "6Mag9ujpXxca",
        "outputId": "894280d1-32fb-4f34-d6cb-ed736848ffd9",
        "colab": {
          "base_uri": "https://localhost:8080/"
        }
      },
      "outputs": [
        {
          "output_type": "stream",
          "name": "stdout",
          "text": [
            "7 [9.8]\n",
            "7.840000000000004\n"
          ]
        }
      ],
      "source": [
        "from sklearn.metrics import mean_squared_error\n",
        "print(y_test[0], y_pred_1)\n",
        "print(mean_squared_error(y_pred_1, y_test[0].reshape(1, -1)))"
      ]
    },
    {
      "cell_type": "markdown",
      "metadata": {
        "id": "h9cPer--Xxca"
      },
      "source": [
        "<div class=\"alert alert-success\">\n",
        "\n",
        "<b>EXERCISE 3.1</b>: **Build a 3-nearest neighbors regressor in a similar manner as before. Predict the age for all training samples and test samples and compute the mean squared error. Compare the training and test error.**\n",
        "</div>"
      ]
    },
    {
      "cell_type": "code",
      "execution_count": 35,
      "metadata": {
        "id": "sc13w5xIXxcb",
        "outputId": "a291a8be-aa5c-4492-bb5f-18c79ebc348a",
        "colab": {
          "base_uri": "https://localhost:8080/"
        }
      },
      "outputs": [
        {
          "output_type": "stream",
          "name": "stdout",
          "text": [
            "3.555357142857143\n",
            "7.946825396825398\n"
          ]
        }
      ],
      "source": [
        "# now use k=3 neighbors for training\n",
        "n_neighbors = 3\n",
        "# Instantiate the knn object\n",
        "knn = neighbors.KNeighborsRegressor(n_neighbors=n_neighbors,metric=\"euclidean\") # TODO\n",
        "# Fit\n",
        "knn.fit(X_train,y_train) # TODO\n",
        "# Predict train\n",
        "y_pred_train = knn.predict(X_train) # TODO predict on train set\n",
        "# Predict test\n",
        "y_pred_test = knn.predict(X_test) # TODO predict on test set\n",
        "# print MSE train\n",
        "print(mean_squared_error(y_pred_train, y_train))\n",
        "# print MSE test\n",
        "print(mean_squared_error(y_pred_test, y_test))"
      ]
    },
    {
      "cell_type": "markdown",
      "metadata": {
        "id": "m_VOO_AmXxcb"
      },
      "source": [
        "Note that $k$ in the $k$-nearest neighbors algorithm is called a hyperparameter. A parameter of that kind is typically choosen by the user (i.e. it is not learned) and depends on the prediction task and dataset. This is illustrated in the next exercise."
      ]
    },
    {
      "cell_type": "markdown",
      "metadata": {
        "id": "azuCb0xjXxcb"
      },
      "source": [
        "<div class=\"alert alert-success\">\n",
        "\n",
        "<b>EXERCISE 3.2</b>: **Repeat the previous exercise by considering different values for $k$. You can consider a range between 1 and 50 and a step size of 3. For each $k$, calculate and plot the training and test error of the resulting model.**\n",
        "</div>"
      ]
    },
    {
      "cell_type": "code",
      "execution_count": 36,
      "metadata": {
        "id": "n-XvhXCxXxcb",
        "outputId": "0f35475a-a9a2-455e-a14a-ee0f1666bce2",
        "colab": {
          "base_uri": "https://localhost:8080/",
          "height": 472
        }
      },
      "outputs": [
        {
          "output_type": "execute_result",
          "data": {
            "text/plain": [
              "<matplotlib.legend.Legend at 0x7f01a29e9510>"
            ]
          },
          "metadata": {},
          "execution_count": 36
        },
        {
          "output_type": "display_data",
          "data": {
            "text/plain": [
              "<Figure size 640x480 with 1 Axes>"
            ],
            "image/png": "[encoded data removed]"
          },
          "metadata": {}
        }
      ],
      "source": [
        "# use lists to store the results obtained from every iteration\n",
        "results_train = []\n",
        "results_test = []\n",
        "for i in range(1, 50, 3):\n",
        "    # instantiate the model\n",
        "    knn = neighbors.KNeighborsRegressor(n_neighbors=i,metric='euclidean') # TODO\n",
        "    # Fit to train data\n",
        "    knn.fit(X_train,y_train) # TODO\n",
        "    # Predict train\n",
        "    y_pred_train = knn.predict(X_train) # TODO\n",
        "    # Predict test\n",
        "    y_pred_test = knn.predict(X_test) # TODO\n",
        "    # calculate and store the MSE train\n",
        "    mse_train = mean_squared_error(y_pred_train,y_train) # TODO\n",
        "    \"...\" # TODO append error in results list\n",
        "    # calculate and store MSE test\n",
        "    mse_test = mean_squared_error(y_pred_test,y_test) # TODO\n",
        "    results_test.append(mse_test)\n",
        "    results_train.append(mse_train) # TODO append error in results list\n",
        "\n",
        "import matplotlib.pyplot as plt\n",
        "\n",
        "plt.plot(range(1, 50, 3), results_train) # training MSEs\n",
        "plt.plot(range(1, 50, 3), results_test) # test MSEs\n",
        "plt.ylabel('MSE')\n",
        "plt.xlabel('$k$')\n",
        "plt.legend(['Train MSE', 'Test MSE'])"
      ]
    }
  ],
  "metadata": {
    "kernelspec": {
      "display_name": "Python 3",
      "language": "python",
      "name": "python3"
    },
    "language_info": {
      "codemirror_mode": {
        "name": "ipython",
        "version": 3
      },
      "file_extension": ".py",
      "mimetype": "text/x-python",
      "name": "python",
      "nbconvert_exporter": "python",
      "pygments_lexer": "ipython3",
      "version": "3.11.5"
    },
    "orig_nbformat": 4,
    "colab": {
      "provenance": [],
      "include_colab_link": true
    }
  },
  "nbformat": 4,
  "nbformat_minor": 0
}